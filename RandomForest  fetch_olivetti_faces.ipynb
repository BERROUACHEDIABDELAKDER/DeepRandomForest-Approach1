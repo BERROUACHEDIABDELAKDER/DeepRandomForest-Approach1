{
 "cells": [
  {
   "cell_type": "code",
   "execution_count": 35,
   "metadata": {
    "collapsed": true
   },
   "outputs": [],
   "source": [
    "#imports \n",
    "import numpy as np\n",
    "import pandas as pd\n",
    "from math import sqrt \n",
    "from pprint import pprint\n",
    "from numpy import array"
   ]
  },
  {
   "cell_type": "code",
   "execution_count": 36,
   "metadata": {
    "collapsed": true
   },
   "outputs": [],
   "source": [
    "# load data\n",
    "from sklearn.datasets import fetch_olivetti_faces\n",
    "from sklearn.model_selection import train_test_split\n",
    "data = fetch_olivetti_faces()\n",
    "X = data.images\n",
    "y = data.target\n",
    "X_train, X_test, y_train, y_test = train_test_split(X, y, test_size=0.3)"
   ]
  },
  {
   "cell_type": "code",
   "execution_count": 37,
   "metadata": {
    "collapsed": true
   },
   "outputs": [],
   "source": [
    "# reshape data\n",
    "X_train = np.reshape(X_train, (X_train.shape[0], -1))\n",
    "X_test = np.reshape(X_test, (X_test.shape[0], -1))"
   ]
  },
  {
   "cell_type": "code",
   "execution_count": 38,
   "metadata": {},
   "outputs": [
    {
     "data": {
      "text/plain": [
       "(280, 4096)"
      ]
     },
     "execution_count": 38,
     "metadata": {},
     "output_type": "execute_result"
    }
   ],
   "source": [
    "# new train shape\n",
    "X_train.shape"
   ]
  },
  {
   "cell_type": "code",
   "execution_count": 39,
   "metadata": {},
   "outputs": [
    {
     "data": {
      "text/plain": [
       "(120, 4096)"
      ]
     },
     "execution_count": 39,
     "metadata": {},
     "output_type": "execute_result"
    }
   ],
   "source": [
    "# new test shape\n",
    "X_test.shape"
   ]
  },
  {
   "cell_type": "code",
   "execution_count": 40,
   "metadata": {
    "collapsed": true
   },
   "outputs": [],
   "source": [
    "# deep RandomForest\n",
    "import argparse\n",
    "import numpy as np\n",
    "import sys\n",
    "import pickle\n",
    "from sklearn.metrics import accuracy_score\n",
    "sys.path.insert(0, \"lib\")\n",
    "from gcforest.gcforest import GCForest\n",
    "from gcforest.utils.config_utils import load_json\n",
    "config = load_json(\"./examples/olivetti.json\")   \n",
    "gc = GCForest(config)"
   ]
  },
  {
   "cell_type": "code",
   "execution_count": 41,
   "metadata": {},
   "outputs": [
    {
     "data": {
      "text/plain": [
       "40"
      ]
     },
     "execution_count": 41,
     "metadata": {},
     "output_type": "execute_result"
    }
   ],
   "source": [
    "# count of class\n",
    "len(np.unique(y_train))"
   ]
  },
  {
   "cell_type": "code",
   "execution_count": 42,
   "metadata": {},
   "outputs": [
    {
     "name": "stderr",
     "output_type": "stream",
     "text": [
      "[ 2018-03-26 20:08:49,938][cascade_classifier.fit_transform] X_groups_train.shape=[(280, 4096)],y_train.shape=(280,),X_groups_test.shape=[(120, 4096)],y_test.shape=(120,)\n",
      "[ 2018-03-26 20:08:49,941][cascade_classifier.fit_transform] group_dims=[4096]\n",
      "[ 2018-03-26 20:08:49,953][cascade_classifier.fit_transform] group_starts=[0]\n",
      "[ 2018-03-26 20:08:49,954][cascade_classifier.fit_transform] group_ends=[4096]\n",
      "[ 2018-03-26 20:08:49,954][cascade_classifier.fit_transform] X_train.shape=(280, 4096),X_test.shape=(120, 4096)\n",
      "[ 2018-03-26 20:08:49,959][cascade_classifier.fit_transform] [layer=0] look_indexs=[0], X_cur_train.shape=(280, 4096), X_cur_test.shape=(120, 4096)\n",
      "/home/ubuntu/anaconda2/lib/python2.7/site-packages/sklearn/model_selection/_split.py:597: Warning: The least populated class in y has only 4 members, which is too few. The minimum number of members in any class cannot be less than n_splits=10.\n",
      "  % (min_groups, self.n_splits)), Warning)\n",
      "[ 2018-03-26 20:08:51,477][kfold_wrapper.log_eval_metrics] Accuracy(layer_0 - estimator_0 - 10_folds.train_0.predict)=92.50%\n",
      "[ 2018-03-26 20:08:53,206][kfold_wrapper.log_eval_metrics] Accuracy(layer_0 - estimator_0 - 10_folds.train_1.predict)=88.89%\n",
      "[ 2018-03-26 20:08:54,672][kfold_wrapper.log_eval_metrics] Accuracy(layer_0 - estimator_0 - 10_folds.train_2.predict)=96.15%\n",
      "[ 2018-03-26 20:08:56,337][kfold_wrapper.log_eval_metrics] Accuracy(layer_0 - estimator_0 - 10_folds.train_3.predict)=90.91%\n",
      "[ 2018-03-26 20:08:57,997][kfold_wrapper.log_eval_metrics] Accuracy(layer_0 - estimator_0 - 10_folds.train_4.predict)=100.00%\n",
      "[ 2018-03-26 20:08:59,706][kfold_wrapper.log_eval_metrics] Accuracy(layer_0 - estimator_0 - 10_folds.train_5.predict)=94.44%\n",
      "[ 2018-03-26 20:09:01,291][kfold_wrapper.log_eval_metrics] Accuracy(layer_0 - estimator_0 - 10_folds.train_6.predict)=92.50%\n",
      "[ 2018-03-26 20:09:02,942][kfold_wrapper.log_eval_metrics] Accuracy(layer_0 - estimator_0 - 10_folds.train_7.predict)=85.00%\n",
      "[ 2018-03-26 20:09:04,456][kfold_wrapper.log_eval_metrics] Accuracy(layer_0 - estimator_0 - 10_folds.train_8.predict)=90.00%\n",
      "[ 2018-03-26 20:09:06,186][kfold_wrapper.log_eval_metrics] Accuracy(layer_0 - estimator_0 - 10_folds.train_9.predict)=100.00%\n",
      "[ 2018-03-26 20:09:06,415][kfold_wrapper.log_eval_metrics] Accuracy(layer_0 - estimator_0 - 10_folds.train_cv.predict)=91.43%\n",
      "[ 2018-03-26 20:09:06,416][kfold_wrapper.log_eval_metrics] Accuracy(layer_0 - estimator_0 - 10_folds.test.predict)=94.17%\n",
      "[ 2018-03-26 20:09:06,417][cascade_classifier.calc_accuracy] Accuracy(layer_0 - train.classifier_average)=91.43%\n",
      "[ 2018-03-26 20:09:06,418][cascade_classifier.calc_accuracy] Accuracy(layer_0 - test.classifier_average)=94.17%\n",
      "[ 2018-03-26 20:09:06,418][cascade_classifier.fit_transform] [Result][Reach Max Layer] opt_layer_num=1, accuracy_train=91.43%, accuracy_test=94.17%\n"
     ]
    }
   ],
   "source": [
    "    # X_enc is the concatenated predict_proba result of RandomForest\n",
    "    \n",
    "X_train_enc, X_test_enc = gc.fit_transform(X_train, y_train, X_test=X_test, y_test=y_test)\n",
    "     "
   ]
  },
  {
   "cell_type": "code",
   "execution_count": 43,
   "metadata": {},
   "outputs": [
    {
     "name": "stderr",
     "output_type": "stream",
     "text": [
      "[ 2018-03-26 20:09:06,423][cascade_classifier.transform] X_groups_test.shape=[(120, 4096)]\n",
      "[ 2018-03-26 20:09:06,425][cascade_classifier.transform] group_dims=[4096]\n",
      "[ 2018-03-26 20:09:06,426][cascade_classifier.transform] X_test.shape=(120, 4096)\n",
      "[ 2018-03-26 20:09:06,427][cascade_classifier.transform] [layer=0] look_indexs=[0], X_cur_test.shape=(120, 4096)\n"
     ]
    },
    {
     "name": "stdout",
     "output_type": "stream",
     "text": [
      "Test Accuracy of RandomForest = 94.166667 %\n"
     ]
    }
   ],
   "source": [
    "# predict\n",
    "y_pred = gc.predict(X_test)\n",
    "acc = accuracy_score(y_test, y_pred)\n",
    "print(\"Test Accuracy of RandomForest = {:.6f} %\".format(acc * 100))"
   ]
  },
  {
   "cell_type": "code",
   "execution_count": 44,
   "metadata": {},
   "outputs": [
    {
     "name": "stderr",
     "output_type": "stream",
     "text": [
      "[ 2018-03-26 20:09:08,331][cascade_classifier.transform] X_groups_test.shape=[(120, 4096)]\n",
      "[ 2018-03-26 20:09:08,332][cascade_classifier.transform] group_dims=[4096]\n",
      "[ 2018-03-26 20:09:08,335][cascade_classifier.transform] X_test.shape=(120, 4096)\n",
      "[ 2018-03-26 20:09:08,337][cascade_classifier.transform] [layer=0] look_indexs=[0], X_cur_test.shape=(120, 4096)\n"
     ]
    }
   ],
   "source": [
    "    # predict_proba result of RandomForest + data\n",
    "X_test_enc = gc.transform(X_test)\n",
    "X_train_enc = X_train_enc.reshape((X_train_enc.shape[0], -1))\n",
    "X_test_enc = X_test_enc.reshape((X_test_enc.shape[0], -1))\n",
    "X_train_origin = X_train.reshape((X_train.shape[0], -1))\n",
    "X_test_origin = X_test.reshape((X_test.shape[0], -1))\n",
    "X_train_enc = np.hstack((X_train_origin, X_train_enc))\n",
    "X_test_enc = np.hstack((X_test_origin, X_test_enc))"
   ]
  },
  {
   "cell_type": "code",
   "execution_count": 45,
   "metadata": {},
   "outputs": [
    {
     "name": "stderr",
     "output_type": "stream",
     "text": [
      "[ 2018-03-26 20:09:10,456][cascade_classifier.fit_transform] X_groups_train.shape=[(280, 4136)],y_train.shape=(280,),X_groups_test.shape=[(120, 4136)],y_test.shape=(120,)\n",
      "[ 2018-03-26 20:09:10,459][cascade_classifier.fit_transform] group_dims=[4136]\n",
      "[ 2018-03-26 20:09:10,460][cascade_classifier.fit_transform] group_starts=[0]\n",
      "[ 2018-03-26 20:09:10,462][cascade_classifier.fit_transform] group_ends=[4136]\n",
      "[ 2018-03-26 20:09:10,464][cascade_classifier.fit_transform] X_train.shape=(280, 4136),X_test.shape=(120, 4136)\n",
      "[ 2018-03-26 20:09:10,466][cascade_classifier.fit_transform] [layer=0] look_indexs=[0], X_cur_train.shape=(280, 4136), X_cur_test.shape=(120, 4136)\n",
      "[ 2018-03-26 20:09:11,855][kfold_wrapper.log_eval_metrics] Accuracy(layer_0 - estimator_0 - 10_folds.train_0.predict)=87.50%\n",
      "[ 2018-03-26 20:09:13,451][kfold_wrapper.log_eval_metrics] Accuracy(layer_0 - estimator_0 - 10_folds.train_1.predict)=94.44%\n",
      "[ 2018-03-26 20:09:15,061][kfold_wrapper.log_eval_metrics] Accuracy(layer_0 - estimator_0 - 10_folds.train_2.predict)=96.15%\n",
      "[ 2018-03-26 20:09:16,626][kfold_wrapper.log_eval_metrics] Accuracy(layer_0 - estimator_0 - 10_folds.train_3.predict)=93.94%\n",
      "[ 2018-03-26 20:09:18,276][kfold_wrapper.log_eval_metrics] Accuracy(layer_0 - estimator_0 - 10_folds.train_4.predict)=100.00%\n",
      "[ 2018-03-26 20:09:19,954][kfold_wrapper.log_eval_metrics] Accuracy(layer_0 - estimator_0 - 10_folds.train_5.predict)=97.22%\n",
      "[ 2018-03-26 20:09:21,410][kfold_wrapper.log_eval_metrics] Accuracy(layer_0 - estimator_0 - 10_folds.train_6.predict)=92.50%\n",
      "[ 2018-03-26 20:09:22,176][kfold_wrapper.log_eval_metrics] Accuracy(layer_0 - estimator_0 - 10_folds.train_7.predict)=80.00%\n",
      "[ 2018-03-26 20:09:23,076][kfold_wrapper.log_eval_metrics] Accuracy(layer_0 - estimator_0 - 10_folds.train_8.predict)=90.00%\n",
      "[ 2018-03-26 20:09:24,803][kfold_wrapper.log_eval_metrics] Accuracy(layer_0 - estimator_0 - 10_folds.train_9.predict)=100.00%\n",
      "[ 2018-03-26 20:09:25,025][kfold_wrapper.log_eval_metrics] Accuracy(layer_0 - estimator_0 - 10_folds.train_cv.predict)=91.07%\n",
      "[ 2018-03-26 20:09:25,028][kfold_wrapper.log_eval_metrics] Accuracy(layer_0 - estimator_0 - 10_folds.test.predict)=93.33%\n",
      "[ 2018-03-26 20:09:25,031][cascade_classifier.calc_accuracy] Accuracy(layer_0 - train.classifier_average)=91.07%\n",
      "[ 2018-03-26 20:09:25,034][cascade_classifier.calc_accuracy] Accuracy(layer_0 - test.classifier_average)=93.33%\n",
      "[ 2018-03-26 20:09:25,035][cascade_classifier.fit_transform] [Result][Reach Max Layer] opt_layer_num=1, accuracy_train=91.07%, accuracy_test=93.33%\n"
     ]
    }
   ],
   "source": [
    "# new data\n",
    "X_train=X_train_enc\n",
    "X_test=X_test_enc \n",
    "X_train_enc, X_test_enc = gc.fit_transform(X_train, y_train, X_test=X_test, y_test=y_test)"
   ]
  },
  {
   "cell_type": "code",
   "execution_count": 46,
   "metadata": {},
   "outputs": [
    {
     "name": "stdout",
     "output_type": "stream",
     "text": [
      "X_train_enc.shape=(280, 40), X_test_enc.shape=(120, 40)\n"
     ]
    }
   ],
   "source": [
    "print(\"X_train_enc.shape={}, X_test_enc.shape={}\".format(X_train_enc.shape, X_test_enc.shape))"
   ]
  },
  {
   "cell_type": "code",
   "execution_count": 47,
   "metadata": {},
   "outputs": [
    {
     "name": "stdout",
     "output_type": "stream",
     "text": [
      "X_train_enc.shape=(280, 4136), X_test_enc.shape=(120, 4136)\n"
     ]
    }
   ],
   "source": [
    "print(\"X_train_enc.shape={}, X_test_enc.shape={}\".format(X_train.shape, X_test.shape))"
   ]
  },
  {
   "cell_type": "code",
   "execution_count": 48,
   "metadata": {
    "collapsed": true
   },
   "outputs": [],
   "source": [
    "def update(X_train,X_test):\n",
    "    # update Estimators\n",
    "    for i in range(20):\n",
    "        M = np.delete(X_train, (-1), axis=1)\n",
    "        X_train= np.delete(M, (-1), axis=1)\n",
    "        M = np.delete(X_test, (-1), axis=1)\n",
    "        X_test = np.delete(M, (-1), axis=1)\n",
    "    return X_train,X_test"
   ]
  },
  {
   "cell_type": "code",
   "execution_count": 49,
   "metadata": {
    "collapsed": true
   },
   "outputs": [],
   "source": [
    "def newdata(X_test_enc, X_train_enc):\n",
    "    # Make Data + Estimators\n",
    "    X_train_origin = X_train.reshape((X_train.shape[0], -1))\n",
    "    X_test_origin = X_test.reshape((X_test.shape[0], -1))\n",
    "    X_train_enc = np.hstack((X_train_origin, X_train_enc))\n",
    "    X_test_enc = np.hstack((X_test_origin, X_test_enc))\n",
    "    return X_test_enc, X_train_enc\n",
    "\n",
    "def affiche():\n",
    "    # predict\n",
    "    y_pred = gc.predict(X_test)\n",
    "    acc = accuracy_score(y_test, y_pred)\n",
    "    print(\"Test Accuracy of RandomForest = {:.6f} %\".format(acc * 100),i,'fois')"
   ]
  },
  {
   "cell_type": "code",
   "execution_count": 51,
   "metadata": {},
   "outputs": [
    {
     "name": "stderr",
     "output_type": "stream",
     "text": [
      "[ 2018-03-26 20:21:12,963][cascade_classifier.fit_transform] X_groups_train.shape=[(280, 4136)],y_train.shape=(280,),X_groups_test.shape=[(120, 4136)],y_test.shape=(120,)\n",
      "[ 2018-03-26 20:21:12,975][cascade_classifier.fit_transform] group_dims=[4136]\n",
      "[ 2018-03-26 20:21:12,983][cascade_classifier.fit_transform] group_starts=[0]\n",
      "[ 2018-03-26 20:21:12,986][cascade_classifier.fit_transform] group_ends=[4136]\n",
      "[ 2018-03-26 20:21:12,988][cascade_classifier.fit_transform] X_train.shape=(280, 4136),X_test.shape=(120, 4136)\n",
      "[ 2018-03-26 20:21:12,994][cascade_classifier.fit_transform] [layer=0] look_indexs=[0], X_cur_train.shape=(280, 4136), X_cur_test.shape=(120, 4136)\n",
      "[ 2018-03-26 20:21:14,565][kfold_wrapper.log_eval_metrics] Accuracy(layer_0 - estimator_0 - 10_folds.train_0.predict)=87.50%\n",
      "[ 2018-03-26 20:21:16,342][kfold_wrapper.log_eval_metrics] Accuracy(layer_0 - estimator_0 - 10_folds.train_1.predict)=94.44%\n",
      "[ 2018-03-26 20:21:18,410][kfold_wrapper.log_eval_metrics] Accuracy(layer_0 - estimator_0 - 10_folds.train_2.predict)=92.31%\n",
      "[ 2018-03-26 20:21:20,306][kfold_wrapper.log_eval_metrics] Accuracy(layer_0 - estimator_0 - 10_folds.train_3.predict)=90.91%\n",
      "[ 2018-03-26 20:21:22,302][kfold_wrapper.log_eval_metrics] Accuracy(layer_0 - estimator_0 - 10_folds.train_4.predict)=100.00%\n",
      "[ 2018-03-26 20:21:23,974][kfold_wrapper.log_eval_metrics] Accuracy(layer_0 - estimator_0 - 10_folds.train_5.predict)=97.22%\n",
      "[ 2018-03-26 20:21:25,621][kfold_wrapper.log_eval_metrics] Accuracy(layer_0 - estimator_0 - 10_folds.train_6.predict)=82.50%\n",
      "[ 2018-03-26 20:21:27,463][kfold_wrapper.log_eval_metrics] Accuracy(layer_0 - estimator_0 - 10_folds.train_7.predict)=90.00%\n",
      "[ 2018-03-26 20:21:29,157][kfold_wrapper.log_eval_metrics] Accuracy(layer_0 - estimator_0 - 10_folds.train_8.predict)=90.00%\n",
      "[ 2018-03-26 20:21:31,173][kfold_wrapper.log_eval_metrics] Accuracy(layer_0 - estimator_0 - 10_folds.train_9.predict)=100.00%\n",
      "[ 2018-03-26 20:21:31,389][kfold_wrapper.log_eval_metrics] Accuracy(layer_0 - estimator_0 - 10_folds.train_cv.predict)=90.36%\n",
      "[ 2018-03-26 20:21:31,392][kfold_wrapper.log_eval_metrics] Accuracy(layer_0 - estimator_0 - 10_folds.test.predict)=93.33%\n",
      "[ 2018-03-26 20:21:31,394][cascade_classifier.calc_accuracy] Accuracy(layer_0 - train.classifier_average)=90.36%\n",
      "[ 2018-03-26 20:21:31,398][cascade_classifier.calc_accuracy] Accuracy(layer_0 - test.classifier_average)=93.33%\n",
      "[ 2018-03-26 20:21:31,398][cascade_classifier.fit_transform] [Result][Reach Max Layer] opt_layer_num=1, accuracy_train=90.36%, accuracy_test=93.33%\n",
      "[ 2018-03-26 20:21:31,399][cascade_classifier.transform] X_groups_test.shape=[(120, 4136)]\n",
      "[ 2018-03-26 20:21:31,400][cascade_classifier.transform] group_dims=[4136]\n",
      "[ 2018-03-26 20:21:31,402][cascade_classifier.transform] X_test.shape=(120, 4136)\n",
      "[ 2018-03-26 20:21:31,404][cascade_classifier.transform] [layer=0] look_indexs=[0], X_cur_test.shape=(120, 4136)\n",
      "[ 2018-03-26 20:21:33,361][cascade_classifier.fit_transform] X_groups_train.shape=[(280, 4136)],y_train.shape=(280,),X_groups_test.shape=[(120, 4136)],y_test.shape=(120,)\n",
      "[ 2018-03-26 20:21:33,381][cascade_classifier.fit_transform] group_dims=[4136]\n",
      "[ 2018-03-26 20:21:33,384][cascade_classifier.fit_transform] group_starts=[0]\n",
      "[ 2018-03-26 20:21:33,386][cascade_classifier.fit_transform] group_ends=[4136]\n",
      "[ 2018-03-26 20:21:33,388][cascade_classifier.fit_transform] X_train.shape=(280, 4136),X_test.shape=(120, 4136)\n",
      "[ 2018-03-26 20:21:33,393][cascade_classifier.fit_transform] [layer=0] look_indexs=[0], X_cur_train.shape=(280, 4136), X_cur_test.shape=(120, 4136)\n"
     ]
    },
    {
     "name": "stdout",
     "output_type": "stream",
     "text": [
      "('Test Accuracy of RandomForest = 93.333333 %', 0, 'fois')\n"
     ]
    },
    {
     "name": "stderr",
     "output_type": "stream",
     "text": [
      "[ 2018-03-26 20:21:34,814][kfold_wrapper.log_eval_metrics] Accuracy(layer_0 - estimator_0 - 10_folds.train_0.predict)=87.50%\n",
      "[ 2018-03-26 20:21:36,790][kfold_wrapper.log_eval_metrics] Accuracy(layer_0 - estimator_0 - 10_folds.train_1.predict)=94.44%\n",
      "[ 2018-03-26 20:21:39,050][kfold_wrapper.log_eval_metrics] Accuracy(layer_0 - estimator_0 - 10_folds.train_2.predict)=92.31%\n",
      "[ 2018-03-26 20:21:40,941][kfold_wrapper.log_eval_metrics] Accuracy(layer_0 - estimator_0 - 10_folds.train_3.predict)=84.85%\n",
      "[ 2018-03-26 20:21:42,908][kfold_wrapper.log_eval_metrics] Accuracy(layer_0 - estimator_0 - 10_folds.train_4.predict)=100.00%\n",
      "[ 2018-03-26 20:21:44,685][kfold_wrapper.log_eval_metrics] Accuracy(layer_0 - estimator_0 - 10_folds.train_5.predict)=97.22%\n",
      "[ 2018-03-26 20:21:46,551][kfold_wrapper.log_eval_metrics] Accuracy(layer_0 - estimator_0 - 10_folds.train_6.predict)=87.50%\n",
      "[ 2018-03-26 20:21:48,475][kfold_wrapper.log_eval_metrics] Accuracy(layer_0 - estimator_0 - 10_folds.train_7.predict)=85.00%\n",
      "[ 2018-03-26 20:21:50,304][kfold_wrapper.log_eval_metrics] Accuracy(layer_0 - estimator_0 - 10_folds.train_8.predict)=85.00%\n",
      "[ 2018-03-26 20:21:52,175][kfold_wrapper.log_eval_metrics] Accuracy(layer_0 - estimator_0 - 10_folds.train_9.predict)=100.00%\n",
      "[ 2018-03-26 20:21:52,445][kfold_wrapper.log_eval_metrics] Accuracy(layer_0 - estimator_0 - 10_folds.train_cv.predict)=88.93%\n",
      "[ 2018-03-26 20:21:52,447][kfold_wrapper.log_eval_metrics] Accuracy(layer_0 - estimator_0 - 10_folds.test.predict)=93.33%\n",
      "[ 2018-03-26 20:21:52,451][cascade_classifier.calc_accuracy] Accuracy(layer_0 - train.classifier_average)=88.93%\n",
      "[ 2018-03-26 20:21:52,452][cascade_classifier.calc_accuracy] Accuracy(layer_0 - test.classifier_average)=93.33%\n",
      "[ 2018-03-26 20:21:52,453][cascade_classifier.fit_transform] [Result][Reach Max Layer] opt_layer_num=1, accuracy_train=88.93%, accuracy_test=93.33%\n",
      "[ 2018-03-26 20:21:52,455][cascade_classifier.transform] X_groups_test.shape=[(120, 4136)]\n",
      "[ 2018-03-26 20:21:52,457][cascade_classifier.transform] group_dims=[4136]\n",
      "[ 2018-03-26 20:21:52,458][cascade_classifier.transform] X_test.shape=(120, 4136)\n",
      "[ 2018-03-26 20:21:52,459][cascade_classifier.transform] [layer=0] look_indexs=[0], X_cur_test.shape=(120, 4136)\n",
      "[ 2018-03-26 20:21:54,719][cascade_classifier.fit_transform] X_groups_train.shape=[(280, 4136)],y_train.shape=(280,),X_groups_test.shape=[(120, 4136)],y_test.shape=(120,)\n",
      "[ 2018-03-26 20:21:54,741][cascade_classifier.fit_transform] group_dims=[4136]\n",
      "[ 2018-03-26 20:21:54,749][cascade_classifier.fit_transform] group_starts=[0]\n",
      "[ 2018-03-26 20:21:54,750][cascade_classifier.fit_transform] group_ends=[4136]\n",
      "[ 2018-03-26 20:21:54,750][cascade_classifier.fit_transform] X_train.shape=(280, 4136),X_test.shape=(120, 4136)\n",
      "[ 2018-03-26 20:21:54,755][cascade_classifier.fit_transform] [layer=0] look_indexs=[0], X_cur_train.shape=(280, 4136), X_cur_test.shape=(120, 4136)\n"
     ]
    },
    {
     "name": "stdout",
     "output_type": "stream",
     "text": [
      "('Test Accuracy of RandomForest = 93.333333 %', 1, 'fois')\n"
     ]
    },
    {
     "name": "stderr",
     "output_type": "stream",
     "text": [
      "[ 2018-03-26 20:21:56,460][kfold_wrapper.log_eval_metrics] Accuracy(layer_0 - estimator_0 - 10_folds.train_0.predict)=87.50%\n",
      "[ 2018-03-26 20:21:58,306][kfold_wrapper.log_eval_metrics] Accuracy(layer_0 - estimator_0 - 10_folds.train_1.predict)=94.44%\n",
      "[ 2018-03-26 20:21:59,641][kfold_wrapper.log_eval_metrics] Accuracy(layer_0 - estimator_0 - 10_folds.train_2.predict)=92.31%\n",
      "[ 2018-03-26 20:22:00,629][kfold_wrapper.log_eval_metrics] Accuracy(layer_0 - estimator_0 - 10_folds.train_3.predict)=84.85%\n",
      "[ 2018-03-26 20:22:02,424][kfold_wrapper.log_eval_metrics] Accuracy(layer_0 - estimator_0 - 10_folds.train_4.predict)=100.00%\n",
      "[ 2018-03-26 20:22:04,088][kfold_wrapper.log_eval_metrics] Accuracy(layer_0 - estimator_0 - 10_folds.train_5.predict)=97.22%\n",
      "[ 2018-03-26 20:22:05,537][kfold_wrapper.log_eval_metrics] Accuracy(layer_0 - estimator_0 - 10_folds.train_6.predict)=85.00%\n",
      "[ 2018-03-26 20:22:06,495][kfold_wrapper.log_eval_metrics] Accuracy(layer_0 - estimator_0 - 10_folds.train_7.predict)=85.00%\n",
      "[ 2018-03-26 20:22:07,886][kfold_wrapper.log_eval_metrics] Accuracy(layer_0 - estimator_0 - 10_folds.train_8.predict)=90.00%\n",
      "[ 2018-03-26 20:22:09,680][kfold_wrapper.log_eval_metrics] Accuracy(layer_0 - estimator_0 - 10_folds.train_9.predict)=100.00%\n",
      "[ 2018-03-26 20:22:09,891][kfold_wrapper.log_eval_metrics] Accuracy(layer_0 - estimator_0 - 10_folds.train_cv.predict)=89.29%\n",
      "[ 2018-03-26 20:22:09,892][kfold_wrapper.log_eval_metrics] Accuracy(layer_0 - estimator_0 - 10_folds.test.predict)=93.33%\n",
      "[ 2018-03-26 20:22:09,894][cascade_classifier.calc_accuracy] Accuracy(layer_0 - train.classifier_average)=89.29%\n",
      "[ 2018-03-26 20:22:09,895][cascade_classifier.calc_accuracy] Accuracy(layer_0 - test.classifier_average)=93.33%\n",
      "[ 2018-03-26 20:22:09,896][cascade_classifier.fit_transform] [Result][Reach Max Layer] opt_layer_num=1, accuracy_train=89.29%, accuracy_test=93.33%\n",
      "[ 2018-03-26 20:22:09,897][cascade_classifier.transform] X_groups_test.shape=[(120, 4136)]\n",
      "[ 2018-03-26 20:22:09,898][cascade_classifier.transform] group_dims=[4136]\n",
      "[ 2018-03-26 20:22:09,899][cascade_classifier.transform] X_test.shape=(120, 4136)\n",
      "[ 2018-03-26 20:22:09,900][cascade_classifier.transform] [layer=0] look_indexs=[0], X_cur_test.shape=(120, 4136)\n",
      "[ 2018-03-26 20:22:12,194][cascade_classifier.fit_transform] X_groups_train.shape=[(280, 4136)],y_train.shape=(280,),X_groups_test.shape=[(120, 4136)],y_test.shape=(120,)\n",
      "[ 2018-03-26 20:22:12,197][cascade_classifier.fit_transform] group_dims=[4136]\n",
      "[ 2018-03-26 20:22:12,198][cascade_classifier.fit_transform] group_starts=[0]\n",
      "[ 2018-03-26 20:22:12,199][cascade_classifier.fit_transform] group_ends=[4136]\n",
      "[ 2018-03-26 20:22:12,200][cascade_classifier.fit_transform] X_train.shape=(280, 4136),X_test.shape=(120, 4136)\n",
      "[ 2018-03-26 20:22:12,204][cascade_classifier.fit_transform] [layer=0] look_indexs=[0], X_cur_train.shape=(280, 4136), X_cur_test.shape=(120, 4136)\n"
     ]
    },
    {
     "name": "stdout",
     "output_type": "stream",
     "text": [
      "('Test Accuracy of RandomForest = 93.333333 %', 2, 'fois')\n"
     ]
    },
    {
     "name": "stderr",
     "output_type": "stream",
     "text": [
      "[ 2018-03-26 20:22:13,743][kfold_wrapper.log_eval_metrics] Accuracy(layer_0 - estimator_0 - 10_folds.train_0.predict)=90.00%\n",
      "[ 2018-03-26 20:22:15,723][kfold_wrapper.log_eval_metrics] Accuracy(layer_0 - estimator_0 - 10_folds.train_1.predict)=94.44%\n",
      "[ 2018-03-26 20:22:17,546][kfold_wrapper.log_eval_metrics] Accuracy(layer_0 - estimator_0 - 10_folds.train_2.predict)=92.31%\n",
      "[ 2018-03-26 20:22:19,398][kfold_wrapper.log_eval_metrics] Accuracy(layer_0 - estimator_0 - 10_folds.train_3.predict)=90.91%\n",
      "[ 2018-03-26 20:22:21,319][kfold_wrapper.log_eval_metrics] Accuracy(layer_0 - estimator_0 - 10_folds.train_4.predict)=100.00%\n",
      "[ 2018-03-26 20:22:22,905][kfold_wrapper.log_eval_metrics] Accuracy(layer_0 - estimator_0 - 10_folds.train_5.predict)=94.44%\n",
      "[ 2018-03-26 20:22:24,676][kfold_wrapper.log_eval_metrics] Accuracy(layer_0 - estimator_0 - 10_folds.train_6.predict)=85.00%\n",
      "[ 2018-03-26 20:22:26,482][kfold_wrapper.log_eval_metrics] Accuracy(layer_0 - estimator_0 - 10_folds.train_7.predict)=92.50%\n",
      "[ 2018-03-26 20:22:28,244][kfold_wrapper.log_eval_metrics] Accuracy(layer_0 - estimator_0 - 10_folds.train_8.predict)=87.50%\n",
      "[ 2018-03-26 20:22:30,145][kfold_wrapper.log_eval_metrics] Accuracy(layer_0 - estimator_0 - 10_folds.train_9.predict)=100.00%\n",
      "[ 2018-03-26 20:22:30,414][kfold_wrapper.log_eval_metrics] Accuracy(layer_0 - estimator_0 - 10_folds.train_cv.predict)=90.71%\n",
      "[ 2018-03-26 20:22:30,417][kfold_wrapper.log_eval_metrics] Accuracy(layer_0 - estimator_0 - 10_folds.test.predict)=92.50%\n",
      "[ 2018-03-26 20:22:30,420][cascade_classifier.calc_accuracy] Accuracy(layer_0 - train.classifier_average)=90.71%\n",
      "[ 2018-03-26 20:22:30,423][cascade_classifier.calc_accuracy] Accuracy(layer_0 - test.classifier_average)=92.50%\n",
      "[ 2018-03-26 20:22:30,424][cascade_classifier.fit_transform] [Result][Reach Max Layer] opt_layer_num=1, accuracy_train=90.71%, accuracy_test=92.50%\n",
      "[ 2018-03-26 20:22:30,425][cascade_classifier.transform] X_groups_test.shape=[(120, 4136)]\n",
      "[ 2018-03-26 20:22:30,426][cascade_classifier.transform] group_dims=[4136]\n",
      "[ 2018-03-26 20:22:30,428][cascade_classifier.transform] X_test.shape=(120, 4136)\n",
      "[ 2018-03-26 20:22:30,430][cascade_classifier.transform] [layer=0] look_indexs=[0], X_cur_test.shape=(120, 4136)\n",
      "[ 2018-03-26 20:22:32,720][cascade_classifier.fit_transform] X_groups_train.shape=[(280, 4136)],y_train.shape=(280,),X_groups_test.shape=[(120, 4136)],y_test.shape=(120,)\n",
      "[ 2018-03-26 20:22:32,731][cascade_classifier.fit_transform] group_dims=[4136]\n",
      "[ 2018-03-26 20:22:32,732][cascade_classifier.fit_transform] group_starts=[0]\n",
      "[ 2018-03-26 20:22:32,734][cascade_classifier.fit_transform] group_ends=[4136]\n",
      "[ 2018-03-26 20:22:32,735][cascade_classifier.fit_transform] X_train.shape=(280, 4136),X_test.shape=(120, 4136)\n",
      "[ 2018-03-26 20:22:32,741][cascade_classifier.fit_transform] [layer=0] look_indexs=[0], X_cur_train.shape=(280, 4136), X_cur_test.shape=(120, 4136)\n"
     ]
    },
    {
     "name": "stdout",
     "output_type": "stream",
     "text": [
      "('Test Accuracy of RandomForest = 92.500000 %', 3, 'fois')\n"
     ]
    },
    {
     "name": "stderr",
     "output_type": "stream",
     "text": [
      "[ 2018-03-26 20:22:34,460][kfold_wrapper.log_eval_metrics] Accuracy(layer_0 - estimator_0 - 10_folds.train_0.predict)=90.00%\n",
      "[ 2018-03-26 20:22:36,276][kfold_wrapper.log_eval_metrics] Accuracy(layer_0 - estimator_0 - 10_folds.train_1.predict)=94.44%\n",
      "[ 2018-03-26 20:22:38,092][kfold_wrapper.log_eval_metrics] Accuracy(layer_0 - estimator_0 - 10_folds.train_2.predict)=92.31%\n",
      "[ 2018-03-26 20:22:39,987][kfold_wrapper.log_eval_metrics] Accuracy(layer_0 - estimator_0 - 10_folds.train_3.predict)=90.91%\n",
      "[ 2018-03-26 20:22:41,707][kfold_wrapper.log_eval_metrics] Accuracy(layer_0 - estimator_0 - 10_folds.train_4.predict)=100.00%\n",
      "[ 2018-03-26 20:22:43,782][kfold_wrapper.log_eval_metrics] Accuracy(layer_0 - estimator_0 - 10_folds.train_5.predict)=97.22%\n",
      "[ 2018-03-26 20:22:45,529][kfold_wrapper.log_eval_metrics] Accuracy(layer_0 - estimator_0 - 10_folds.train_6.predict)=87.50%\n",
      "[ 2018-03-26 20:22:47,381][kfold_wrapper.log_eval_metrics] Accuracy(layer_0 - estimator_0 - 10_folds.train_7.predict)=85.00%\n",
      "[ 2018-03-26 20:22:49,463][kfold_wrapper.log_eval_metrics] Accuracy(layer_0 - estimator_0 - 10_folds.train_8.predict)=90.00%\n",
      "[ 2018-03-26 20:22:51,244][kfold_wrapper.log_eval_metrics] Accuracy(layer_0 - estimator_0 - 10_folds.train_9.predict)=100.00%\n",
      "[ 2018-03-26 20:22:51,449][kfold_wrapper.log_eval_metrics] Accuracy(layer_0 - estimator_0 - 10_folds.train_cv.predict)=90.71%\n",
      "[ 2018-03-26 20:22:51,451][kfold_wrapper.log_eval_metrics] Accuracy(layer_0 - estimator_0 - 10_folds.test.predict)=93.33%\n",
      "[ 2018-03-26 20:22:51,454][cascade_classifier.calc_accuracy] Accuracy(layer_0 - train.classifier_average)=90.71%\n",
      "[ 2018-03-26 20:22:51,458][cascade_classifier.calc_accuracy] Accuracy(layer_0 - test.classifier_average)=93.33%\n",
      "[ 2018-03-26 20:22:51,458][cascade_classifier.fit_transform] [Result][Reach Max Layer] opt_layer_num=1, accuracy_train=90.71%, accuracy_test=93.33%\n",
      "[ 2018-03-26 20:22:51,459][cascade_classifier.transform] X_groups_test.shape=[(120, 4136)]\n",
      "[ 2018-03-26 20:22:51,460][cascade_classifier.transform] group_dims=[4136]\n",
      "[ 2018-03-26 20:22:51,462][cascade_classifier.transform] X_test.shape=(120, 4136)\n",
      "[ 2018-03-26 20:22:51,464][cascade_classifier.transform] [layer=0] look_indexs=[0], X_cur_test.shape=(120, 4136)\n",
      "[ 2018-03-26 20:22:53,454][cascade_classifier.fit_transform] X_groups_train.shape=[(280, 4136)],y_train.shape=(280,),X_groups_test.shape=[(120, 4136)],y_test.shape=(120,)\n",
      "[ 2018-03-26 20:22:53,483][cascade_classifier.fit_transform] group_dims=[4136]\n",
      "[ 2018-03-26 20:22:53,484][cascade_classifier.fit_transform] group_starts=[0]\n",
      "[ 2018-03-26 20:22:53,486][cascade_classifier.fit_transform] group_ends=[4136]\n",
      "[ 2018-03-26 20:22:53,487][cascade_classifier.fit_transform] X_train.shape=(280, 4136),X_test.shape=(120, 4136)\n",
      "[ 2018-03-26 20:22:53,492][cascade_classifier.fit_transform] [layer=0] look_indexs=[0], X_cur_train.shape=(280, 4136), X_cur_test.shape=(120, 4136)\n"
     ]
    },
    {
     "name": "stdout",
     "output_type": "stream",
     "text": [
      "('Test Accuracy of RandomForest = 93.333333 %', 4, 'fois')\n"
     ]
    },
    {
     "name": "stderr",
     "output_type": "stream",
     "text": [
      "[ 2018-03-26 20:22:55,273][kfold_wrapper.log_eval_metrics] Accuracy(layer_0 - estimator_0 - 10_folds.train_0.predict)=87.50%\n",
      "[ 2018-03-26 20:22:57,059][kfold_wrapper.log_eval_metrics] Accuracy(layer_0 - estimator_0 - 10_folds.train_1.predict)=88.89%\n",
      "[ 2018-03-26 20:22:58,770][kfold_wrapper.log_eval_metrics] Accuracy(layer_0 - estimator_0 - 10_folds.train_2.predict)=92.31%\n",
      "[ 2018-03-26 20:23:00,454][kfold_wrapper.log_eval_metrics] Accuracy(layer_0 - estimator_0 - 10_folds.train_3.predict)=90.91%\n",
      "[ 2018-03-26 20:23:02,411][kfold_wrapper.log_eval_metrics] Accuracy(layer_0 - estimator_0 - 10_folds.train_4.predict)=100.00%\n",
      "[ 2018-03-26 20:23:04,137][kfold_wrapper.log_eval_metrics] Accuracy(layer_0 - estimator_0 - 10_folds.train_5.predict)=97.22%\n",
      "[ 2018-03-26 20:23:05,301][kfold_wrapper.log_eval_metrics] Accuracy(layer_0 - estimator_0 - 10_folds.train_6.predict)=82.50%\n",
      "[ 2018-03-26 20:23:07,053][kfold_wrapper.log_eval_metrics] Accuracy(layer_0 - estimator_0 - 10_folds.train_7.predict)=92.50%\n",
      "[ 2018-03-26 20:23:08,947][kfold_wrapper.log_eval_metrics] Accuracy(layer_0 - estimator_0 - 10_folds.train_8.predict)=87.50%\n",
      "[ 2018-03-26 20:23:11,040][kfold_wrapper.log_eval_metrics] Accuracy(layer_0 - estimator_0 - 10_folds.train_9.predict)=100.00%\n",
      "[ 2018-03-26 20:23:11,233][kfold_wrapper.log_eval_metrics] Accuracy(layer_0 - estimator_0 - 10_folds.train_cv.predict)=90.00%\n",
      "[ 2018-03-26 20:23:11,235][kfold_wrapper.log_eval_metrics] Accuracy(layer_0 - estimator_0 - 10_folds.test.predict)=92.50%\n",
      "[ 2018-03-26 20:23:11,240][cascade_classifier.calc_accuracy] Accuracy(layer_0 - train.classifier_average)=90.00%\n",
      "[ 2018-03-26 20:23:11,242][cascade_classifier.calc_accuracy] Accuracy(layer_0 - test.classifier_average)=92.50%\n",
      "[ 2018-03-26 20:23:11,243][cascade_classifier.fit_transform] [Result][Reach Max Layer] opt_layer_num=1, accuracy_train=90.00%, accuracy_test=92.50%\n",
      "[ 2018-03-26 20:23:11,243][cascade_classifier.transform] X_groups_test.shape=[(120, 4136)]\n",
      "[ 2018-03-26 20:23:11,244][cascade_classifier.transform] group_dims=[4136]\n",
      "[ 2018-03-26 20:23:11,246][cascade_classifier.transform] X_test.shape=(120, 4136)\n",
      "[ 2018-03-26 20:23:11,248][cascade_classifier.transform] [layer=0] look_indexs=[0], X_cur_test.shape=(120, 4136)\n",
      "[ 2018-03-26 20:23:13,275][cascade_classifier.fit_transform] X_groups_train.shape=[(280, 4136)],y_train.shape=(280,),X_groups_test.shape=[(120, 4136)],y_test.shape=(120,)\n",
      "[ 2018-03-26 20:23:13,277][cascade_classifier.fit_transform] group_dims=[4136]\n",
      "[ 2018-03-26 20:23:13,278][cascade_classifier.fit_transform] group_starts=[0]\n",
      "[ 2018-03-26 20:23:13,279][cascade_classifier.fit_transform] group_ends=[4136]\n",
      "[ 2018-03-26 20:23:13,281][cascade_classifier.fit_transform] X_train.shape=(280, 4136),X_test.shape=(120, 4136)\n",
      "[ 2018-03-26 20:23:13,286][cascade_classifier.fit_transform] [layer=0] look_indexs=[0], X_cur_train.shape=(280, 4136), X_cur_test.shape=(120, 4136)\n"
     ]
    },
    {
     "name": "stdout",
     "output_type": "stream",
     "text": [
      "('Test Accuracy of RandomForest = 92.500000 %', 5, 'fois')\n"
     ]
    },
    {
     "name": "stderr",
     "output_type": "stream",
     "text": [
      "[ 2018-03-26 20:23:14,531][kfold_wrapper.log_eval_metrics] Accuracy(layer_0 - estimator_0 - 10_folds.train_0.predict)=90.00%\n",
      "[ 2018-03-26 20:23:16,402][kfold_wrapper.log_eval_metrics] Accuracy(layer_0 - estimator_0 - 10_folds.train_1.predict)=94.44%\n",
      "[ 2018-03-26 20:23:18,448][kfold_wrapper.log_eval_metrics] Accuracy(layer_0 - estimator_0 - 10_folds.train_2.predict)=92.31%\n",
      "[ 2018-03-26 20:23:20,544][kfold_wrapper.log_eval_metrics] Accuracy(layer_0 - estimator_0 - 10_folds.train_3.predict)=90.91%\n",
      "[ 2018-03-26 20:23:22,599][kfold_wrapper.log_eval_metrics] Accuracy(layer_0 - estimator_0 - 10_folds.train_4.predict)=100.00%\n",
      "[ 2018-03-26 20:23:24,087][kfold_wrapper.log_eval_metrics] Accuracy(layer_0 - estimator_0 - 10_folds.train_5.predict)=97.22%\n",
      "[ 2018-03-26 20:23:25,880][kfold_wrapper.log_eval_metrics] Accuracy(layer_0 - estimator_0 - 10_folds.train_6.predict)=82.50%\n",
      "[ 2018-03-26 20:23:27,726][kfold_wrapper.log_eval_metrics] Accuracy(layer_0 - estimator_0 - 10_folds.train_7.predict)=87.50%\n",
      "[ 2018-03-26 20:23:29,492][kfold_wrapper.log_eval_metrics] Accuracy(layer_0 - estimator_0 - 10_folds.train_8.predict)=87.50%\n",
      "[ 2018-03-26 20:23:31,722][kfold_wrapper.log_eval_metrics] Accuracy(layer_0 - estimator_0 - 10_folds.train_9.predict)=100.00%\n",
      "[ 2018-03-26 20:23:31,944][kfold_wrapper.log_eval_metrics] Accuracy(layer_0 - estimator_0 - 10_folds.train_cv.predict)=90.00%\n",
      "[ 2018-03-26 20:23:31,947][kfold_wrapper.log_eval_metrics] Accuracy(layer_0 - estimator_0 - 10_folds.test.predict)=92.50%\n",
      "[ 2018-03-26 20:23:31,950][cascade_classifier.calc_accuracy] Accuracy(layer_0 - train.classifier_average)=90.00%\n",
      "[ 2018-03-26 20:23:31,953][cascade_classifier.calc_accuracy] Accuracy(layer_0 - test.classifier_average)=92.50%\n",
      "[ 2018-03-26 20:23:31,954][cascade_classifier.fit_transform] [Result][Reach Max Layer] opt_layer_num=1, accuracy_train=90.00%, accuracy_test=92.50%\n",
      "[ 2018-03-26 20:23:31,955][cascade_classifier.transform] X_groups_test.shape=[(120, 4136)]\n",
      "[ 2018-03-26 20:23:31,956][cascade_classifier.transform] group_dims=[4136]\n",
      "[ 2018-03-26 20:23:31,957][cascade_classifier.transform] X_test.shape=(120, 4136)\n",
      "[ 2018-03-26 20:23:31,959][cascade_classifier.transform] [layer=0] look_indexs=[0], X_cur_test.shape=(120, 4136)\n",
      "[ 2018-03-26 20:23:34,331][cascade_classifier.fit_transform] X_groups_train.shape=[(280, 4136)],y_train.shape=(280,),X_groups_test.shape=[(120, 4136)],y_test.shape=(120,)\n",
      "[ 2018-03-26 20:23:34,343][cascade_classifier.fit_transform] group_dims=[4136]\n",
      "[ 2018-03-26 20:23:34,353][cascade_classifier.fit_transform] group_starts=[0]\n",
      "[ 2018-03-26 20:23:34,354][cascade_classifier.fit_transform] group_ends=[4136]\n",
      "[ 2018-03-26 20:23:34,354][cascade_classifier.fit_transform] X_train.shape=(280, 4136),X_test.shape=(120, 4136)\n",
      "[ 2018-03-26 20:23:34,359][cascade_classifier.fit_transform] [layer=0] look_indexs=[0], X_cur_train.shape=(280, 4136), X_cur_test.shape=(120, 4136)\n"
     ]
    },
    {
     "name": "stdout",
     "output_type": "stream",
     "text": [
      "('Test Accuracy of RandomForest = 92.500000 %', 6, 'fois')\n"
     ]
    },
    {
     "name": "stderr",
     "output_type": "stream",
     "text": [
      "[ 2018-03-26 20:23:36,290][kfold_wrapper.log_eval_metrics] Accuracy(layer_0 - estimator_0 - 10_folds.train_0.predict)=90.00%\n",
      "[ 2018-03-26 20:23:38,473][kfold_wrapper.log_eval_metrics] Accuracy(layer_0 - estimator_0 - 10_folds.train_1.predict)=94.44%\n",
      "[ 2018-03-26 20:23:40,744][kfold_wrapper.log_eval_metrics] Accuracy(layer_0 - estimator_0 - 10_folds.train_2.predict)=92.31%\n",
      "[ 2018-03-26 20:23:43,024][kfold_wrapper.log_eval_metrics] Accuracy(layer_0 - estimator_0 - 10_folds.train_3.predict)=87.88%\n",
      "[ 2018-03-26 20:23:44,915][kfold_wrapper.log_eval_metrics] Accuracy(layer_0 - estimator_0 - 10_folds.train_4.predict)=100.00%\n",
      "[ 2018-03-26 20:23:47,043][kfold_wrapper.log_eval_metrics] Accuracy(layer_0 - estimator_0 - 10_folds.train_5.predict)=97.22%\n",
      "[ 2018-03-26 20:23:49,186][kfold_wrapper.log_eval_metrics] Accuracy(layer_0 - estimator_0 - 10_folds.train_6.predict)=85.00%\n",
      "[ 2018-03-26 20:23:51,302][kfold_wrapper.log_eval_metrics] Accuracy(layer_0 - estimator_0 - 10_folds.train_7.predict)=87.50%\n",
      "[ 2018-03-26 20:23:53,425][kfold_wrapper.log_eval_metrics] Accuracy(layer_0 - estimator_0 - 10_folds.train_8.predict)=90.00%\n",
      "[ 2018-03-26 20:23:55,196][kfold_wrapper.log_eval_metrics] Accuracy(layer_0 - estimator_0 - 10_folds.train_9.predict)=100.00%\n",
      "[ 2018-03-26 20:23:55,465][kfold_wrapper.log_eval_metrics] Accuracy(layer_0 - estimator_0 - 10_folds.train_cv.predict)=90.36%\n",
      "[ 2018-03-26 20:23:55,466][kfold_wrapper.log_eval_metrics] Accuracy(layer_0 - estimator_0 - 10_folds.test.predict)=92.50%\n",
      "[ 2018-03-26 20:23:55,471][cascade_classifier.calc_accuracy] Accuracy(layer_0 - train.classifier_average)=90.36%\n",
      "[ 2018-03-26 20:23:55,472][cascade_classifier.calc_accuracy] Accuracy(layer_0 - test.classifier_average)=92.50%\n",
      "[ 2018-03-26 20:23:55,473][cascade_classifier.fit_transform] [Result][Reach Max Layer] opt_layer_num=1, accuracy_train=90.36%, accuracy_test=92.50%\n",
      "[ 2018-03-26 20:23:55,476][cascade_classifier.transform] X_groups_test.shape=[(120, 4136)]\n",
      "[ 2018-03-26 20:23:55,478][cascade_classifier.transform] group_dims=[4136]\n",
      "[ 2018-03-26 20:23:55,479][cascade_classifier.transform] X_test.shape=(120, 4136)\n",
      "[ 2018-03-26 20:23:55,480][cascade_classifier.transform] [layer=0] look_indexs=[0], X_cur_test.shape=(120, 4136)\n",
      "[ 2018-03-26 20:23:57,803][cascade_classifier.fit_transform] X_groups_train.shape=[(280, 4136)],y_train.shape=(280,),X_groups_test.shape=[(120, 4136)],y_test.shape=(120,)\n",
      "[ 2018-03-26 20:23:57,823][cascade_classifier.fit_transform] group_dims=[4136]\n",
      "[ 2018-03-26 20:23:57,833][cascade_classifier.fit_transform] group_starts=[0]\n",
      "[ 2018-03-26 20:23:57,836][cascade_classifier.fit_transform] group_ends=[4136]\n",
      "[ 2018-03-26 20:23:57,838][cascade_classifier.fit_transform] X_train.shape=(280, 4136),X_test.shape=(120, 4136)\n",
      "[ 2018-03-26 20:23:57,844][cascade_classifier.fit_transform] [layer=0] look_indexs=[0], X_cur_train.shape=(280, 4136), X_cur_test.shape=(120, 4136)\n"
     ]
    },
    {
     "name": "stdout",
     "output_type": "stream",
     "text": [
      "('Test Accuracy of RandomForest = 92.500000 %', 7, 'fois')\n"
     ]
    },
    {
     "name": "stderr",
     "output_type": "stream",
     "text": [
      "[ 2018-03-26 20:23:59,683][kfold_wrapper.log_eval_metrics] Accuracy(layer_0 - estimator_0 - 10_folds.train_0.predict)=90.00%\n",
      "[ 2018-03-26 20:24:01,642][kfold_wrapper.log_eval_metrics] Accuracy(layer_0 - estimator_0 - 10_folds.train_1.predict)=94.44%\n",
      "[ 2018-03-26 20:24:03,726][kfold_wrapper.log_eval_metrics] Accuracy(layer_0 - estimator_0 - 10_folds.train_2.predict)=92.31%\n",
      "[ 2018-03-26 20:24:05,371][kfold_wrapper.log_eval_metrics] Accuracy(layer_0 - estimator_0 - 10_folds.train_3.predict)=90.91%\n",
      "[ 2018-03-26 20:24:06,950][kfold_wrapper.log_eval_metrics] Accuracy(layer_0 - estimator_0 - 10_folds.train_4.predict)=100.00%\n",
      "[ 2018-03-26 20:24:08,521][kfold_wrapper.log_eval_metrics] Accuracy(layer_0 - estimator_0 - 10_folds.train_5.predict)=94.44%\n",
      "[ 2018-03-26 20:24:10,445][kfold_wrapper.log_eval_metrics] Accuracy(layer_0 - estimator_0 - 10_folds.train_6.predict)=82.50%\n",
      "[ 2018-03-26 20:24:12,321][kfold_wrapper.log_eval_metrics] Accuracy(layer_0 - estimator_0 - 10_folds.train_7.predict)=87.50%\n",
      "[ 2018-03-26 20:24:14,337][kfold_wrapper.log_eval_metrics] Accuracy(layer_0 - estimator_0 - 10_folds.train_8.predict)=87.50%\n",
      "[ 2018-03-26 20:24:16,684][kfold_wrapper.log_eval_metrics] Accuracy(layer_0 - estimator_0 - 10_folds.train_9.predict)=100.00%\n",
      "[ 2018-03-26 20:24:16,887][kfold_wrapper.log_eval_metrics] Accuracy(layer_0 - estimator_0 - 10_folds.train_cv.predict)=89.64%\n",
      "[ 2018-03-26 20:24:16,889][kfold_wrapper.log_eval_metrics] Accuracy(layer_0 - estimator_0 - 10_folds.test.predict)=93.33%\n",
      "[ 2018-03-26 20:24:16,892][cascade_classifier.calc_accuracy] Accuracy(layer_0 - train.classifier_average)=89.64%\n",
      "[ 2018-03-26 20:24:16,896][cascade_classifier.calc_accuracy] Accuracy(layer_0 - test.classifier_average)=93.33%\n",
      "[ 2018-03-26 20:24:16,897][cascade_classifier.fit_transform] [Result][Reach Max Layer] opt_layer_num=1, accuracy_train=89.64%, accuracy_test=93.33%\n",
      "[ 2018-03-26 20:24:16,897][cascade_classifier.transform] X_groups_test.shape=[(120, 4136)]\n",
      "[ 2018-03-26 20:24:16,899][cascade_classifier.transform] group_dims=[4136]\n",
      "[ 2018-03-26 20:24:16,901][cascade_classifier.transform] X_test.shape=(120, 4136)\n",
      "[ 2018-03-26 20:24:16,902][cascade_classifier.transform] [layer=0] look_indexs=[0], X_cur_test.shape=(120, 4136)\n",
      "[ 2018-03-26 20:24:19,326][cascade_classifier.fit_transform] X_groups_train.shape=[(280, 4136)],y_train.shape=(280,),X_groups_test.shape=[(120, 4136)],y_test.shape=(120,)\n",
      "[ 2018-03-26 20:24:19,340][cascade_classifier.fit_transform] group_dims=[4136]\n",
      "[ 2018-03-26 20:24:19,349][cascade_classifier.fit_transform] group_starts=[0]\n",
      "[ 2018-03-26 20:24:19,351][cascade_classifier.fit_transform] group_ends=[4136]\n",
      "[ 2018-03-26 20:24:19,352][cascade_classifier.fit_transform] X_train.shape=(280, 4136),X_test.shape=(120, 4136)\n",
      "[ 2018-03-26 20:24:19,358][cascade_classifier.fit_transform] [layer=0] look_indexs=[0], X_cur_train.shape=(280, 4136), X_cur_test.shape=(120, 4136)\n"
     ]
    },
    {
     "name": "stdout",
     "output_type": "stream",
     "text": [
      "('Test Accuracy of RandomForest = 93.333333 %', 8, 'fois')\n"
     ]
    },
    {
     "name": "stderr",
     "output_type": "stream",
     "text": [
      "[ 2018-03-26 20:24:21,367][kfold_wrapper.log_eval_metrics] Accuracy(layer_0 - estimator_0 - 10_folds.train_0.predict)=87.50%\n",
      "[ 2018-03-26 20:24:23,252][kfold_wrapper.log_eval_metrics] Accuracy(layer_0 - estimator_0 - 10_folds.train_1.predict)=88.89%\n",
      "[ 2018-03-26 20:24:25,261][kfold_wrapper.log_eval_metrics] Accuracy(layer_0 - estimator_0 - 10_folds.train_2.predict)=96.15%\n",
      "[ 2018-03-26 20:24:27,203][kfold_wrapper.log_eval_metrics] Accuracy(layer_0 - estimator_0 - 10_folds.train_3.predict)=87.88%\n",
      "[ 2018-03-26 20:24:29,292][kfold_wrapper.log_eval_metrics] Accuracy(layer_0 - estimator_0 - 10_folds.train_4.predict)=100.00%\n",
      "[ 2018-03-26 20:24:31,411][kfold_wrapper.log_eval_metrics] Accuracy(layer_0 - estimator_0 - 10_folds.train_5.predict)=97.22%\n",
      "[ 2018-03-26 20:24:33,277][kfold_wrapper.log_eval_metrics] Accuracy(layer_0 - estimator_0 - 10_folds.train_6.predict)=80.00%\n",
      "[ 2018-03-26 20:24:35,186][kfold_wrapper.log_eval_metrics] Accuracy(layer_0 - estimator_0 - 10_folds.train_7.predict)=87.50%\n",
      "[ 2018-03-26 20:24:37,203][kfold_wrapper.log_eval_metrics] Accuracy(layer_0 - estimator_0 - 10_folds.train_8.predict)=90.00%\n",
      "[ 2018-03-26 20:24:39,586][kfold_wrapper.log_eval_metrics] Accuracy(layer_0 - estimator_0 - 10_folds.train_9.predict)=100.00%\n",
      "[ 2018-03-26 20:24:39,754][kfold_wrapper.log_eval_metrics] Accuracy(layer_0 - estimator_0 - 10_folds.train_cv.predict)=89.29%\n",
      "[ 2018-03-26 20:24:39,757][kfold_wrapper.log_eval_metrics] Accuracy(layer_0 - estimator_0 - 10_folds.test.predict)=92.50%\n",
      "[ 2018-03-26 20:24:39,760][cascade_classifier.calc_accuracy] Accuracy(layer_0 - train.classifier_average)=89.29%\n",
      "[ 2018-03-26 20:24:39,763][cascade_classifier.calc_accuracy] Accuracy(layer_0 - test.classifier_average)=92.50%\n",
      "[ 2018-03-26 20:24:39,764][cascade_classifier.fit_transform] [Result][Reach Max Layer] opt_layer_num=1, accuracy_train=89.29%, accuracy_test=92.50%\n",
      "[ 2018-03-26 20:24:39,764][cascade_classifier.transform] X_groups_test.shape=[(120, 4136)]\n",
      "[ 2018-03-26 20:24:39,766][cascade_classifier.transform] group_dims=[4136]\n",
      "[ 2018-03-26 20:24:39,768][cascade_classifier.transform] X_test.shape=(120, 4136)\n",
      "[ 2018-03-26 20:24:39,770][cascade_classifier.transform] [layer=0] look_indexs=[0], X_cur_test.shape=(120, 4136)\n",
      "[ 2018-03-26 20:24:41,934][cascade_classifier.fit_transform] X_groups_train.shape=[(280, 4136)],y_train.shape=(280,),X_groups_test.shape=[(120, 4136)],y_test.shape=(120,)\n",
      "[ 2018-03-26 20:24:41,953][cascade_classifier.fit_transform] group_dims=[4136]\n",
      "[ 2018-03-26 20:24:41,956][cascade_classifier.fit_transform] group_starts=[0]\n",
      "[ 2018-03-26 20:24:41,958][cascade_classifier.fit_transform] group_ends=[4136]\n",
      "[ 2018-03-26 20:24:41,960][cascade_classifier.fit_transform] X_train.shape=(280, 4136),X_test.shape=(120, 4136)\n",
      "[ 2018-03-26 20:24:41,965][cascade_classifier.fit_transform] [layer=0] look_indexs=[0], X_cur_train.shape=(280, 4136), X_cur_test.shape=(120, 4136)\n"
     ]
    },
    {
     "name": "stdout",
     "output_type": "stream",
     "text": [
      "('Test Accuracy of RandomForest = 92.500000 %', 9, 'fois')\n"
     ]
    },
    {
     "name": "stderr",
     "output_type": "stream",
     "text": [
      "[ 2018-03-26 20:24:43,707][kfold_wrapper.log_eval_metrics] Accuracy(layer_0 - estimator_0 - 10_folds.train_0.predict)=87.50%\n",
      "[ 2018-03-26 20:24:45,640][kfold_wrapper.log_eval_metrics] Accuracy(layer_0 - estimator_0 - 10_folds.train_1.predict)=94.44%\n",
      "[ 2018-03-26 20:24:47,614][kfold_wrapper.log_eval_metrics] Accuracy(layer_0 - estimator_0 - 10_folds.train_2.predict)=96.15%\n",
      "[ 2018-03-26 20:24:49,790][kfold_wrapper.log_eval_metrics] Accuracy(layer_0 - estimator_0 - 10_folds.train_3.predict)=87.88%\n",
      "[ 2018-03-26 20:24:51,855][kfold_wrapper.log_eval_metrics] Accuracy(layer_0 - estimator_0 - 10_folds.train_4.predict)=100.00%\n",
      "[ 2018-03-26 20:24:53,893][kfold_wrapper.log_eval_metrics] Accuracy(layer_0 - estimator_0 - 10_folds.train_5.predict)=97.22%\n",
      "[ 2018-03-26 20:24:55,965][kfold_wrapper.log_eval_metrics] Accuracy(layer_0 - estimator_0 - 10_folds.train_6.predict)=82.50%\n",
      "[ 2018-03-26 20:24:58,056][kfold_wrapper.log_eval_metrics] Accuracy(layer_0 - estimator_0 - 10_folds.train_7.predict)=85.00%\n",
      "[ 2018-03-26 20:24:59,982][kfold_wrapper.log_eval_metrics] Accuracy(layer_0 - estimator_0 - 10_folds.train_8.predict)=90.00%\n",
      "[ 2018-03-26 20:25:02,115][kfold_wrapper.log_eval_metrics] Accuracy(layer_0 - estimator_0 - 10_folds.train_9.predict)=100.00%\n",
      "[ 2018-03-26 20:25:02,378][kfold_wrapper.log_eval_metrics] Accuracy(layer_0 - estimator_0 - 10_folds.train_cv.predict)=89.64%\n",
      "[ 2018-03-26 20:25:02,381][kfold_wrapper.log_eval_metrics] Accuracy(layer_0 - estimator_0 - 10_folds.test.predict)=94.17%\n",
      "[ 2018-03-26 20:25:02,384][cascade_classifier.calc_accuracy] Accuracy(layer_0 - train.classifier_average)=89.64%\n",
      "[ 2018-03-26 20:25:02,387][cascade_classifier.calc_accuracy] Accuracy(layer_0 - test.classifier_average)=94.17%\n",
      "[ 2018-03-26 20:25:02,388][cascade_classifier.fit_transform] [Result][Reach Max Layer] opt_layer_num=1, accuracy_train=89.64%, accuracy_test=94.17%\n",
      "[ 2018-03-26 20:25:02,389][cascade_classifier.transform] X_groups_test.shape=[(120, 4136)]\n",
      "[ 2018-03-26 20:25:02,391][cascade_classifier.transform] group_dims=[4136]\n",
      "[ 2018-03-26 20:25:02,392][cascade_classifier.transform] X_test.shape=(120, 4136)\n",
      "[ 2018-03-26 20:25:02,393][cascade_classifier.transform] [layer=0] look_indexs=[0], X_cur_test.shape=(120, 4136)\n",
      "[ 2018-03-26 20:25:04,552][cascade_classifier.fit_transform] X_groups_train.shape=[(280, 4136)],y_train.shape=(280,),X_groups_test.shape=[(120, 4136)],y_test.shape=(120,)\n",
      "[ 2018-03-26 20:25:04,555][cascade_classifier.fit_transform] group_dims=[4136]\n",
      "[ 2018-03-26 20:25:04,563][cascade_classifier.fit_transform] group_starts=[0]\n",
      "[ 2018-03-26 20:25:04,564][cascade_classifier.fit_transform] group_ends=[4136]\n",
      "[ 2018-03-26 20:25:04,565][cascade_classifier.fit_transform] X_train.shape=(280, 4136),X_test.shape=(120, 4136)\n",
      "[ 2018-03-26 20:25:04,569][cascade_classifier.fit_transform] [layer=0] look_indexs=[0], X_cur_train.shape=(280, 4136), X_cur_test.shape=(120, 4136)\n"
     ]
    },
    {
     "name": "stdout",
     "output_type": "stream",
     "text": [
      "('Test Accuracy of RandomForest = 94.166667 %', 10, 'fois')\n"
     ]
    },
    {
     "name": "stderr",
     "output_type": "stream",
     "text": [
      "[ 2018-03-26 20:25:06,325][kfold_wrapper.log_eval_metrics] Accuracy(layer_0 - estimator_0 - 10_folds.train_0.predict)=90.00%\n",
      "[ 2018-03-26 20:25:08,333][kfold_wrapper.log_eval_metrics] Accuracy(layer_0 - estimator_0 - 10_folds.train_1.predict)=94.44%\n",
      "[ 2018-03-26 20:25:10,275][kfold_wrapper.log_eval_metrics] Accuracy(layer_0 - estimator_0 - 10_folds.train_2.predict)=92.31%\n",
      "[ 2018-03-26 20:25:12,468][kfold_wrapper.log_eval_metrics] Accuracy(layer_0 - estimator_0 - 10_folds.train_3.predict)=90.91%\n",
      "[ 2018-03-26 20:25:14,182][kfold_wrapper.log_eval_metrics] Accuracy(layer_0 - estimator_0 - 10_folds.train_4.predict)=100.00%\n",
      "[ 2018-03-26 20:25:15,632][kfold_wrapper.log_eval_metrics] Accuracy(layer_0 - estimator_0 - 10_folds.train_5.predict)=94.44%\n",
      "[ 2018-03-26 20:25:17,127][kfold_wrapper.log_eval_metrics] Accuracy(layer_0 - estimator_0 - 10_folds.train_6.predict)=87.50%\n",
      "[ 2018-03-26 20:25:19,204][kfold_wrapper.log_eval_metrics] Accuracy(layer_0 - estimator_0 - 10_folds.train_7.predict)=85.00%\n",
      "[ 2018-03-26 20:25:21,221][kfold_wrapper.log_eval_metrics] Accuracy(layer_0 - estimator_0 - 10_folds.train_8.predict)=90.00%\n",
      "[ 2018-03-26 20:25:23,227][kfold_wrapper.log_eval_metrics] Accuracy(layer_0 - estimator_0 - 10_folds.train_9.predict)=100.00%\n",
      "[ 2018-03-26 20:25:23,466][kfold_wrapper.log_eval_metrics] Accuracy(layer_0 - estimator_0 - 10_folds.train_cv.predict)=90.36%\n",
      "[ 2018-03-26 20:25:23,469][kfold_wrapper.log_eval_metrics] Accuracy(layer_0 - estimator_0 - 10_folds.test.predict)=92.50%\n",
      "[ 2018-03-26 20:25:23,472][cascade_classifier.calc_accuracy] Accuracy(layer_0 - train.classifier_average)=90.36%\n",
      "[ 2018-03-26 20:25:23,476][cascade_classifier.calc_accuracy] Accuracy(layer_0 - test.classifier_average)=92.50%\n",
      "[ 2018-03-26 20:25:23,476][cascade_classifier.fit_transform] [Result][Reach Max Layer] opt_layer_num=1, accuracy_train=90.36%, accuracy_test=92.50%\n",
      "[ 2018-03-26 20:25:23,477][cascade_classifier.transform] X_groups_test.shape=[(120, 4136)]\n",
      "[ 2018-03-26 20:25:23,479][cascade_classifier.transform] group_dims=[4136]\n",
      "[ 2018-03-26 20:25:23,481][cascade_classifier.transform] X_test.shape=(120, 4136)\n",
      "[ 2018-03-26 20:25:23,482][cascade_classifier.transform] [layer=0] look_indexs=[0], X_cur_test.shape=(120, 4136)\n",
      "[ 2018-03-26 20:25:25,755][cascade_classifier.fit_transform] X_groups_train.shape=[(280, 4136)],y_train.shape=(280,),X_groups_test.shape=[(120, 4136)],y_test.shape=(120,)\n",
      "[ 2018-03-26 20:25:25,760][cascade_classifier.fit_transform] group_dims=[4136]\n",
      "[ 2018-03-26 20:25:25,763][cascade_classifier.fit_transform] group_starts=[0]\n",
      "[ 2018-03-26 20:25:25,765][cascade_classifier.fit_transform] group_ends=[4136]\n",
      "[ 2018-03-26 20:25:25,767][cascade_classifier.fit_transform] X_train.shape=(280, 4136),X_test.shape=(120, 4136)\n",
      "[ 2018-03-26 20:25:25,773][cascade_classifier.fit_transform] [layer=0] look_indexs=[0], X_cur_train.shape=(280, 4136), X_cur_test.shape=(120, 4136)\n"
     ]
    },
    {
     "name": "stdout",
     "output_type": "stream",
     "text": [
      "('Test Accuracy of RandomForest = 92.500000 %', 11, 'fois')\n"
     ]
    },
    {
     "name": "stderr",
     "output_type": "stream",
     "text": [
      "[ 2018-03-26 20:25:27,684][kfold_wrapper.log_eval_metrics] Accuracy(layer_0 - estimator_0 - 10_folds.train_0.predict)=87.50%\n",
      "[ 2018-03-26 20:25:29,771][kfold_wrapper.log_eval_metrics] Accuracy(layer_0 - estimator_0 - 10_folds.train_1.predict)=94.44%\n",
      "[ 2018-03-26 20:25:31,812][kfold_wrapper.log_eval_metrics] Accuracy(layer_0 - estimator_0 - 10_folds.train_2.predict)=96.15%\n",
      "[ 2018-03-26 20:25:33,818][kfold_wrapper.log_eval_metrics] Accuracy(layer_0 - estimator_0 - 10_folds.train_3.predict)=87.88%\n",
      "[ 2018-03-26 20:25:35,712][kfold_wrapper.log_eval_metrics] Accuracy(layer_0 - estimator_0 - 10_folds.train_4.predict)=100.00%\n",
      "[ 2018-03-26 20:25:37,768][kfold_wrapper.log_eval_metrics] Accuracy(layer_0 - estimator_0 - 10_folds.train_5.predict)=97.22%\n",
      "[ 2018-03-26 20:25:39,541][kfold_wrapper.log_eval_metrics] Accuracy(layer_0 - estimator_0 - 10_folds.train_6.predict)=87.50%\n",
      "[ 2018-03-26 20:25:41,765][kfold_wrapper.log_eval_metrics] Accuracy(layer_0 - estimator_0 - 10_folds.train_7.predict)=85.00%\n",
      "[ 2018-03-26 20:25:43,976][kfold_wrapper.log_eval_metrics] Accuracy(layer_0 - estimator_0 - 10_folds.train_8.predict)=87.50%\n",
      "[ 2018-03-26 20:25:45,879][kfold_wrapper.log_eval_metrics] Accuracy(layer_0 - estimator_0 - 10_folds.train_9.predict)=100.00%\n",
      "[ 2018-03-26 20:25:46,085][kfold_wrapper.log_eval_metrics] Accuracy(layer_0 - estimator_0 - 10_folds.train_cv.predict)=90.00%\n",
      "[ 2018-03-26 20:25:46,086][kfold_wrapper.log_eval_metrics] Accuracy(layer_0 - estimator_0 - 10_folds.test.predict)=92.50%\n",
      "[ 2018-03-26 20:25:46,089][cascade_classifier.calc_accuracy] Accuracy(layer_0 - train.classifier_average)=90.00%\n",
      "[ 2018-03-26 20:25:46,089][cascade_classifier.calc_accuracy] Accuracy(layer_0 - test.classifier_average)=92.50%\n",
      "[ 2018-03-26 20:25:46,090][cascade_classifier.fit_transform] [Result][Reach Max Layer] opt_layer_num=1, accuracy_train=90.00%, accuracy_test=92.50%\n",
      "[ 2018-03-26 20:25:46,091][cascade_classifier.transform] X_groups_test.shape=[(120, 4136)]\n",
      "[ 2018-03-26 20:25:46,092][cascade_classifier.transform] group_dims=[4136]\n",
      "[ 2018-03-26 20:25:46,093][cascade_classifier.transform] X_test.shape=(120, 4136)\n",
      "[ 2018-03-26 20:25:46,094][cascade_classifier.transform] [layer=0] look_indexs=[0], X_cur_test.shape=(120, 4136)\n",
      "[ 2018-03-26 20:25:48,438][cascade_classifier.fit_transform] X_groups_train.shape=[(280, 4136)],y_train.shape=(280,),X_groups_test.shape=[(120, 4136)],y_test.shape=(120,)\n",
      "[ 2018-03-26 20:25:48,459][cascade_classifier.fit_transform] group_dims=[4136]\n",
      "[ 2018-03-26 20:25:48,462][cascade_classifier.fit_transform] group_starts=[0]\n",
      "[ 2018-03-26 20:25:48,471][cascade_classifier.fit_transform] group_ends=[4136]\n",
      "[ 2018-03-26 20:25:48,473][cascade_classifier.fit_transform] X_train.shape=(280, 4136),X_test.shape=(120, 4136)\n",
      "[ 2018-03-26 20:25:48,479][cascade_classifier.fit_transform] [layer=0] look_indexs=[0], X_cur_train.shape=(280, 4136), X_cur_test.shape=(120, 4136)\n"
     ]
    },
    {
     "name": "stdout",
     "output_type": "stream",
     "text": [
      "('Test Accuracy of RandomForest = 92.500000 %', 12, 'fois')\n"
     ]
    },
    {
     "name": "stderr",
     "output_type": "stream",
     "text": [
      "[ 2018-03-26 20:25:50,456][kfold_wrapper.log_eval_metrics] Accuracy(layer_0 - estimator_0 - 10_folds.train_0.predict)=87.50%\n",
      "[ 2018-03-26 20:25:52,437][kfold_wrapper.log_eval_metrics] Accuracy(layer_0 - estimator_0 - 10_folds.train_1.predict)=94.44%\n",
      "[ 2018-03-26 20:25:54,480][kfold_wrapper.log_eval_metrics] Accuracy(layer_0 - estimator_0 - 10_folds.train_2.predict)=92.31%\n",
      "[ 2018-03-26 20:25:56,366][kfold_wrapper.log_eval_metrics] Accuracy(layer_0 - estimator_0 - 10_folds.train_3.predict)=90.91%\n",
      "[ 2018-03-26 20:25:58,270][kfold_wrapper.log_eval_metrics] Accuracy(layer_0 - estimator_0 - 10_folds.train_4.predict)=100.00%\n",
      "[ 2018-03-26 20:26:00,056][kfold_wrapper.log_eval_metrics] Accuracy(layer_0 - estimator_0 - 10_folds.train_5.predict)=94.44%\n",
      "[ 2018-03-26 20:26:01,803][kfold_wrapper.log_eval_metrics] Accuracy(layer_0 - estimator_0 - 10_folds.train_6.predict)=85.00%\n",
      "[ 2018-03-26 20:26:03,751][kfold_wrapper.log_eval_metrics] Accuracy(layer_0 - estimator_0 - 10_folds.train_7.predict)=90.00%\n",
      "[ 2018-03-26 20:26:05,731][kfold_wrapper.log_eval_metrics] Accuracy(layer_0 - estimator_0 - 10_folds.train_8.predict)=90.00%\n",
      "[ 2018-03-26 20:26:08,014][kfold_wrapper.log_eval_metrics] Accuracy(layer_0 - estimator_0 - 10_folds.train_9.predict)=100.00%\n",
      "[ 2018-03-26 20:26:08,214][kfold_wrapper.log_eval_metrics] Accuracy(layer_0 - estimator_0 - 10_folds.train_cv.predict)=90.36%\n",
      "[ 2018-03-26 20:26:08,216][kfold_wrapper.log_eval_metrics] Accuracy(layer_0 - estimator_0 - 10_folds.test.predict)=93.33%\n",
      "[ 2018-03-26 20:26:08,219][cascade_classifier.calc_accuracy] Accuracy(layer_0 - train.classifier_average)=90.36%\n",
      "[ 2018-03-26 20:26:08,222][cascade_classifier.calc_accuracy] Accuracy(layer_0 - test.classifier_average)=93.33%\n",
      "[ 2018-03-26 20:26:08,223][cascade_classifier.fit_transform] [Result][Reach Max Layer] opt_layer_num=1, accuracy_train=90.36%, accuracy_test=93.33%\n",
      "[ 2018-03-26 20:26:08,224][cascade_classifier.transform] X_groups_test.shape=[(120, 4136)]\n",
      "[ 2018-03-26 20:26:08,225][cascade_classifier.transform] group_dims=[4136]\n",
      "[ 2018-03-26 20:26:08,227][cascade_classifier.transform] X_test.shape=(120, 4136)\n",
      "[ 2018-03-26 20:26:08,228][cascade_classifier.transform] [layer=0] look_indexs=[0], X_cur_test.shape=(120, 4136)\n",
      "[ 2018-03-26 20:26:10,449][cascade_classifier.fit_transform] X_groups_train.shape=[(280, 4136)],y_train.shape=(280,),X_groups_test.shape=[(120, 4136)],y_test.shape=(120,)\n",
      "[ 2018-03-26 20:26:10,454][cascade_classifier.fit_transform] group_dims=[4136]\n",
      "[ 2018-03-26 20:26:10,479][cascade_classifier.fit_transform] group_starts=[0]\n",
      "[ 2018-03-26 20:26:10,481][cascade_classifier.fit_transform] group_ends=[4136]\n",
      "[ 2018-03-26 20:26:10,483][cascade_classifier.fit_transform] X_train.shape=(280, 4136),X_test.shape=(120, 4136)\n",
      "[ 2018-03-26 20:26:10,489][cascade_classifier.fit_transform] [layer=0] look_indexs=[0], X_cur_train.shape=(280, 4136), X_cur_test.shape=(120, 4136)\n"
     ]
    },
    {
     "name": "stdout",
     "output_type": "stream",
     "text": [
      "('Test Accuracy of RandomForest = 93.333333 %', 13, 'fois')\n"
     ]
    },
    {
     "name": "stderr",
     "output_type": "stream",
     "text": [
      "[ 2018-03-26 20:26:12,358][kfold_wrapper.log_eval_metrics] Accuracy(layer_0 - estimator_0 - 10_folds.train_0.predict)=87.50%\n",
      "[ 2018-03-26 20:26:14,544][kfold_wrapper.log_eval_metrics] Accuracy(layer_0 - estimator_0 - 10_folds.train_1.predict)=94.44%\n",
      "[ 2018-03-26 20:26:16,491][kfold_wrapper.log_eval_metrics] Accuracy(layer_0 - estimator_0 - 10_folds.train_2.predict)=92.31%\n",
      "[ 2018-03-26 20:26:18,342][kfold_wrapper.log_eval_metrics] Accuracy(layer_0 - estimator_0 - 10_folds.train_3.predict)=90.91%\n",
      "[ 2018-03-26 20:26:20,350][kfold_wrapper.log_eval_metrics] Accuracy(layer_0 - estimator_0 - 10_folds.train_4.predict)=100.00%\n",
      "[ 2018-03-26 20:26:22,219][kfold_wrapper.log_eval_metrics] Accuracy(layer_0 - estimator_0 - 10_folds.train_5.predict)=97.22%\n",
      "[ 2018-03-26 20:26:23,546][kfold_wrapper.log_eval_metrics] Accuracy(layer_0 - estimator_0 - 10_folds.train_6.predict)=82.50%\n",
      "[ 2018-03-26 20:26:25,285][kfold_wrapper.log_eval_metrics] Accuracy(layer_0 - estimator_0 - 10_folds.train_7.predict)=90.00%\n",
      "[ 2018-03-26 20:26:27,090][kfold_wrapper.log_eval_metrics] Accuracy(layer_0 - estimator_0 - 10_folds.train_8.predict)=90.00%\n",
      "[ 2018-03-26 20:26:29,277][kfold_wrapper.log_eval_metrics] Accuracy(layer_0 - estimator_0 - 10_folds.train_9.predict)=100.00%\n",
      "[ 2018-03-26 20:26:29,532][kfold_wrapper.log_eval_metrics] Accuracy(layer_0 - estimator_0 - 10_folds.train_cv.predict)=90.36%\n",
      "[ 2018-03-26 20:26:29,533][kfold_wrapper.log_eval_metrics] Accuracy(layer_0 - estimator_0 - 10_folds.test.predict)=93.33%\n",
      "[ 2018-03-26 20:26:29,536][cascade_classifier.calc_accuracy] Accuracy(layer_0 - train.classifier_average)=90.36%\n",
      "[ 2018-03-26 20:26:29,537][cascade_classifier.calc_accuracy] Accuracy(layer_0 - test.classifier_average)=93.33%\n",
      "[ 2018-03-26 20:26:29,538][cascade_classifier.fit_transform] [Result][Reach Max Layer] opt_layer_num=1, accuracy_train=90.36%, accuracy_test=93.33%\n",
      "[ 2018-03-26 20:26:29,539][cascade_classifier.transform] X_groups_test.shape=[(120, 4136)]\n",
      "[ 2018-03-26 20:26:29,540][cascade_classifier.transform] group_dims=[4136]\n",
      "[ 2018-03-26 20:26:29,540][cascade_classifier.transform] X_test.shape=(120, 4136)\n",
      "[ 2018-03-26 20:26:29,542][cascade_classifier.transform] [layer=0] look_indexs=[0], X_cur_test.shape=(120, 4136)\n",
      "[ 2018-03-26 20:26:31,792][cascade_classifier.fit_transform] X_groups_train.shape=[(280, 4136)],y_train.shape=(280,),X_groups_test.shape=[(120, 4136)],y_test.shape=(120,)\n",
      "[ 2018-03-26 20:26:31,819][cascade_classifier.fit_transform] group_dims=[4136]\n",
      "[ 2018-03-26 20:26:31,829][cascade_classifier.fit_transform] group_starts=[0]\n",
      "[ 2018-03-26 20:26:31,829][cascade_classifier.fit_transform] group_ends=[4136]\n",
      "[ 2018-03-26 20:26:31,830][cascade_classifier.fit_transform] X_train.shape=(280, 4136),X_test.shape=(120, 4136)\n",
      "[ 2018-03-26 20:26:31,835][cascade_classifier.fit_transform] [layer=0] look_indexs=[0], X_cur_train.shape=(280, 4136), X_cur_test.shape=(120, 4136)\n"
     ]
    },
    {
     "name": "stdout",
     "output_type": "stream",
     "text": [
      "('Test Accuracy of RandomForest = 93.333333 %', 14, 'fois')\n"
     ]
    },
    {
     "name": "stderr",
     "output_type": "stream",
     "text": [
      "[ 2018-03-26 20:26:33,629][kfold_wrapper.log_eval_metrics] Accuracy(layer_0 - estimator_0 - 10_folds.train_0.predict)=87.50%\n",
      "[ 2018-03-26 20:26:35,199][kfold_wrapper.log_eval_metrics] Accuracy(layer_0 - estimator_0 - 10_folds.train_1.predict)=88.89%\n",
      "[ 2018-03-26 20:26:37,240][kfold_wrapper.log_eval_metrics] Accuracy(layer_0 - estimator_0 - 10_folds.train_2.predict)=92.31%\n",
      "[ 2018-03-26 20:26:39,212][kfold_wrapper.log_eval_metrics] Accuracy(layer_0 - estimator_0 - 10_folds.train_3.predict)=87.88%\n",
      "[ 2018-03-26 20:26:41,288][kfold_wrapper.log_eval_metrics] Accuracy(layer_0 - estimator_0 - 10_folds.train_4.predict)=100.00%\n",
      "[ 2018-03-26 20:26:43,474][kfold_wrapper.log_eval_metrics] Accuracy(layer_0 - estimator_0 - 10_folds.train_5.predict)=97.22%\n",
      "[ 2018-03-26 20:26:45,288][kfold_wrapper.log_eval_metrics] Accuracy(layer_0 - estimator_0 - 10_folds.train_6.predict)=85.00%\n",
      "[ 2018-03-26 20:26:47,242][kfold_wrapper.log_eval_metrics] Accuracy(layer_0 - estimator_0 - 10_folds.train_7.predict)=90.00%\n",
      "[ 2018-03-26 20:26:49,359][kfold_wrapper.log_eval_metrics] Accuracy(layer_0 - estimator_0 - 10_folds.train_8.predict)=87.50%\n",
      "[ 2018-03-26 20:26:51,692][kfold_wrapper.log_eval_metrics] Accuracy(layer_0 - estimator_0 - 10_folds.train_9.predict)=100.00%\n",
      "[ 2018-03-26 20:26:51,895][kfold_wrapper.log_eval_metrics] Accuracy(layer_0 - estimator_0 - 10_folds.train_cv.predict)=89.64%\n",
      "[ 2018-03-26 20:26:51,898][kfold_wrapper.log_eval_metrics] Accuracy(layer_0 - estimator_0 - 10_folds.test.predict)=93.33%\n",
      "[ 2018-03-26 20:26:51,901][cascade_classifier.calc_accuracy] Accuracy(layer_0 - train.classifier_average)=89.64%\n",
      "[ 2018-03-26 20:26:51,904][cascade_classifier.calc_accuracy] Accuracy(layer_0 - test.classifier_average)=93.33%\n",
      "[ 2018-03-26 20:26:51,905][cascade_classifier.fit_transform] [Result][Reach Max Layer] opt_layer_num=1, accuracy_train=89.64%, accuracy_test=93.33%\n",
      "[ 2018-03-26 20:26:51,906][cascade_classifier.transform] X_groups_test.shape=[(120, 4136)]\n",
      "[ 2018-03-26 20:26:51,907][cascade_classifier.transform] group_dims=[4136]\n",
      "[ 2018-03-26 20:26:51,909][cascade_classifier.transform] X_test.shape=(120, 4136)\n",
      "[ 2018-03-26 20:26:51,911][cascade_classifier.transform] [layer=0] look_indexs=[0], X_cur_test.shape=(120, 4136)\n",
      "[ 2018-03-26 20:26:54,053][cascade_classifier.fit_transform] X_groups_train.shape=[(280, 4136)],y_train.shape=(280,),X_groups_test.shape=[(120, 4136)],y_test.shape=(120,)\n",
      "[ 2018-03-26 20:26:54,057][cascade_classifier.fit_transform] group_dims=[4136]\n",
      "[ 2018-03-26 20:26:54,057][cascade_classifier.fit_transform] group_starts=[0]\n",
      "[ 2018-03-26 20:26:54,058][cascade_classifier.fit_transform] group_ends=[4136]\n",
      "[ 2018-03-26 20:26:54,059][cascade_classifier.fit_transform] X_train.shape=(280, 4136),X_test.shape=(120, 4136)\n",
      "[ 2018-03-26 20:26:54,063][cascade_classifier.fit_transform] [layer=0] look_indexs=[0], X_cur_train.shape=(280, 4136), X_cur_test.shape=(120, 4136)\n"
     ]
    },
    {
     "name": "stdout",
     "output_type": "stream",
     "text": [
      "('Test Accuracy of RandomForest = 93.333333 %', 15, 'fois')\n"
     ]
    },
    {
     "name": "stderr",
     "output_type": "stream",
     "text": [
      "[ 2018-03-26 20:26:55,733][kfold_wrapper.log_eval_metrics] Accuracy(layer_0 - estimator_0 - 10_folds.train_0.predict)=87.50%\n",
      "[ 2018-03-26 20:26:57,590][kfold_wrapper.log_eval_metrics] Accuracy(layer_0 - estimator_0 - 10_folds.train_1.predict)=94.44%\n",
      "[ 2018-03-26 20:26:59,605][kfold_wrapper.log_eval_metrics] Accuracy(layer_0 - estimator_0 - 10_folds.train_2.predict)=92.31%\n",
      "[ 2018-03-26 20:27:01,731][kfold_wrapper.log_eval_metrics] Accuracy(layer_0 - estimator_0 - 10_folds.train_3.predict)=90.91%\n",
      "[ 2018-03-26 20:27:04,166][kfold_wrapper.log_eval_metrics] Accuracy(layer_0 - estimator_0 - 10_folds.train_4.predict)=100.00%\n",
      "[ 2018-03-26 20:27:06,011][kfold_wrapper.log_eval_metrics] Accuracy(layer_0 - estimator_0 - 10_folds.train_5.predict)=97.22%\n",
      "[ 2018-03-26 20:27:07,779][kfold_wrapper.log_eval_metrics] Accuracy(layer_0 - estimator_0 - 10_folds.train_6.predict)=87.50%\n",
      "[ 2018-03-26 20:27:09,833][kfold_wrapper.log_eval_metrics] Accuracy(layer_0 - estimator_0 - 10_folds.train_7.predict)=87.50%\n",
      "[ 2018-03-26 20:27:11,841][kfold_wrapper.log_eval_metrics] Accuracy(layer_0 - estimator_0 - 10_folds.train_8.predict)=90.00%\n",
      "[ 2018-03-26 20:27:14,014][kfold_wrapper.log_eval_metrics] Accuracy(layer_0 - estimator_0 - 10_folds.train_9.predict)=100.00%\n",
      "[ 2018-03-26 20:27:14,189][kfold_wrapper.log_eval_metrics] Accuracy(layer_0 - estimator_0 - 10_folds.train_cv.predict)=90.71%\n",
      "[ 2018-03-26 20:27:14,192][kfold_wrapper.log_eval_metrics] Accuracy(layer_0 - estimator_0 - 10_folds.test.predict)=93.33%\n",
      "[ 2018-03-26 20:27:14,195][cascade_classifier.calc_accuracy] Accuracy(layer_0 - train.classifier_average)=90.71%\n",
      "[ 2018-03-26 20:27:14,198][cascade_classifier.calc_accuracy] Accuracy(layer_0 - test.classifier_average)=93.33%\n",
      "[ 2018-03-26 20:27:14,199][cascade_classifier.fit_transform] [Result][Reach Max Layer] opt_layer_num=1, accuracy_train=90.71%, accuracy_test=93.33%\n",
      "[ 2018-03-26 20:27:14,199][cascade_classifier.transform] X_groups_test.shape=[(120, 4136)]\n",
      "[ 2018-03-26 20:27:14,201][cascade_classifier.transform] group_dims=[4136]\n",
      "[ 2018-03-26 20:27:14,203][cascade_classifier.transform] X_test.shape=(120, 4136)\n",
      "[ 2018-03-26 20:27:14,204][cascade_classifier.transform] [layer=0] look_indexs=[0], X_cur_test.shape=(120, 4136)\n",
      "[ 2018-03-26 20:27:16,256][cascade_classifier.fit_transform] X_groups_train.shape=[(280, 4136)],y_train.shape=(280,),X_groups_test.shape=[(120, 4136)],y_test.shape=(120,)\n",
      "[ 2018-03-26 20:27:16,280][cascade_classifier.fit_transform] group_dims=[4136]\n",
      "[ 2018-03-26 20:27:16,293][cascade_classifier.fit_transform] group_starts=[0]\n",
      "[ 2018-03-26 20:27:16,294][cascade_classifier.fit_transform] group_ends=[4136]\n",
      "[ 2018-03-26 20:27:16,295][cascade_classifier.fit_transform] X_train.shape=(280, 4136),X_test.shape=(120, 4136)\n",
      "[ 2018-03-26 20:27:16,299][cascade_classifier.fit_transform] [layer=0] look_indexs=[0], X_cur_train.shape=(280, 4136), X_cur_test.shape=(120, 4136)\n"
     ]
    },
    {
     "name": "stdout",
     "output_type": "stream",
     "text": [
      "('Test Accuracy of RandomForest = 93.333333 %', 16, 'fois')\n"
     ]
    },
    {
     "name": "stderr",
     "output_type": "stream",
     "text": [
      "[ 2018-03-26 20:27:17,974][kfold_wrapper.log_eval_metrics] Accuracy(layer_0 - estimator_0 - 10_folds.train_0.predict)=87.50%\n",
      "[ 2018-03-26 20:27:19,941][kfold_wrapper.log_eval_metrics] Accuracy(layer_0 - estimator_0 - 10_folds.train_1.predict)=94.44%\n",
      "[ 2018-03-26 20:27:22,111][kfold_wrapper.log_eval_metrics] Accuracy(layer_0 - estimator_0 - 10_folds.train_2.predict)=92.31%\n",
      "[ 2018-03-26 20:27:24,182][kfold_wrapper.log_eval_metrics] Accuracy(layer_0 - estimator_0 - 10_folds.train_3.predict)=90.91%\n",
      "[ 2018-03-26 20:27:26,523][kfold_wrapper.log_eval_metrics] Accuracy(layer_0 - estimator_0 - 10_folds.train_4.predict)=100.00%\n",
      "[ 2018-03-26 20:27:28,497][kfold_wrapper.log_eval_metrics] Accuracy(layer_0 - estimator_0 - 10_folds.train_5.predict)=97.22%\n",
      "[ 2018-03-26 20:27:30,022][kfold_wrapper.log_eval_metrics] Accuracy(layer_0 - estimator_0 - 10_folds.train_6.predict)=85.00%\n",
      "[ 2018-03-26 20:27:31,653][kfold_wrapper.log_eval_metrics] Accuracy(layer_0 - estimator_0 - 10_folds.train_7.predict)=87.50%\n",
      "[ 2018-03-26 20:27:33,256][kfold_wrapper.log_eval_metrics] Accuracy(layer_0 - estimator_0 - 10_folds.train_8.predict)=87.50%\n",
      "[ 2018-03-26 20:27:35,712][kfold_wrapper.log_eval_metrics] Accuracy(layer_0 - estimator_0 - 10_folds.train_9.predict)=100.00%\n",
      "[ 2018-03-26 20:27:35,934][kfold_wrapper.log_eval_metrics] Accuracy(layer_0 - estimator_0 - 10_folds.train_cv.predict)=90.00%\n",
      "[ 2018-03-26 20:27:35,935][kfold_wrapper.log_eval_metrics] Accuracy(layer_0 - estimator_0 - 10_folds.test.predict)=93.33%\n",
      "[ 2018-03-26 20:27:35,938][cascade_classifier.calc_accuracy] Accuracy(layer_0 - train.classifier_average)=90.00%\n",
      "[ 2018-03-26 20:27:35,939][cascade_classifier.calc_accuracy] Accuracy(layer_0 - test.classifier_average)=93.33%\n",
      "[ 2018-03-26 20:27:35,940][cascade_classifier.fit_transform] [Result][Reach Max Layer] opt_layer_num=1, accuracy_train=90.00%, accuracy_test=93.33%\n",
      "[ 2018-03-26 20:27:35,940][cascade_classifier.transform] X_groups_test.shape=[(120, 4136)]\n",
      "[ 2018-03-26 20:27:35,942][cascade_classifier.transform] group_dims=[4136]\n",
      "[ 2018-03-26 20:27:35,943][cascade_classifier.transform] X_test.shape=(120, 4136)\n",
      "[ 2018-03-26 20:27:35,944][cascade_classifier.transform] [layer=0] look_indexs=[0], X_cur_test.shape=(120, 4136)\n",
      "[ 2018-03-26 20:27:38,090][cascade_classifier.fit_transform] X_groups_train.shape=[(280, 4136)],y_train.shape=(280,),X_groups_test.shape=[(120, 4136)],y_test.shape=(120,)\n",
      "[ 2018-03-26 20:27:38,104][cascade_classifier.fit_transform] group_dims=[4136]\n",
      "[ 2018-03-26 20:27:38,109][cascade_classifier.fit_transform] group_starts=[0]\n",
      "[ 2018-03-26 20:27:38,112][cascade_classifier.fit_transform] group_ends=[4136]\n",
      "[ 2018-03-26 20:27:38,113][cascade_classifier.fit_transform] X_train.shape=(280, 4136),X_test.shape=(120, 4136)\n",
      "[ 2018-03-26 20:27:38,118][cascade_classifier.fit_transform] [layer=0] look_indexs=[0], X_cur_train.shape=(280, 4136), X_cur_test.shape=(120, 4136)\n"
     ]
    },
    {
     "name": "stdout",
     "output_type": "stream",
     "text": [
      "('Test Accuracy of RandomForest = 93.333333 %', 17, 'fois')\n"
     ]
    },
    {
     "name": "stderr",
     "output_type": "stream",
     "text": [
      "[ 2018-03-26 20:27:40,019][kfold_wrapper.log_eval_metrics] Accuracy(layer_0 - estimator_0 - 10_folds.train_0.predict)=87.50%\n",
      "[ 2018-03-26 20:27:42,007][kfold_wrapper.log_eval_metrics] Accuracy(layer_0 - estimator_0 - 10_folds.train_1.predict)=94.44%\n",
      "[ 2018-03-26 20:27:43,979][kfold_wrapper.log_eval_metrics] Accuracy(layer_0 - estimator_0 - 10_folds.train_2.predict)=92.31%\n",
      "[ 2018-03-26 20:27:45,998][kfold_wrapper.log_eval_metrics] Accuracy(layer_0 - estimator_0 - 10_folds.train_3.predict)=84.85%\n",
      "[ 2018-03-26 20:27:47,986][kfold_wrapper.log_eval_metrics] Accuracy(layer_0 - estimator_0 - 10_folds.train_4.predict)=100.00%\n",
      "[ 2018-03-26 20:27:49,906][kfold_wrapper.log_eval_metrics] Accuracy(layer_0 - estimator_0 - 10_folds.train_5.predict)=97.22%\n",
      "[ 2018-03-26 20:27:51,691][kfold_wrapper.log_eval_metrics] Accuracy(layer_0 - estimator_0 - 10_folds.train_6.predict)=82.50%\n",
      "[ 2018-03-26 20:27:53,513][kfold_wrapper.log_eval_metrics] Accuracy(layer_0 - estimator_0 - 10_folds.train_7.predict)=87.50%\n",
      "[ 2018-03-26 20:27:55,509][kfold_wrapper.log_eval_metrics] Accuracy(layer_0 - estimator_0 - 10_folds.train_8.predict)=90.00%\n",
      "[ 2018-03-26 20:27:57,626][kfold_wrapper.log_eval_metrics] Accuracy(layer_0 - estimator_0 - 10_folds.train_9.predict)=100.00%\n",
      "[ 2018-03-26 20:27:57,804][kfold_wrapper.log_eval_metrics] Accuracy(layer_0 - estimator_0 - 10_folds.train_cv.predict)=89.29%\n",
      "[ 2018-03-26 20:27:57,807][kfold_wrapper.log_eval_metrics] Accuracy(layer_0 - estimator_0 - 10_folds.test.predict)=93.33%\n",
      "[ 2018-03-26 20:27:57,810][cascade_classifier.calc_accuracy] Accuracy(layer_0 - train.classifier_average)=89.29%\n",
      "[ 2018-03-26 20:27:57,813][cascade_classifier.calc_accuracy] Accuracy(layer_0 - test.classifier_average)=93.33%\n",
      "[ 2018-03-26 20:27:57,814][cascade_classifier.fit_transform] [Result][Reach Max Layer] opt_layer_num=1, accuracy_train=89.29%, accuracy_test=93.33%\n",
      "[ 2018-03-26 20:27:57,815][cascade_classifier.transform] X_groups_test.shape=[(120, 4136)]\n",
      "[ 2018-03-26 20:27:57,816][cascade_classifier.transform] group_dims=[4136]\n",
      "[ 2018-03-26 20:27:57,817][cascade_classifier.transform] X_test.shape=(120, 4136)\n",
      "[ 2018-03-26 20:27:57,819][cascade_classifier.transform] [layer=0] look_indexs=[0], X_cur_test.shape=(120, 4136)\n",
      "[ 2018-03-26 20:28:00,308][cascade_classifier.fit_transform] X_groups_train.shape=[(280, 4136)],y_train.shape=(280,),X_groups_test.shape=[(120, 4136)],y_test.shape=(120,)\n",
      "[ 2018-03-26 20:28:00,319][cascade_classifier.fit_transform] group_dims=[4136]\n",
      "[ 2018-03-26 20:28:00,333][cascade_classifier.fit_transform] group_starts=[0]\n",
      "[ 2018-03-26 20:28:00,334][cascade_classifier.fit_transform] group_ends=[4136]\n",
      "[ 2018-03-26 20:28:00,336][cascade_classifier.fit_transform] X_train.shape=(280, 4136),X_test.shape=(120, 4136)\n",
      "[ 2018-03-26 20:28:00,342][cascade_classifier.fit_transform] [layer=0] look_indexs=[0], X_cur_train.shape=(280, 4136), X_cur_test.shape=(120, 4136)\n"
     ]
    },
    {
     "name": "stdout",
     "output_type": "stream",
     "text": [
      "('Test Accuracy of RandomForest = 93.333333 %', 18, 'fois')\n"
     ]
    },
    {
     "name": "stderr",
     "output_type": "stream",
     "text": [
      "[ 2018-03-26 20:28:02,155][kfold_wrapper.log_eval_metrics] Accuracy(layer_0 - estimator_0 - 10_folds.train_0.predict)=87.50%\n",
      "[ 2018-03-26 20:28:04,169][kfold_wrapper.log_eval_metrics] Accuracy(layer_0 - estimator_0 - 10_folds.train_1.predict)=88.89%\n",
      "[ 2018-03-26 20:28:05,999][kfold_wrapper.log_eval_metrics] Accuracy(layer_0 - estimator_0 - 10_folds.train_2.predict)=92.31%\n",
      "[ 2018-03-26 20:28:07,952][kfold_wrapper.log_eval_metrics] Accuracy(layer_0 - estimator_0 - 10_folds.train_3.predict)=90.91%\n",
      "[ 2018-03-26 20:28:10,113][kfold_wrapper.log_eval_metrics] Accuracy(layer_0 - estimator_0 - 10_folds.train_4.predict)=100.00%\n",
      "[ 2018-03-26 20:28:12,228][kfold_wrapper.log_eval_metrics] Accuracy(layer_0 - estimator_0 - 10_folds.train_5.predict)=97.22%\n",
      "[ 2018-03-26 20:28:14,181][kfold_wrapper.log_eval_metrics] Accuracy(layer_0 - estimator_0 - 10_folds.train_6.predict)=80.00%\n",
      "[ 2018-03-26 20:28:16,415][kfold_wrapper.log_eval_metrics] Accuracy(layer_0 - estimator_0 - 10_folds.train_7.predict)=87.50%\n",
      "[ 2018-03-26 20:28:18,182][kfold_wrapper.log_eval_metrics] Accuracy(layer_0 - estimator_0 - 10_folds.train_8.predict)=87.50%\n",
      "[ 2018-03-26 20:28:20,371][kfold_wrapper.log_eval_metrics] Accuracy(layer_0 - estimator_0 - 10_folds.train_9.predict)=100.00%\n",
      "[ 2018-03-26 20:28:20,573][kfold_wrapper.log_eval_metrics] Accuracy(layer_0 - estimator_0 - 10_folds.train_cv.predict)=88.93%\n",
      "[ 2018-03-26 20:28:20,575][kfold_wrapper.log_eval_metrics] Accuracy(layer_0 - estimator_0 - 10_folds.test.predict)=93.33%\n",
      "[ 2018-03-26 20:28:20,581][cascade_classifier.calc_accuracy] Accuracy(layer_0 - train.classifier_average)=88.93%\n",
      "[ 2018-03-26 20:28:20,584][cascade_classifier.calc_accuracy] Accuracy(layer_0 - test.classifier_average)=93.33%\n",
      "[ 2018-03-26 20:28:20,585][cascade_classifier.fit_transform] [Result][Reach Max Layer] opt_layer_num=1, accuracy_train=88.93%, accuracy_test=93.33%\n",
      "[ 2018-03-26 20:28:20,586][cascade_classifier.transform] X_groups_test.shape=[(120, 4136)]\n",
      "[ 2018-03-26 20:28:20,588][cascade_classifier.transform] group_dims=[4136]\n",
      "[ 2018-03-26 20:28:20,591][cascade_classifier.transform] X_test.shape=(120, 4136)\n",
      "[ 2018-03-26 20:28:20,593][cascade_classifier.transform] [layer=0] look_indexs=[0], X_cur_test.shape=(120, 4136)\n"
     ]
    },
    {
     "name": "stdout",
     "output_type": "stream",
     "text": [
      "('Test Accuracy of RandomForest = 93.333333 %', 19, 'fois')\n"
     ]
    }
   ],
   "source": [
    "# Deep\n",
    "for i in range (20):\n",
    "    X_train,X_test=update(X_train,X_test)\n",
    "    X_test_enc, X_train_enc=newdata(X_test_enc, X_train_enc)\n",
    "\n",
    "    X_train=X_train_enc\n",
    "    X_test=X_test_enc \n",
    "    X_train_enc, X_test_enc = gc.fit_transform(X_train, y_train, X_test=X_test, y_test=y_test)\n",
    "    affiche()"
   ]
  },
  {
   "cell_type": "code",
   "execution_count": null,
   "metadata": {
    "collapsed": true
   },
   "outputs": [],
   "source": []
  },
  {
   "cell_type": "markdown",
   "metadata": {
    "collapsed": true
   },
   "source": [
    "# ('Test Accuracy of RandomForest = 94.166667 %', 10, 'fois')"
   ]
  },
  {
   "cell_type": "code",
   "execution_count": null,
   "metadata": {
    "collapsed": true
   },
   "outputs": [],
   "source": []
  }
 ],
 "metadata": {
  "kernelspec": {
   "display_name": "Python 2",
   "language": "python",
   "name": "python2"
  },
  "language_info": {
   "codemirror_mode": {
    "name": "ipython",
    "version": 2
   },
   "file_extension": ".py",
   "mimetype": "text/x-python",
   "name": "python",
   "nbconvert_exporter": "python",
   "pygments_lexer": "ipython2",
   "version": "2.7.13"
  }
 },
 "nbformat": 4,
 "nbformat_minor": 2
}

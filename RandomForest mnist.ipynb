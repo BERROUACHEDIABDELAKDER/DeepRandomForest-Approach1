{
 "cells": [
  {
   "cell_type": "code",
   "execution_count": 1,
   "metadata": {
    "collapsed": true
   },
   "outputs": [],
   "source": [
    "#  imports \n",
    "import numpy as np\n",
    "import pandas as pd\n",
    "from math import sqrt \n",
    "from pprint import pprint\n",
    "from numpy import array"
   ]
  },
  {
   "cell_type": "code",
   "execution_count": 2,
   "metadata": {},
   "outputs": [
    {
     "name": "stderr",
     "output_type": "stream",
     "text": [
      "Using TensorFlow backend.\n"
     ]
    }
   ],
   "source": [
    "# load data\n",
    "from keras.datasets import mnist\n",
    "(X_train, y_train), (X_test, y_test) = mnist.load_data()"
   ]
  },
  {
   "cell_type": "code",
   "execution_count": null,
   "metadata": {
    "collapsed": true
   },
   "outputs": [],
   "source": [
    "X_train = np.reshape(X_train, (X_train.shape[0], -1))\n",
    "X_test = np.reshape(X_test, (X_test.shape[0], -1))"
   ]
  },
  {
   "cell_type": "code",
   "execution_count": null,
   "metadata": {
    "collapsed": true
   },
   "outputs": [],
   "source": [
    "# Deep RandomForest\n",
    "import argparse\n",
    "import numpy as np\n",
    "import sys\n",
    "import pickle\n",
    "from sklearn.metrics import accuracy_score\n",
    "sys.path.insert(0, \"lib\")\n",
    "from gcforest.gcforest import GCForest\n",
    "from gcforest.utils.config_utils import load_json\n",
    "config = load_json(\"./examples/mnist.json\")  \n",
    "gc = GCForest(config)"
   ]
  },
  {
   "cell_type": "code",
   "execution_count": null,
   "metadata": {},
   "outputs": [
    {
     "data": {
      "text/plain": [
       "10"
      ]
     },
     "execution_count": 6,
     "metadata": {},
     "output_type": "execute_result"
    }
   ],
   "source": [
    "# count class\n",
    "len(np.unique(y_train))"
   ]
  },
  {
   "cell_type": "code",
   "execution_count": null,
   "metadata": {},
   "outputs": [
    {
     "name": "stderr",
     "output_type": "stream",
     "text": [
      "[ 2018-03-26 23:16:53,234][cascade_classifier.fit_transform] X_groups_train.shape=[(60000, 784)],y_train.shape=(60000,),X_groups_test.shape=[(10000, 784)],y_test.shape=(10000,)\n",
      "[ 2018-03-26 23:16:53,421][cascade_classifier.fit_transform] group_dims=[784]\n",
      "[ 2018-03-26 23:16:53,422][cascade_classifier.fit_transform] group_starts=[0]\n",
      "[ 2018-03-26 23:16:53,444][cascade_classifier.fit_transform] group_ends=[784]\n",
      "[ 2018-03-26 23:16:53,445][cascade_classifier.fit_transform] X_train.shape=(60000, 784),X_test.shape=(10000, 784)\n",
      "[ 2018-03-26 23:16:53,863][cascade_classifier.fit_transform] [layer=0] look_indexs=[0], X_cur_train.shape=(60000, 784), X_cur_test.shape=(10000, 784)\n",
      "[ 2018-03-26 23:17:52,973][kfold_wrapper.log_eval_metrics] Accuracy(layer_0 - estimator_0 - 10_folds.train_0.predict)=96.80%\n",
      "[ 2018-03-26 23:18:55,842][kfold_wrapper.log_eval_metrics] Accuracy(layer_0 - estimator_0 - 10_folds.train_1.predict)=96.64%\n",
      "[ 2018-03-26 23:20:23,957][kfold_wrapper.log_eval_metrics] Accuracy(layer_0 - estimator_0 - 10_folds.train_2.predict)=97.55%\n",
      "[ 2018-03-26 23:21:38,092][kfold_wrapper.log_eval_metrics] Accuracy(layer_0 - estimator_0 - 10_folds.train_3.predict)=96.70%\n",
      "[ 2018-03-26 23:23:06,031][kfold_wrapper.log_eval_metrics] Accuracy(layer_0 - estimator_0 - 10_folds.train_4.predict)=96.92%\n",
      "[ 2018-03-26 23:24:31,726][kfold_wrapper.log_eval_metrics] Accuracy(layer_0 - estimator_0 - 10_folds.train_5.predict)=96.75%\n",
      "[ 2018-03-26 23:25:57,108][kfold_wrapper.log_eval_metrics] Accuracy(layer_0 - estimator_0 - 10_folds.train_6.predict)=96.70%\n",
      "[ 2018-03-26 23:27:22,050][kfold_wrapper.log_eval_metrics] Accuracy(layer_0 - estimator_0 - 10_folds.train_7.predict)=96.85%\n",
      "[ 2018-03-26 23:28:40,498][kfold_wrapper.log_eval_metrics] Accuracy(layer_0 - estimator_0 - 10_folds.train_8.predict)=96.93%\n",
      "[ 2018-03-26 23:29:56,522][kfold_wrapper.log_eval_metrics] Accuracy(layer_0 - estimator_0 - 10_folds.train_9.predict)=96.73%\n",
      "[ 2018-03-26 23:29:58,296][kfold_wrapper.log_eval_metrics] Accuracy(layer_0 - estimator_0 - 10_folds.train_cv.predict)=96.86%\n",
      "[ 2018-03-26 23:29:58,300][kfold_wrapper.log_eval_metrics] Accuracy(layer_0 - estimator_0 - 10_folds.test.predict)=97.04%\n",
      "[ 2018-03-26 23:29:58,416][cascade_classifier.calc_accuracy] Accuracy(layer_0 - train.classifier_average)=96.86%\n",
      "[ 2018-03-26 23:29:58,440][cascade_classifier.calc_accuracy] Accuracy(layer_0 - test.classifier_average)=97.04%\n",
      "[ 2018-03-26 23:29:58,443][cascade_classifier.fit_transform] [Result][Reach Max Layer] opt_layer_num=1, accuracy_train=96.86%, accuracy_test=97.04%\n"
     ]
    }
   ],
   "source": [
    "       # X_enc is the concatenated predict_proba result of RandomForest\n",
    "\n",
    "X_train_enc, X_test_enc = gc.fit_transform(X_train, y_train, X_test=X_test, y_test=y_test)\n",
    "   "
   ]
  },
  {
   "cell_type": "code",
   "execution_count": null,
   "metadata": {},
   "outputs": [
    {
     "name": "stderr",
     "output_type": "stream",
     "text": [
      "[ 2018-03-26 23:29:58,487][cascade_classifier.transform] X_groups_test.shape=[(10000, 784)]\n",
      "[ 2018-03-26 23:29:58,511][cascade_classifier.transform] group_dims=[784]\n",
      "[ 2018-03-26 23:29:58,512][cascade_classifier.transform] X_test.shape=(10000, 784)\n",
      "[ 2018-03-26 23:29:58,675][cascade_classifier.transform] [layer=0] look_indexs=[0], X_cur_test.shape=(10000, 784)\n"
     ]
    },
    {
     "name": "stdout",
     "output_type": "stream",
     "text": [
      "Test Accuracy of RandomForest = 97.040000 %\n"
     ]
    }
   ],
   "source": [
    "# predict\n",
    "y_pred = gc.predict(X_test)\n",
    "acc = accuracy_score(y_test, y_pred)\n",
    "print(\"Test Accuracy of RandomForest = {:.6f} %\".format(acc * 100))"
   ]
  },
  {
   "cell_type": "code",
   "execution_count": null,
   "metadata": {},
   "outputs": [
    {
     "name": "stderr",
     "output_type": "stream",
     "text": [
      "[ 2018-03-26 23:30:12,669][cascade_classifier.transform] X_groups_test.shape=[(10000, 784)]\n",
      "[ 2018-03-26 23:30:12,717][cascade_classifier.transform] group_dims=[784]\n",
      "[ 2018-03-26 23:30:12,717][cascade_classifier.transform] X_test.shape=(10000, 784)\n",
      "[ 2018-03-26 23:30:12,763][cascade_classifier.transform] [layer=0] look_indexs=[0], X_cur_test.shape=(10000, 784)\n"
     ]
    }
   ],
   "source": [
    "# predict_proba result of RandomForest + data\n",
    "X_test_enc = gc.transform(X_test)\n",
    "X_train_enc = X_train_enc.reshape((X_train_enc.shape[0], -1))\n",
    "X_test_enc = X_test_enc.reshape((X_test_enc.shape[0], -1))\n",
    "X_train_origin = X_train.reshape((X_train.shape[0], -1))\n",
    "X_test_origin = X_test.reshape((X_test.shape[0], -1))\n",
    "X_train_enc = np.hstack((X_train_origin, X_train_enc))\n",
    "X_test_enc = np.hstack((X_test_origin, X_test_enc))"
   ]
  },
  {
   "cell_type": "code",
   "execution_count": null,
   "metadata": {},
   "outputs": [
    {
     "name": "stderr",
     "output_type": "stream",
     "text": [
      "[ 2018-03-26 23:30:27,152][cascade_classifier.fit_transform] X_groups_train.shape=[(60000, 794)],y_train.shape=(60000,),X_groups_test.shape=[(10000, 794)],y_test.shape=(10000,)\n",
      "[ 2018-03-26 23:30:28,205][cascade_classifier.fit_transform] group_dims=[794]\n",
      "[ 2018-03-26 23:30:28,206][cascade_classifier.fit_transform] group_starts=[0]\n",
      "[ 2018-03-26 23:30:28,207][cascade_classifier.fit_transform] group_ends=[794]\n",
      "[ 2018-03-26 23:30:28,207][cascade_classifier.fit_transform] X_train.shape=(60000, 794),X_test.shape=(10000, 794)\n",
      "[ 2018-03-26 23:30:29,330][cascade_classifier.fit_transform] [layer=0] look_indexs=[0], X_cur_train.shape=(60000, 794), X_cur_test.shape=(10000, 794)\n",
      "[ 2018-03-26 23:31:50,389][kfold_wrapper.log_eval_metrics] Accuracy(layer_0 - estimator_0 - 10_folds.train_0.predict)=97.42%\n",
      "[ 2018-03-26 23:33:11,828][kfold_wrapper.log_eval_metrics] Accuracy(layer_0 - estimator_0 - 10_folds.train_1.predict)=97.22%\n",
      "[ 2018-03-26 23:34:35,460][kfold_wrapper.log_eval_metrics] Accuracy(layer_0 - estimator_0 - 10_folds.train_2.predict)=97.90%\n",
      "[ 2018-03-26 23:35:53,908][kfold_wrapper.log_eval_metrics] Accuracy(layer_0 - estimator_0 - 10_folds.train_3.predict)=97.10%\n",
      "[ 2018-03-26 23:37:17,144][kfold_wrapper.log_eval_metrics] Accuracy(layer_0 - estimator_0 - 10_folds.train_4.predict)=97.45%\n",
      "[ 2018-03-26 23:38:42,019][kfold_wrapper.log_eval_metrics] Accuracy(layer_0 - estimator_0 - 10_folds.train_5.predict)=97.32%\n",
      "[ 2018-03-26 23:40:08,379][kfold_wrapper.log_eval_metrics] Accuracy(layer_0 - estimator_0 - 10_folds.train_6.predict)=97.35%\n",
      "[ 2018-03-26 23:41:32,092][kfold_wrapper.log_eval_metrics] Accuracy(layer_0 - estimator_0 - 10_folds.train_7.predict)=97.15%\n",
      "[ 2018-03-26 23:42:52,641][kfold_wrapper.log_eval_metrics] Accuracy(layer_0 - estimator_0 - 10_folds.train_8.predict)=97.33%\n",
      "[ 2018-03-26 23:44:12,064][kfold_wrapper.log_eval_metrics] Accuracy(layer_0 - estimator_0 - 10_folds.train_9.predict)=97.11%\n",
      "[ 2018-03-26 23:44:13,478][kfold_wrapper.log_eval_metrics] Accuracy(layer_0 - estimator_0 - 10_folds.train_cv.predict)=97.34%\n",
      "[ 2018-03-26 23:44:13,495][kfold_wrapper.log_eval_metrics] Accuracy(layer_0 - estimator_0 - 10_folds.test.predict)=97.55%\n",
      "[ 2018-03-26 23:44:13,701][cascade_classifier.calc_accuracy] Accuracy(layer_0 - train.classifier_average)=97.33%\n",
      "[ 2018-03-26 23:44:13,707][cascade_classifier.calc_accuracy] Accuracy(layer_0 - test.classifier_average)=97.55%\n",
      "[ 2018-03-26 23:44:13,708][cascade_classifier.fit_transform] [Result][Reach Max Layer] opt_layer_num=1, accuracy_train=97.33%, accuracy_test=97.55%\n"
     ]
    }
   ],
   "source": [
    "# new data\n",
    "X_train=X_train_enc\n",
    "X_test=X_test_enc \n",
    "X_train_enc, X_test_enc = gc.fit_transform(X_train, y_train, X_test=X_test, y_test=y_test)"
   ]
  },
  {
   "cell_type": "code",
   "execution_count": null,
   "metadata": {},
   "outputs": [
    {
     "name": "stdout",
     "output_type": "stream",
     "text": [
      "X_train_enc.shape=(60000, 10), X_test_enc.shape=(10000, 10)\n"
     ]
    }
   ],
   "source": [
    "print(\"X_train_enc.shape={}, X_test_enc.shape={}\".format(X_train_enc.shape, X_test_enc.shape))"
   ]
  },
  {
   "cell_type": "code",
   "execution_count": null,
   "metadata": {},
   "outputs": [
    {
     "name": "stdout",
     "output_type": "stream",
     "text": [
      "X_train_enc.shape=(60000, 794), X_test_enc.shape=(10000, 794)\n"
     ]
    }
   ],
   "source": [
    "print(\"X_train_enc.shape={}, X_test_enc.shape={}\".format(X_train.shape, X_test.shape))"
   ]
  },
  {
   "cell_type": "code",
   "execution_count": null,
   "metadata": {
    "collapsed": true
   },
   "outputs": [],
   "source": [
    "def update(X_train,X_test):\n",
    "    # update Estimators\n",
    "    for i in range(5):\n",
    "        M = np.delete(X_train, (-1), axis=1)\n",
    "        X_train= np.delete(M, (-1), axis=1)\n",
    "        M = np.delete(X_test, (-1), axis=1)\n",
    "        X_test = np.delete(M, (-1), axis=1)\n",
    "    return X_train,X_test"
   ]
  },
  {
   "cell_type": "code",
   "execution_count": null,
   "metadata": {
    "collapsed": true
   },
   "outputs": [],
   "source": [
    "def newdata(X_test_enc, X_train_enc):\n",
    "    # Make Data + Estimators\n",
    "    X_train_origin = X_train.reshape((X_train.shape[0], -1))\n",
    "    X_test_origin = X_test.reshape((X_test.shape[0], -1))\n",
    "    X_train_enc = np.hstack((X_train_origin, X_train_enc))\n",
    "    X_test_enc = np.hstack((X_test_origin, X_test_enc))\n",
    "    return X_test_enc, X_train_enc\n",
    "\n",
    "def affiche():\n",
    "    # predict\n",
    "    y_pred = gc.predict(X_test)\n",
    "    acc = accuracy_score(y_test, y_pred)\n",
    "    print(\"Test Accuracy of RandomForest = {:.6f} %\".format(acc * 100),i,'fois')"
   ]
  },
  {
   "cell_type": "code",
   "execution_count": null,
   "metadata": {},
   "outputs": [
    {
     "name": "stderr",
     "output_type": "stream",
     "text": [
      "[ 2018-03-26 23:44:22,496][cascade_classifier.fit_transform] X_groups_train.shape=[(60000, 794)],y_train.shape=(60000,),X_groups_test.shape=[(10000, 794)],y_test.shape=(10000,)\n",
      "[ 2018-03-26 23:44:23,499][cascade_classifier.fit_transform] group_dims=[794]\n",
      "[ 2018-03-26 23:44:23,522][cascade_classifier.fit_transform] group_starts=[0]\n",
      "[ 2018-03-26 23:44:23,523][cascade_classifier.fit_transform] group_ends=[794]\n",
      "[ 2018-03-26 23:44:23,523][cascade_classifier.fit_transform] X_train.shape=(60000, 794),X_test.shape=(10000, 794)\n",
      "[ 2018-03-26 23:44:24,530][cascade_classifier.fit_transform] [layer=0] look_indexs=[0], X_cur_train.shape=(60000, 794), X_cur_test.shape=(10000, 794)\n",
      "[ 2018-03-26 23:45:43,697][kfold_wrapper.log_eval_metrics] Accuracy(layer_0 - estimator_0 - 10_folds.train_0.predict)=97.45%\n",
      "[ 2018-03-26 23:47:04,792][kfold_wrapper.log_eval_metrics] Accuracy(layer_0 - estimator_0 - 10_folds.train_1.predict)=97.22%\n",
      "[ 2018-03-26 23:48:25,755][kfold_wrapper.log_eval_metrics] Accuracy(layer_0 - estimator_0 - 10_folds.train_2.predict)=98.00%\n",
      "[ 2018-03-26 23:49:41,922][kfold_wrapper.log_eval_metrics] Accuracy(layer_0 - estimator_0 - 10_folds.train_3.predict)=97.17%\n",
      "[ 2018-03-26 23:50:53,315][kfold_wrapper.log_eval_metrics] Accuracy(layer_0 - estimator_0 - 10_folds.train_4.predict)=97.58%\n",
      "[ 2018-03-26 23:52:15,100][kfold_wrapper.log_eval_metrics] Accuracy(layer_0 - estimator_0 - 10_folds.train_5.predict)=97.50%\n",
      "[ 2018-03-26 23:53:37,667][kfold_wrapper.log_eval_metrics] Accuracy(layer_0 - estimator_0 - 10_folds.train_6.predict)=97.52%\n",
      "[ 2018-03-26 23:54:59,390][kfold_wrapper.log_eval_metrics] Accuracy(layer_0 - estimator_0 - 10_folds.train_7.predict)=97.30%\n",
      "[ 2018-03-26 23:56:22,900][kfold_wrapper.log_eval_metrics] Accuracy(layer_0 - estimator_0 - 10_folds.train_8.predict)=97.57%\n",
      "[ 2018-03-26 23:57:41,125][kfold_wrapper.log_eval_metrics] Accuracy(layer_0 - estimator_0 - 10_folds.train_9.predict)=97.33%\n",
      "[ 2018-03-26 23:57:42,262][kfold_wrapper.log_eval_metrics] Accuracy(layer_0 - estimator_0 - 10_folds.train_cv.predict)=97.46%\n",
      "[ 2018-03-26 23:57:42,280][kfold_wrapper.log_eval_metrics] Accuracy(layer_0 - estimator_0 - 10_folds.test.predict)=97.70%\n",
      "[ 2018-03-26 23:57:42,355][cascade_classifier.calc_accuracy] Accuracy(layer_0 - train.classifier_average)=97.46%\n",
      "[ 2018-03-26 23:57:42,374][cascade_classifier.calc_accuracy] Accuracy(layer_0 - test.classifier_average)=97.70%\n",
      "[ 2018-03-26 23:57:42,375][cascade_classifier.fit_transform] [Result][Reach Max Layer] opt_layer_num=1, accuracy_train=97.46%, accuracy_test=97.70%\n",
      "[ 2018-03-26 23:57:42,397][cascade_classifier.transform] X_groups_test.shape=[(10000, 794)]\n",
      "[ 2018-03-26 23:57:42,423][cascade_classifier.transform] group_dims=[794]\n",
      "[ 2018-03-26 23:57:42,446][cascade_classifier.transform] X_test.shape=(10000, 794)\n",
      "[ 2018-03-26 23:57:42,469][cascade_classifier.transform] [layer=0] look_indexs=[0], X_cur_test.shape=(10000, 794)\n"
     ]
    },
    {
     "name": "stdout",
     "output_type": "stream",
     "text": [
      "('Test Accuracy of RandomForest = 97.700000 %', 0, 'fois')\n"
     ]
    },
    {
     "name": "stderr",
     "output_type": "stream",
     "text": [
      "[ 2018-03-26 23:58:00,063][cascade_classifier.fit_transform] X_groups_train.shape=[(60000, 794)],y_train.shape=(60000,),X_groups_test.shape=[(10000, 794)],y_test.shape=(10000,)\n",
      "[ 2018-03-26 23:58:00,914][cascade_classifier.fit_transform] group_dims=[794]\n",
      "[ 2018-03-26 23:58:00,917][cascade_classifier.fit_transform] group_starts=[0]\n",
      "[ 2018-03-26 23:58:00,938][cascade_classifier.fit_transform] group_ends=[794]\n",
      "[ 2018-03-26 23:58:00,939][cascade_classifier.fit_transform] X_train.shape=(60000, 794),X_test.shape=(10000, 794)\n",
      "[ 2018-03-26 23:58:01,432][cascade_classifier.fit_transform] [layer=0] look_indexs=[0], X_cur_train.shape=(60000, 794), X_cur_test.shape=(10000, 794)\n",
      "[ 2018-03-26 23:59:18,918][kfold_wrapper.log_eval_metrics] Accuracy(layer_0 - estimator_0 - 10_folds.train_0.predict)=97.60%\n",
      "[ 2018-03-27 00:00:39,521][kfold_wrapper.log_eval_metrics] Accuracy(layer_0 - estimator_0 - 10_folds.train_1.predict)=97.38%\n",
      "[ 2018-03-27 00:01:58,737][kfold_wrapper.log_eval_metrics] Accuracy(layer_0 - estimator_0 - 10_folds.train_2.predict)=98.18%\n",
      "[ 2018-03-27 00:03:20,730][kfold_wrapper.log_eval_metrics] Accuracy(layer_0 - estimator_0 - 10_folds.train_3.predict)=97.37%\n",
      "[ 2018-03-27 00:04:38,720][kfold_wrapper.log_eval_metrics] Accuracy(layer_0 - estimator_0 - 10_folds.train_4.predict)=97.62%\n",
      "[ 2018-03-27 00:05:49,379][kfold_wrapper.log_eval_metrics] Accuracy(layer_0 - estimator_0 - 10_folds.train_5.predict)=97.67%\n",
      "[ 2018-03-27 00:07:11,085][kfold_wrapper.log_eval_metrics] Accuracy(layer_0 - estimator_0 - 10_folds.train_6.predict)=97.62%\n",
      "[ 2018-03-27 00:08:34,231][kfold_wrapper.log_eval_metrics] Accuracy(layer_0 - estimator_0 - 10_folds.train_7.predict)=97.50%\n",
      "[ 2018-03-27 00:09:58,692][kfold_wrapper.log_eval_metrics] Accuracy(layer_0 - estimator_0 - 10_folds.train_8.predict)=97.63%\n",
      "[ 2018-03-27 00:11:19,387][kfold_wrapper.log_eval_metrics] Accuracy(layer_0 - estimator_0 - 10_folds.train_9.predict)=97.38%\n",
      "[ 2018-03-27 00:11:21,034][kfold_wrapper.log_eval_metrics] Accuracy(layer_0 - estimator_0 - 10_folds.train_cv.predict)=97.59%\n",
      "[ 2018-03-27 00:11:21,056][kfold_wrapper.log_eval_metrics] Accuracy(layer_0 - estimator_0 - 10_folds.test.predict)=97.74%\n",
      "[ 2018-03-27 00:11:21,152][cascade_classifier.calc_accuracy] Accuracy(layer_0 - train.classifier_average)=97.59%\n",
      "[ 2018-03-27 00:11:21,199][cascade_classifier.calc_accuracy] Accuracy(layer_0 - test.classifier_average)=97.74%\n",
      "[ 2018-03-27 00:11:21,201][cascade_classifier.fit_transform] [Result][Reach Max Layer] opt_layer_num=1, accuracy_train=97.59%, accuracy_test=97.74%\n",
      "[ 2018-03-27 00:11:21,267][cascade_classifier.transform] X_groups_test.shape=[(10000, 794)]\n",
      "[ 2018-03-27 00:11:21,318][cascade_classifier.transform] group_dims=[794]\n",
      "[ 2018-03-27 00:11:21,337][cascade_classifier.transform] X_test.shape=(10000, 794)\n",
      "[ 2018-03-27 00:11:21,387][cascade_classifier.transform] [layer=0] look_indexs=[0], X_cur_test.shape=(10000, 794)\n"
     ]
    },
    {
     "name": "stdout",
     "output_type": "stream",
     "text": [
      "('Test Accuracy of RandomForest = 97.740000 %', 1, 'fois')\n"
     ]
    },
    {
     "name": "stderr",
     "output_type": "stream",
     "text": [
      "[ 2018-03-27 00:11:42,931][cascade_classifier.fit_transform] X_groups_train.shape=[(60000, 794)],y_train.shape=(60000,),X_groups_test.shape=[(10000, 794)],y_test.shape=(10000,)\n",
      "[ 2018-03-27 00:11:43,890][cascade_classifier.fit_transform] group_dims=[794]\n",
      "[ 2018-03-27 00:11:43,893][cascade_classifier.fit_transform] group_starts=[0]\n",
      "[ 2018-03-27 00:11:43,910][cascade_classifier.fit_transform] group_ends=[794]\n",
      "[ 2018-03-27 00:11:43,913][cascade_classifier.fit_transform] X_train.shape=(60000, 794),X_test.shape=(10000, 794)\n",
      "[ 2018-03-27 00:11:44,802][cascade_classifier.fit_transform] [layer=0] look_indexs=[0], X_cur_train.shape=(60000, 794), X_cur_test.shape=(10000, 794)\n",
      "[ 2018-03-27 00:12:49,869][kfold_wrapper.log_eval_metrics] Accuracy(layer_0 - estimator_0 - 10_folds.train_0.predict)=97.60%\n",
      "[ 2018-03-27 00:14:09,510][kfold_wrapper.log_eval_metrics] Accuracy(layer_0 - estimator_0 - 10_folds.train_1.predict)=97.42%\n",
      "[ 2018-03-27 00:15:31,120][kfold_wrapper.log_eval_metrics] Accuracy(layer_0 - estimator_0 - 10_folds.train_2.predict)=98.12%\n",
      "[ 2018-03-27 00:16:52,849][kfold_wrapper.log_eval_metrics] Accuracy(layer_0 - estimator_0 - 10_folds.train_3.predict)=97.43%\n",
      "[ 2018-03-27 00:18:13,907][kfold_wrapper.log_eval_metrics] Accuracy(layer_0 - estimator_0 - 10_folds.train_4.predict)=97.62%\n",
      "[ 2018-03-27 00:19:34,100][kfold_wrapper.log_eval_metrics] Accuracy(layer_0 - estimator_0 - 10_folds.train_5.predict)=97.57%\n",
      "[ 2018-03-27 00:20:44,021][kfold_wrapper.log_eval_metrics] Accuracy(layer_0 - estimator_0 - 10_folds.train_6.predict)=97.60%\n",
      "[ 2018-03-27 00:22:03,407][kfold_wrapper.log_eval_metrics] Accuracy(layer_0 - estimator_0 - 10_folds.train_7.predict)=97.57%\n",
      "[ 2018-03-27 00:23:26,953][kfold_wrapper.log_eval_metrics] Accuracy(layer_0 - estimator_0 - 10_folds.train_8.predict)=97.75%\n",
      "[ 2018-03-27 00:24:49,462][kfold_wrapper.log_eval_metrics] Accuracy(layer_0 - estimator_0 - 10_folds.train_9.predict)=97.45%\n",
      "[ 2018-03-27 00:24:51,254][kfold_wrapper.log_eval_metrics] Accuracy(layer_0 - estimator_0 - 10_folds.train_cv.predict)=97.61%\n",
      "[ 2018-03-27 00:24:51,258][kfold_wrapper.log_eval_metrics] Accuracy(layer_0 - estimator_0 - 10_folds.test.predict)=97.73%\n",
      "[ 2018-03-27 00:24:51,376][cascade_classifier.calc_accuracy] Accuracy(layer_0 - train.classifier_average)=97.61%\n",
      "[ 2018-03-27 00:24:51,398][cascade_classifier.calc_accuracy] Accuracy(layer_0 - test.classifier_average)=97.73%\n",
      "[ 2018-03-27 00:24:51,399][cascade_classifier.fit_transform] [Result][Reach Max Layer] opt_layer_num=1, accuracy_train=97.61%, accuracy_test=97.73%\n",
      "[ 2018-03-27 00:24:51,401][cascade_classifier.transform] X_groups_test.shape=[(10000, 794)]\n",
      "[ 2018-03-27 00:24:51,467][cascade_classifier.transform] group_dims=[794]\n",
      "[ 2018-03-27 00:24:51,491][cascade_classifier.transform] X_test.shape=(10000, 794)\n",
      "[ 2018-03-27 00:24:51,561][cascade_classifier.transform] [layer=0] look_indexs=[0], X_cur_test.shape=(10000, 794)\n"
     ]
    },
    {
     "name": "stdout",
     "output_type": "stream",
     "text": [
      "('Test Accuracy of RandomForest = 97.730000 %', 2, 'fois')\n"
     ]
    },
    {
     "name": "stderr",
     "output_type": "stream",
     "text": [
      "[ 2018-03-27 00:25:16,343][cascade_classifier.fit_transform] X_groups_train.shape=[(60000, 794)],y_train.shape=(60000,),X_groups_test.shape=[(10000, 794)],y_test.shape=(10000,)\n",
      "[ 2018-03-27 00:25:16,904][cascade_classifier.fit_transform] group_dims=[794]\n",
      "[ 2018-03-27 00:25:16,906][cascade_classifier.fit_transform] group_starts=[0]\n",
      "[ 2018-03-27 00:25:16,923][cascade_classifier.fit_transform] group_ends=[794]\n",
      "[ 2018-03-27 00:25:16,924][cascade_classifier.fit_transform] X_train.shape=(60000, 794),X_test.shape=(10000, 794)\n",
      "[ 2018-03-27 00:25:17,769][cascade_classifier.fit_transform] [layer=0] look_indexs=[0], X_cur_train.shape=(60000, 794), X_cur_test.shape=(10000, 794)\n",
      "[ 2018-03-27 00:26:40,218][kfold_wrapper.log_eval_metrics] Accuracy(layer_0 - estimator_0 - 10_folds.train_0.predict)=97.67%\n",
      "[ 2018-03-27 00:27:46,641][kfold_wrapper.log_eval_metrics] Accuracy(layer_0 - estimator_0 - 10_folds.train_1.predict)=97.35%\n",
      "[ 2018-03-27 00:28:49,378][kfold_wrapper.log_eval_metrics] Accuracy(layer_0 - estimator_0 - 10_folds.train_2.predict)=98.10%\n",
      "[ 2018-03-27 00:30:12,279][kfold_wrapper.log_eval_metrics] Accuracy(layer_0 - estimator_0 - 10_folds.train_3.predict)=97.42%\n",
      "[ 2018-03-27 00:31:33,219][kfold_wrapper.log_eval_metrics] Accuracy(layer_0 - estimator_0 - 10_folds.train_4.predict)=97.68%\n",
      "[ 2018-03-27 00:32:57,128][kfold_wrapper.log_eval_metrics] Accuracy(layer_0 - estimator_0 - 10_folds.train_5.predict)=97.63%\n",
      "[ 2018-03-27 00:34:21,139][kfold_wrapper.log_eval_metrics] Accuracy(layer_0 - estimator_0 - 10_folds.train_6.predict)=97.67%\n",
      "[ 2018-03-27 00:35:38,095][kfold_wrapper.log_eval_metrics] Accuracy(layer_0 - estimator_0 - 10_folds.train_7.predict)=97.58%\n",
      "[ 2018-03-27 00:36:55,869][kfold_wrapper.log_eval_metrics] Accuracy(layer_0 - estimator_0 - 10_folds.train_8.predict)=97.68%\n",
      "[ 2018-03-27 00:38:20,145][kfold_wrapper.log_eval_metrics] Accuracy(layer_0 - estimator_0 - 10_folds.train_9.predict)=97.43%\n",
      "[ 2018-03-27 00:38:21,681][kfold_wrapper.log_eval_metrics] Accuracy(layer_0 - estimator_0 - 10_folds.train_cv.predict)=97.62%\n",
      "[ 2018-03-27 00:38:21,699][kfold_wrapper.log_eval_metrics] Accuracy(layer_0 - estimator_0 - 10_folds.test.predict)=97.78%\n",
      "[ 2018-03-27 00:38:21,844][cascade_classifier.calc_accuracy] Accuracy(layer_0 - train.classifier_average)=97.62%\n",
      "[ 2018-03-27 00:38:21,866][cascade_classifier.calc_accuracy] Accuracy(layer_0 - test.classifier_average)=97.78%\n",
      "[ 2018-03-27 00:38:21,911][cascade_classifier.fit_transform] [Result][Reach Max Layer] opt_layer_num=1, accuracy_train=97.62%, accuracy_test=97.78%\n",
      "[ 2018-03-27 00:38:21,935][cascade_classifier.transform] X_groups_test.shape=[(10000, 794)]\n",
      "[ 2018-03-27 00:38:22,069][cascade_classifier.transform] group_dims=[794]\n",
      "[ 2018-03-27 00:38:22,078][cascade_classifier.transform] X_test.shape=(10000, 794)\n",
      "[ 2018-03-27 00:38:22,145][cascade_classifier.transform] [layer=0] look_indexs=[0], X_cur_test.shape=(10000, 794)\n"
     ]
    },
    {
     "name": "stdout",
     "output_type": "stream",
     "text": [
      "('Test Accuracy of RandomForest = 97.780000 %', 3, 'fois')\n"
     ]
    },
    {
     "name": "stderr",
     "output_type": "stream",
     "text": [
      "[ 2018-03-27 00:38:46,314][cascade_classifier.fit_transform] X_groups_train.shape=[(60000, 794)],y_train.shape=(60000,),X_groups_test.shape=[(10000, 794)],y_test.shape=(10000,)\n",
      "[ 2018-03-27 00:38:47,368][cascade_classifier.fit_transform] group_dims=[794]\n",
      "[ 2018-03-27 00:38:47,390][cascade_classifier.fit_transform] group_starts=[0]\n",
      "[ 2018-03-27 00:38:47,390][cascade_classifier.fit_transform] group_ends=[794]\n",
      "[ 2018-03-27 00:38:47,391][cascade_classifier.fit_transform] X_train.shape=(60000, 794),X_test.shape=(10000, 794)\n",
      "[ 2018-03-27 00:38:48,001][cascade_classifier.fit_transform] [layer=0] look_indexs=[0], X_cur_train.shape=(60000, 794), X_cur_test.shape=(10000, 794)\n",
      "[ 2018-03-27 00:40:08,759][kfold_wrapper.log_eval_metrics] Accuracy(layer_0 - estimator_0 - 10_folds.train_0.predict)=97.54%\n",
      "[ 2018-03-27 00:41:29,999][kfold_wrapper.log_eval_metrics] Accuracy(layer_0 - estimator_0 - 10_folds.train_1.predict)=97.40%\n",
      "[ 2018-03-27 00:42:46,088][kfold_wrapper.log_eval_metrics] Accuracy(layer_0 - estimator_0 - 10_folds.train_2.predict)=98.13%\n",
      "[ 2018-03-27 00:44:00,052][kfold_wrapper.log_eval_metrics] Accuracy(layer_0 - estimator_0 - 10_folds.train_3.predict)=97.40%\n",
      "[ 2018-03-27 00:45:22,267][kfold_wrapper.log_eval_metrics] Accuracy(layer_0 - estimator_0 - 10_folds.train_4.predict)=97.65%\n",
      "[ 2018-03-27 00:46:45,001][kfold_wrapper.log_eval_metrics] Accuracy(layer_0 - estimator_0 - 10_folds.train_5.predict)=97.72%\n",
      "[ 2018-03-27 00:48:06,575][kfold_wrapper.log_eval_metrics] Accuracy(layer_0 - estimator_0 - 10_folds.train_6.predict)=97.68%\n",
      "[ 2018-03-27 00:49:28,548][kfold_wrapper.log_eval_metrics] Accuracy(layer_0 - estimator_0 - 10_folds.train_7.predict)=97.65%\n",
      "[ 2018-03-27 00:50:36,505][kfold_wrapper.log_eval_metrics] Accuracy(layer_0 - estimator_0 - 10_folds.train_8.predict)=97.73%\n",
      "[ 2018-03-27 00:51:31,367][kfold_wrapper.log_eval_metrics] Accuracy(layer_0 - estimator_0 - 10_folds.train_9.predict)=97.43%\n",
      "[ 2018-03-27 00:51:32,587][kfold_wrapper.log_eval_metrics] Accuracy(layer_0 - estimator_0 - 10_folds.train_cv.predict)=97.63%\n",
      "[ 2018-03-27 00:51:32,633][kfold_wrapper.log_eval_metrics] Accuracy(layer_0 - estimator_0 - 10_folds.test.predict)=97.83%\n",
      "[ 2018-03-27 00:51:32,706][cascade_classifier.calc_accuracy] Accuracy(layer_0 - train.classifier_average)=97.63%\n",
      "[ 2018-03-27 00:51:32,772][cascade_classifier.calc_accuracy] Accuracy(layer_0 - test.classifier_average)=97.83%\n",
      "[ 2018-03-27 00:51:32,773][cascade_classifier.fit_transform] [Result][Reach Max Layer] opt_layer_num=1, accuracy_train=97.63%, accuracy_test=97.83%\n",
      "[ 2018-03-27 00:51:32,775][cascade_classifier.transform] X_groups_test.shape=[(10000, 794)]\n",
      "[ 2018-03-27 00:51:32,841][cascade_classifier.transform] group_dims=[794]\n",
      "[ 2018-03-27 00:51:32,842][cascade_classifier.transform] X_test.shape=(10000, 794)\n",
      "[ 2018-03-27 00:51:32,867][cascade_classifier.transform] [layer=0] look_indexs=[0], X_cur_test.shape=(10000, 794)\n"
     ]
    },
    {
     "name": "stdout",
     "output_type": "stream",
     "text": [
      "('Test Accuracy of RandomForest = 97.830000 %', 4, 'fois')\n"
     ]
    },
    {
     "name": "stderr",
     "output_type": "stream",
     "text": [
      "[ 2018-03-27 00:51:49,557][cascade_classifier.fit_transform] X_groups_train.shape=[(60000, 794)],y_train.shape=(60000,),X_groups_test.shape=[(10000, 794)],y_test.shape=(10000,)\n",
      "[ 2018-03-27 00:51:50,530][cascade_classifier.fit_transform] group_dims=[794]\n",
      "[ 2018-03-27 00:51:50,538][cascade_classifier.fit_transform] group_starts=[0]\n",
      "[ 2018-03-27 00:51:50,560][cascade_classifier.fit_transform] group_ends=[794]\n",
      "[ 2018-03-27 00:51:50,561][cascade_classifier.fit_transform] X_train.shape=(60000, 794),X_test.shape=(10000, 794)\n",
      "[ 2018-03-27 00:51:51,137][cascade_classifier.fit_transform] [layer=0] look_indexs=[0], X_cur_train.shape=(60000, 794), X_cur_test.shape=(10000, 794)\n",
      "[ 2018-03-27 00:52:46,914][kfold_wrapper.log_eval_metrics] Accuracy(layer_0 - estimator_0 - 10_folds.train_0.predict)=97.57%\n",
      "[ 2018-03-27 00:53:43,018][kfold_wrapper.log_eval_metrics] Accuracy(layer_0 - estimator_0 - 10_folds.train_1.predict)=97.48%\n",
      "[ 2018-03-27 00:54:39,665][kfold_wrapper.log_eval_metrics] Accuracy(layer_0 - estimator_0 - 10_folds.train_2.predict)=98.15%\n",
      "[ 2018-03-27 00:55:31,210][kfold_wrapper.log_eval_metrics] Accuracy(layer_0 - estimator_0 - 10_folds.train_3.predict)=97.40%\n",
      "[ 2018-03-27 00:56:20,292][kfold_wrapper.log_eval_metrics] Accuracy(layer_0 - estimator_0 - 10_folds.train_4.predict)=97.62%\n",
      "[ 2018-03-27 00:57:17,037][kfold_wrapper.log_eval_metrics] Accuracy(layer_0 - estimator_0 - 10_folds.train_5.predict)=97.58%\n",
      "[ 2018-03-27 00:58:14,512][kfold_wrapper.log_eval_metrics] Accuracy(layer_0 - estimator_0 - 10_folds.train_6.predict)=97.60%\n",
      "[ 2018-03-27 00:59:12,821][kfold_wrapper.log_eval_metrics] Accuracy(layer_0 - estimator_0 - 10_folds.train_7.predict)=97.68%\n",
      "[ 2018-03-27 01:00:11,308][kfold_wrapper.log_eval_metrics] Accuracy(layer_0 - estimator_0 - 10_folds.train_8.predict)=97.78%\n",
      "[ 2018-03-27 01:01:01,233][kfold_wrapper.log_eval_metrics] Accuracy(layer_0 - estimator_0 - 10_folds.train_9.predict)=97.40%\n",
      "[ 2018-03-27 01:01:02,936][kfold_wrapper.log_eval_metrics] Accuracy(layer_0 - estimator_0 - 10_folds.train_cv.predict)=97.63%\n",
      "[ 2018-03-27 01:01:02,958][kfold_wrapper.log_eval_metrics] Accuracy(layer_0 - estimator_0 - 10_folds.test.predict)=97.81%\n",
      "[ 2018-03-27 01:01:03,054][cascade_classifier.calc_accuracy] Accuracy(layer_0 - train.classifier_average)=97.63%\n",
      "[ 2018-03-27 01:01:03,101][cascade_classifier.calc_accuracy] Accuracy(layer_0 - test.classifier_average)=97.81%\n",
      "[ 2018-03-27 01:01:03,103][cascade_classifier.fit_transform] [Result][Reach Max Layer] opt_layer_num=1, accuracy_train=97.63%, accuracy_test=97.81%\n",
      "[ 2018-03-27 01:01:03,122][cascade_classifier.transform] X_groups_test.shape=[(10000, 794)]\n",
      "[ 2018-03-27 01:01:03,171][cascade_classifier.transform] group_dims=[794]\n",
      "[ 2018-03-27 01:01:03,172][cascade_classifier.transform] X_test.shape=(10000, 794)\n",
      "[ 2018-03-27 01:01:03,263][cascade_classifier.transform] [layer=0] look_indexs=[0], X_cur_test.shape=(10000, 794)\n"
     ]
    },
    {
     "name": "stdout",
     "output_type": "stream",
     "text": [
      "('Test Accuracy of RandomForest = 97.810000 %', 5, 'fois')\n"
     ]
    },
    {
     "name": "stderr",
     "output_type": "stream",
     "text": [
      "[ 2018-03-27 01:01:19,185][cascade_classifier.fit_transform] X_groups_train.shape=[(60000, 794)],y_train.shape=(60000,),X_groups_test.shape=[(10000, 794)],y_test.shape=(10000,)\n",
      "[ 2018-03-27 01:01:19,654][cascade_classifier.fit_transform] group_dims=[794]\n",
      "[ 2018-03-27 01:01:19,677][cascade_classifier.fit_transform] group_starts=[0]\n",
      "[ 2018-03-27 01:01:19,678][cascade_classifier.fit_transform] group_ends=[794]\n",
      "[ 2018-03-27 01:01:19,679][cascade_classifier.fit_transform] X_train.shape=(60000, 794),X_test.shape=(10000, 794)\n",
      "[ 2018-03-27 01:01:20,195][cascade_classifier.fit_transform] [layer=0] look_indexs=[0], X_cur_train.shape=(60000, 794), X_cur_test.shape=(10000, 794)\n",
      "[ 2018-03-27 01:02:16,656][kfold_wrapper.log_eval_metrics] Accuracy(layer_0 - estimator_0 - 10_folds.train_0.predict)=97.57%\n",
      "[ 2018-03-27 01:03:13,728][kfold_wrapper.log_eval_metrics] Accuracy(layer_0 - estimator_0 - 10_folds.train_1.predict)=97.47%\n",
      "[ 2018-03-27 01:04:10,732][kfold_wrapper.log_eval_metrics] Accuracy(layer_0 - estimator_0 - 10_folds.train_2.predict)=98.20%\n",
      "[ 2018-03-27 01:05:06,841][kfold_wrapper.log_eval_metrics] Accuracy(layer_0 - estimator_0 - 10_folds.train_3.predict)=97.40%\n",
      "[ 2018-03-27 01:05:53,407][kfold_wrapper.log_eval_metrics] Accuracy(layer_0 - estimator_0 - 10_folds.train_4.predict)=97.68%\n",
      "[ 2018-03-27 01:06:49,978][kfold_wrapper.log_eval_metrics] Accuracy(layer_0 - estimator_0 - 10_folds.train_5.predict)=97.68%\n",
      "[ 2018-03-27 01:07:46,805][kfold_wrapper.log_eval_metrics] Accuracy(layer_0 - estimator_0 - 10_folds.train_6.predict)=97.63%\n",
      "[ 2018-03-27 01:08:42,915][kfold_wrapper.log_eval_metrics] Accuracy(layer_0 - estimator_0 - 10_folds.train_7.predict)=97.60%\n",
      "[ 2018-03-27 01:09:40,574][kfold_wrapper.log_eval_metrics] Accuracy(layer_0 - estimator_0 - 10_folds.train_8.predict)=97.77%\n",
      "[ 2018-03-27 01:10:37,639][kfold_wrapper.log_eval_metrics] Accuracy(layer_0 - estimator_0 - 10_folds.train_9.predict)=97.46%\n",
      "[ 2018-03-27 01:10:38,216][kfold_wrapper.log_eval_metrics] Accuracy(layer_0 - estimator_0 - 10_folds.train_cv.predict)=97.65%\n",
      "[ 2018-03-27 01:10:38,218][kfold_wrapper.log_eval_metrics] Accuracy(layer_0 - estimator_0 - 10_folds.test.predict)=97.79%\n",
      "[ 2018-03-27 01:10:38,246][cascade_classifier.calc_accuracy] Accuracy(layer_0 - train.classifier_average)=97.65%\n",
      "[ 2018-03-27 01:10:38,264][cascade_classifier.calc_accuracy] Accuracy(layer_0 - test.classifier_average)=97.79%\n",
      "[ 2018-03-27 01:10:38,264][cascade_classifier.fit_transform] [Result][Reach Max Layer] opt_layer_num=1, accuracy_train=97.65%, accuracy_test=97.79%\n",
      "[ 2018-03-27 01:10:38,266][cascade_classifier.transform] X_groups_test.shape=[(10000, 794)]\n",
      "[ 2018-03-27 01:10:38,283][cascade_classifier.transform] group_dims=[794]\n",
      "[ 2018-03-27 01:10:38,296][cascade_classifier.transform] X_test.shape=(10000, 794)\n",
      "[ 2018-03-27 01:10:38,314][cascade_classifier.transform] [layer=0] look_indexs=[0], X_cur_test.shape=(10000, 794)\n"
     ]
    },
    {
     "name": "stdout",
     "output_type": "stream",
     "text": [
      "('Test Accuracy of RandomForest = 97.790000 %', 6, 'fois')\n"
     ]
    },
    {
     "name": "stderr",
     "output_type": "stream",
     "text": [
      "[ 2018-03-27 01:10:45,853][cascade_classifier.fit_transform] X_groups_train.shape=[(60000, 794)],y_train.shape=(60000,),X_groups_test.shape=[(10000, 794)],y_test.shape=(10000,)\n",
      "[ 2018-03-27 01:10:45,970][cascade_classifier.fit_transform] group_dims=[794]\n",
      "[ 2018-03-27 01:10:45,971][cascade_classifier.fit_transform] group_starts=[0]\n",
      "[ 2018-03-27 01:10:45,972][cascade_classifier.fit_transform] group_ends=[794]\n",
      "[ 2018-03-27 01:10:45,973][cascade_classifier.fit_transform] X_train.shape=(60000, 794),X_test.shape=(10000, 794)\n",
      "[ 2018-03-27 01:10:46,354][cascade_classifier.fit_transform] [layer=0] look_indexs=[0], X_cur_train.shape=(60000, 794), X_cur_test.shape=(10000, 794)\n",
      "[ 2018-03-27 01:11:39,869][kfold_wrapper.log_eval_metrics] Accuracy(layer_0 - estimator_0 - 10_folds.train_0.predict)=97.55%\n",
      "[ 2018-03-27 01:12:35,914][kfold_wrapper.log_eval_metrics] Accuracy(layer_0 - estimator_0 - 10_folds.train_1.predict)=97.45%\n",
      "[ 2018-03-27 01:13:30,875][kfold_wrapper.log_eval_metrics] Accuracy(layer_0 - estimator_0 - 10_folds.train_2.predict)=98.15%\n",
      "[ 2018-03-27 01:14:26,918][kfold_wrapper.log_eval_metrics] Accuracy(layer_0 - estimator_0 - 10_folds.train_3.predict)=97.47%\n",
      "[ 2018-03-27 01:15:23,276][kfold_wrapper.log_eval_metrics] Accuracy(layer_0 - estimator_0 - 10_folds.train_4.predict)=97.58%\n",
      "[ 2018-03-27 01:16:09,803][kfold_wrapper.log_eval_metrics] Accuracy(layer_0 - estimator_0 - 10_folds.train_5.predict)=97.62%\n",
      "[ 2018-03-27 01:17:05,592][kfold_wrapper.log_eval_metrics] Accuracy(layer_0 - estimator_0 - 10_folds.train_6.predict)=97.68%\n",
      "[ 2018-03-27 01:18:03,127][kfold_wrapper.log_eval_metrics] Accuracy(layer_0 - estimator_0 - 10_folds.train_7.predict)=97.67%\n",
      "[ 2018-03-27 01:18:58,827][kfold_wrapper.log_eval_metrics] Accuracy(layer_0 - estimator_0 - 10_folds.train_8.predict)=97.68%\n",
      "[ 2018-03-27 01:19:55,527][kfold_wrapper.log_eval_metrics] Accuracy(layer_0 - estimator_0 - 10_folds.train_9.predict)=97.53%\n",
      "[ 2018-03-27 01:19:56,595][kfold_wrapper.log_eval_metrics] Accuracy(layer_0 - estimator_0 - 10_folds.train_cv.predict)=97.64%\n",
      "[ 2018-03-27 01:19:56,617][kfold_wrapper.log_eval_metrics] Accuracy(layer_0 - estimator_0 - 10_folds.test.predict)=97.77%\n",
      "[ 2018-03-27 01:19:56,669][cascade_classifier.calc_accuracy] Accuracy(layer_0 - train.classifier_average)=97.64%\n",
      "[ 2018-03-27 01:19:56,687][cascade_classifier.calc_accuracy] Accuracy(layer_0 - test.classifier_average)=97.77%\n",
      "[ 2018-03-27 01:19:56,711][cascade_classifier.fit_transform] [Result][Reach Max Layer] opt_layer_num=1, accuracy_train=97.64%, accuracy_test=97.77%\n",
      "[ 2018-03-27 01:19:56,736][cascade_classifier.transform] X_groups_test.shape=[(10000, 794)]\n",
      "[ 2018-03-27 01:19:56,781][cascade_classifier.transform] group_dims=[794]\n",
      "[ 2018-03-27 01:19:56,782][cascade_classifier.transform] X_test.shape=(10000, 794)\n",
      "[ 2018-03-27 01:19:56,832][cascade_classifier.transform] [layer=0] look_indexs=[0], X_cur_test.shape=(10000, 794)\n"
     ]
    },
    {
     "name": "stdout",
     "output_type": "stream",
     "text": [
      "('Test Accuracy of RandomForest = 97.770000 %', 7, 'fois')\n"
     ]
    },
    {
     "name": "stderr",
     "output_type": "stream",
     "text": [
      "[ 2018-03-27 01:20:13,781][cascade_classifier.fit_transform] X_groups_train.shape=[(60000, 794)],y_train.shape=(60000,),X_groups_test.shape=[(10000, 794)],y_test.shape=(10000,)\n",
      "[ 2018-03-27 01:20:14,248][cascade_classifier.fit_transform] group_dims=[794]\n",
      "[ 2018-03-27 01:20:14,249][cascade_classifier.fit_transform] group_starts=[0]\n",
      "[ 2018-03-27 01:20:14,250][cascade_classifier.fit_transform] group_ends=[794]\n",
      "[ 2018-03-27 01:20:14,250][cascade_classifier.fit_transform] X_train.shape=(60000, 794),X_test.shape=(10000, 794)\n",
      "[ 2018-03-27 01:20:14,723][cascade_classifier.fit_transform] [layer=0] look_indexs=[0], X_cur_train.shape=(60000, 794), X_cur_test.shape=(10000, 794)\n",
      "[ 2018-03-27 01:20:59,359][kfold_wrapper.log_eval_metrics] Accuracy(layer_0 - estimator_0 - 10_folds.train_0.predict)=97.55%\n",
      "[ 2018-03-27 01:21:55,181][kfold_wrapper.log_eval_metrics] Accuracy(layer_0 - estimator_0 - 10_folds.train_1.predict)=97.32%\n",
      "[ 2018-03-27 01:22:51,466][kfold_wrapper.log_eval_metrics] Accuracy(layer_0 - estimator_0 - 10_folds.train_2.predict)=98.10%\n",
      "[ 2018-03-27 01:23:47,472][kfold_wrapper.log_eval_metrics] Accuracy(layer_0 - estimator_0 - 10_folds.train_3.predict)=97.45%\n",
      "[ 2018-03-27 01:24:44,517][kfold_wrapper.log_eval_metrics] Accuracy(layer_0 - estimator_0 - 10_folds.train_4.predict)=97.73%\n",
      "[ 2018-03-27 01:25:41,158][kfold_wrapper.log_eval_metrics] Accuracy(layer_0 - estimator_0 - 10_folds.train_5.predict)=97.70%\n",
      "[ 2018-03-27 01:26:22,058][kfold_wrapper.log_eval_metrics] Accuracy(layer_0 - estimator_0 - 10_folds.train_6.predict)=97.70%\n",
      "[ 2018-03-27 01:27:05,632][kfold_wrapper.log_eval_metrics] Accuracy(layer_0 - estimator_0 - 10_folds.train_7.predict)=97.67%\n",
      "[ 2018-03-27 01:28:02,185][kfold_wrapper.log_eval_metrics] Accuracy(layer_0 - estimator_0 - 10_folds.train_8.predict)=97.78%\n",
      "[ 2018-03-27 01:28:58,404][kfold_wrapper.log_eval_metrics] Accuracy(layer_0 - estimator_0 - 10_folds.train_9.predict)=97.67%\n",
      "[ 2018-03-27 01:28:59,477][kfold_wrapper.log_eval_metrics] Accuracy(layer_0 - estimator_0 - 10_folds.train_cv.predict)=97.67%\n",
      "[ 2018-03-27 01:28:59,523][kfold_wrapper.log_eval_metrics] Accuracy(layer_0 - estimator_0 - 10_folds.test.predict)=97.79%\n",
      "[ 2018-03-27 01:28:59,666][cascade_classifier.calc_accuracy] Accuracy(layer_0 - train.classifier_average)=97.67%\n",
      "[ 2018-03-27 01:28:59,667][cascade_classifier.calc_accuracy] Accuracy(layer_0 - test.classifier_average)=97.79%\n",
      "[ 2018-03-27 01:28:59,668][cascade_classifier.fit_transform] [Result][Reach Max Layer] opt_layer_num=1, accuracy_train=97.67%, accuracy_test=97.79%\n",
      "[ 2018-03-27 01:28:59,710][cascade_classifier.transform] X_groups_test.shape=[(10000, 794)]\n",
      "[ 2018-03-27 01:28:59,761][cascade_classifier.transform] group_dims=[794]\n",
      "[ 2018-03-27 01:28:59,762][cascade_classifier.transform] X_test.shape=(10000, 794)\n",
      "[ 2018-03-27 01:28:59,807][cascade_classifier.transform] [layer=0] look_indexs=[0], X_cur_test.shape=(10000, 794)\n"
     ]
    },
    {
     "name": "stdout",
     "output_type": "stream",
     "text": [
      "('Test Accuracy of RandomForest = 97.790000 %', 8, 'fois')\n"
     ]
    },
    {
     "name": "stderr",
     "output_type": "stream",
     "text": [
      "[ 2018-03-27 01:29:16,755][cascade_classifier.fit_transform] X_groups_train.shape=[(60000, 794)],y_train.shape=(60000,),X_groups_test.shape=[(10000, 794)],y_test.shape=(10000,)\n",
      "[ 2018-03-27 01:29:17,370][cascade_classifier.fit_transform] group_dims=[794]\n",
      "[ 2018-03-27 01:29:17,373][cascade_classifier.fit_transform] group_starts=[0]\n",
      "[ 2018-03-27 01:29:17,396][cascade_classifier.fit_transform] group_ends=[794]\n",
      "[ 2018-03-27 01:29:17,418][cascade_classifier.fit_transform] X_train.shape=(60000, 794),X_test.shape=(10000, 794)\n",
      "[ 2018-03-27 01:29:17,912][cascade_classifier.fit_transform] [layer=0] look_indexs=[0], X_cur_train.shape=(60000, 794), X_cur_test.shape=(10000, 794)\n",
      "[ 2018-03-27 01:30:14,477][kfold_wrapper.log_eval_metrics] Accuracy(layer_0 - estimator_0 - 10_folds.train_0.predict)=97.60%\n",
      "[ 2018-03-27 01:31:11,707][kfold_wrapper.log_eval_metrics] Accuracy(layer_0 - estimator_0 - 10_folds.train_1.predict)=97.48%\n",
      "[ 2018-03-27 01:31:58,462][kfold_wrapper.log_eval_metrics] Accuracy(layer_0 - estimator_0 - 10_folds.train_2.predict)=98.07%\n",
      "[ 2018-03-27 01:32:55,472][kfold_wrapper.log_eval_metrics] Accuracy(layer_0 - estimator_0 - 10_folds.train_3.predict)=97.45%\n",
      "[ 2018-03-27 01:33:51,782][kfold_wrapper.log_eval_metrics] Accuracy(layer_0 - estimator_0 - 10_folds.train_4.predict)=97.67%\n",
      "[ 2018-03-27 01:34:47,562][kfold_wrapper.log_eval_metrics] Accuracy(layer_0 - estimator_0 - 10_folds.train_5.predict)=97.78%\n",
      "[ 2018-03-27 01:35:43,141][kfold_wrapper.log_eval_metrics] Accuracy(layer_0 - estimator_0 - 10_folds.train_6.predict)=97.82%\n",
      "[ 2018-03-27 01:36:34,967][kfold_wrapper.log_eval_metrics] Accuracy(layer_0 - estimator_0 - 10_folds.train_7.predict)=97.67%\n",
      "[ 2018-03-27 01:37:24,668][kfold_wrapper.log_eval_metrics] Accuracy(layer_0 - estimator_0 - 10_folds.train_8.predict)=97.77%\n",
      "[ 2018-03-27 01:38:20,385][kfold_wrapper.log_eval_metrics] Accuracy(layer_0 - estimator_0 - 10_folds.train_9.predict)=97.65%\n",
      "[ 2018-03-27 01:38:21,738][kfold_wrapper.log_eval_metrics] Accuracy(layer_0 - estimator_0 - 10_folds.train_cv.predict)=97.69%\n",
      "[ 2018-03-27 01:38:21,760][kfold_wrapper.log_eval_metrics] Accuracy(layer_0 - estimator_0 - 10_folds.test.predict)=97.77%\n",
      "[ 2018-03-27 01:38:21,854][cascade_classifier.calc_accuracy] Accuracy(layer_0 - train.classifier_average)=97.69%\n",
      "[ 2018-03-27 01:38:21,878][cascade_classifier.calc_accuracy] Accuracy(layer_0 - test.classifier_average)=97.77%\n",
      "[ 2018-03-27 01:38:21,879][cascade_classifier.fit_transform] [Result][Reach Max Layer] opt_layer_num=1, accuracy_train=97.69%, accuracy_test=97.77%\n",
      "[ 2018-03-27 01:38:21,881][cascade_classifier.transform] X_groups_test.shape=[(10000, 794)]\n",
      "[ 2018-03-27 01:38:21,924][cascade_classifier.transform] group_dims=[794]\n",
      "[ 2018-03-27 01:38:21,925][cascade_classifier.transform] X_test.shape=(10000, 794)\n",
      "[ 2018-03-27 01:38:21,974][cascade_classifier.transform] [layer=0] look_indexs=[0], X_cur_test.shape=(10000, 794)\n"
     ]
    },
    {
     "name": "stdout",
     "output_type": "stream",
     "text": [
      "('Test Accuracy of RandomForest = 97.770000 %', 9, 'fois')\n"
     ]
    },
    {
     "name": "stderr",
     "output_type": "stream",
     "text": [
      "[ 2018-03-27 01:38:37,429][cascade_classifier.fit_transform] X_groups_train.shape=[(60000, 794)],y_train.shape=(60000,),X_groups_test.shape=[(10000, 794)],y_test.shape=(10000,)\n",
      "[ 2018-03-27 01:38:37,895][cascade_classifier.fit_transform] group_dims=[794]\n",
      "[ 2018-03-27 01:38:37,916][cascade_classifier.fit_transform] group_starts=[0]\n",
      "[ 2018-03-27 01:38:37,917][cascade_classifier.fit_transform] group_ends=[794]\n",
      "[ 2018-03-27 01:38:37,918][cascade_classifier.fit_transform] X_train.shape=(60000, 794),X_test.shape=(10000, 794)\n",
      "[ 2018-03-27 01:38:38,435][cascade_classifier.fit_transform] [layer=0] look_indexs=[0], X_cur_train.shape=(60000, 794), X_cur_test.shape=(10000, 794)\n",
      "[ 2018-03-27 01:39:34,140][kfold_wrapper.log_eval_metrics] Accuracy(layer_0 - estimator_0 - 10_folds.train_0.predict)=97.65%\n",
      "[ 2018-03-27 01:40:29,525][kfold_wrapper.log_eval_metrics] Accuracy(layer_0 - estimator_0 - 10_folds.train_1.predict)=97.47%\n",
      "[ 2018-03-27 01:41:25,885][kfold_wrapper.log_eval_metrics] Accuracy(layer_0 - estimator_0 - 10_folds.train_2.predict)=98.05%\n",
      "[ 2018-03-27 01:42:12,310][kfold_wrapper.log_eval_metrics] Accuracy(layer_0 - estimator_0 - 10_folds.train_3.predict)=97.50%\n",
      "[ 2018-03-27 01:43:08,657][kfold_wrapper.log_eval_metrics] Accuracy(layer_0 - estimator_0 - 10_folds.train_4.predict)=97.70%\n",
      "[ 2018-03-27 01:44:06,119][kfold_wrapper.log_eval_metrics] Accuracy(layer_0 - estimator_0 - 10_folds.train_5.predict)=97.88%\n",
      "[ 2018-03-27 01:45:03,206][kfold_wrapper.log_eval_metrics] Accuracy(layer_0 - estimator_0 - 10_folds.train_6.predict)=97.65%\n",
      "[ 2018-03-27 01:46:00,760][kfold_wrapper.log_eval_metrics] Accuracy(layer_0 - estimator_0 - 10_folds.train_7.predict)=97.80%\n",
      "[ 2018-03-27 01:46:52,455][kfold_wrapper.log_eval_metrics] Accuracy(layer_0 - estimator_0 - 10_folds.train_8.predict)=97.68%\n",
      "[ 2018-03-27 01:47:47,820][kfold_wrapper.log_eval_metrics] Accuracy(layer_0 - estimator_0 - 10_folds.train_9.predict)=97.53%\n",
      "[ 2018-03-27 01:47:48,922][kfold_wrapper.log_eval_metrics] Accuracy(layer_0 - estimator_0 - 10_folds.train_cv.predict)=97.69%\n",
      "[ 2018-03-27 01:47:48,968][kfold_wrapper.log_eval_metrics] Accuracy(layer_0 - estimator_0 - 10_folds.test.predict)=97.73%\n",
      "[ 2018-03-27 01:47:49,062][cascade_classifier.calc_accuracy] Accuracy(layer_0 - train.classifier_average)=97.69%\n",
      "[ 2018-03-27 01:47:49,064][cascade_classifier.calc_accuracy] Accuracy(layer_0 - test.classifier_average)=97.73%\n",
      "[ 2018-03-27 01:47:49,065][cascade_classifier.fit_transform] [Result][Reach Max Layer] opt_layer_num=1, accuracy_train=97.69%, accuracy_test=97.73%\n",
      "[ 2018-03-27 01:47:49,107][cascade_classifier.transform] X_groups_test.shape=[(10000, 794)]\n",
      "[ 2018-03-27 01:47:49,157][cascade_classifier.transform] group_dims=[794]\n",
      "[ 2018-03-27 01:47:49,158][cascade_classifier.transform] X_test.shape=(10000, 794)\n",
      "[ 2018-03-27 01:47:49,183][cascade_classifier.transform] [layer=0] look_indexs=[0], X_cur_test.shape=(10000, 794)\n"
     ]
    },
    {
     "name": "stdout",
     "output_type": "stream",
     "text": [
      "('Test Accuracy of RandomForest = 97.730000 %', 10, 'fois')\n"
     ]
    },
    {
     "name": "stderr",
     "output_type": "stream",
     "text": [
      "[ 2018-03-27 01:48:05,585][cascade_classifier.fit_transform] X_groups_train.shape=[(60000, 794)],y_train.shape=(60000,),X_groups_test.shape=[(10000, 794)],y_test.shape=(10000,)\n",
      "[ 2018-03-27 01:48:06,220][cascade_classifier.fit_transform] group_dims=[794]\n",
      "[ 2018-03-27 01:48:06,241][cascade_classifier.fit_transform] group_starts=[0]\n",
      "[ 2018-03-27 01:48:06,242][cascade_classifier.fit_transform] group_ends=[794]\n",
      "[ 2018-03-27 01:48:06,243][cascade_classifier.fit_transform] X_train.shape=(60000, 794),X_test.shape=(10000, 794)\n",
      "[ 2018-03-27 01:48:06,853][cascade_classifier.fit_transform] [layer=0] look_indexs=[0], X_cur_train.shape=(60000, 794), X_cur_test.shape=(10000, 794)\n",
      "[ 2018-03-27 01:49:01,887][kfold_wrapper.log_eval_metrics] Accuracy(layer_0 - estimator_0 - 10_folds.train_0.predict)=97.70%\n",
      "[ 2018-03-27 01:49:58,427][kfold_wrapper.log_eval_metrics] Accuracy(layer_0 - estimator_0 - 10_folds.train_1.predict)=97.43%\n",
      "[ 2018-03-27 01:50:55,860][kfold_wrapper.log_eval_metrics] Accuracy(layer_0 - estimator_0 - 10_folds.train_2.predict)=98.12%\n",
      "[ 2018-03-27 01:51:47,511][kfold_wrapper.log_eval_metrics] Accuracy(layer_0 - estimator_0 - 10_folds.train_3.predict)=97.58%\n",
      "[ 2018-03-27 01:52:37,089][kfold_wrapper.log_eval_metrics] Accuracy(layer_0 - estimator_0 - 10_folds.train_4.predict)=97.65%\n",
      "[ 2018-03-27 01:53:33,677][kfold_wrapper.log_eval_metrics] Accuracy(layer_0 - estimator_0 - 10_folds.train_5.predict)=97.83%\n",
      "[ 2018-03-27 01:54:30,593][kfold_wrapper.log_eval_metrics] Accuracy(layer_0 - estimator_0 - 10_folds.train_6.predict)=97.72%\n",
      "[ 2018-03-27 01:55:27,840][kfold_wrapper.log_eval_metrics] Accuracy(layer_0 - estimator_0 - 10_folds.train_7.predict)=97.72%\n",
      "[ 2018-03-27 01:56:27,047][kfold_wrapper.log_eval_metrics] Accuracy(layer_0 - estimator_0 - 10_folds.train_8.predict)=97.80%\n",
      "[ 2018-03-27 01:57:17,789][kfold_wrapper.log_eval_metrics] Accuracy(layer_0 - estimator_0 - 10_folds.train_9.predict)=97.62%\n",
      "[ 2018-03-27 01:57:18,882][kfold_wrapper.log_eval_metrics] Accuracy(layer_0 - estimator_0 - 10_folds.train_cv.predict)=97.72%\n",
      "[ 2018-03-27 01:57:18,904][kfold_wrapper.log_eval_metrics] Accuracy(layer_0 - estimator_0 - 10_folds.test.predict)=97.76%\n",
      "[ 2018-03-27 01:57:18,976][cascade_classifier.calc_accuracy] Accuracy(layer_0 - train.classifier_average)=97.72%\n",
      "[ 2018-03-27 01:57:18,986][cascade_classifier.calc_accuracy] Accuracy(layer_0 - test.classifier_average)=97.76%\n",
      "[ 2018-03-27 01:57:18,987][cascade_classifier.fit_transform] [Result][Reach Max Layer] opt_layer_num=1, accuracy_train=97.72%, accuracy_test=97.76%\n",
      "[ 2018-03-27 01:57:18,989][cascade_classifier.transform] X_groups_test.shape=[(10000, 794)]\n",
      "[ 2018-03-27 01:57:19,034][cascade_classifier.transform] group_dims=[794]\n",
      "[ 2018-03-27 01:57:19,035][cascade_classifier.transform] X_test.shape=(10000, 794)\n",
      "[ 2018-03-27 01:57:19,060][cascade_classifier.transform] [layer=0] look_indexs=[0], X_cur_test.shape=(10000, 794)\n"
     ]
    },
    {
     "name": "stdout",
     "output_type": "stream",
     "text": [
      "('Test Accuracy of RandomForest = 97.760000 %', 11, 'fois')\n"
     ]
    },
    {
     "name": "stderr",
     "output_type": "stream",
     "text": [
      "[ 2018-03-27 01:57:35,218][cascade_classifier.fit_transform] X_groups_train.shape=[(60000, 794)],y_train.shape=(60000,),X_groups_test.shape=[(10000, 794)],y_test.shape=(10000,)\n",
      "[ 2018-03-27 01:57:35,911][cascade_classifier.fit_transform] group_dims=[794]\n",
      "[ 2018-03-27 01:57:35,932][cascade_classifier.fit_transform] group_starts=[0]\n",
      "[ 2018-03-27 01:57:35,934][cascade_classifier.fit_transform] group_ends=[794]\n",
      "[ 2018-03-27 01:57:35,956][cascade_classifier.fit_transform] X_train.shape=(60000, 794),X_test.shape=(10000, 794)\n",
      "[ 2018-03-27 01:57:36,451][cascade_classifier.fit_transform] [layer=0] look_indexs=[0], X_cur_train.shape=(60000, 794), X_cur_test.shape=(10000, 794)\n",
      "[ 2018-03-27 01:58:31,862][kfold_wrapper.log_eval_metrics] Accuracy(layer_0 - estimator_0 - 10_folds.train_0.predict)=97.62%\n",
      "[ 2018-03-27 01:59:27,896][kfold_wrapper.log_eval_metrics] Accuracy(layer_0 - estimator_0 - 10_folds.train_1.predict)=97.40%\n",
      "[ 2018-03-27 02:00:23,856][kfold_wrapper.log_eval_metrics] Accuracy(layer_0 - estimator_0 - 10_folds.train_2.predict)=98.12%\n",
      "[ 2018-03-27 02:01:20,017][kfold_wrapper.log_eval_metrics] Accuracy(layer_0 - estimator_0 - 10_folds.train_3.predict)=97.57%\n",
      "[ 2018-03-27 02:02:07,307][kfold_wrapper.log_eval_metrics] Accuracy(layer_0 - estimator_0 - 10_folds.train_4.predict)=97.67%\n",
      "[ 2018-03-27 02:03:03,831][kfold_wrapper.log_eval_metrics] Accuracy(layer_0 - estimator_0 - 10_folds.train_5.predict)=97.90%\n",
      "[ 2018-03-27 02:03:59,793][kfold_wrapper.log_eval_metrics] Accuracy(layer_0 - estimator_0 - 10_folds.train_6.predict)=97.75%\n",
      "[ 2018-03-27 02:04:55,628][kfold_wrapper.log_eval_metrics] Accuracy(layer_0 - estimator_0 - 10_folds.train_7.predict)=97.73%\n",
      "[ 2018-03-27 02:05:52,713][kfold_wrapper.log_eval_metrics] Accuracy(layer_0 - estimator_0 - 10_folds.train_8.predict)=97.75%\n",
      "[ 2018-03-27 02:06:50,341][kfold_wrapper.log_eval_metrics] Accuracy(layer_0 - estimator_0 - 10_folds.train_9.predict)=97.63%\n",
      "[ 2018-03-27 02:06:51,340][kfold_wrapper.log_eval_metrics] Accuracy(layer_0 - estimator_0 - 10_folds.train_cv.predict)=97.71%\n",
      "[ 2018-03-27 02:06:51,361][kfold_wrapper.log_eval_metrics] Accuracy(layer_0 - estimator_0 - 10_folds.test.predict)=97.75%\n",
      "[ 2018-03-27 02:06:51,409][cascade_classifier.calc_accuracy] Accuracy(layer_0 - train.classifier_average)=97.71%\n",
      "[ 2018-03-27 02:06:51,480][cascade_classifier.calc_accuracy] Accuracy(layer_0 - test.classifier_average)=97.75%\n",
      "[ 2018-03-27 02:06:51,480][cascade_classifier.fit_transform] [Result][Reach Max Layer] opt_layer_num=1, accuracy_train=97.71%, accuracy_test=97.75%\n",
      "[ 2018-03-27 02:06:51,482][cascade_classifier.transform] X_groups_test.shape=[(10000, 794)]\n",
      "[ 2018-03-27 02:06:51,507][cascade_classifier.transform] group_dims=[794]\n",
      "[ 2018-03-27 02:06:51,524][cascade_classifier.transform] X_test.shape=(10000, 794)\n",
      "[ 2018-03-27 02:06:51,562][cascade_classifier.transform] [layer=0] look_indexs=[0], X_cur_test.shape=(10000, 794)\n"
     ]
    },
    {
     "name": "stdout",
     "output_type": "stream",
     "text": [
      "('Test Accuracy of RandomForest = 97.750000 %', 12, 'fois')\n"
     ]
    },
    {
     "name": "stderr",
     "output_type": "stream",
     "text": [
      "[ 2018-03-27 02:07:01,824][cascade_classifier.fit_transform] X_groups_train.shape=[(60000, 794)],y_train.shape=(60000,),X_groups_test.shape=[(10000, 794)],y_test.shape=(10000,)\n",
      "[ 2018-03-27 02:07:02,047][cascade_classifier.fit_transform] group_dims=[794]\n",
      "[ 2018-03-27 02:07:02,048][cascade_classifier.fit_transform] group_starts=[0]\n",
      "[ 2018-03-27 02:07:02,049][cascade_classifier.fit_transform] group_ends=[794]\n",
      "[ 2018-03-27 02:07:02,050][cascade_classifier.fit_transform] X_train.shape=(60000, 794),X_test.shape=(10000, 794)\n",
      "[ 2018-03-27 02:07:02,222][cascade_classifier.fit_transform] [layer=0] look_indexs=[0], X_cur_train.shape=(60000, 794), X_cur_test.shape=(10000, 794)\n",
      "[ 2018-03-27 02:07:53,527][kfold_wrapper.log_eval_metrics] Accuracy(layer_0 - estimator_0 - 10_folds.train_0.predict)=97.62%\n",
      "[ 2018-03-27 02:08:49,742][kfold_wrapper.log_eval_metrics] Accuracy(layer_0 - estimator_0 - 10_folds.train_1.predict)=97.40%\n",
      "[ 2018-03-27 02:09:47,564][kfold_wrapper.log_eval_metrics] Accuracy(layer_0 - estimator_0 - 10_folds.train_2.predict)=98.10%\n",
      "[ 2018-03-27 02:10:44,650][kfold_wrapper.log_eval_metrics] Accuracy(layer_0 - estimator_0 - 10_folds.train_3.predict)=97.60%\n",
      "[ 2018-03-27 02:11:40,013][kfold_wrapper.log_eval_metrics] Accuracy(layer_0 - estimator_0 - 10_folds.train_4.predict)=97.72%\n",
      "[ 2018-03-27 02:12:24,703][kfold_wrapper.log_eval_metrics] Accuracy(layer_0 - estimator_0 - 10_folds.train_5.predict)=97.77%\n",
      "[ 2018-03-27 02:13:21,094][kfold_wrapper.log_eval_metrics] Accuracy(layer_0 - estimator_0 - 10_folds.train_6.predict)=97.72%\n",
      "[ 2018-03-27 02:14:17,509][kfold_wrapper.log_eval_metrics] Accuracy(layer_0 - estimator_0 - 10_folds.train_7.predict)=97.68%\n",
      "[ 2018-03-27 02:15:14,210][kfold_wrapper.log_eval_metrics] Accuracy(layer_0 - estimator_0 - 10_folds.train_8.predict)=97.82%\n",
      "[ 2018-03-27 02:16:11,615][kfold_wrapper.log_eval_metrics] Accuracy(layer_0 - estimator_0 - 10_folds.train_9.predict)=97.65%\n",
      "[ 2018-03-27 02:16:12,684][kfold_wrapper.log_eval_metrics] Accuracy(layer_0 - estimator_0 - 10_folds.train_cv.predict)=97.71%\n",
      "[ 2018-03-27 02:16:12,730][kfold_wrapper.log_eval_metrics] Accuracy(layer_0 - estimator_0 - 10_folds.test.predict)=97.78%\n",
      "[ 2018-03-27 02:16:12,824][cascade_classifier.calc_accuracy] Accuracy(layer_0 - train.classifier_average)=97.71%\n",
      "[ 2018-03-27 02:16:12,826][cascade_classifier.calc_accuracy] Accuracy(layer_0 - test.classifier_average)=97.78%\n",
      "[ 2018-03-27 02:16:12,826][cascade_classifier.fit_transform] [Result][Reach Max Layer] opt_layer_num=1, accuracy_train=97.71%, accuracy_test=97.78%\n",
      "[ 2018-03-27 02:16:12,869][cascade_classifier.transform] X_groups_test.shape=[(10000, 794)]\n",
      "[ 2018-03-27 02:16:12,918][cascade_classifier.transform] group_dims=[794]\n",
      "[ 2018-03-27 02:16:12,919][cascade_classifier.transform] X_test.shape=(10000, 794)\n",
      "[ 2018-03-27 02:16:12,940][cascade_classifier.transform] [layer=0] look_indexs=[0], X_cur_test.shape=(10000, 794)\n"
     ]
    },
    {
     "name": "stdout",
     "output_type": "stream",
     "text": [
      "('Test Accuracy of RandomForest = 97.780000 %', 13, 'fois')\n"
     ]
    },
    {
     "name": "stderr",
     "output_type": "stream",
     "text": [
      "[ 2018-03-27 02:16:29,752][cascade_classifier.fit_transform] X_groups_train.shape=[(60000, 794)],y_train.shape=(60000,),X_groups_test.shape=[(10000, 794)],y_test.shape=(10000,)\n",
      "[ 2018-03-27 02:16:30,222][cascade_classifier.fit_transform] group_dims=[794]\n",
      "[ 2018-03-27 02:16:30,244][cascade_classifier.fit_transform] group_starts=[0]\n",
      "[ 2018-03-27 02:16:30,244][cascade_classifier.fit_transform] group_ends=[794]\n",
      "[ 2018-03-27 02:16:30,245][cascade_classifier.fit_transform] X_train.shape=(60000, 794),X_test.shape=(10000, 794)\n",
      "[ 2018-03-27 02:16:30,762][cascade_classifier.fit_transform] [layer=0] look_indexs=[0], X_cur_train.shape=(60000, 794), X_cur_test.shape=(10000, 794)\n",
      "[ 2018-03-27 02:17:19,564][kfold_wrapper.log_eval_metrics] Accuracy(layer_0 - estimator_0 - 10_folds.train_0.predict)=97.67%\n",
      "[ 2018-03-27 02:17:54,712][kfold_wrapper.log_eval_metrics] Accuracy(layer_0 - estimator_0 - 10_folds.train_1.predict)=97.47%\n",
      "[ 2018-03-27 02:18:49,970][kfold_wrapper.log_eval_metrics] Accuracy(layer_0 - estimator_0 - 10_folds.train_2.predict)=98.08%\n",
      "[ 2018-03-27 02:19:47,146][kfold_wrapper.log_eval_metrics] Accuracy(layer_0 - estimator_0 - 10_folds.train_3.predict)=97.63%\n",
      "[ 2018-03-27 02:20:44,199][kfold_wrapper.log_eval_metrics] Accuracy(layer_0 - estimator_0 - 10_folds.train_4.predict)=97.63%\n",
      "[ 2018-03-27 02:21:40,793][kfold_wrapper.log_eval_metrics] Accuracy(layer_0 - estimator_0 - 10_folds.train_5.predict)=97.80%\n",
      "[ 2018-03-27 02:22:37,120][kfold_wrapper.log_eval_metrics] Accuracy(layer_0 - estimator_0 - 10_folds.train_6.predict)=97.75%\n",
      "[ 2018-03-27 02:23:22,284][kfold_wrapper.log_eval_metrics] Accuracy(layer_0 - estimator_0 - 10_folds.train_7.predict)=97.72%\n",
      "[ 2018-03-27 02:24:18,224][kfold_wrapper.log_eval_metrics] Accuracy(layer_0 - estimator_0 - 10_folds.train_8.predict)=97.72%\n",
      "[ 2018-03-27 02:25:16,089][kfold_wrapper.log_eval_metrics] Accuracy(layer_0 - estimator_0 - 10_folds.train_9.predict)=97.63%\n",
      "[ 2018-03-27 02:25:17,402][kfold_wrapper.log_eval_metrics] Accuracy(layer_0 - estimator_0 - 10_folds.train_cv.predict)=97.71%\n",
      "[ 2018-03-27 02:25:17,424][kfold_wrapper.log_eval_metrics] Accuracy(layer_0 - estimator_0 - 10_folds.test.predict)=97.79%\n",
      "[ 2018-03-27 02:25:17,475][cascade_classifier.calc_accuracy] Accuracy(layer_0 - train.classifier_average)=97.71%\n",
      "[ 2018-03-27 02:25:17,497][cascade_classifier.calc_accuracy] Accuracy(layer_0 - test.classifier_average)=97.79%\n",
      "[ 2018-03-27 02:25:17,517][cascade_classifier.fit_transform] [Result][Reach Max Layer] opt_layer_num=1, accuracy_train=97.71%, accuracy_test=97.79%\n",
      "[ 2018-03-27 02:25:17,542][cascade_classifier.transform] X_groups_test.shape=[(10000, 794)]\n",
      "[ 2018-03-27 02:25:17,590][cascade_classifier.transform] group_dims=[794]\n",
      "[ 2018-03-27 02:25:17,591][cascade_classifier.transform] X_test.shape=(10000, 794)\n",
      "[ 2018-03-27 02:25:17,616][cascade_classifier.transform] [layer=0] look_indexs=[0], X_cur_test.shape=(10000, 794)\n"
     ]
    },
    {
     "name": "stdout",
     "output_type": "stream",
     "text": [
      "('Test Accuracy of RandomForest = 97.780000 %', 14, 'fois')\n"
     ]
    },
    {
     "name": "stderr",
     "output_type": "stream",
     "text": [
      "[ 2018-03-27 02:25:33,118][cascade_classifier.fit_transform] X_groups_train.shape=[(60000, 794)],y_train.shape=(60000,),X_groups_test.shape=[(10000, 794)],y_test.shape=(10000,)\n",
      "[ 2018-03-27 02:25:33,613][cascade_classifier.fit_transform] group_dims=[794]\n",
      "[ 2018-03-27 02:25:33,635][cascade_classifier.fit_transform] group_starts=[0]\n",
      "[ 2018-03-27 02:25:33,636][cascade_classifier.fit_transform] group_ends=[794]\n",
      "[ 2018-03-27 02:25:33,636][cascade_classifier.fit_transform] X_train.shape=(60000, 794),X_test.shape=(10000, 794)\n",
      "[ 2018-03-27 02:25:34,154][cascade_classifier.fit_transform] [layer=0] look_indexs=[0], X_cur_train.shape=(60000, 794), X_cur_test.shape=(10000, 794)\n",
      "[ 2018-03-27 02:26:29,489][kfold_wrapper.log_eval_metrics] Accuracy(layer_0 - estimator_0 - 10_folds.train_0.predict)=97.57%\n",
      "[ 2018-03-27 02:27:25,868][kfold_wrapper.log_eval_metrics] Accuracy(layer_0 - estimator_0 - 10_folds.train_1.predict)=97.47%\n",
      "[ 2018-03-27 02:28:12,942][kfold_wrapper.log_eval_metrics] Accuracy(layer_0 - estimator_0 - 10_folds.train_2.predict)=98.03%\n",
      "[ 2018-03-27 02:29:09,967][kfold_wrapper.log_eval_metrics] Accuracy(layer_0 - estimator_0 - 10_folds.train_3.predict)=97.58%\n",
      "[ 2018-03-27 02:30:06,896][kfold_wrapper.log_eval_metrics] Accuracy(layer_0 - estimator_0 - 10_folds.train_4.predict)=97.58%\n",
      "[ 2018-03-27 02:31:02,664][kfold_wrapper.log_eval_metrics] Accuracy(layer_0 - estimator_0 - 10_folds.train_5.predict)=97.85%\n",
      "[ 2018-03-27 02:31:59,405][kfold_wrapper.log_eval_metrics] Accuracy(layer_0 - estimator_0 - 10_folds.train_6.predict)=97.70%\n",
      "[ 2018-03-27 02:32:56,432][kfold_wrapper.log_eval_metrics] Accuracy(layer_0 - estimator_0 - 10_folds.train_7.predict)=97.70%\n",
      "[ 2018-03-27 02:33:41,081][kfold_wrapper.log_eval_metrics] Accuracy(layer_0 - estimator_0 - 10_folds.train_8.predict)=97.72%\n",
      "[ 2018-03-27 02:34:37,678][kfold_wrapper.log_eval_metrics] Accuracy(layer_0 - estimator_0 - 10_folds.train_9.predict)=97.55%\n",
      "[ 2018-03-27 02:34:38,900][kfold_wrapper.log_eval_metrics] Accuracy(layer_0 - estimator_0 - 10_folds.train_cv.predict)=97.67%\n",
      "[ 2018-03-27 02:34:38,922][kfold_wrapper.log_eval_metrics] Accuracy(layer_0 - estimator_0 - 10_folds.test.predict)=97.77%\n",
      "[ 2018-03-27 02:34:38,993][cascade_classifier.calc_accuracy] Accuracy(layer_0 - train.classifier_average)=97.67%\n",
      "[ 2018-03-27 02:34:39,015][cascade_classifier.calc_accuracy] Accuracy(layer_0 - test.classifier_average)=97.77%\n",
      "[ 2018-03-27 02:34:39,016][cascade_classifier.fit_transform] [Result][Reach Max Layer] opt_layer_num=1, accuracy_train=97.67%, accuracy_test=97.77%\n",
      "[ 2018-03-27 02:34:39,018][cascade_classifier.transform] X_groups_test.shape=[(10000, 794)]\n",
      "[ 2018-03-27 02:34:39,060][cascade_classifier.transform] group_dims=[794]\n",
      "[ 2018-03-27 02:34:39,061][cascade_classifier.transform] X_test.shape=(10000, 794)\n",
      "[ 2018-03-27 02:34:39,086][cascade_classifier.transform] [layer=0] look_indexs=[0], X_cur_test.shape=(10000, 794)\n"
     ]
    },
    {
     "name": "stdout",
     "output_type": "stream",
     "text": [
      "('Test Accuracy of RandomForest = 97.770000 %', 15, 'fois')\n"
     ]
    },
    {
     "name": "stderr",
     "output_type": "stream",
     "text": [
      "[ 2018-03-27 02:34:54,752][cascade_classifier.fit_transform] X_groups_train.shape=[(60000, 794)],y_train.shape=(60000,),X_groups_test.shape=[(10000, 794)],y_test.shape=(10000,)\n",
      "[ 2018-03-27 02:34:55,224][cascade_classifier.fit_transform] group_dims=[794]\n",
      "[ 2018-03-27 02:34:55,225][cascade_classifier.fit_transform] group_starts=[0]\n",
      "[ 2018-03-27 02:34:55,226][cascade_classifier.fit_transform] group_ends=[794]\n",
      "[ 2018-03-27 02:34:55,227][cascade_classifier.fit_transform] X_train.shape=(60000, 794),X_test.shape=(10000, 794)\n",
      "[ 2018-03-27 02:34:55,719][cascade_classifier.fit_transform] [layer=0] look_indexs=[0], X_cur_train.shape=(60000, 794), X_cur_test.shape=(10000, 794)\n",
      "[ 2018-03-27 02:35:52,100][kfold_wrapper.log_eval_metrics] Accuracy(layer_0 - estimator_0 - 10_folds.train_0.predict)=97.59%\n",
      "[ 2018-03-27 02:36:48,773][kfold_wrapper.log_eval_metrics] Accuracy(layer_0 - estimator_0 - 10_folds.train_1.predict)=97.47%\n",
      "[ 2018-03-27 02:37:44,356][kfold_wrapper.log_eval_metrics] Accuracy(layer_0 - estimator_0 - 10_folds.train_2.predict)=98.05%\n",
      "[ 2018-03-27 02:38:30,247][kfold_wrapper.log_eval_metrics] Accuracy(layer_0 - estimator_0 - 10_folds.train_3.predict)=97.60%\n",
      "[ 2018-03-27 02:39:25,791][kfold_wrapper.log_eval_metrics] Accuracy(layer_0 - estimator_0 - 10_folds.train_4.predict)=97.52%\n",
      "[ 2018-03-27 02:40:21,252][kfold_wrapper.log_eval_metrics] Accuracy(layer_0 - estimator_0 - 10_folds.train_5.predict)=97.82%\n",
      "[ 2018-03-27 02:41:17,666][kfold_wrapper.log_eval_metrics] Accuracy(layer_0 - estimator_0 - 10_folds.train_6.predict)=97.70%\n",
      "[ 2018-03-27 02:42:13,828][kfold_wrapper.log_eval_metrics] Accuracy(layer_0 - estimator_0 - 10_folds.train_7.predict)=97.80%\n",
      "[ 2018-03-27 02:43:08,136][kfold_wrapper.log_eval_metrics] Accuracy(layer_0 - estimator_0 - 10_folds.train_8.predict)=97.68%\n",
      "[ 2018-03-27 02:43:55,043][kfold_wrapper.log_eval_metrics] Accuracy(layer_0 - estimator_0 - 10_folds.train_9.predict)=97.62%\n",
      "[ 2018-03-27 02:43:56,051][kfold_wrapper.log_eval_metrics] Accuracy(layer_0 - estimator_0 - 10_folds.train_cv.predict)=97.68%\n",
      "[ 2018-03-27 02:43:56,093][kfold_wrapper.log_eval_metrics] Accuracy(layer_0 - estimator_0 - 10_folds.test.predict)=97.74%\n",
      "[ 2018-03-27 02:43:56,188][cascade_classifier.calc_accuracy] Accuracy(layer_0 - train.classifier_average)=97.68%\n",
      "[ 2018-03-27 02:43:56,190][cascade_classifier.calc_accuracy] Accuracy(layer_0 - test.classifier_average)=97.74%\n",
      "[ 2018-03-27 02:43:56,190][cascade_classifier.fit_transform] [Result][Reach Max Layer] opt_layer_num=1, accuracy_train=97.68%, accuracy_test=97.74%\n",
      "[ 2018-03-27 02:43:56,213][cascade_classifier.transform] X_groups_test.shape=[(10000, 794)]\n",
      "[ 2018-03-27 02:43:56,238][cascade_classifier.transform] group_dims=[794]\n",
      "[ 2018-03-27 02:43:56,239][cascade_classifier.transform] X_test.shape=(10000, 794)\n",
      "[ 2018-03-27 02:43:56,285][cascade_classifier.transform] [layer=0] look_indexs=[0], X_cur_test.shape=(10000, 794)\n"
     ]
    },
    {
     "name": "stdout",
     "output_type": "stream",
     "text": [
      "('Test Accuracy of RandomForest = 97.740000 %', 16, 'fois')\n"
     ]
    },
    {
     "name": "stderr",
     "output_type": "stream",
     "text": [
      "[ 2018-03-27 02:44:13,565][cascade_classifier.fit_transform] X_groups_train.shape=[(60000, 794)],y_train.shape=(60000,),X_groups_test.shape=[(10000, 794)],y_test.shape=(10000,)\n",
      "[ 2018-03-27 02:44:14,147][cascade_classifier.fit_transform] group_dims=[794]\n",
      "[ 2018-03-27 02:44:14,148][cascade_classifier.fit_transform] group_starts=[0]\n",
      "[ 2018-03-27 02:44:14,149][cascade_classifier.fit_transform] group_ends=[794]\n",
      "[ 2018-03-27 02:44:14,170][cascade_classifier.fit_transform] X_train.shape=(60000, 794),X_test.shape=(10000, 794)\n",
      "[ 2018-03-27 02:44:14,644][cascade_classifier.fit_transform] [layer=0] look_indexs=[0], X_cur_train.shape=(60000, 794), X_cur_test.shape=(10000, 794)\n",
      "[ 2018-03-27 02:45:10,337][kfold_wrapper.log_eval_metrics] Accuracy(layer_0 - estimator_0 - 10_folds.train_0.predict)=97.55%\n",
      "[ 2018-03-27 02:46:05,616][kfold_wrapper.log_eval_metrics] Accuracy(layer_0 - estimator_0 - 10_folds.train_1.predict)=97.37%\n",
      "[ 2018-03-27 02:47:01,012][kfold_wrapper.log_eval_metrics] Accuracy(layer_0 - estimator_0 - 10_folds.train_2.predict)=98.07%\n",
      "[ 2018-03-27 02:47:57,281][kfold_wrapper.log_eval_metrics] Accuracy(layer_0 - estimator_0 - 10_folds.train_3.predict)=97.65%\n",
      "[ 2018-03-27 02:48:41,395][kfold_wrapper.log_eval_metrics] Accuracy(layer_0 - estimator_0 - 10_folds.train_4.predict)=97.58%\n",
      "[ 2018-03-27 02:49:37,485][kfold_wrapper.log_eval_metrics] Accuracy(layer_0 - estimator_0 - 10_folds.train_5.predict)=97.80%\n",
      "[ 2018-03-27 02:50:33,093][kfold_wrapper.log_eval_metrics] Accuracy(layer_0 - estimator_0 - 10_folds.train_6.predict)=97.78%\n",
      "[ 2018-03-27 02:51:29,459][kfold_wrapper.log_eval_metrics] Accuracy(layer_0 - estimator_0 - 10_folds.train_7.predict)=97.78%\n",
      "[ 2018-03-27 02:52:27,010][kfold_wrapper.log_eval_metrics] Accuracy(layer_0 - estimator_0 - 10_folds.train_8.predict)=97.77%\n",
      "[ 2018-03-27 02:53:21,608][kfold_wrapper.log_eval_metrics] Accuracy(layer_0 - estimator_0 - 10_folds.train_9.predict)=97.58%\n",
      "[ 2018-03-27 02:53:22,152][kfold_wrapper.log_eval_metrics] Accuracy(layer_0 - estimator_0 - 10_folds.train_cv.predict)=97.69%\n",
      "[ 2018-03-27 02:53:22,153][kfold_wrapper.log_eval_metrics] Accuracy(layer_0 - estimator_0 - 10_folds.test.predict)=97.75%\n",
      "[ 2018-03-27 02:53:22,193][cascade_classifier.calc_accuracy] Accuracy(layer_0 - train.classifier_average)=97.69%\n",
      "[ 2018-03-27 02:53:22,195][cascade_classifier.calc_accuracy] Accuracy(layer_0 - test.classifier_average)=97.75%\n",
      "[ 2018-03-27 02:53:22,195][cascade_classifier.fit_transform] [Result][Reach Max Layer] opt_layer_num=1, accuracy_train=97.69%, accuracy_test=97.75%\n",
      "[ 2018-03-27 02:53:22,197][cascade_classifier.transform] X_groups_test.shape=[(10000, 794)]\n",
      "[ 2018-03-27 02:53:22,223][cascade_classifier.transform] group_dims=[794]\n",
      "[ 2018-03-27 02:53:22,223][cascade_classifier.transform] X_test.shape=(10000, 794)\n",
      "[ 2018-03-27 02:53:22,228][cascade_classifier.transform] [layer=0] look_indexs=[0], X_cur_test.shape=(10000, 794)\n"
     ]
    },
    {
     "name": "stdout",
     "output_type": "stream",
     "text": [
      "('Test Accuracy of RandomForest = 97.750000 %', 17, 'fois')\n"
     ]
    },
    {
     "name": "stderr",
     "output_type": "stream",
     "text": [
      "[ 2018-03-27 02:53:29,485][cascade_classifier.fit_transform] X_groups_train.shape=[(60000, 794)],y_train.shape=(60000,),X_groups_test.shape=[(10000, 794)],y_test.shape=(10000,)\n",
      "[ 2018-03-27 02:53:29,608][cascade_classifier.fit_transform] group_dims=[794]\n",
      "[ 2018-03-27 02:53:29,609][cascade_classifier.fit_transform] group_starts=[0]\n",
      "[ 2018-03-27 02:53:29,610][cascade_classifier.fit_transform] group_ends=[794]\n",
      "[ 2018-03-27 02:53:29,627][cascade_classifier.fit_transform] X_train.shape=(60000, 794),X_test.shape=(10000, 794)\n",
      "[ 2018-03-27 02:53:29,859][cascade_classifier.fit_transform] [layer=0] look_indexs=[0], X_cur_train.shape=(60000, 794), X_cur_test.shape=(10000, 794)\n",
      "[ 2018-03-27 02:54:26,118][kfold_wrapper.log_eval_metrics] Accuracy(layer_0 - estimator_0 - 10_folds.train_0.predict)=97.59%\n",
      "[ 2018-03-27 02:55:21,970][kfold_wrapper.log_eval_metrics] Accuracy(layer_0 - estimator_0 - 10_folds.train_1.predict)=97.47%\n",
      "[ 2018-03-27 02:56:18,062][kfold_wrapper.log_eval_metrics] Accuracy(layer_0 - estimator_0 - 10_folds.train_2.predict)=98.12%\n",
      "[ 2018-03-27 02:57:13,938][kfold_wrapper.log_eval_metrics] Accuracy(layer_0 - estimator_0 - 10_folds.train_3.predict)=97.70%\n",
      "[ 2018-03-27 02:58:10,291][kfold_wrapper.log_eval_metrics] Accuracy(layer_0 - estimator_0 - 10_folds.train_4.predict)=97.67%\n",
      "[ 2018-03-27 02:58:54,969][kfold_wrapper.log_eval_metrics] Accuracy(layer_0 - estimator_0 - 10_folds.train_5.predict)=97.77%\n",
      "[ 2018-03-27 02:59:50,646][kfold_wrapper.log_eval_metrics] Accuracy(layer_0 - estimator_0 - 10_folds.train_6.predict)=97.78%\n",
      "[ 2018-03-27 03:00:46,593][kfold_wrapper.log_eval_metrics] Accuracy(layer_0 - estimator_0 - 10_folds.train_7.predict)=97.73%\n",
      "[ 2018-03-27 03:01:43,823][kfold_wrapper.log_eval_metrics] Accuracy(layer_0 - estimator_0 - 10_folds.train_8.predict)=97.70%\n",
      "[ 2018-03-27 03:02:41,149][kfold_wrapper.log_eval_metrics] Accuracy(layer_0 - estimator_0 - 10_folds.train_9.predict)=97.62%\n",
      "[ 2018-03-27 03:02:42,176][kfold_wrapper.log_eval_metrics] Accuracy(layer_0 - estimator_0 - 10_folds.train_cv.predict)=97.71%\n",
      "[ 2018-03-27 03:02:42,198][kfold_wrapper.log_eval_metrics] Accuracy(layer_0 - estimator_0 - 10_folds.test.predict)=97.78%\n",
      "[ 2018-03-27 03:02:42,245][cascade_classifier.calc_accuracy] Accuracy(layer_0 - train.classifier_average)=97.71%\n",
      "[ 2018-03-27 03:02:42,268][cascade_classifier.calc_accuracy] Accuracy(layer_0 - test.classifier_average)=97.78%\n",
      "[ 2018-03-27 03:02:42,268][cascade_classifier.fit_transform] [Result][Reach Max Layer] opt_layer_num=1, accuracy_train=97.71%, accuracy_test=97.78%\n",
      "[ 2018-03-27 03:02:42,270][cascade_classifier.transform] X_groups_test.shape=[(10000, 794)]\n",
      "[ 2018-03-27 03:02:42,318][cascade_classifier.transform] group_dims=[794]\n",
      "[ 2018-03-27 03:02:42,319][cascade_classifier.transform] X_test.shape=(10000, 794)\n",
      "[ 2018-03-27 03:02:42,385][cascade_classifier.transform] [layer=0] look_indexs=[0], X_cur_test.shape=(10000, 794)\n"
     ]
    },
    {
     "name": "stdout",
     "output_type": "stream",
     "text": [
      "('Test Accuracy of RandomForest = 97.780000 %', 18, 'fois')\n"
     ]
    },
    {
     "name": "stderr",
     "output_type": "stream",
     "text": [
      "[ 2018-03-27 03:02:58,837][cascade_classifier.fit_transform] X_groups_train.shape=[(60000, 794)],y_train.shape=(60000,),X_groups_test.shape=[(10000, 794)],y_test.shape=(10000,)\n",
      "[ 2018-03-27 03:02:59,312][cascade_classifier.fit_transform] group_dims=[794]\n",
      "[ 2018-03-27 03:02:59,328][cascade_classifier.fit_transform] group_starts=[0]\n",
      "[ 2018-03-27 03:02:59,342][cascade_classifier.fit_transform] group_ends=[794]\n",
      "[ 2018-03-27 03:02:59,342][cascade_classifier.fit_transform] X_train.shape=(60000, 794),X_test.shape=(10000, 794)\n",
      "[ 2018-03-27 03:03:00,250][cascade_classifier.fit_transform] [layer=0] look_indexs=[0], X_cur_train.shape=(60000, 794), X_cur_test.shape=(10000, 794)\n",
      "[ 2018-03-27 03:03:45,351][kfold_wrapper.log_eval_metrics] Accuracy(layer_0 - estimator_0 - 10_folds.train_0.predict)=97.70%\n",
      "[ 2018-03-27 03:04:42,151][kfold_wrapper.log_eval_metrics] Accuracy(layer_0 - estimator_0 - 10_folds.train_1.predict)=97.50%\n",
      "[ 2018-03-27 03:05:39,103][kfold_wrapper.log_eval_metrics] Accuracy(layer_0 - estimator_0 - 10_folds.train_2.predict)=98.17%\n",
      "[ 2018-03-27 03:06:35,042][kfold_wrapper.log_eval_metrics] Accuracy(layer_0 - estimator_0 - 10_folds.train_3.predict)=97.62%\n",
      "[ 2018-03-27 03:07:31,986][kfold_wrapper.log_eval_metrics] Accuracy(layer_0 - estimator_0 - 10_folds.train_4.predict)=97.62%\n",
      "[ 2018-03-27 03:08:27,789][kfold_wrapper.log_eval_metrics] Accuracy(layer_0 - estimator_0 - 10_folds.train_5.predict)=97.78%\n",
      "[ 2018-03-27 03:09:06,478][kfold_wrapper.log_eval_metrics] Accuracy(layer_0 - estimator_0 - 10_folds.train_6.predict)=97.73%\n",
      "[ 2018-03-27 03:09:51,304][kfold_wrapper.log_eval_metrics] Accuracy(layer_0 - estimator_0 - 10_folds.train_7.predict)=97.77%\n",
      "[ 2018-03-27 03:10:48,195][kfold_wrapper.log_eval_metrics] Accuracy(layer_0 - estimator_0 - 10_folds.train_8.predict)=97.72%\n",
      "[ 2018-03-27 03:11:50,686][kfold_wrapper.log_eval_metrics] Accuracy(layer_0 - estimator_0 - 10_folds.train_9.predict)=97.62%\n",
      "[ 2018-03-27 03:11:51,840][kfold_wrapper.log_eval_metrics] Accuracy(layer_0 - estimator_0 - 10_folds.train_cv.predict)=97.72%\n",
      "[ 2018-03-27 03:11:51,883][kfold_wrapper.log_eval_metrics] Accuracy(layer_0 - estimator_0 - 10_folds.test.predict)=97.77%\n",
      "[ 2018-03-27 03:11:51,976][cascade_classifier.calc_accuracy] Accuracy(layer_0 - train.classifier_average)=97.72%\n",
      "[ 2018-03-27 03:11:51,978][cascade_classifier.calc_accuracy] Accuracy(layer_0 - test.classifier_average)=97.77%\n",
      "[ 2018-03-27 03:11:51,978][cascade_classifier.fit_transform] [Result][Reach Max Layer] opt_layer_num=1, accuracy_train=97.72%, accuracy_test=97.77%\n",
      "[ 2018-03-27 03:11:52,025][cascade_classifier.transform] X_groups_test.shape=[(10000, 794)]\n",
      "[ 2018-03-27 03:11:52,111][cascade_classifier.transform] group_dims=[794]\n",
      "[ 2018-03-27 03:11:52,119][cascade_classifier.transform] X_test.shape=(10000, 794)\n",
      "[ 2018-03-27 03:11:52,164][cascade_classifier.transform] [layer=0] look_indexs=[0], X_cur_test.shape=(10000, 794)\n"
     ]
    },
    {
     "name": "stdout",
     "output_type": "stream",
     "text": [
      "('Test Accuracy of RandomForest = 97.770000 %', 19, 'fois')\n"
     ]
    }
   ],
   "source": [
    "# deep\n",
    "for i in range (20):\n",
    "    X_train,X_test=update(X_train,X_test)\n",
    "    X_test_enc, X_train_enc=newdata(X_test_enc, X_train_enc)\n",
    "\n",
    "    X_train=X_train_enc\n",
    "    X_test=X_test_enc \n",
    "    X_train_enc, X_test_enc = gc.fit_transform(X_train, y_train, X_test=X_test, y_test=y_test)\n",
    "    affiche()"
   ]
  },
  {
   "cell_type": "code",
   "execution_count": null,
   "metadata": {
    "collapsed": true
   },
   "outputs": [],
   "source": []
  },
  {
   "cell_type": "markdown",
   "metadata": {
    "collapsed": true
   },
   "source": [
    "# ('Test Accuracy of RandomForest = 97.830000 %', 4, 'fois')"
   ]
  },
  {
   "cell_type": "code",
   "execution_count": null,
   "metadata": {
    "collapsed": true
   },
   "outputs": [],
   "source": []
  }
 ],
 "metadata": {
  "kernelspec": {
   "display_name": "Python 2",
   "language": "python",
   "name": "python2"
  },
  "language_info": {
   "codemirror_mode": {
    "name": "ipython",
    "version": 2
   },
   "file_extension": ".py",
   "mimetype": "text/x-python",
   "name": "python",
   "nbconvert_exporter": "python",
   "pygments_lexer": "ipython2",
   "version": "2.7.13"
  }
 },
 "nbformat": 4,
 "nbformat_minor": 2
}

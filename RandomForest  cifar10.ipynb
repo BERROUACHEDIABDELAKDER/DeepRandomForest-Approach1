{
 "cells": [
  {
   "cell_type": "code",
   "execution_count": 1,
   "metadata": {
    "collapsed": true
   },
   "outputs": [],
   "source": [
    "#  imports \n",
    "import numpy as np\n",
    "import pandas as pd\n",
    "from math import sqrt \n",
    "from pprint import pprint\n",
    "from numpy import array"
   ]
  },
  {
   "cell_type": "code",
   "execution_count": 2,
   "metadata": {},
   "outputs": [
    {
     "name": "stderr",
     "output_type": "stream",
     "text": [
      "Using TensorFlow backend.\n"
     ]
    }
   ],
   "source": [
    "# load data \n",
    "from keras.datasets import cifar10\n",
    "\n",
    "cls_names = ('airplane', 'automobile', 'bird', 'cat', 'deer', 'dog', 'frog', 'horse', 'ship', 'truck')\n",
    "\n",
    "\"\"\"\n",
    "X_train.shape: (50000, 3, 32, 32)\n",
    "X_test.shape: (10000, 3, 32, 32)\n",
    "y: 10 labels\n",
    "\"\"\"\n",
    "(X_train, y_train), (X_test, y_test) = cifar10.load_data()\n",
    "y_train = y_train.reshape((y_train.shape[0]))\n",
    "y_test = y_test.reshape((y_test.shape[0]))"
   ]
  },
  {
   "cell_type": "code",
   "execution_count": 3,
   "metadata": {
    "collapsed": true
   },
   "outputs": [],
   "source": [
    "# rechape data (..,...)\n",
    "X_train = np.reshape(X_train, (X_train.shape[0], -1))\n",
    "X_test = np.reshape(X_test, (X_test.shape[0], -1))"
   ]
  },
  {
   "cell_type": "code",
   "execution_count": 4,
   "metadata": {},
   "outputs": [
    {
     "data": {
      "text/plain": [
       "(50000, 3072)"
      ]
     },
     "execution_count": 4,
     "metadata": {},
     "output_type": "execute_result"
    }
   ],
   "source": [
    "# new train reshape \n",
    "X_train.shape"
   ]
  },
  {
   "cell_type": "code",
   "execution_count": 5,
   "metadata": {
    "collapsed": true
   },
   "outputs": [],
   "source": [
    "# deep RandomForest \n",
    "import argparse\n",
    "import sys\n",
    "import pickle\n",
    "from sklearn.metrics import accuracy_score\n",
    "sys.path.insert(0, \"lib\")\n",
    "from gcforest.gcforest import GCForest\n",
    "from gcforest.utils.config_utils import load_json\n",
    "config = load_json(\"./examples/cifar10.json\")   \n",
    "gc = GCForest(config)"
   ]
  },
  {
   "cell_type": "code",
   "execution_count": 6,
   "metadata": {},
   "outputs": [
    {
     "data": {
      "text/plain": [
       "10"
      ]
     },
     "execution_count": 6,
     "metadata": {},
     "output_type": "execute_result"
    }
   ],
   "source": [
    "# number of class\n",
    "len(np.unique(y_train))"
   ]
  },
  {
   "cell_type": "code",
   "execution_count": 7,
   "metadata": {},
   "outputs": [
    {
     "name": "stderr",
     "output_type": "stream",
     "text": [
      "[ 2018-04-21 15:37:30,012][cascade_classifier.fit_transform] X_groups_train.shape=[(50000, 3072)],y_train.shape=(50000,),X_groups_test.shape=[(10000, 3072)],y_test.shape=(10000,)\n",
      "[ 2018-04-21 15:37:30,101][cascade_classifier.fit_transform] group_dims=[3072]\n",
      "[ 2018-04-21 15:37:30,102][cascade_classifier.fit_transform] group_starts=[0]\n",
      "[ 2018-04-21 15:37:30,104][cascade_classifier.fit_transform] group_ends=[3072]\n",
      "[ 2018-04-21 15:37:30,106][cascade_classifier.fit_transform] X_train.shape=(50000, 3072),X_test.shape=(10000, 3072)\n",
      "[ 2018-04-21 15:37:30,334][cascade_classifier.fit_transform] [layer=0] look_indexs=[0], X_cur_train.shape=(50000, 3072), X_cur_test.shape=(10000, 3072)\n",
      "[ 2018-04-21 15:37:38,576][kfold_wrapper.log_eval_metrics] Accuracy(layer_0 - estimator_0 - 10_folds.train_0.predict)=46.00%\n",
      "[ 2018-04-21 15:37:46,886][kfold_wrapper.log_eval_metrics] Accuracy(layer_0 - estimator_0 - 10_folds.train_1.predict)=46.06%\n",
      "[ 2018-04-21 15:37:54,525][kfold_wrapper.log_eval_metrics] Accuracy(layer_0 - estimator_0 - 10_folds.train_2.predict)=45.84%\n",
      "[ 2018-04-21 15:38:02,653][kfold_wrapper.log_eval_metrics] Accuracy(layer_0 - estimator_0 - 10_folds.train_3.predict)=47.22%\n",
      "[ 2018-04-21 15:38:11,001][kfold_wrapper.log_eval_metrics] Accuracy(layer_0 - estimator_0 - 10_folds.train_4.predict)=46.66%\n",
      "[ 2018-04-21 15:38:19,469][kfold_wrapper.log_eval_metrics] Accuracy(layer_0 - estimator_0 - 10_folds.train_5.predict)=46.88%\n",
      "[ 2018-04-21 15:38:27,608][kfold_wrapper.log_eval_metrics] Accuracy(layer_0 - estimator_0 - 10_folds.train_6.predict)=47.50%\n",
      "[ 2018-04-21 15:38:35,640][kfold_wrapper.log_eval_metrics] Accuracy(layer_0 - estimator_0 - 10_folds.train_7.predict)=45.68%\n",
      "[ 2018-04-21 15:38:43,470][kfold_wrapper.log_eval_metrics] Accuracy(layer_0 - estimator_0 - 10_folds.train_8.predict)=47.06%\n",
      "[ 2018-04-21 15:38:51,854][kfold_wrapper.log_eval_metrics] Accuracy(layer_0 - estimator_0 - 10_folds.train_9.predict)=46.04%\n",
      "[ 2018-04-21 15:38:52,116][kfold_wrapper.log_eval_metrics] Accuracy(layer_0 - estimator_0 - 10_folds.train_cv.predict)=46.49%\n",
      "[ 2018-04-21 15:38:52,119][kfold_wrapper.log_eval_metrics] Accuracy(layer_0 - estimator_0 - 10_folds.test.predict)=49.14%\n",
      "[ 2018-04-21 15:38:52,134][cascade_classifier.calc_accuracy] Accuracy(layer_0 - train.classifier_average)=46.49%\n",
      "[ 2018-04-21 15:38:52,137][cascade_classifier.calc_accuracy] Accuracy(layer_0 - test.classifier_average)=49.14%\n",
      "[ 2018-04-21 15:38:52,138][cascade_classifier.fit_transform] [Result][Reach Max Layer] opt_layer_num=1, accuracy_train=46.49%, accuracy_test=49.14%\n"
     ]
    }
   ],
   "source": [
    "    # X_enc is the concatenated predict_proba result of RandomForest\n",
    "\n",
    "X_train_enc, X_test_enc = gc.fit_transform(X_train, y_train, X_test=X_test, y_test=y_test)\n",
    "     "
   ]
  },
  {
   "cell_type": "code",
   "execution_count": 8,
   "metadata": {},
   "outputs": [
    {
     "name": "stderr",
     "output_type": "stream",
     "text": [
      "[ 2018-04-21 15:40:03,961][cascade_classifier.transform] X_groups_test.shape=[(10000, 3072)]\n",
      "[ 2018-04-21 15:40:03,970][cascade_classifier.transform] group_dims=[3072]\n",
      "[ 2018-04-21 15:40:03,972][cascade_classifier.transform] X_test.shape=(10000, 3072)\n",
      "[ 2018-04-21 15:40:04,017][cascade_classifier.transform] [layer=0] look_indexs=[0], X_cur_test.shape=(10000, 3072)\n"
     ]
    },
    {
     "name": "stdout",
     "output_type": "stream",
     "text": [
      "Test Accuracy of RandomForest = 49.150000 %\n"
     ]
    }
   ],
   "source": [
    "# predict\n",
    "y_pred = gc.predict(X_test)\n",
    "acc = accuracy_score(y_test, y_pred)\n",
    "print(\"Test Accuracy of RandomForest = {:.6f} %\".format(acc * 100))"
   ]
  },
  {
   "cell_type": "code",
   "execution_count": 9,
   "metadata": {},
   "outputs": [
    {
     "name": "stderr",
     "output_type": "stream",
     "text": [
      "[ 2018-04-21 15:40:11,389][cascade_classifier.transform] X_groups_test.shape=[(10000, 3072)]\n",
      "[ 2018-04-21 15:40:11,397][cascade_classifier.transform] group_dims=[3072]\n",
      "[ 2018-04-21 15:40:11,398][cascade_classifier.transform] X_test.shape=(10000, 3072)\n",
      "[ 2018-04-21 15:40:11,446][cascade_classifier.transform] [layer=0] look_indexs=[0], X_cur_test.shape=(10000, 3072)\n"
     ]
    }
   ],
   "source": [
    "# predict_proba result of RandomForest + data\n",
    "X_test_enc = gc.transform(X_test)\n",
    "X_train_enc = X_train_enc.reshape((X_train_enc.shape[0], -1))\n",
    "X_test_enc = X_test_enc.reshape((X_test_enc.shape[0], -1))\n",
    "X_train_origin = X_train.reshape((X_train.shape[0], -1))\n",
    "X_test_origin = X_test.reshape((X_test.shape[0], -1))\n",
    "X_train_enc = np.hstack((X_train_origin, X_train_enc))\n",
    "X_test_enc = np.hstack((X_test_origin, X_test_enc))"
   ]
  },
  {
   "cell_type": "code",
   "execution_count": 10,
   "metadata": {},
   "outputs": [
    {
     "name": "stderr",
     "output_type": "stream",
     "text": [
      "[ 2018-04-21 15:40:15,236][cascade_classifier.fit_transform] X_groups_train.shape=[(50000, 3082)],y_train.shape=(50000,),X_groups_test.shape=[(10000, 3082)],y_test.shape=(10000,)\n",
      "[ 2018-04-21 15:40:15,531][cascade_classifier.fit_transform] group_dims=[3082]\n",
      "[ 2018-04-21 15:40:15,533][cascade_classifier.fit_transform] group_starts=[0]\n",
      "[ 2018-04-21 15:40:15,535][cascade_classifier.fit_transform] group_ends=[3082]\n",
      "[ 2018-04-21 15:40:15,537][cascade_classifier.fit_transform] X_train.shape=(50000, 3082),X_test.shape=(10000, 3082)\n",
      "[ 2018-04-21 15:40:15,819][cascade_classifier.fit_transform] [layer=0] look_indexs=[0], X_cur_train.shape=(50000, 3082), X_cur_test.shape=(10000, 3082)\n",
      "[ 2018-04-21 15:40:23,737][kfold_wrapper.log_eval_metrics] Accuracy(layer_0 - estimator_0 - 10_folds.train_0.predict)=47.52%\n",
      "[ 2018-04-21 15:40:31,880][kfold_wrapper.log_eval_metrics] Accuracy(layer_0 - estimator_0 - 10_folds.train_1.predict)=46.62%\n",
      "[ 2018-04-21 15:40:39,954][kfold_wrapper.log_eval_metrics] Accuracy(layer_0 - estimator_0 - 10_folds.train_2.predict)=46.52%\n",
      "[ 2018-04-21 15:40:48,113][kfold_wrapper.log_eval_metrics] Accuracy(layer_0 - estimator_0 - 10_folds.train_3.predict)=48.02%\n",
      "[ 2018-04-21 15:40:56,425][kfold_wrapper.log_eval_metrics] Accuracy(layer_0 - estimator_0 - 10_folds.train_4.predict)=46.72%\n",
      "[ 2018-04-21 15:41:04,601][kfold_wrapper.log_eval_metrics] Accuracy(layer_0 - estimator_0 - 10_folds.train_5.predict)=48.60%\n",
      "[ 2018-04-21 15:41:12,857][kfold_wrapper.log_eval_metrics] Accuracy(layer_0 - estimator_0 - 10_folds.train_6.predict)=48.62%\n",
      "[ 2018-04-21 15:41:20,998][kfold_wrapper.log_eval_metrics] Accuracy(layer_0 - estimator_0 - 10_folds.train_7.predict)=46.96%\n",
      "[ 2018-04-21 15:41:29,228][kfold_wrapper.log_eval_metrics] Accuracy(layer_0 - estimator_0 - 10_folds.train_8.predict)=46.50%\n",
      "[ 2018-04-21 15:41:36,977][kfold_wrapper.log_eval_metrics] Accuracy(layer_0 - estimator_0 - 10_folds.train_9.predict)=46.78%\n",
      "[ 2018-04-21 15:41:37,130][kfold_wrapper.log_eval_metrics] Accuracy(layer_0 - estimator_0 - 10_folds.train_cv.predict)=47.29%\n",
      "[ 2018-04-21 15:41:37,132][kfold_wrapper.log_eval_metrics] Accuracy(layer_0 - estimator_0 - 10_folds.test.predict)=50.10%\n",
      "[ 2018-04-21 15:41:37,163][cascade_classifier.calc_accuracy] Accuracy(layer_0 - train.classifier_average)=47.29%\n",
      "[ 2018-04-21 15:41:37,165][cascade_classifier.calc_accuracy] Accuracy(layer_0 - test.classifier_average)=50.10%\n",
      "[ 2018-04-21 15:41:37,166][cascade_classifier.fit_transform] [Result][Reach Max Layer] opt_layer_num=1, accuracy_train=47.29%, accuracy_test=50.10%\n"
     ]
    }
   ],
   "source": [
    "# New data\n",
    "X_train=X_train_enc\n",
    "X_test=X_test_enc \n",
    "X_train_enc, X_test_enc = gc.fit_transform(X_train, y_train, X_test=X_test, y_test=y_test)"
   ]
  },
  {
   "cell_type": "code",
   "execution_count": 11,
   "metadata": {},
   "outputs": [
    {
     "name": "stdout",
     "output_type": "stream",
     "text": [
      "X_train_enc.shape=(50000, 10), X_test_enc.shape=(10000, 10)\n"
     ]
    }
   ],
   "source": [
    "print(\"X_train_enc.shape={}, X_test_enc.shape={}\".format(X_train_enc.shape, X_test_enc.shape))"
   ]
  },
  {
   "cell_type": "code",
   "execution_count": 12,
   "metadata": {},
   "outputs": [
    {
     "name": "stdout",
     "output_type": "stream",
     "text": [
      "X_train_enc.shape=(50000, 3082), X_test_enc.shape=(10000, 3082)\n"
     ]
    }
   ],
   "source": [
    "print(\"X_train_enc.shape={}, X_test_enc.shape={}\".format(X_train.shape, X_test.shape))"
   ]
  },
  {
   "cell_type": "code",
   "execution_count": 13,
   "metadata": {
    "collapsed": true
   },
   "outputs": [],
   "source": [
    "def update(X_train,X_test):\n",
    "    # update Estimators\n",
    "    for i in range(5):\n",
    "        M = np.delete(X_train, (-1), axis=1)\n",
    "        X_train= np.delete(M, (-1), axis=1)\n",
    "        M = np.delete(X_test, (-1), axis=1)\n",
    "        X_test = np.delete(M, (-1), axis=1)\n",
    "    return X_train,X_test"
   ]
  },
  {
   "cell_type": "code",
   "execution_count": 14,
   "metadata": {},
   "outputs": [
    {
     "name": "stdout",
     "output_type": "stream",
     "text": [
      "X_train_enc.shape=(50000, 3082), X_test_enc.shape=(10000, 3082)\n"
     ]
    }
   ],
   "source": [
    "print(\"X_train_enc.shape={}, X_test_enc.shape={}\".format(X_train.shape, X_test.shape))"
   ]
  },
  {
   "cell_type": "code",
   "execution_count": 15,
   "metadata": {
    "collapsed": true
   },
   "outputs": [],
   "source": [
    "def newdata(X_test_enc, X_train_enc):\n",
    "    # Make Data + Estimators\n",
    "    X_train_origin = X_train.reshape((X_train.shape[0], -1))\n",
    "    X_test_origin = X_test.reshape((X_test.shape[0], -1))\n",
    "    X_train_enc = np.hstack((X_train_origin, X_train_enc))\n",
    "    X_test_enc = np.hstack((X_test_origin, X_test_enc))\n",
    "    return X_test_enc, X_train_enc\n",
    "\n",
    "def affiche():\n",
    "    # predict\n",
    "    y_pred = gc.predict(X_test)\n",
    "    acc = accuracy_score(y_test, y_pred)\n",
    "    print(\"Test Accuracy of RandomForest = {:.6f} %\".format(acc * 100),i,'fois')"
   ]
  },
  {
   "cell_type": "code",
   "execution_count": 16,
   "metadata": {},
   "outputs": [
    {
     "name": "stderr",
     "output_type": "stream",
     "text": [
      "[ 2018-04-21 15:41:40,071][cascade_classifier.fit_transform] X_groups_train.shape=[(50000, 3082)],y_train.shape=(50000,),X_groups_test.shape=[(10000, 3082)],y_test.shape=(10000,)\n",
      "[ 2018-04-21 15:41:40,350][cascade_classifier.fit_transform] group_dims=[3082]\n",
      "[ 2018-04-21 15:41:40,352][cascade_classifier.fit_transform] group_starts=[0]\n",
      "[ 2018-04-21 15:41:40,354][cascade_classifier.fit_transform] group_ends=[3082]\n",
      "[ 2018-04-21 15:41:40,356][cascade_classifier.fit_transform] X_train.shape=(50000, 3082),X_test.shape=(10000, 3082)\n",
      "[ 2018-04-21 15:41:40,635][cascade_classifier.fit_transform] [layer=0] look_indexs=[0], X_cur_train.shape=(50000, 3082), X_cur_test.shape=(10000, 3082)\n",
      "[ 2018-04-21 15:41:48,246][kfold_wrapper.log_eval_metrics] Accuracy(layer_0 - estimator_0 - 10_folds.train_0.predict)=46.72%\n",
      "[ 2018-04-21 15:41:55,955][kfold_wrapper.log_eval_metrics] Accuracy(layer_0 - estimator_0 - 10_folds.train_1.predict)=47.86%\n",
      "[ 2018-04-21 15:42:04,166][kfold_wrapper.log_eval_metrics] Accuracy(layer_0 - estimator_0 - 10_folds.train_2.predict)=46.88%\n",
      "[ 2018-04-21 15:42:11,992][kfold_wrapper.log_eval_metrics] Accuracy(layer_0 - estimator_0 - 10_folds.train_3.predict)=48.00%\n",
      "[ 2018-04-21 15:42:20,026][kfold_wrapper.log_eval_metrics] Accuracy(layer_0 - estimator_0 - 10_folds.train_4.predict)=47.66%\n",
      "[ 2018-04-21 15:42:27,841][kfold_wrapper.log_eval_metrics] Accuracy(layer_0 - estimator_0 - 10_folds.train_5.predict)=48.34%\n",
      "[ 2018-04-21 15:42:35,975][kfold_wrapper.log_eval_metrics] Accuracy(layer_0 - estimator_0 - 10_folds.train_6.predict)=48.24%\n",
      "[ 2018-04-21 15:42:43,652][kfold_wrapper.log_eval_metrics] Accuracy(layer_0 - estimator_0 - 10_folds.train_7.predict)=46.56%\n",
      "[ 2018-04-21 15:42:51,416][kfold_wrapper.log_eval_metrics] Accuracy(layer_0 - estimator_0 - 10_folds.train_8.predict)=46.98%\n",
      "[ 2018-04-21 15:42:59,475][kfold_wrapper.log_eval_metrics] Accuracy(layer_0 - estimator_0 - 10_folds.train_9.predict)=47.16%\n",
      "[ 2018-04-21 15:42:59,775][kfold_wrapper.log_eval_metrics] Accuracy(layer_0 - estimator_0 - 10_folds.train_cv.predict)=47.44%\n",
      "[ 2018-04-21 15:42:59,778][kfold_wrapper.log_eval_metrics] Accuracy(layer_0 - estimator_0 - 10_folds.test.predict)=50.56%\n",
      "[ 2018-04-21 15:42:59,845][cascade_classifier.calc_accuracy] Accuracy(layer_0 - train.classifier_average)=47.44%\n",
      "[ 2018-04-21 15:42:59,847][cascade_classifier.calc_accuracy] Accuracy(layer_0 - test.classifier_average)=50.56%\n",
      "[ 2018-04-21 15:42:59,849][cascade_classifier.fit_transform] [Result][Reach Max Layer] opt_layer_num=1, accuracy_train=47.44%, accuracy_test=50.56%\n",
      "[ 2018-04-21 15:42:59,855][cascade_classifier.transform] X_groups_test.shape=[(10000, 3082)]\n",
      "[ 2018-04-21 15:42:59,905][cascade_classifier.transform] group_dims=[3082]\n",
      "[ 2018-04-21 15:42:59,907][cascade_classifier.transform] X_test.shape=(10000, 3082)\n",
      "[ 2018-04-21 15:42:59,954][cascade_classifier.transform] [layer=0] look_indexs=[0], X_cur_test.shape=(10000, 3082)\n"
     ]
    },
    {
     "name": "stdout",
     "output_type": "stream",
     "text": [
      "('Test Accuracy of RandomForest = 50.550000 %', 0, 'fois')\n"
     ]
    },
    {
     "name": "stderr",
     "output_type": "stream",
     "text": [
      "[ 2018-04-21 15:43:07,715][cascade_classifier.fit_transform] X_groups_train.shape=[(50000, 3082)],y_train.shape=(50000,),X_groups_test.shape=[(10000, 3082)],y_test.shape=(10000,)\n",
      "[ 2018-04-21 15:43:07,996][cascade_classifier.fit_transform] group_dims=[3082]\n",
      "[ 2018-04-21 15:43:07,998][cascade_classifier.fit_transform] group_starts=[0]\n",
      "[ 2018-04-21 15:43:08,000][cascade_classifier.fit_transform] group_ends=[3082]\n",
      "[ 2018-04-21 15:43:08,002][cascade_classifier.fit_transform] X_train.shape=(50000, 3082),X_test.shape=(10000, 3082)\n",
      "[ 2018-04-21 15:43:08,284][cascade_classifier.fit_transform] [layer=0] look_indexs=[0], X_cur_train.shape=(50000, 3082), X_cur_test.shape=(10000, 3082)\n",
      "[ 2018-04-21 15:43:15,954][kfold_wrapper.log_eval_metrics] Accuracy(layer_0 - estimator_0 - 10_folds.train_0.predict)=47.28%\n",
      "[ 2018-04-21 15:43:23,593][kfold_wrapper.log_eval_metrics] Accuracy(layer_0 - estimator_0 - 10_folds.train_1.predict)=47.96%\n",
      "[ 2018-04-21 15:43:31,452][kfold_wrapper.log_eval_metrics] Accuracy(layer_0 - estimator_0 - 10_folds.train_2.predict)=46.92%\n",
      "[ 2018-04-21 15:43:39,605][kfold_wrapper.log_eval_metrics] Accuracy(layer_0 - estimator_0 - 10_folds.train_3.predict)=48.70%\n",
      "[ 2018-04-21 15:43:47,448][kfold_wrapper.log_eval_metrics] Accuracy(layer_0 - estimator_0 - 10_folds.train_4.predict)=47.12%\n",
      "[ 2018-04-21 15:43:55,463][kfold_wrapper.log_eval_metrics] Accuracy(layer_0 - estimator_0 - 10_folds.train_5.predict)=48.68%\n",
      "[ 2018-04-21 15:44:03,499][kfold_wrapper.log_eval_metrics] Accuracy(layer_0 - estimator_0 - 10_folds.train_6.predict)=48.74%\n",
      "[ 2018-04-21 15:44:11,519][kfold_wrapper.log_eval_metrics] Accuracy(layer_0 - estimator_0 - 10_folds.train_7.predict)=46.98%\n",
      "[ 2018-04-21 15:44:19,145][kfold_wrapper.log_eval_metrics] Accuracy(layer_0 - estimator_0 - 10_folds.train_8.predict)=47.20%\n",
      "[ 2018-04-21 15:44:27,553][kfold_wrapper.log_eval_metrics] Accuracy(layer_0 - estimator_0 - 10_folds.train_9.predict)=48.02%\n",
      "[ 2018-04-21 15:44:27,712][kfold_wrapper.log_eval_metrics] Accuracy(layer_0 - estimator_0 - 10_folds.train_cv.predict)=47.76%\n",
      "[ 2018-04-21 15:44:27,714][kfold_wrapper.log_eval_metrics] Accuracy(layer_0 - estimator_0 - 10_folds.test.predict)=50.51%\n",
      "[ 2018-04-21 15:44:27,733][cascade_classifier.calc_accuracy] Accuracy(layer_0 - train.classifier_average)=47.76%\n",
      "[ 2018-04-21 15:44:27,735][cascade_classifier.calc_accuracy] Accuracy(layer_0 - test.classifier_average)=50.51%\n",
      "[ 2018-04-21 15:44:27,736][cascade_classifier.fit_transform] [Result][Reach Max Layer] opt_layer_num=1, accuracy_train=47.76%, accuracy_test=50.51%\n",
      "[ 2018-04-21 15:44:27,742][cascade_classifier.transform] X_groups_test.shape=[(10000, 3082)]\n",
      "[ 2018-04-21 15:44:27,793][cascade_classifier.transform] group_dims=[3082]\n",
      "[ 2018-04-21 15:44:27,794][cascade_classifier.transform] X_test.shape=(10000, 3082)\n",
      "[ 2018-04-21 15:44:27,844][cascade_classifier.transform] [layer=0] look_indexs=[0], X_cur_test.shape=(10000, 3082)\n"
     ]
    },
    {
     "name": "stdout",
     "output_type": "stream",
     "text": [
      "('Test Accuracy of RandomForest = 50.520000 %', 1, 'fois')\n"
     ]
    },
    {
     "name": "stderr",
     "output_type": "stream",
     "text": [
      "[ 2018-04-21 15:44:37,166][cascade_classifier.fit_transform] X_groups_train.shape=[(50000, 3082)],y_train.shape=(50000,),X_groups_test.shape=[(10000, 3082)],y_test.shape=(10000,)\n",
      "[ 2018-04-21 15:44:37,449][cascade_classifier.fit_transform] group_dims=[3082]\n",
      "[ 2018-04-21 15:44:37,451][cascade_classifier.fit_transform] group_starts=[0]\n",
      "[ 2018-04-21 15:44:37,452][cascade_classifier.fit_transform] group_ends=[3082]\n",
      "[ 2018-04-21 15:44:37,454][cascade_classifier.fit_transform] X_train.shape=(50000, 3082),X_test.shape=(10000, 3082)\n",
      "[ 2018-04-21 15:44:37,738][cascade_classifier.fit_transform] [layer=0] look_indexs=[0], X_cur_train.shape=(50000, 3082), X_cur_test.shape=(10000, 3082)\n",
      "[ 2018-04-21 15:44:45,746][kfold_wrapper.log_eval_metrics] Accuracy(layer_0 - estimator_0 - 10_folds.train_0.predict)=47.08%\n",
      "[ 2018-04-21 15:44:53,575][kfold_wrapper.log_eval_metrics] Accuracy(layer_0 - estimator_0 - 10_folds.train_1.predict)=47.54%\n",
      "[ 2018-04-21 15:45:01,389][kfold_wrapper.log_eval_metrics] Accuracy(layer_0 - estimator_0 - 10_folds.train_2.predict)=47.42%\n",
      "[ 2018-04-21 15:45:09,190][kfold_wrapper.log_eval_metrics] Accuracy(layer_0 - estimator_0 - 10_folds.train_3.predict)=48.88%\n",
      "[ 2018-04-21 15:45:17,527][kfold_wrapper.log_eval_metrics] Accuracy(layer_0 - estimator_0 - 10_folds.train_4.predict)=47.34%\n",
      "[ 2018-04-21 15:45:25,440][kfold_wrapper.log_eval_metrics] Accuracy(layer_0 - estimator_0 - 10_folds.train_5.predict)=49.42%\n",
      "[ 2018-04-21 15:45:33,374][kfold_wrapper.log_eval_metrics] Accuracy(layer_0 - estimator_0 - 10_folds.train_6.predict)=48.20%\n",
      "[ 2018-04-21 15:45:41,511][kfold_wrapper.log_eval_metrics] Accuracy(layer_0 - estimator_0 - 10_folds.train_7.predict)=47.64%\n",
      "[ 2018-04-21 15:45:49,361][kfold_wrapper.log_eval_metrics] Accuracy(layer_0 - estimator_0 - 10_folds.train_8.predict)=46.60%\n",
      "[ 2018-04-21 15:45:57,565][kfold_wrapper.log_eval_metrics] Accuracy(layer_0 - estimator_0 - 10_folds.train_9.predict)=47.86%\n",
      "[ 2018-04-21 15:45:57,849][kfold_wrapper.log_eval_metrics] Accuracy(layer_0 - estimator_0 - 10_folds.train_cv.predict)=47.80%\n",
      "[ 2018-04-21 15:45:57,852][kfold_wrapper.log_eval_metrics] Accuracy(layer_0 - estimator_0 - 10_folds.test.predict)=50.62%\n",
      "[ 2018-04-21 15:45:57,893][cascade_classifier.calc_accuracy] Accuracy(layer_0 - train.classifier_average)=47.80%\n",
      "[ 2018-04-21 15:45:57,896][cascade_classifier.calc_accuracy] Accuracy(layer_0 - test.classifier_average)=50.62%\n",
      "[ 2018-04-21 15:45:57,897][cascade_classifier.fit_transform] [Result][Reach Max Layer] opt_layer_num=1, accuracy_train=47.80%, accuracy_test=50.62%\n",
      "[ 2018-04-21 15:45:57,904][cascade_classifier.transform] X_groups_test.shape=[(10000, 3082)]\n",
      "[ 2018-04-21 15:45:57,977][cascade_classifier.transform] group_dims=[3082]\n",
      "[ 2018-04-21 15:45:57,978][cascade_classifier.transform] X_test.shape=(10000, 3082)\n",
      "[ 2018-04-21 15:45:58,039][cascade_classifier.transform] [layer=0] look_indexs=[0], X_cur_test.shape=(10000, 3082)\n"
     ]
    },
    {
     "name": "stdout",
     "output_type": "stream",
     "text": [
      "('Test Accuracy of RandomForest = 50.630000 %', 2, 'fois')\n"
     ]
    },
    {
     "name": "stderr",
     "output_type": "stream",
     "text": [
      "[ 2018-04-21 15:46:06,116][cascade_classifier.fit_transform] X_groups_train.shape=[(50000, 3082)],y_train.shape=(50000,),X_groups_test.shape=[(10000, 3082)],y_test.shape=(10000,)\n",
      "[ 2018-04-21 15:46:06,379][cascade_classifier.fit_transform] group_dims=[3082]\n",
      "[ 2018-04-21 15:46:06,381][cascade_classifier.fit_transform] group_starts=[0]\n",
      "[ 2018-04-21 15:46:06,383][cascade_classifier.fit_transform] group_ends=[3082]\n",
      "[ 2018-04-21 15:46:06,384][cascade_classifier.fit_transform] X_train.shape=(50000, 3082),X_test.shape=(10000, 3082)\n",
      "[ 2018-04-21 15:46:06,646][cascade_classifier.fit_transform] [layer=0] look_indexs=[0], X_cur_train.shape=(50000, 3082), X_cur_test.shape=(10000, 3082)\n",
      "[ 2018-04-21 15:46:14,275][kfold_wrapper.log_eval_metrics] Accuracy(layer_0 - estimator_0 - 10_folds.train_0.predict)=47.64%\n",
      "[ 2018-04-21 15:46:22,494][kfold_wrapper.log_eval_metrics] Accuracy(layer_0 - estimator_0 - 10_folds.train_1.predict)=47.86%\n",
      "[ 2018-04-21 15:46:30,593][kfold_wrapper.log_eval_metrics] Accuracy(layer_0 - estimator_0 - 10_folds.train_2.predict)=47.02%\n",
      "[ 2018-04-21 15:46:38,627][kfold_wrapper.log_eval_metrics] Accuracy(layer_0 - estimator_0 - 10_folds.train_3.predict)=48.60%\n",
      "[ 2018-04-21 15:46:46,556][kfold_wrapper.log_eval_metrics] Accuracy(layer_0 - estimator_0 - 10_folds.train_4.predict)=47.64%\n",
      "[ 2018-04-21 15:46:54,428][kfold_wrapper.log_eval_metrics] Accuracy(layer_0 - estimator_0 - 10_folds.train_5.predict)=49.08%\n",
      "[ 2018-04-21 15:47:02,733][kfold_wrapper.log_eval_metrics] Accuracy(layer_0 - estimator_0 - 10_folds.train_6.predict)=48.44%\n",
      "[ 2018-04-21 15:47:10,783][kfold_wrapper.log_eval_metrics] Accuracy(layer_0 - estimator_0 - 10_folds.train_7.predict)=47.14%\n",
      "[ 2018-04-21 15:47:18,743][kfold_wrapper.log_eval_metrics] Accuracy(layer_0 - estimator_0 - 10_folds.train_8.predict)=47.02%\n",
      "[ 2018-04-21 15:47:26,835][kfold_wrapper.log_eval_metrics] Accuracy(layer_0 - estimator_0 - 10_folds.train_9.predict)=47.24%\n",
      "[ 2018-04-21 15:47:27,163][kfold_wrapper.log_eval_metrics] Accuracy(layer_0 - estimator_0 - 10_folds.train_cv.predict)=47.77%\n",
      "[ 2018-04-21 15:47:27,166][kfold_wrapper.log_eval_metrics] Accuracy(layer_0 - estimator_0 - 10_folds.test.predict)=50.84%\n",
      "[ 2018-04-21 15:47:27,194][cascade_classifier.calc_accuracy] Accuracy(layer_0 - train.classifier_average)=47.77%\n",
      "[ 2018-04-21 15:47:27,197][cascade_classifier.calc_accuracy] Accuracy(layer_0 - test.classifier_average)=50.84%\n",
      "[ 2018-04-21 15:47:27,198][cascade_classifier.fit_transform] [Result][Reach Max Layer] opt_layer_num=1, accuracy_train=47.77%, accuracy_test=50.84%\n",
      "[ 2018-04-21 15:47:27,204][cascade_classifier.transform] X_groups_test.shape=[(10000, 3082)]\n",
      "[ 2018-04-21 15:47:27,258][cascade_classifier.transform] group_dims=[3082]\n",
      "[ 2018-04-21 15:47:27,260][cascade_classifier.transform] X_test.shape=(10000, 3082)\n",
      "[ 2018-04-21 15:47:27,281][cascade_classifier.transform] [layer=0] look_indexs=[0], X_cur_test.shape=(10000, 3082)\n"
     ]
    },
    {
     "name": "stdout",
     "output_type": "stream",
     "text": [
      "('Test Accuracy of RandomForest = 50.800000 %', 3, 'fois')\n"
     ]
    },
    {
     "name": "stderr",
     "output_type": "stream",
     "text": [
      "[ 2018-04-21 15:47:35,191][cascade_classifier.fit_transform] X_groups_train.shape=[(50000, 3082)],y_train.shape=(50000,),X_groups_test.shape=[(10000, 3082)],y_test.shape=(10000,)\n",
      "[ 2018-04-21 15:47:35,446][cascade_classifier.fit_transform] group_dims=[3082]\n",
      "[ 2018-04-21 15:47:35,448][cascade_classifier.fit_transform] group_starts=[0]\n",
      "[ 2018-04-21 15:47:35,450][cascade_classifier.fit_transform] group_ends=[3082]\n",
      "[ 2018-04-21 15:47:35,451][cascade_classifier.fit_transform] X_train.shape=(50000, 3082),X_test.shape=(10000, 3082)\n",
      "[ 2018-04-21 15:47:35,710][cascade_classifier.fit_transform] [layer=0] look_indexs=[0], X_cur_train.shape=(50000, 3082), X_cur_test.shape=(10000, 3082)\n",
      "[ 2018-04-21 15:47:43,428][kfold_wrapper.log_eval_metrics] Accuracy(layer_0 - estimator_0 - 10_folds.train_0.predict)=47.52%\n",
      "[ 2018-04-21 15:47:51,528][kfold_wrapper.log_eval_metrics] Accuracy(layer_0 - estimator_0 - 10_folds.train_1.predict)=47.54%\n",
      "[ 2018-04-21 15:47:59,400][kfold_wrapper.log_eval_metrics] Accuracy(layer_0 - estimator_0 - 10_folds.train_2.predict)=47.16%\n",
      "[ 2018-04-21 15:48:07,321][kfold_wrapper.log_eval_metrics] Accuracy(layer_0 - estimator_0 - 10_folds.train_3.predict)=48.56%\n",
      "[ 2018-04-21 15:48:15,306][kfold_wrapper.log_eval_metrics] Accuracy(layer_0 - estimator_0 - 10_folds.train_4.predict)=47.36%\n",
      "[ 2018-04-21 15:48:23,199][kfold_wrapper.log_eval_metrics] Accuracy(layer_0 - estimator_0 - 10_folds.train_5.predict)=48.24%\n",
      "[ 2018-04-21 15:48:31,276][kfold_wrapper.log_eval_metrics] Accuracy(layer_0 - estimator_0 - 10_folds.train_6.predict)=48.82%\n",
      "[ 2018-04-21 15:48:39,094][kfold_wrapper.log_eval_metrics] Accuracy(layer_0 - estimator_0 - 10_folds.train_7.predict)=47.42%\n",
      "[ 2018-04-21 15:48:47,099][kfold_wrapper.log_eval_metrics] Accuracy(layer_0 - estimator_0 - 10_folds.train_8.predict)=47.00%\n",
      "[ 2018-04-21 15:48:55,209][kfold_wrapper.log_eval_metrics] Accuracy(layer_0 - estimator_0 - 10_folds.train_9.predict)=47.90%\n",
      "[ 2018-04-21 15:48:55,418][kfold_wrapper.log_eval_metrics] Accuracy(layer_0 - estimator_0 - 10_folds.train_cv.predict)=47.75%\n",
      "[ 2018-04-21 15:48:55,420][kfold_wrapper.log_eval_metrics] Accuracy(layer_0 - estimator_0 - 10_folds.test.predict)=50.83%\n",
      "[ 2018-04-21 15:48:55,452][cascade_classifier.calc_accuracy] Accuracy(layer_0 - train.classifier_average)=47.75%\n",
      "[ 2018-04-21 15:48:55,454][cascade_classifier.calc_accuracy] Accuracy(layer_0 - test.classifier_average)=50.83%\n",
      "[ 2018-04-21 15:48:55,455][cascade_classifier.fit_transform] [Result][Reach Max Layer] opt_layer_num=1, accuracy_train=47.75%, accuracy_test=50.83%\n",
      "[ 2018-04-21 15:48:55,460][cascade_classifier.transform] X_groups_test.shape=[(10000, 3082)]\n",
      "[ 2018-04-21 15:48:55,502][cascade_classifier.transform] group_dims=[3082]\n",
      "[ 2018-04-21 15:48:55,503][cascade_classifier.transform] X_test.shape=(10000, 3082)\n",
      "[ 2018-04-21 15:48:55,520][cascade_classifier.transform] [layer=0] look_indexs=[0], X_cur_test.shape=(10000, 3082)\n"
     ]
    },
    {
     "name": "stdout",
     "output_type": "stream",
     "text": [
      "('Test Accuracy of RandomForest = 50.850000 %', 4, 'fois')\n"
     ]
    },
    {
     "name": "stderr",
     "output_type": "stream",
     "text": [
      "[ 2018-04-21 15:49:03,023][cascade_classifier.fit_transform] X_groups_train.shape=[(50000, 3082)],y_train.shape=(50000,),X_groups_test.shape=[(10000, 3082)],y_test.shape=(10000,)\n",
      "[ 2018-04-21 15:49:03,274][cascade_classifier.fit_transform] group_dims=[3082]\n",
      "[ 2018-04-21 15:49:03,276][cascade_classifier.fit_transform] group_starts=[0]\n",
      "[ 2018-04-21 15:49:03,277][cascade_classifier.fit_transform] group_ends=[3082]\n",
      "[ 2018-04-21 15:49:03,279][cascade_classifier.fit_transform] X_train.shape=(50000, 3082),X_test.shape=(10000, 3082)\n",
      "[ 2018-04-21 15:49:03,529][cascade_classifier.fit_transform] [layer=0] look_indexs=[0], X_cur_train.shape=(50000, 3082), X_cur_test.shape=(10000, 3082)\n",
      "[ 2018-04-21 15:49:11,360][kfold_wrapper.log_eval_metrics] Accuracy(layer_0 - estimator_0 - 10_folds.train_0.predict)=47.92%\n",
      "[ 2018-04-21 15:49:19,247][kfold_wrapper.log_eval_metrics] Accuracy(layer_0 - estimator_0 - 10_folds.train_1.predict)=47.34%\n",
      "[ 2018-04-21 15:49:27,164][kfold_wrapper.log_eval_metrics] Accuracy(layer_0 - estimator_0 - 10_folds.train_2.predict)=47.62%\n",
      "[ 2018-04-21 15:49:35,334][kfold_wrapper.log_eval_metrics] Accuracy(layer_0 - estimator_0 - 10_folds.train_3.predict)=48.78%\n",
      "[ 2018-04-21 15:49:43,365][kfold_wrapper.log_eval_metrics] Accuracy(layer_0 - estimator_0 - 10_folds.train_4.predict)=47.56%\n",
      "[ 2018-04-21 15:49:51,389][kfold_wrapper.log_eval_metrics] Accuracy(layer_0 - estimator_0 - 10_folds.train_5.predict)=48.40%\n",
      "[ 2018-04-21 15:49:59,405][kfold_wrapper.log_eval_metrics] Accuracy(layer_0 - estimator_0 - 10_folds.train_6.predict)=48.94%\n",
      "[ 2018-04-21 15:50:07,500][kfold_wrapper.log_eval_metrics] Accuracy(layer_0 - estimator_0 - 10_folds.train_7.predict)=47.70%\n",
      "[ 2018-04-21 15:50:15,586][kfold_wrapper.log_eval_metrics] Accuracy(layer_0 - estimator_0 - 10_folds.train_8.predict)=47.20%\n",
      "[ 2018-04-21 15:50:23,832][kfold_wrapper.log_eval_metrics] Accuracy(layer_0 - estimator_0 - 10_folds.train_9.predict)=47.56%\n",
      "[ 2018-04-21 15:50:24,164][kfold_wrapper.log_eval_metrics] Accuracy(layer_0 - estimator_0 - 10_folds.train_cv.predict)=47.90%\n",
      "[ 2018-04-21 15:50:24,167][kfold_wrapper.log_eval_metrics] Accuracy(layer_0 - estimator_0 - 10_folds.test.predict)=50.46%\n",
      "[ 2018-04-21 15:50:24,188][cascade_classifier.calc_accuracy] Accuracy(layer_0 - train.classifier_average)=47.90%\n",
      "[ 2018-04-21 15:50:24,191][cascade_classifier.calc_accuracy] Accuracy(layer_0 - test.classifier_average)=50.46%\n",
      "[ 2018-04-21 15:50:24,193][cascade_classifier.fit_transform] [Result][Reach Max Layer] opt_layer_num=1, accuracy_train=47.90%, accuracy_test=50.46%\n",
      "[ 2018-04-21 15:50:24,199][cascade_classifier.transform] X_groups_test.shape=[(10000, 3082)]\n",
      "[ 2018-04-21 15:50:24,253][cascade_classifier.transform] group_dims=[3082]\n",
      "[ 2018-04-21 15:50:24,254][cascade_classifier.transform] X_test.shape=(10000, 3082)\n",
      "[ 2018-04-21 15:50:24,275][cascade_classifier.transform] [layer=0] look_indexs=[0], X_cur_test.shape=(10000, 3082)\n"
     ]
    },
    {
     "name": "stdout",
     "output_type": "stream",
     "text": [
      "('Test Accuracy of RandomForest = 50.460000 %', 5, 'fois')\n"
     ]
    },
    {
     "name": "stderr",
     "output_type": "stream",
     "text": [
      "[ 2018-04-21 15:50:32,500][cascade_classifier.fit_transform] X_groups_train.shape=[(50000, 3082)],y_train.shape=(50000,),X_groups_test.shape=[(10000, 3082)],y_test.shape=(10000,)\n",
      "[ 2018-04-21 15:50:32,751][cascade_classifier.fit_transform] group_dims=[3082]\n",
      "[ 2018-04-21 15:50:32,753][cascade_classifier.fit_transform] group_starts=[0]\n",
      "[ 2018-04-21 15:50:32,755][cascade_classifier.fit_transform] group_ends=[3082]\n",
      "[ 2018-04-21 15:50:32,756][cascade_classifier.fit_transform] X_train.shape=(50000, 3082),X_test.shape=(10000, 3082)\n",
      "[ 2018-04-21 15:50:33,008][cascade_classifier.fit_transform] [layer=0] look_indexs=[0], X_cur_train.shape=(50000, 3082), X_cur_test.shape=(10000, 3082)\n",
      "[ 2018-04-21 15:50:40,780][kfold_wrapper.log_eval_metrics] Accuracy(layer_0 - estimator_0 - 10_folds.train_0.predict)=47.32%\n",
      "[ 2018-04-21 15:50:48,754][kfold_wrapper.log_eval_metrics] Accuracy(layer_0 - estimator_0 - 10_folds.train_1.predict)=47.94%\n",
      "[ 2018-04-21 15:50:57,026][kfold_wrapper.log_eval_metrics] Accuracy(layer_0 - estimator_0 - 10_folds.train_2.predict)=47.56%\n",
      "[ 2018-04-21 15:51:04,918][kfold_wrapper.log_eval_metrics] Accuracy(layer_0 - estimator_0 - 10_folds.train_3.predict)=48.28%\n",
      "[ 2018-04-21 15:51:13,243][kfold_wrapper.log_eval_metrics] Accuracy(layer_0 - estimator_0 - 10_folds.train_4.predict)=47.52%\n",
      "[ 2018-04-21 15:51:21,316][kfold_wrapper.log_eval_metrics] Accuracy(layer_0 - estimator_0 - 10_folds.train_5.predict)=49.18%\n",
      "[ 2018-04-21 15:51:29,433][kfold_wrapper.log_eval_metrics] Accuracy(layer_0 - estimator_0 - 10_folds.train_6.predict)=48.82%\n",
      "[ 2018-04-21 15:51:37,507][kfold_wrapper.log_eval_metrics] Accuracy(layer_0 - estimator_0 - 10_folds.train_7.predict)=46.96%\n",
      "[ 2018-04-21 15:51:45,492][kfold_wrapper.log_eval_metrics] Accuracy(layer_0 - estimator_0 - 10_folds.train_8.predict)=47.14%\n",
      "[ 2018-04-21 15:51:53,590][kfold_wrapper.log_eval_metrics] Accuracy(layer_0 - estimator_0 - 10_folds.train_9.predict)=47.02%\n",
      "[ 2018-04-21 15:51:53,918][kfold_wrapper.log_eval_metrics] Accuracy(layer_0 - estimator_0 - 10_folds.train_cv.predict)=47.77%\n",
      "[ 2018-04-21 15:51:53,921][kfold_wrapper.log_eval_metrics] Accuracy(layer_0 - estimator_0 - 10_folds.test.predict)=50.83%\n",
      "[ 2018-04-21 15:51:53,946][cascade_classifier.calc_accuracy] Accuracy(layer_0 - train.classifier_average)=47.77%\n",
      "[ 2018-04-21 15:51:53,948][cascade_classifier.calc_accuracy] Accuracy(layer_0 - test.classifier_average)=50.83%\n",
      "[ 2018-04-21 15:51:53,950][cascade_classifier.fit_transform] [Result][Reach Max Layer] opt_layer_num=1, accuracy_train=47.77%, accuracy_test=50.83%\n",
      "[ 2018-04-21 15:51:53,954][cascade_classifier.transform] X_groups_test.shape=[(10000, 3082)]\n",
      "[ 2018-04-21 15:51:53,993][cascade_classifier.transform] group_dims=[3082]\n",
      "[ 2018-04-21 15:51:53,995][cascade_classifier.transform] X_test.shape=(10000, 3082)\n",
      "[ 2018-04-21 15:51:54,012][cascade_classifier.transform] [layer=0] look_indexs=[0], X_cur_test.shape=(10000, 3082)\n"
     ]
    },
    {
     "name": "stdout",
     "output_type": "stream",
     "text": [
      "('Test Accuracy of RandomForest = 50.860000 %', 6, 'fois')\n"
     ]
    },
    {
     "name": "stderr",
     "output_type": "stream",
     "text": [
      "[ 2018-04-21 15:52:01,068][cascade_classifier.fit_transform] X_groups_train.shape=[(50000, 3082)],y_train.shape=(50000,),X_groups_test.shape=[(10000, 3082)],y_test.shape=(10000,)\n",
      "[ 2018-04-21 15:52:01,335][cascade_classifier.fit_transform] group_dims=[3082]\n",
      "[ 2018-04-21 15:52:01,337][cascade_classifier.fit_transform] group_starts=[0]\n",
      "[ 2018-04-21 15:52:01,338][cascade_classifier.fit_transform] group_ends=[3082]\n",
      "[ 2018-04-21 15:52:01,339][cascade_classifier.fit_transform] X_train.shape=(50000, 3082),X_test.shape=(10000, 3082)\n",
      "[ 2018-04-21 15:52:01,608][cascade_classifier.fit_transform] [layer=0] look_indexs=[0], X_cur_train.shape=(50000, 3082), X_cur_test.shape=(10000, 3082)\n",
      "[ 2018-04-21 15:52:09,332][kfold_wrapper.log_eval_metrics] Accuracy(layer_0 - estimator_0 - 10_folds.train_0.predict)=47.52%\n",
      "[ 2018-04-21 15:52:17,145][kfold_wrapper.log_eval_metrics] Accuracy(layer_0 - estimator_0 - 10_folds.train_1.predict)=47.98%\n",
      "[ 2018-04-21 15:52:25,063][kfold_wrapper.log_eval_metrics] Accuracy(layer_0 - estimator_0 - 10_folds.train_2.predict)=47.38%\n",
      "[ 2018-04-21 15:52:33,048][kfold_wrapper.log_eval_metrics] Accuracy(layer_0 - estimator_0 - 10_folds.train_3.predict)=49.26%\n",
      "[ 2018-04-21 15:52:41,272][kfold_wrapper.log_eval_metrics] Accuracy(layer_0 - estimator_0 - 10_folds.train_4.predict)=47.74%\n",
      "[ 2018-04-21 15:52:49,320][kfold_wrapper.log_eval_metrics] Accuracy(layer_0 - estimator_0 - 10_folds.train_5.predict)=48.78%\n",
      "[ 2018-04-21 15:52:57,532][kfold_wrapper.log_eval_metrics] Accuracy(layer_0 - estimator_0 - 10_folds.train_6.predict)=48.46%\n",
      "[ 2018-04-21 15:53:05,633][kfold_wrapper.log_eval_metrics] Accuracy(layer_0 - estimator_0 - 10_folds.train_7.predict)=47.86%\n",
      "[ 2018-04-21 15:53:13,523][kfold_wrapper.log_eval_metrics] Accuracy(layer_0 - estimator_0 - 10_folds.train_8.predict)=46.48%\n",
      "[ 2018-04-21 15:53:21,462][kfold_wrapper.log_eval_metrics] Accuracy(layer_0 - estimator_0 - 10_folds.train_9.predict)=46.94%\n",
      "[ 2018-04-21 15:53:21,806][kfold_wrapper.log_eval_metrics] Accuracy(layer_0 - estimator_0 - 10_folds.train_cv.predict)=47.84%\n",
      "[ 2018-04-21 15:53:21,809][kfold_wrapper.log_eval_metrics] Accuracy(layer_0 - estimator_0 - 10_folds.test.predict)=50.90%\n",
      "[ 2018-04-21 15:53:21,838][cascade_classifier.calc_accuracy] Accuracy(layer_0 - train.classifier_average)=47.84%\n",
      "[ 2018-04-21 15:53:21,841][cascade_classifier.calc_accuracy] Accuracy(layer_0 - test.classifier_average)=50.90%\n",
      "[ 2018-04-21 15:53:21,843][cascade_classifier.fit_transform] [Result][Reach Max Layer] opt_layer_num=1, accuracy_train=47.84%, accuracy_test=50.90%\n",
      "[ 2018-04-21 15:53:21,849][cascade_classifier.transform] X_groups_test.shape=[(10000, 3082)]\n",
      "[ 2018-04-21 15:53:21,899][cascade_classifier.transform] group_dims=[3082]\n",
      "[ 2018-04-21 15:53:21,901][cascade_classifier.transform] X_test.shape=(10000, 3082)\n",
      "[ 2018-04-21 15:53:21,920][cascade_classifier.transform] [layer=0] look_indexs=[0], X_cur_test.shape=(10000, 3082)\n"
     ]
    },
    {
     "name": "stdout",
     "output_type": "stream",
     "text": [
      "('Test Accuracy of RandomForest = 50.880000 %', 7, 'fois')\n"
     ]
    },
    {
     "name": "stderr",
     "output_type": "stream",
     "text": [
      "[ 2018-04-21 15:53:29,245][cascade_classifier.fit_transform] X_groups_train.shape=[(50000, 3082)],y_train.shape=(50000,),X_groups_test.shape=[(10000, 3082)],y_test.shape=(10000,)\n",
      "[ 2018-04-21 15:53:29,502][cascade_classifier.fit_transform] group_dims=[3082]\n",
      "[ 2018-04-21 15:53:29,503][cascade_classifier.fit_transform] group_starts=[0]\n",
      "[ 2018-04-21 15:53:29,505][cascade_classifier.fit_transform] group_ends=[3082]\n",
      "[ 2018-04-21 15:53:29,507][cascade_classifier.fit_transform] X_train.shape=(50000, 3082),X_test.shape=(10000, 3082)\n",
      "[ 2018-04-21 15:53:29,763][cascade_classifier.fit_transform] [layer=0] look_indexs=[0], X_cur_train.shape=(50000, 3082), X_cur_test.shape=(10000, 3082)\n",
      "[ 2018-04-21 15:53:37,427][kfold_wrapper.log_eval_metrics] Accuracy(layer_0 - estimator_0 - 10_folds.train_0.predict)=47.14%\n",
      "[ 2018-04-21 15:53:45,481][kfold_wrapper.log_eval_metrics] Accuracy(layer_0 - estimator_0 - 10_folds.train_1.predict)=47.24%\n",
      "[ 2018-04-21 15:53:53,477][kfold_wrapper.log_eval_metrics] Accuracy(layer_0 - estimator_0 - 10_folds.train_2.predict)=47.46%\n",
      "[ 2018-04-21 15:54:01,531][kfold_wrapper.log_eval_metrics] Accuracy(layer_0 - estimator_0 - 10_folds.train_3.predict)=48.22%\n",
      "[ 2018-04-21 15:54:09,480][kfold_wrapper.log_eval_metrics] Accuracy(layer_0 - estimator_0 - 10_folds.train_4.predict)=47.98%\n",
      "[ 2018-04-21 15:54:17,716][kfold_wrapper.log_eval_metrics] Accuracy(layer_0 - estimator_0 - 10_folds.train_5.predict)=48.56%\n",
      "[ 2018-04-21 15:54:25,719][kfold_wrapper.log_eval_metrics] Accuracy(layer_0 - estimator_0 - 10_folds.train_6.predict)=49.58%\n",
      "[ 2018-04-21 15:54:33,573][kfold_wrapper.log_eval_metrics] Accuracy(layer_0 - estimator_0 - 10_folds.train_7.predict)=46.86%\n",
      "[ 2018-04-21 15:54:41,723][kfold_wrapper.log_eval_metrics] Accuracy(layer_0 - estimator_0 - 10_folds.train_8.predict)=47.40%\n",
      "[ 2018-04-21 15:54:49,693][kfold_wrapper.log_eval_metrics] Accuracy(layer_0 - estimator_0 - 10_folds.train_9.predict)=47.64%\n",
      "[ 2018-04-21 15:54:50,016][kfold_wrapper.log_eval_metrics] Accuracy(layer_0 - estimator_0 - 10_folds.train_cv.predict)=47.81%\n",
      "[ 2018-04-21 15:54:50,019][kfold_wrapper.log_eval_metrics] Accuracy(layer_0 - estimator_0 - 10_folds.test.predict)=50.59%\n",
      "[ 2018-04-21 15:54:50,053][cascade_classifier.calc_accuracy] Accuracy(layer_0 - train.classifier_average)=47.81%\n",
      "[ 2018-04-21 15:54:50,056][cascade_classifier.calc_accuracy] Accuracy(layer_0 - test.classifier_average)=50.59%\n",
      "[ 2018-04-21 15:54:50,058][cascade_classifier.fit_transform] [Result][Reach Max Layer] opt_layer_num=1, accuracy_train=47.81%, accuracy_test=50.59%\n",
      "[ 2018-04-21 15:54:50,064][cascade_classifier.transform] X_groups_test.shape=[(10000, 3082)]\n",
      "[ 2018-04-21 15:54:50,119][cascade_classifier.transform] group_dims=[3082]\n",
      "[ 2018-04-21 15:54:50,121][cascade_classifier.transform] X_test.shape=(10000, 3082)\n",
      "[ 2018-04-21 15:54:50,146][cascade_classifier.transform] [layer=0] look_indexs=[0], X_cur_test.shape=(10000, 3082)\n"
     ]
    },
    {
     "name": "stdout",
     "output_type": "stream",
     "text": [
      "('Test Accuracy of RandomForest = 50.580000 %', 8, 'fois')\n"
     ]
    },
    {
     "name": "stderr",
     "output_type": "stream",
     "text": [
      "[ 2018-04-21 15:54:57,767][cascade_classifier.fit_transform] X_groups_train.shape=[(50000, 3082)],y_train.shape=(50000,),X_groups_test.shape=[(10000, 3082)],y_test.shape=(10000,)\n",
      "[ 2018-04-21 15:54:58,019][cascade_classifier.fit_transform] group_dims=[3082]\n",
      "[ 2018-04-21 15:54:58,021][cascade_classifier.fit_transform] group_starts=[0]\n",
      "[ 2018-04-21 15:54:58,023][cascade_classifier.fit_transform] group_ends=[3082]\n",
      "[ 2018-04-21 15:54:58,025][cascade_classifier.fit_transform] X_train.shape=(50000, 3082),X_test.shape=(10000, 3082)\n",
      "[ 2018-04-21 15:54:58,276][cascade_classifier.fit_transform] [layer=0] look_indexs=[0], X_cur_train.shape=(50000, 3082), X_cur_test.shape=(10000, 3082)\n",
      "[ 2018-04-21 15:55:05,961][kfold_wrapper.log_eval_metrics] Accuracy(layer_0 - estimator_0 - 10_folds.train_0.predict)=47.76%\n",
      "[ 2018-04-21 15:55:14,060][kfold_wrapper.log_eval_metrics] Accuracy(layer_0 - estimator_0 - 10_folds.train_1.predict)=47.24%\n",
      "[ 2018-04-21 15:55:22,103][kfold_wrapper.log_eval_metrics] Accuracy(layer_0 - estimator_0 - 10_folds.train_2.predict)=47.38%\n",
      "[ 2018-04-21 15:55:30,138][kfold_wrapper.log_eval_metrics] Accuracy(layer_0 - estimator_0 - 10_folds.train_3.predict)=48.58%\n",
      "[ 2018-04-21 15:55:38,059][kfold_wrapper.log_eval_metrics] Accuracy(layer_0 - estimator_0 - 10_folds.train_4.predict)=48.20%\n",
      "[ 2018-04-21 15:55:46,398][kfold_wrapper.log_eval_metrics] Accuracy(layer_0 - estimator_0 - 10_folds.train_5.predict)=48.60%\n",
      "[ 2018-04-21 15:55:54,402][kfold_wrapper.log_eval_metrics] Accuracy(layer_0 - estimator_0 - 10_folds.train_6.predict)=48.86%\n",
      "[ 2018-04-21 15:56:02,420][kfold_wrapper.log_eval_metrics] Accuracy(layer_0 - estimator_0 - 10_folds.train_7.predict)=48.14%\n",
      "[ 2018-04-21 15:56:10,687][kfold_wrapper.log_eval_metrics] Accuracy(layer_0 - estimator_0 - 10_folds.train_8.predict)=46.78%\n",
      "[ 2018-04-21 15:56:18,755][kfold_wrapper.log_eval_metrics] Accuracy(layer_0 - estimator_0 - 10_folds.train_9.predict)=47.62%\n",
      "[ 2018-04-21 15:56:19,077][kfold_wrapper.log_eval_metrics] Accuracy(layer_0 - estimator_0 - 10_folds.train_cv.predict)=47.92%\n",
      "[ 2018-04-21 15:56:19,079][kfold_wrapper.log_eval_metrics] Accuracy(layer_0 - estimator_0 - 10_folds.test.predict)=50.86%\n",
      "[ 2018-04-21 15:56:19,112][cascade_classifier.calc_accuracy] Accuracy(layer_0 - train.classifier_average)=47.92%\n",
      "[ 2018-04-21 15:56:19,115][cascade_classifier.calc_accuracy] Accuracy(layer_0 - test.classifier_average)=50.86%\n",
      "[ 2018-04-21 15:56:19,117][cascade_classifier.fit_transform] [Result][Reach Max Layer] opt_layer_num=1, accuracy_train=47.92%, accuracy_test=50.86%\n",
      "[ 2018-04-21 15:56:19,123][cascade_classifier.transform] X_groups_test.shape=[(10000, 3082)]\n",
      "[ 2018-04-21 15:56:19,176][cascade_classifier.transform] group_dims=[3082]\n",
      "[ 2018-04-21 15:56:19,178][cascade_classifier.transform] X_test.shape=(10000, 3082)\n",
      "[ 2018-04-21 15:56:19,197][cascade_classifier.transform] [layer=0] look_indexs=[0], X_cur_test.shape=(10000, 3082)\n"
     ]
    },
    {
     "name": "stdout",
     "output_type": "stream",
     "text": [
      "('Test Accuracy of RandomForest = 50.900000 %', 9, 'fois')\n"
     ]
    },
    {
     "name": "stderr",
     "output_type": "stream",
     "text": [
      "[ 2018-04-21 15:56:26,704][cascade_classifier.fit_transform] X_groups_train.shape=[(50000, 3082)],y_train.shape=(50000,),X_groups_test.shape=[(10000, 3082)],y_test.shape=(10000,)\n",
      "[ 2018-04-21 15:56:26,959][cascade_classifier.fit_transform] group_dims=[3082]\n",
      "[ 2018-04-21 15:56:26,961][cascade_classifier.fit_transform] group_starts=[0]\n",
      "[ 2018-04-21 15:56:26,963][cascade_classifier.fit_transform] group_ends=[3082]\n",
      "[ 2018-04-21 15:56:26,964][cascade_classifier.fit_transform] X_train.shape=(50000, 3082),X_test.shape=(10000, 3082)\n",
      "[ 2018-04-21 15:56:27,221][cascade_classifier.fit_transform] [layer=0] look_indexs=[0], X_cur_train.shape=(50000, 3082), X_cur_test.shape=(10000, 3082)\n",
      "[ 2018-04-21 15:56:35,041][kfold_wrapper.log_eval_metrics] Accuracy(layer_0 - estimator_0 - 10_folds.train_0.predict)=47.38%\n",
      "[ 2018-04-21 15:56:43,008][kfold_wrapper.log_eval_metrics] Accuracy(layer_0 - estimator_0 - 10_folds.train_1.predict)=47.74%\n",
      "[ 2018-04-21 15:56:50,837][kfold_wrapper.log_eval_metrics] Accuracy(layer_0 - estimator_0 - 10_folds.train_2.predict)=47.22%\n",
      "[ 2018-04-21 15:56:58,670][kfold_wrapper.log_eval_metrics] Accuracy(layer_0 - estimator_0 - 10_folds.train_3.predict)=48.94%\n",
      "[ 2018-04-21 15:57:07,034][kfold_wrapper.log_eval_metrics] Accuracy(layer_0 - estimator_0 - 10_folds.train_4.predict)=47.56%\n",
      "[ 2018-04-21 15:57:15,027][kfold_wrapper.log_eval_metrics] Accuracy(layer_0 - estimator_0 - 10_folds.train_5.predict)=48.74%\n",
      "[ 2018-04-21 15:57:23,227][kfold_wrapper.log_eval_metrics] Accuracy(layer_0 - estimator_0 - 10_folds.train_6.predict)=49.28%\n",
      "[ 2018-04-21 15:57:31,093][kfold_wrapper.log_eval_metrics] Accuracy(layer_0 - estimator_0 - 10_folds.train_7.predict)=46.86%\n",
      "[ 2018-04-21 15:57:38,973][kfold_wrapper.log_eval_metrics] Accuracy(layer_0 - estimator_0 - 10_folds.train_8.predict)=47.14%\n",
      "[ 2018-04-21 15:57:47,062][kfold_wrapper.log_eval_metrics] Accuracy(layer_0 - estimator_0 - 10_folds.train_9.predict)=48.04%\n",
      "[ 2018-04-21 15:57:47,386][kfold_wrapper.log_eval_metrics] Accuracy(layer_0 - estimator_0 - 10_folds.train_cv.predict)=47.89%\n",
      "[ 2018-04-21 15:57:47,389][kfold_wrapper.log_eval_metrics] Accuracy(layer_0 - estimator_0 - 10_folds.test.predict)=50.56%\n",
      "[ 2018-04-21 15:57:47,421][cascade_classifier.calc_accuracy] Accuracy(layer_0 - train.classifier_average)=47.89%\n",
      "[ 2018-04-21 15:57:47,424][cascade_classifier.calc_accuracy] Accuracy(layer_0 - test.classifier_average)=50.56%\n",
      "[ 2018-04-21 15:57:47,426][cascade_classifier.fit_transform] [Result][Reach Max Layer] opt_layer_num=1, accuracy_train=47.89%, accuracy_test=50.56%\n",
      "[ 2018-04-21 15:57:47,432][cascade_classifier.transform] X_groups_test.shape=[(10000, 3082)]\n",
      "[ 2018-04-21 15:57:47,486][cascade_classifier.transform] group_dims=[3082]\n",
      "[ 2018-04-21 15:57:47,487][cascade_classifier.transform] X_test.shape=(10000, 3082)\n",
      "[ 2018-04-21 15:57:47,507][cascade_classifier.transform] [layer=0] look_indexs=[0], X_cur_test.shape=(10000, 3082)\n"
     ]
    },
    {
     "name": "stdout",
     "output_type": "stream",
     "text": [
      "('Test Accuracy of RandomForest = 50.590000 %', 10, 'fois')\n"
     ]
    },
    {
     "name": "stderr",
     "output_type": "stream",
     "text": [
      "[ 2018-04-21 15:57:56,082][cascade_classifier.fit_transform] X_groups_train.shape=[(50000, 3082)],y_train.shape=(50000,),X_groups_test.shape=[(10000, 3082)],y_test.shape=(10000,)\n",
      "[ 2018-04-21 15:57:56,333][cascade_classifier.fit_transform] group_dims=[3082]\n",
      "[ 2018-04-21 15:57:56,334][cascade_classifier.fit_transform] group_starts=[0]\n",
      "[ 2018-04-21 15:57:56,336][cascade_classifier.fit_transform] group_ends=[3082]\n",
      "[ 2018-04-21 15:57:56,338][cascade_classifier.fit_transform] X_train.shape=(50000, 3082),X_test.shape=(10000, 3082)\n",
      "[ 2018-04-21 15:57:56,591][cascade_classifier.fit_transform] [layer=0] look_indexs=[0], X_cur_train.shape=(50000, 3082), X_cur_test.shape=(10000, 3082)\n",
      "[ 2018-04-21 15:58:04,354][kfold_wrapper.log_eval_metrics] Accuracy(layer_0 - estimator_0 - 10_folds.train_0.predict)=46.72%\n",
      "[ 2018-04-21 15:58:12,295][kfold_wrapper.log_eval_metrics] Accuracy(layer_0 - estimator_0 - 10_folds.train_1.predict)=47.68%\n",
      "[ 2018-04-21 15:58:20,418][kfold_wrapper.log_eval_metrics] Accuracy(layer_0 - estimator_0 - 10_folds.train_2.predict)=46.98%\n",
      "[ 2018-04-21 15:58:28,316][kfold_wrapper.log_eval_metrics] Accuracy(layer_0 - estimator_0 - 10_folds.train_3.predict)=49.60%\n",
      "[ 2018-04-21 15:58:36,078][kfold_wrapper.log_eval_metrics] Accuracy(layer_0 - estimator_0 - 10_folds.train_4.predict)=47.08%\n",
      "[ 2018-04-21 15:58:43,681][kfold_wrapper.log_eval_metrics] Accuracy(layer_0 - estimator_0 - 10_folds.train_5.predict)=48.06%\n",
      "[ 2018-04-21 15:58:51,813][kfold_wrapper.log_eval_metrics] Accuracy(layer_0 - estimator_0 - 10_folds.train_6.predict)=48.76%\n",
      "[ 2018-04-21 15:58:59,547][kfold_wrapper.log_eval_metrics] Accuracy(layer_0 - estimator_0 - 10_folds.train_7.predict)=46.60%\n",
      "[ 2018-04-21 15:59:07,494][kfold_wrapper.log_eval_metrics] Accuracy(layer_0 - estimator_0 - 10_folds.train_8.predict)=47.84%\n",
      "[ 2018-04-21 15:59:15,392][kfold_wrapper.log_eval_metrics] Accuracy(layer_0 - estimator_0 - 10_folds.train_9.predict)=47.76%\n",
      "[ 2018-04-21 15:59:15,719][kfold_wrapper.log_eval_metrics] Accuracy(layer_0 - estimator_0 - 10_folds.train_cv.predict)=47.71%\n",
      "[ 2018-04-21 15:59:15,722][kfold_wrapper.log_eval_metrics] Accuracy(layer_0 - estimator_0 - 10_folds.test.predict)=50.56%\n",
      "[ 2018-04-21 15:59:15,757][cascade_classifier.calc_accuracy] Accuracy(layer_0 - train.classifier_average)=47.71%\n",
      "[ 2018-04-21 15:59:15,760][cascade_classifier.calc_accuracy] Accuracy(layer_0 - test.classifier_average)=50.56%\n",
      "[ 2018-04-21 15:59:15,762][cascade_classifier.fit_transform] [Result][Reach Max Layer] opt_layer_num=1, accuracy_train=47.71%, accuracy_test=50.56%\n",
      "[ 2018-04-21 15:59:15,767][cascade_classifier.transform] X_groups_test.shape=[(10000, 3082)]\n",
      "[ 2018-04-21 15:59:15,817][cascade_classifier.transform] group_dims=[3082]\n",
      "[ 2018-04-21 15:59:15,819][cascade_classifier.transform] X_test.shape=(10000, 3082)\n",
      "[ 2018-04-21 15:59:15,837][cascade_classifier.transform] [layer=0] look_indexs=[0], X_cur_test.shape=(10000, 3082)\n"
     ]
    },
    {
     "name": "stdout",
     "output_type": "stream",
     "text": [
      "('Test Accuracy of RandomForest = 50.590000 %', 11, 'fois')\n"
     ]
    },
    {
     "name": "stderr",
     "output_type": "stream",
     "text": [
      "[ 2018-04-21 15:59:22,893][cascade_classifier.fit_transform] X_groups_train.shape=[(50000, 3082)],y_train.shape=(50000,),X_groups_test.shape=[(10000, 3082)],y_test.shape=(10000,)\n",
      "[ 2018-04-21 15:59:23,146][cascade_classifier.fit_transform] group_dims=[3082]\n",
      "[ 2018-04-21 15:59:23,148][cascade_classifier.fit_transform] group_starts=[0]\n",
      "[ 2018-04-21 15:59:23,150][cascade_classifier.fit_transform] group_ends=[3082]\n",
      "[ 2018-04-21 15:59:23,151][cascade_classifier.fit_transform] X_train.shape=(50000, 3082),X_test.shape=(10000, 3082)\n",
      "[ 2018-04-21 15:59:23,408][cascade_classifier.fit_transform] [layer=0] look_indexs=[0], X_cur_train.shape=(50000, 3082), X_cur_test.shape=(10000, 3082)\n",
      "[ 2018-04-21 15:59:31,110][kfold_wrapper.log_eval_metrics] Accuracy(layer_0 - estimator_0 - 10_folds.train_0.predict)=47.70%\n",
      "[ 2018-04-21 15:59:39,083][kfold_wrapper.log_eval_metrics] Accuracy(layer_0 - estimator_0 - 10_folds.train_1.predict)=47.88%\n",
      "[ 2018-04-21 15:59:47,092][kfold_wrapper.log_eval_metrics] Accuracy(layer_0 - estimator_0 - 10_folds.train_2.predict)=46.96%\n",
      "[ 2018-04-21 15:59:55,264][kfold_wrapper.log_eval_metrics] Accuracy(layer_0 - estimator_0 - 10_folds.train_3.predict)=48.10%\n",
      "[ 2018-04-21 16:00:03,331][kfold_wrapper.log_eval_metrics] Accuracy(layer_0 - estimator_0 - 10_folds.train_4.predict)=46.88%\n",
      "[ 2018-04-21 16:00:11,298][kfold_wrapper.log_eval_metrics] Accuracy(layer_0 - estimator_0 - 10_folds.train_5.predict)=48.48%\n",
      "[ 2018-04-21 16:00:18,929][kfold_wrapper.log_eval_metrics] Accuracy(layer_0 - estimator_0 - 10_folds.train_6.predict)=49.32%\n",
      "[ 2018-04-21 16:00:26,989][kfold_wrapper.log_eval_metrics] Accuracy(layer_0 - estimator_0 - 10_folds.train_7.predict)=47.10%\n",
      "[ 2018-04-21 16:00:35,098][kfold_wrapper.log_eval_metrics] Accuracy(layer_0 - estimator_0 - 10_folds.train_8.predict)=47.38%\n",
      "[ 2018-04-21 16:00:42,984][kfold_wrapper.log_eval_metrics] Accuracy(layer_0 - estimator_0 - 10_folds.train_9.predict)=47.48%\n",
      "[ 2018-04-21 16:00:43,291][kfold_wrapper.log_eval_metrics] Accuracy(layer_0 - estimator_0 - 10_folds.train_cv.predict)=47.73%\n",
      "[ 2018-04-21 16:00:43,294][kfold_wrapper.log_eval_metrics] Accuracy(layer_0 - estimator_0 - 10_folds.test.predict)=50.59%\n",
      "[ 2018-04-21 16:00:43,316][cascade_classifier.calc_accuracy] Accuracy(layer_0 - train.classifier_average)=47.73%\n",
      "[ 2018-04-21 16:00:43,318][cascade_classifier.calc_accuracy] Accuracy(layer_0 - test.classifier_average)=50.59%\n",
      "[ 2018-04-21 16:00:43,320][cascade_classifier.fit_transform] [Result][Reach Max Layer] opt_layer_num=1, accuracy_train=47.73%, accuracy_test=50.59%\n",
      "[ 2018-04-21 16:00:43,324][cascade_classifier.transform] X_groups_test.shape=[(10000, 3082)]\n",
      "[ 2018-04-21 16:00:43,363][cascade_classifier.transform] group_dims=[3082]\n",
      "[ 2018-04-21 16:00:43,365][cascade_classifier.transform] X_test.shape=(10000, 3082)\n",
      "[ 2018-04-21 16:00:43,382][cascade_classifier.transform] [layer=0] look_indexs=[0], X_cur_test.shape=(10000, 3082)\n"
     ]
    },
    {
     "name": "stdout",
     "output_type": "stream",
     "text": [
      "('Test Accuracy of RandomForest = 50.580000 %', 12, 'fois')\n"
     ]
    },
    {
     "name": "stderr",
     "output_type": "stream",
     "text": [
      "[ 2018-04-21 16:00:50,905][cascade_classifier.fit_transform] X_groups_train.shape=[(50000, 3082)],y_train.shape=(50000,),X_groups_test.shape=[(10000, 3082)],y_test.shape=(10000,)\n",
      "[ 2018-04-21 16:00:51,161][cascade_classifier.fit_transform] group_dims=[3082]\n",
      "[ 2018-04-21 16:00:51,162][cascade_classifier.fit_transform] group_starts=[0]\n",
      "[ 2018-04-21 16:00:51,164][cascade_classifier.fit_transform] group_ends=[3082]\n",
      "[ 2018-04-21 16:00:51,166][cascade_classifier.fit_transform] X_train.shape=(50000, 3082),X_test.shape=(10000, 3082)\n",
      "[ 2018-04-21 16:00:51,420][cascade_classifier.fit_transform] [layer=0] look_indexs=[0], X_cur_train.shape=(50000, 3082), X_cur_test.shape=(10000, 3082)\n",
      "[ 2018-04-21 16:00:59,150][kfold_wrapper.log_eval_metrics] Accuracy(layer_0 - estimator_0 - 10_folds.train_0.predict)=47.30%\n",
      "[ 2018-04-21 16:01:07,266][kfold_wrapper.log_eval_metrics] Accuracy(layer_0 - estimator_0 - 10_folds.train_1.predict)=47.40%\n",
      "[ 2018-04-21 16:01:15,078][kfold_wrapper.log_eval_metrics] Accuracy(layer_0 - estimator_0 - 10_folds.train_2.predict)=47.46%\n",
      "[ 2018-04-21 16:01:23,072][kfold_wrapper.log_eval_metrics] Accuracy(layer_0 - estimator_0 - 10_folds.train_3.predict)=48.08%\n",
      "[ 2018-04-21 16:01:31,099][kfold_wrapper.log_eval_metrics] Accuracy(layer_0 - estimator_0 - 10_folds.train_4.predict)=47.38%\n",
      "[ 2018-04-21 16:01:39,271][kfold_wrapper.log_eval_metrics] Accuracy(layer_0 - estimator_0 - 10_folds.train_5.predict)=49.14%\n",
      "[ 2018-04-21 16:01:47,224][kfold_wrapper.log_eval_metrics] Accuracy(layer_0 - estimator_0 - 10_folds.train_6.predict)=49.24%\n",
      "[ 2018-04-21 16:01:55,007][kfold_wrapper.log_eval_metrics] Accuracy(layer_0 - estimator_0 - 10_folds.train_7.predict)=47.92%\n",
      "[ 2018-04-21 16:02:02,731][kfold_wrapper.log_eval_metrics] Accuracy(layer_0 - estimator_0 - 10_folds.train_8.predict)=47.46%\n",
      "[ 2018-04-21 16:02:10,491][kfold_wrapper.log_eval_metrics] Accuracy(layer_0 - estimator_0 - 10_folds.train_9.predict)=47.02%\n",
      "[ 2018-04-21 16:02:10,813][kfold_wrapper.log_eval_metrics] Accuracy(layer_0 - estimator_0 - 10_folds.train_cv.predict)=47.84%\n",
      "[ 2018-04-21 16:02:10,816][kfold_wrapper.log_eval_metrics] Accuracy(layer_0 - estimator_0 - 10_folds.test.predict)=50.63%\n",
      "[ 2018-04-21 16:02:10,841][cascade_classifier.calc_accuracy] Accuracy(layer_0 - train.classifier_average)=47.84%\n",
      "[ 2018-04-21 16:02:10,844][cascade_classifier.calc_accuracy] Accuracy(layer_0 - test.classifier_average)=50.63%\n",
      "[ 2018-04-21 16:02:10,846][cascade_classifier.fit_transform] [Result][Reach Max Layer] opt_layer_num=1, accuracy_train=47.84%, accuracy_test=50.63%\n",
      "[ 2018-04-21 16:02:10,851][cascade_classifier.transform] X_groups_test.shape=[(10000, 3082)]\n",
      "[ 2018-04-21 16:02:10,900][cascade_classifier.transform] group_dims=[3082]\n",
      "[ 2018-04-21 16:02:10,902][cascade_classifier.transform] X_test.shape=(10000, 3082)\n",
      "[ 2018-04-21 16:02:10,920][cascade_classifier.transform] [layer=0] look_indexs=[0], X_cur_test.shape=(10000, 3082)\n"
     ]
    },
    {
     "name": "stdout",
     "output_type": "stream",
     "text": [
      "('Test Accuracy of RandomForest = 50.590000 %', 13, 'fois')\n"
     ]
    },
    {
     "name": "stderr",
     "output_type": "stream",
     "text": [
      "[ 2018-04-21 16:02:18,360][cascade_classifier.fit_transform] X_groups_train.shape=[(50000, 3082)],y_train.shape=(50000,),X_groups_test.shape=[(10000, 3082)],y_test.shape=(10000,)\n",
      "[ 2018-04-21 16:02:18,617][cascade_classifier.fit_transform] group_dims=[3082]\n",
      "[ 2018-04-21 16:02:18,619][cascade_classifier.fit_transform] group_starts=[0]\n",
      "[ 2018-04-21 16:02:18,621][cascade_classifier.fit_transform] group_ends=[3082]\n",
      "[ 2018-04-21 16:02:18,623][cascade_classifier.fit_transform] X_train.shape=(50000, 3082),X_test.shape=(10000, 3082)\n",
      "[ 2018-04-21 16:02:18,879][cascade_classifier.fit_transform] [layer=0] look_indexs=[0], X_cur_train.shape=(50000, 3082), X_cur_test.shape=(10000, 3082)\n",
      "[ 2018-04-21 16:02:26,543][kfold_wrapper.log_eval_metrics] Accuracy(layer_0 - estimator_0 - 10_folds.train_0.predict)=47.64%\n",
      "[ 2018-04-21 16:02:34,599][kfold_wrapper.log_eval_metrics] Accuracy(layer_0 - estimator_0 - 10_folds.train_1.predict)=47.54%\n",
      "[ 2018-04-21 16:02:42,452][kfold_wrapper.log_eval_metrics] Accuracy(layer_0 - estimator_0 - 10_folds.train_2.predict)=47.54%\n",
      "[ 2018-04-21 16:02:50,616][kfold_wrapper.log_eval_metrics] Accuracy(layer_0 - estimator_0 - 10_folds.train_3.predict)=49.02%\n",
      "[ 2018-04-21 16:02:58,671][kfold_wrapper.log_eval_metrics] Accuracy(layer_0 - estimator_0 - 10_folds.train_4.predict)=47.20%\n",
      "[ 2018-04-21 16:03:06,411][kfold_wrapper.log_eval_metrics] Accuracy(layer_0 - estimator_0 - 10_folds.train_5.predict)=48.60%\n",
      "[ 2018-04-21 16:03:14,474][kfold_wrapper.log_eval_metrics] Accuracy(layer_0 - estimator_0 - 10_folds.train_6.predict)=49.70%\n",
      "[ 2018-04-21 16:03:22,353][kfold_wrapper.log_eval_metrics] Accuracy(layer_0 - estimator_0 - 10_folds.train_7.predict)=47.26%\n",
      "[ 2018-04-21 16:03:30,347][kfold_wrapper.log_eval_metrics] Accuracy(layer_0 - estimator_0 - 10_folds.train_8.predict)=47.30%\n",
      "[ 2018-04-21 16:03:38,326][kfold_wrapper.log_eval_metrics] Accuracy(layer_0 - estimator_0 - 10_folds.train_9.predict)=47.28%\n",
      "[ 2018-04-21 16:03:38,660][kfold_wrapper.log_eval_metrics] Accuracy(layer_0 - estimator_0 - 10_folds.train_cv.predict)=47.91%\n",
      "[ 2018-04-21 16:03:38,663][kfold_wrapper.log_eval_metrics] Accuracy(layer_0 - estimator_0 - 10_folds.test.predict)=50.85%\n",
      "[ 2018-04-21 16:03:38,694][cascade_classifier.calc_accuracy] Accuracy(layer_0 - train.classifier_average)=47.91%\n",
      "[ 2018-04-21 16:03:38,697][cascade_classifier.calc_accuracy] Accuracy(layer_0 - test.classifier_average)=50.85%\n",
      "[ 2018-04-21 16:03:38,698][cascade_classifier.fit_transform] [Result][Reach Max Layer] opt_layer_num=1, accuracy_train=47.91%, accuracy_test=50.85%\n",
      "[ 2018-04-21 16:03:38,704][cascade_classifier.transform] X_groups_test.shape=[(10000, 3082)]\n",
      "[ 2018-04-21 16:03:38,761][cascade_classifier.transform] group_dims=[3082]\n",
      "[ 2018-04-21 16:03:38,763][cascade_classifier.transform] X_test.shape=(10000, 3082)\n",
      "[ 2018-04-21 16:03:38,789][cascade_classifier.transform] [layer=0] look_indexs=[0], X_cur_test.shape=(10000, 3082)\n"
     ]
    },
    {
     "name": "stdout",
     "output_type": "stream",
     "text": [
      "('Test Accuracy of RandomForest = 50.830000 %', 14, 'fois')\n"
     ]
    },
    {
     "name": "stderr",
     "output_type": "stream",
     "text": [
      "[ 2018-04-21 16:03:46,463][cascade_classifier.fit_transform] X_groups_train.shape=[(50000, 3082)],y_train.shape=(50000,),X_groups_test.shape=[(10000, 3082)],y_test.shape=(10000,)\n",
      "[ 2018-04-21 16:03:46,718][cascade_classifier.fit_transform] group_dims=[3082]\n",
      "[ 2018-04-21 16:03:46,720][cascade_classifier.fit_transform] group_starts=[0]\n",
      "[ 2018-04-21 16:03:46,722][cascade_classifier.fit_transform] group_ends=[3082]\n",
      "[ 2018-04-21 16:03:46,724][cascade_classifier.fit_transform] X_train.shape=(50000, 3082),X_test.shape=(10000, 3082)\n",
      "[ 2018-04-21 16:03:46,975][cascade_classifier.fit_transform] [layer=0] look_indexs=[0], X_cur_train.shape=(50000, 3082), X_cur_test.shape=(10000, 3082)\n",
      "[ 2018-04-21 16:03:54,898][kfold_wrapper.log_eval_metrics] Accuracy(layer_0 - estimator_0 - 10_folds.train_0.predict)=47.44%\n",
      "[ 2018-04-21 16:04:02,972][kfold_wrapper.log_eval_metrics] Accuracy(layer_0 - estimator_0 - 10_folds.train_1.predict)=47.90%\n",
      "[ 2018-04-21 16:04:10,918][kfold_wrapper.log_eval_metrics] Accuracy(layer_0 - estimator_0 - 10_folds.train_2.predict)=47.64%\n",
      "[ 2018-04-21 16:04:18,970][kfold_wrapper.log_eval_metrics] Accuracy(layer_0 - estimator_0 - 10_folds.train_3.predict)=48.70%\n",
      "[ 2018-04-21 16:04:26,868][kfold_wrapper.log_eval_metrics] Accuracy(layer_0 - estimator_0 - 10_folds.train_4.predict)=47.54%\n",
      "[ 2018-04-21 16:04:34,729][kfold_wrapper.log_eval_metrics] Accuracy(layer_0 - estimator_0 - 10_folds.train_5.predict)=49.00%\n",
      "[ 2018-04-21 16:04:42,540][kfold_wrapper.log_eval_metrics] Accuracy(layer_0 - estimator_0 - 10_folds.train_6.predict)=48.84%\n",
      "[ 2018-04-21 16:04:50,515][kfold_wrapper.log_eval_metrics] Accuracy(layer_0 - estimator_0 - 10_folds.train_7.predict)=46.66%\n",
      "[ 2018-04-21 16:04:58,516][kfold_wrapper.log_eval_metrics] Accuracy(layer_0 - estimator_0 - 10_folds.train_8.predict)=47.68%\n",
      "[ 2018-04-21 16:05:06,771][kfold_wrapper.log_eval_metrics] Accuracy(layer_0 - estimator_0 - 10_folds.train_9.predict)=48.06%\n",
      "[ 2018-04-21 16:05:06,988][kfold_wrapper.log_eval_metrics] Accuracy(layer_0 - estimator_0 - 10_folds.train_cv.predict)=47.95%\n",
      "[ 2018-04-21 16:05:06,990][kfold_wrapper.log_eval_metrics] Accuracy(layer_0 - estimator_0 - 10_folds.test.predict)=50.72%\n",
      "[ 2018-04-21 16:05:07,015][cascade_classifier.calc_accuracy] Accuracy(layer_0 - train.classifier_average)=47.95%\n",
      "[ 2018-04-21 16:05:07,018][cascade_classifier.calc_accuracy] Accuracy(layer_0 - test.classifier_average)=50.72%\n",
      "[ 2018-04-21 16:05:07,019][cascade_classifier.fit_transform] [Result][Reach Max Layer] opt_layer_num=1, accuracy_train=47.95%, accuracy_test=50.72%\n",
      "[ 2018-04-21 16:05:07,024][cascade_classifier.transform] X_groups_test.shape=[(10000, 3082)]\n",
      "[ 2018-04-21 16:05:07,066][cascade_classifier.transform] group_dims=[3082]\n",
      "[ 2018-04-21 16:05:07,068][cascade_classifier.transform] X_test.shape=(10000, 3082)\n",
      "[ 2018-04-21 16:05:07,085][cascade_classifier.transform] [layer=0] look_indexs=[0], X_cur_test.shape=(10000, 3082)\n"
     ]
    },
    {
     "name": "stdout",
     "output_type": "stream",
     "text": [
      "('Test Accuracy of RandomForest = 50.720000 %', 15, 'fois')\n"
     ]
    },
    {
     "name": "stderr",
     "output_type": "stream",
     "text": [
      "[ 2018-04-21 16:05:14,405][cascade_classifier.fit_transform] X_groups_train.shape=[(50000, 3082)],y_train.shape=(50000,),X_groups_test.shape=[(10000, 3082)],y_test.shape=(10000,)\n",
      "[ 2018-04-21 16:05:14,655][cascade_classifier.fit_transform] group_dims=[3082]\n",
      "[ 2018-04-21 16:05:14,657][cascade_classifier.fit_transform] group_starts=[0]\n",
      "[ 2018-04-21 16:05:14,659][cascade_classifier.fit_transform] group_ends=[3082]\n",
      "[ 2018-04-21 16:05:14,660][cascade_classifier.fit_transform] X_train.shape=(50000, 3082),X_test.shape=(10000, 3082)\n",
      "[ 2018-04-21 16:05:14,910][cascade_classifier.fit_transform] [layer=0] look_indexs=[0], X_cur_train.shape=(50000, 3082), X_cur_test.shape=(10000, 3082)\n",
      "[ 2018-04-21 16:05:22,702][kfold_wrapper.log_eval_metrics] Accuracy(layer_0 - estimator_0 - 10_folds.train_0.predict)=47.28%\n",
      "[ 2018-04-21 16:05:30,617][kfold_wrapper.log_eval_metrics] Accuracy(layer_0 - estimator_0 - 10_folds.train_1.predict)=47.48%\n",
      "[ 2018-04-21 16:05:38,544][kfold_wrapper.log_eval_metrics] Accuracy(layer_0 - estimator_0 - 10_folds.train_2.predict)=47.22%\n",
      "[ 2018-04-21 16:05:47,045][kfold_wrapper.log_eval_metrics] Accuracy(layer_0 - estimator_0 - 10_folds.train_3.predict)=48.58%\n",
      "[ 2018-04-21 16:05:54,873][kfold_wrapper.log_eval_metrics] Accuracy(layer_0 - estimator_0 - 10_folds.train_4.predict)=47.96%\n",
      "[ 2018-04-21 16:06:02,970][kfold_wrapper.log_eval_metrics] Accuracy(layer_0 - estimator_0 - 10_folds.train_5.predict)=48.30%\n",
      "[ 2018-04-21 16:06:11,081][kfold_wrapper.log_eval_metrics] Accuracy(layer_0 - estimator_0 - 10_folds.train_6.predict)=49.46%\n",
      "[ 2018-04-21 16:06:19,072][kfold_wrapper.log_eval_metrics] Accuracy(layer_0 - estimator_0 - 10_folds.train_7.predict)=47.74%\n",
      "[ 2018-04-21 16:06:26,970][kfold_wrapper.log_eval_metrics] Accuracy(layer_0 - estimator_0 - 10_folds.train_8.predict)=47.26%\n",
      "[ 2018-04-21 16:06:35,041][kfold_wrapper.log_eval_metrics] Accuracy(layer_0 - estimator_0 - 10_folds.train_9.predict)=47.16%\n",
      "[ 2018-04-21 16:06:35,372][kfold_wrapper.log_eval_metrics] Accuracy(layer_0 - estimator_0 - 10_folds.train_cv.predict)=47.84%\n",
      "[ 2018-04-21 16:06:35,375][kfold_wrapper.log_eval_metrics] Accuracy(layer_0 - estimator_0 - 10_folds.test.predict)=50.66%\n",
      "[ 2018-04-21 16:06:35,406][cascade_classifier.calc_accuracy] Accuracy(layer_0 - train.classifier_average)=47.84%\n",
      "[ 2018-04-21 16:06:35,409][cascade_classifier.calc_accuracy] Accuracy(layer_0 - test.classifier_average)=50.66%\n",
      "[ 2018-04-21 16:06:35,411][cascade_classifier.fit_transform] [Result][Reach Max Layer] opt_layer_num=1, accuracy_train=47.84%, accuracy_test=50.66%\n",
      "[ 2018-04-21 16:06:35,417][cascade_classifier.transform] X_groups_test.shape=[(10000, 3082)]\n",
      "[ 2018-04-21 16:06:35,469][cascade_classifier.transform] group_dims=[3082]\n",
      "[ 2018-04-21 16:06:35,471][cascade_classifier.transform] X_test.shape=(10000, 3082)\n",
      "[ 2018-04-21 16:06:35,491][cascade_classifier.transform] [layer=0] look_indexs=[0], X_cur_test.shape=(10000, 3082)\n"
     ]
    },
    {
     "name": "stdout",
     "output_type": "stream",
     "text": [
      "('Test Accuracy of RandomForest = 50.660000 %', 16, 'fois')\n"
     ]
    },
    {
     "name": "stderr",
     "output_type": "stream",
     "text": [
      "[ 2018-04-21 16:06:43,503][cascade_classifier.fit_transform] X_groups_train.shape=[(50000, 3082)],y_train.shape=(50000,),X_groups_test.shape=[(10000, 3082)],y_test.shape=(10000,)\n",
      "[ 2018-04-21 16:06:43,760][cascade_classifier.fit_transform] group_dims=[3082]\n",
      "[ 2018-04-21 16:06:43,761][cascade_classifier.fit_transform] group_starts=[0]\n",
      "[ 2018-04-21 16:06:43,762][cascade_classifier.fit_transform] group_ends=[3082]\n",
      "[ 2018-04-21 16:06:43,763][cascade_classifier.fit_transform] X_train.shape=(50000, 3082),X_test.shape=(10000, 3082)\n",
      "[ 2018-04-21 16:06:44,015][cascade_classifier.fit_transform] [layer=0] look_indexs=[0], X_cur_train.shape=(50000, 3082), X_cur_test.shape=(10000, 3082)\n",
      "[ 2018-04-21 16:06:51,706][kfold_wrapper.log_eval_metrics] Accuracy(layer_0 - estimator_0 - 10_folds.train_0.predict)=46.64%\n",
      "[ 2018-04-21 16:06:59,602][kfold_wrapper.log_eval_metrics] Accuracy(layer_0 - estimator_0 - 10_folds.train_1.predict)=47.74%\n",
      "[ 2018-04-21 16:07:07,551][kfold_wrapper.log_eval_metrics] Accuracy(layer_0 - estimator_0 - 10_folds.train_2.predict)=47.02%\n",
      "[ 2018-04-21 16:07:15,569][kfold_wrapper.log_eval_metrics] Accuracy(layer_0 - estimator_0 - 10_folds.train_3.predict)=48.68%\n",
      "[ 2018-04-21 16:07:23,546][kfold_wrapper.log_eval_metrics] Accuracy(layer_0 - estimator_0 - 10_folds.train_4.predict)=47.52%\n",
      "[ 2018-04-21 16:07:31,350][kfold_wrapper.log_eval_metrics] Accuracy(layer_0 - estimator_0 - 10_folds.train_5.predict)=48.04%\n",
      "[ 2018-04-21 16:07:39,382][kfold_wrapper.log_eval_metrics] Accuracy(layer_0 - estimator_0 - 10_folds.train_6.predict)=49.38%\n",
      "[ 2018-04-21 16:07:47,442][kfold_wrapper.log_eval_metrics] Accuracy(layer_0 - estimator_0 - 10_folds.train_7.predict)=47.54%\n",
      "[ 2018-04-21 16:07:55,401][kfold_wrapper.log_eval_metrics] Accuracy(layer_0 - estimator_0 - 10_folds.train_8.predict)=47.20%\n",
      "[ 2018-04-21 16:08:03,444][kfold_wrapper.log_eval_metrics] Accuracy(layer_0 - estimator_0 - 10_folds.train_9.predict)=47.86%\n",
      "[ 2018-04-21 16:08:03,764][kfold_wrapper.log_eval_metrics] Accuracy(layer_0 - estimator_0 - 10_folds.train_cv.predict)=47.76%\n",
      "[ 2018-04-21 16:08:03,766][kfold_wrapper.log_eval_metrics] Accuracy(layer_0 - estimator_0 - 10_folds.test.predict)=50.80%\n",
      "[ 2018-04-21 16:08:03,795][cascade_classifier.calc_accuracy] Accuracy(layer_0 - train.classifier_average)=47.76%\n",
      "[ 2018-04-21 16:08:03,798][cascade_classifier.calc_accuracy] Accuracy(layer_0 - test.classifier_average)=50.80%\n",
      "[ 2018-04-21 16:08:03,799][cascade_classifier.fit_transform] [Result][Reach Max Layer] opt_layer_num=1, accuracy_train=47.76%, accuracy_test=50.80%\n",
      "[ 2018-04-21 16:08:03,805][cascade_classifier.transform] X_groups_test.shape=[(10000, 3082)]\n",
      "[ 2018-04-21 16:08:03,853][cascade_classifier.transform] group_dims=[3082]\n",
      "[ 2018-04-21 16:08:03,855][cascade_classifier.transform] X_test.shape=(10000, 3082)\n",
      "[ 2018-04-21 16:08:03,874][cascade_classifier.transform] [layer=0] look_indexs=[0], X_cur_test.shape=(10000, 3082)\n"
     ]
    },
    {
     "name": "stdout",
     "output_type": "stream",
     "text": [
      "('Test Accuracy of RandomForest = 50.810000 %', 17, 'fois')\n"
     ]
    },
    {
     "name": "stderr",
     "output_type": "stream",
     "text": [
      "[ 2018-04-21 16:08:11,369][cascade_classifier.fit_transform] X_groups_train.shape=[(50000, 3082)],y_train.shape=(50000,),X_groups_test.shape=[(10000, 3082)],y_test.shape=(10000,)\n",
      "[ 2018-04-21 16:08:11,618][cascade_classifier.fit_transform] group_dims=[3082]\n",
      "[ 2018-04-21 16:08:11,620][cascade_classifier.fit_transform] group_starts=[0]\n",
      "[ 2018-04-21 16:08:11,622][cascade_classifier.fit_transform] group_ends=[3082]\n",
      "[ 2018-04-21 16:08:11,624][cascade_classifier.fit_transform] X_train.shape=(50000, 3082),X_test.shape=(10000, 3082)\n",
      "[ 2018-04-21 16:08:11,873][cascade_classifier.fit_transform] [layer=0] look_indexs=[0], X_cur_train.shape=(50000, 3082), X_cur_test.shape=(10000, 3082)\n",
      "[ 2018-04-21 16:08:19,589][kfold_wrapper.log_eval_metrics] Accuracy(layer_0 - estimator_0 - 10_folds.train_0.predict)=47.56%\n",
      "[ 2018-04-21 16:08:27,602][kfold_wrapper.log_eval_metrics] Accuracy(layer_0 - estimator_0 - 10_folds.train_1.predict)=48.24%\n",
      "[ 2018-04-21 16:08:35,815][kfold_wrapper.log_eval_metrics] Accuracy(layer_0 - estimator_0 - 10_folds.train_2.predict)=48.16%\n",
      "[ 2018-04-21 16:08:43,576][kfold_wrapper.log_eval_metrics] Accuracy(layer_0 - estimator_0 - 10_folds.train_3.predict)=49.12%\n",
      "[ 2018-04-21 16:08:52,052][kfold_wrapper.log_eval_metrics] Accuracy(layer_0 - estimator_0 - 10_folds.train_4.predict)=48.04%\n",
      "[ 2018-04-21 16:08:59,917][kfold_wrapper.log_eval_metrics] Accuracy(layer_0 - estimator_0 - 10_folds.train_5.predict)=47.98%\n",
      "[ 2018-04-21 16:09:08,088][kfold_wrapper.log_eval_metrics] Accuracy(layer_0 - estimator_0 - 10_folds.train_6.predict)=49.16%\n",
      "[ 2018-04-21 16:09:15,930][kfold_wrapper.log_eval_metrics] Accuracy(layer_0 - estimator_0 - 10_folds.train_7.predict)=46.94%\n",
      "[ 2018-04-21 16:09:24,057][kfold_wrapper.log_eval_metrics] Accuracy(layer_0 - estimator_0 - 10_folds.train_8.predict)=46.76%\n",
      "[ 2018-04-21 16:09:32,085][kfold_wrapper.log_eval_metrics] Accuracy(layer_0 - estimator_0 - 10_folds.train_9.predict)=48.30%\n",
      "[ 2018-04-21 16:09:32,430][kfold_wrapper.log_eval_metrics] Accuracy(layer_0 - estimator_0 - 10_folds.train_cv.predict)=48.03%\n",
      "[ 2018-04-21 16:09:32,433][kfold_wrapper.log_eval_metrics] Accuracy(layer_0 - estimator_0 - 10_folds.test.predict)=50.79%\n",
      "[ 2018-04-21 16:09:32,466][cascade_classifier.calc_accuracy] Accuracy(layer_0 - train.classifier_average)=48.03%\n",
      "[ 2018-04-21 16:09:32,469][cascade_classifier.calc_accuracy] Accuracy(layer_0 - test.classifier_average)=50.79%\n",
      "[ 2018-04-21 16:09:32,470][cascade_classifier.fit_transform] [Result][Reach Max Layer] opt_layer_num=1, accuracy_train=48.03%, accuracy_test=50.79%\n",
      "[ 2018-04-21 16:09:32,476][cascade_classifier.transform] X_groups_test.shape=[(10000, 3082)]\n",
      "[ 2018-04-21 16:09:32,529][cascade_classifier.transform] group_dims=[3082]\n",
      "[ 2018-04-21 16:09:32,531][cascade_classifier.transform] X_test.shape=(10000, 3082)\n",
      "[ 2018-04-21 16:09:32,551][cascade_classifier.transform] [layer=0] look_indexs=[0], X_cur_test.shape=(10000, 3082)\n"
     ]
    },
    {
     "name": "stdout",
     "output_type": "stream",
     "text": [
      "('Test Accuracy of RandomForest = 50.780000 %', 18, 'fois')\n"
     ]
    },
    {
     "name": "stderr",
     "output_type": "stream",
     "text": [
      "[ 2018-04-21 16:09:40,351][cascade_classifier.fit_transform] X_groups_train.shape=[(50000, 3082)],y_train.shape=(50000,),X_groups_test.shape=[(10000, 3082)],y_test.shape=(10000,)\n",
      "[ 2018-04-21 16:09:40,609][cascade_classifier.fit_transform] group_dims=[3082]\n",
      "[ 2018-04-21 16:09:40,611][cascade_classifier.fit_transform] group_starts=[0]\n",
      "[ 2018-04-21 16:09:40,613][cascade_classifier.fit_transform] group_ends=[3082]\n",
      "[ 2018-04-21 16:09:40,615][cascade_classifier.fit_transform] X_train.shape=(50000, 3082),X_test.shape=(10000, 3082)\n",
      "[ 2018-04-21 16:09:40,886][cascade_classifier.fit_transform] [layer=0] look_indexs=[0], X_cur_train.shape=(50000, 3082), X_cur_test.shape=(10000, 3082)\n",
      "[ 2018-04-21 16:09:48,395][kfold_wrapper.log_eval_metrics] Accuracy(layer_0 - estimator_0 - 10_folds.train_0.predict)=47.26%\n",
      "[ 2018-04-21 16:09:56,502][kfold_wrapper.log_eval_metrics] Accuracy(layer_0 - estimator_0 - 10_folds.train_1.predict)=47.48%\n",
      "[ 2018-04-21 16:10:04,324][kfold_wrapper.log_eval_metrics] Accuracy(layer_0 - estimator_0 - 10_folds.train_2.predict)=47.52%\n",
      "[ 2018-04-21 16:10:12,073][kfold_wrapper.log_eval_metrics] Accuracy(layer_0 - estimator_0 - 10_folds.train_3.predict)=48.64%\n",
      "[ 2018-04-21 16:10:19,959][kfold_wrapper.log_eval_metrics] Accuracy(layer_0 - estimator_0 - 10_folds.train_4.predict)=47.64%\n",
      "[ 2018-04-21 16:10:27,947][kfold_wrapper.log_eval_metrics] Accuracy(layer_0 - estimator_0 - 10_folds.train_5.predict)=48.08%\n",
      "[ 2018-04-21 16:10:35,948][kfold_wrapper.log_eval_metrics] Accuracy(layer_0 - estimator_0 - 10_folds.train_6.predict)=49.00%\n",
      "[ 2018-04-21 16:10:43,724][kfold_wrapper.log_eval_metrics] Accuracy(layer_0 - estimator_0 - 10_folds.train_7.predict)=46.94%\n",
      "[ 2018-04-21 16:10:51,803][kfold_wrapper.log_eval_metrics] Accuracy(layer_0 - estimator_0 - 10_folds.train_8.predict)=47.10%\n",
      "[ 2018-04-21 16:10:59,879][kfold_wrapper.log_eval_metrics] Accuracy(layer_0 - estimator_0 - 10_folds.train_9.predict)=47.50%\n",
      "[ 2018-04-21 16:11:00,212][kfold_wrapper.log_eval_metrics] Accuracy(layer_0 - estimator_0 - 10_folds.train_cv.predict)=47.72%\n",
      "[ 2018-04-21 16:11:00,215][kfold_wrapper.log_eval_metrics] Accuracy(layer_0 - estimator_0 - 10_folds.test.predict)=51.02%\n",
      "[ 2018-04-21 16:11:00,250][cascade_classifier.calc_accuracy] Accuracy(layer_0 - train.classifier_average)=47.72%\n",
      "[ 2018-04-21 16:11:00,253][cascade_classifier.calc_accuracy] Accuracy(layer_0 - test.classifier_average)=51.02%\n",
      "[ 2018-04-21 16:11:00,254][cascade_classifier.fit_transform] [Result][Reach Max Layer] opt_layer_num=1, accuracy_train=47.72%, accuracy_test=51.02%\n",
      "[ 2018-04-21 16:11:00,260][cascade_classifier.transform] X_groups_test.shape=[(10000, 3082)]\n",
      "[ 2018-04-21 16:11:00,324][cascade_classifier.transform] group_dims=[3082]\n",
      "[ 2018-04-21 16:11:00,326][cascade_classifier.transform] X_test.shape=(10000, 3082)\n",
      "[ 2018-04-21 16:11:00,347][cascade_classifier.transform] [layer=0] look_indexs=[0], X_cur_test.shape=(10000, 3082)\n"
     ]
    },
    {
     "name": "stdout",
     "output_type": "stream",
     "text": [
      "('Test Accuracy of RandomForest = 51.010000 %', 19, 'fois')\n"
     ]
    }
   ],
   "source": [
    "# deep\n",
    "for i in range (20):\n",
    "    X_train,X_test=update(X_train,X_test)\n",
    "    X_test_enc, X_train_enc=newdata(X_test_enc, X_train_enc)\n",
    "\n",
    "    X_train=X_train_enc\n",
    "    X_test=X_test_enc \n",
    "    X_train_enc, X_test_enc = gc.fit_transform(X_train, y_train, X_test=X_test, y_test=y_test)\n",
    "    affiche()"
   ]
  },
  {
   "cell_type": "code",
   "execution_count": null,
   "metadata": {
    "collapsed": true
   },
   "outputs": [],
   "source": []
  },
  {
   "cell_type": "markdown",
   "metadata": {
    "collapsed": true
   },
   "source": [
    "# ('Test Accuracy of RandomForest = 51.010000 %', 19, 'fois')"
   ]
  },
  {
   "cell_type": "code",
   "execution_count": null,
   "metadata": {
    "collapsed": true
   },
   "outputs": [],
   "source": []
  },
  {
   "cell_type": "code",
   "execution_count": null,
   "metadata": {
    "collapsed": true
   },
   "outputs": [],
   "source": []
  }
 ],
 "metadata": {
  "kernelspec": {
   "display_name": "Python 2",
   "language": "python",
   "name": "python2"
  },
  "language_info": {
   "codemirror_mode": {
    "name": "ipython",
    "version": 2
   },
   "file_extension": ".py",
   "mimetype": "text/x-python",
   "name": "python",
   "nbconvert_exporter": "python",
   "pygments_lexer": "ipython2",
   "version": "2.7.13"
  }
 },
 "nbformat": 4,
 "nbformat_minor": 2
}

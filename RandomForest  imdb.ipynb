{
 "cells": [
  {
   "cell_type": "code",
   "execution_count": 1,
   "metadata": {
    "collapsed": true
   },
   "outputs": [],
   "source": [
    "#imports \n",
    "import numpy as np\n",
    "import pandas as pd\n",
    "from math import sqrt \n",
    "from pprint import pprint\n",
    "from numpy import array"
   ]
  },
  {
   "cell_type": "code",
   "execution_count": 2,
   "metadata": {},
   "outputs": [
    {
     "name": "stderr",
     "output_type": "stream",
     "text": [
      "Using TensorFlow backend.\n"
     ]
    }
   ],
   "source": [
    "# load data\n",
    "from keras.datasets import imdb\n",
    "from keras.preprocessing import sequence\n",
    "top_words = 5000\n",
    "(X_train, y_train), (X_test, y_test) = imdb.load_data(num_words=top_words)\n",
    "max_review_length = 500\n",
    "X_train = sequence.pad_sequences(X_train, maxlen=max_review_length)\n",
    "X_test = sequence.pad_sequences(X_test, maxlen=max_review_length) "
   ]
  },
  {
   "cell_type": "code",
   "execution_count": 3,
   "metadata": {
    "collapsed": true
   },
   "outputs": [],
   "source": [
    "#  Deep RandomForest\n",
    "import argparse\n",
    "import sys\n",
    "import pickle\n",
    "from sklearn.metrics import accuracy_score\n",
    "sys.path.insert(0, \"lib\")\n",
    "from gcforest.gcforest import GCForest\n",
    "from gcforest.utils.config_utils import load_json\n",
    "config = load_json(\"./examples/imbd.json\")  \n",
    "gc = GCForest(config)"
   ]
  },
  {
   "cell_type": "code",
   "execution_count": 4,
   "metadata": {},
   "outputs": [
    {
     "data": {
      "text/plain": [
       "2"
      ]
     },
     "execution_count": 4,
     "metadata": {},
     "output_type": "execute_result"
    }
   ],
   "source": [
    "# count of class\n",
    "len(np.unique(y_train))"
   ]
  },
  {
   "cell_type": "code",
   "execution_count": 5,
   "metadata": {},
   "outputs": [
    {
     "name": "stderr",
     "output_type": "stream",
     "text": [
      "[ 2018-04-21 16:39:23,345][cascade_classifier.fit_transform] X_groups_train.shape=[(25000, 500)],y_train.shape=(25000,),X_groups_test.shape=[(25000, 500)],y_test.shape=(25000,)\n",
      "[ 2018-04-21 16:39:23,396][cascade_classifier.fit_transform] group_dims=[500]\n",
      "[ 2018-04-21 16:39:23,398][cascade_classifier.fit_transform] group_starts=[0]\n",
      "[ 2018-04-21 16:39:23,400][cascade_classifier.fit_transform] group_ends=[500]\n",
      "[ 2018-04-21 16:39:23,402][cascade_classifier.fit_transform] X_train.shape=(25000, 500),X_test.shape=(25000, 500)\n",
      "[ 2018-04-21 16:39:23,474][cascade_classifier.fit_transform] [layer=0] look_indexs=[0], X_cur_train.shape=(25000, 500), X_cur_test.shape=(25000, 500)\n",
      "[ 2018-04-21 16:39:24,908][kfold_wrapper.log_eval_metrics] Accuracy(layer_0 - estimator_0 - 10_folds.train_0.predict)=54.52%\n",
      "[ 2018-04-21 16:39:26,434][kfold_wrapper.log_eval_metrics] Accuracy(layer_0 - estimator_0 - 10_folds.train_1.predict)=53.08%\n",
      "[ 2018-04-21 16:39:28,023][kfold_wrapper.log_eval_metrics] Accuracy(layer_0 - estimator_0 - 10_folds.train_2.predict)=53.12%\n",
      "[ 2018-04-21 16:39:29,683][kfold_wrapper.log_eval_metrics] Accuracy(layer_0 - estimator_0 - 10_folds.train_3.predict)=55.08%\n",
      "[ 2018-04-21 16:39:31,596][kfold_wrapper.log_eval_metrics] Accuracy(layer_0 - estimator_0 - 10_folds.train_4.predict)=53.40%\n",
      "[ 2018-04-21 16:39:33,141][kfold_wrapper.log_eval_metrics] Accuracy(layer_0 - estimator_0 - 10_folds.train_5.predict)=54.96%\n",
      "[ 2018-04-21 16:39:34,689][kfold_wrapper.log_eval_metrics] Accuracy(layer_0 - estimator_0 - 10_folds.train_6.predict)=55.40%\n",
      "[ 2018-04-21 16:39:36,375][kfold_wrapper.log_eval_metrics] Accuracy(layer_0 - estimator_0 - 10_folds.train_7.predict)=54.60%\n",
      "[ 2018-04-21 16:39:37,956][kfold_wrapper.log_eval_metrics] Accuracy(layer_0 - estimator_0 - 10_folds.train_8.predict)=53.28%\n",
      "[ 2018-04-21 16:39:39,592][kfold_wrapper.log_eval_metrics] Accuracy(layer_0 - estimator_0 - 10_folds.train_9.predict)=55.28%\n",
      "[ 2018-04-21 16:39:39,757][kfold_wrapper.log_eval_metrics] Accuracy(layer_0 - estimator_0 - 10_folds.train_cv.predict)=54.27%\n",
      "[ 2018-04-21 16:39:39,760][kfold_wrapper.log_eval_metrics] Accuracy(layer_0 - estimator_0 - 10_folds.test.predict)=55.00%\n",
      "[ 2018-04-21 16:39:39,763][cascade_classifier.calc_accuracy] Accuracy(layer_0 - train.classifier_average)=54.27%\n",
      "[ 2018-04-21 16:39:39,765][cascade_classifier.calc_accuracy] Accuracy(layer_0 - test.classifier_average)=55.00%\n",
      "[ 2018-04-21 16:39:39,767][cascade_classifier.fit_transform] [Result][Reach Max Layer] opt_layer_num=1, accuracy_train=54.27%, accuracy_test=55.00%\n"
     ]
    }
   ],
   "source": [
    " # X_enc is the concatenated predict_proba result of RandomForest\n",
    "\n",
    "X_train_enc, X_test_enc = gc.fit_transform(X_train, y_train, X_test=X_test, y_test=y_test)\n",
    "   "
   ]
  },
  {
   "cell_type": "code",
   "execution_count": 6,
   "metadata": {},
   "outputs": [
    {
     "name": "stderr",
     "output_type": "stream",
     "text": [
      "[ 2018-04-21 16:39:51,652][cascade_classifier.transform] X_groups_test.shape=[(25000, 500)]\n",
      "[ 2018-04-21 16:39:51,695][cascade_classifier.transform] group_dims=[500]\n",
      "[ 2018-04-21 16:39:51,697][cascade_classifier.transform] X_test.shape=(25000, 500)\n",
      "[ 2018-04-21 16:39:51,735][cascade_classifier.transform] [layer=0] look_indexs=[0], X_cur_test.shape=(25000, 500)\n"
     ]
    },
    {
     "name": "stdout",
     "output_type": "stream",
     "text": [
      "Test Accuracy of RandomForest = 55.020000 %\n"
     ]
    }
   ],
   "source": [
    "# predict\n",
    "y_pred = gc.predict(X_test)\n",
    "acc = accuracy_score(y_test, y_pred)\n",
    "print(\"Test Accuracy of RandomForest = {:.6f} %\".format(acc * 100))"
   ]
  },
  {
   "cell_type": "code",
   "execution_count": 7,
   "metadata": {},
   "outputs": [
    {
     "name": "stderr",
     "output_type": "stream",
     "text": [
      "[ 2018-04-21 16:39:59,281][cascade_classifier.transform] X_groups_test.shape=[(25000, 500)]\n",
      "[ 2018-04-21 16:39:59,312][cascade_classifier.transform] group_dims=[500]\n",
      "[ 2018-04-21 16:39:59,314][cascade_classifier.transform] X_test.shape=(25000, 500)\n",
      "[ 2018-04-21 16:39:59,354][cascade_classifier.transform] [layer=0] look_indexs=[0], X_cur_test.shape=(25000, 500)\n"
     ]
    }
   ],
   "source": [
    "# predict_proba result of RandomForest + data\n",
    "\n",
    "X_test_enc = gc.transform(X_test)\n",
    "X_train_enc = X_train_enc.reshape((X_train_enc.shape[0], -1))\n",
    "X_test_enc = X_test_enc.reshape((X_test_enc.shape[0], -1))\n",
    "X_train_origin = X_train.reshape((X_train.shape[0], -1))\n",
    "X_test_origin = X_test.reshape((X_test.shape[0], -1))\n",
    "X_train_enc = np.hstack((X_train_origin, X_train_enc))\n",
    "X_test_enc = np.hstack((X_test_origin, X_test_enc))"
   ]
  },
  {
   "cell_type": "code",
   "execution_count": 8,
   "metadata": {},
   "outputs": [
    {
     "name": "stderr",
     "output_type": "stream",
     "text": [
      "[ 2018-04-21 16:40:02,693][cascade_classifier.fit_transform] X_groups_train.shape=[(25000, 502)],y_train.shape=(25000,),X_groups_test.shape=[(25000, 502)],y_test.shape=(25000,)\n",
      "[ 2018-04-21 16:40:02,786][cascade_classifier.fit_transform] group_dims=[502]\n",
      "[ 2018-04-21 16:40:02,788][cascade_classifier.fit_transform] group_starts=[0]\n",
      "[ 2018-04-21 16:40:02,789][cascade_classifier.fit_transform] group_ends=[502]\n",
      "[ 2018-04-21 16:40:02,791][cascade_classifier.fit_transform] X_train.shape=(25000, 502),X_test.shape=(25000, 502)\n",
      "[ 2018-04-21 16:40:02,874][cascade_classifier.fit_transform] [layer=0] look_indexs=[0], X_cur_train.shape=(25000, 502), X_cur_test.shape=(25000, 502)\n",
      "[ 2018-04-21 16:40:04,386][kfold_wrapper.log_eval_metrics] Accuracy(layer_0 - estimator_0 - 10_folds.train_0.predict)=54.08%\n",
      "[ 2018-04-21 16:40:05,927][kfold_wrapper.log_eval_metrics] Accuracy(layer_0 - estimator_0 - 10_folds.train_1.predict)=54.56%\n",
      "[ 2018-04-21 16:40:07,442][kfold_wrapper.log_eval_metrics] Accuracy(layer_0 - estimator_0 - 10_folds.train_2.predict)=54.00%\n",
      "[ 2018-04-21 16:40:08,971][kfold_wrapper.log_eval_metrics] Accuracy(layer_0 - estimator_0 - 10_folds.train_3.predict)=55.24%\n",
      "[ 2018-04-21 16:40:10,565][kfold_wrapper.log_eval_metrics] Accuracy(layer_0 - estimator_0 - 10_folds.train_4.predict)=55.20%\n",
      "[ 2018-04-21 16:40:12,138][kfold_wrapper.log_eval_metrics] Accuracy(layer_0 - estimator_0 - 10_folds.train_5.predict)=52.68%\n",
      "[ 2018-04-21 16:40:13,774][kfold_wrapper.log_eval_metrics] Accuracy(layer_0 - estimator_0 - 10_folds.train_6.predict)=53.56%\n",
      "[ 2018-04-21 16:40:15,321][kfold_wrapper.log_eval_metrics] Accuracy(layer_0 - estimator_0 - 10_folds.train_7.predict)=53.40%\n",
      "[ 2018-04-21 16:40:16,871][kfold_wrapper.log_eval_metrics] Accuracy(layer_0 - estimator_0 - 10_folds.train_8.predict)=53.00%\n",
      "[ 2018-04-21 16:40:18,545][kfold_wrapper.log_eval_metrics] Accuracy(layer_0 - estimator_0 - 10_folds.train_9.predict)=54.60%\n",
      "[ 2018-04-21 16:40:18,726][kfold_wrapper.log_eval_metrics] Accuracy(layer_0 - estimator_0 - 10_folds.train_cv.predict)=54.03%\n",
      "[ 2018-04-21 16:40:18,728][kfold_wrapper.log_eval_metrics] Accuracy(layer_0 - estimator_0 - 10_folds.test.predict)=54.98%\n",
      "[ 2018-04-21 16:40:18,741][cascade_classifier.calc_accuracy] Accuracy(layer_0 - train.classifier_average)=54.03%\n",
      "[ 2018-04-21 16:40:18,743][cascade_classifier.calc_accuracy] Accuracy(layer_0 - test.classifier_average)=54.98%\n",
      "[ 2018-04-21 16:40:18,744][cascade_classifier.fit_transform] [Result][Reach Max Layer] opt_layer_num=1, accuracy_train=54.03%, accuracy_test=54.98%\n"
     ]
    }
   ],
   "source": [
    "# new data\n",
    "X_train=X_train_enc\n",
    "X_test=X_test_enc \n",
    "X_train_enc, X_test_enc = gc.fit_transform(X_train, y_train, X_test=X_test, y_test=y_test)"
   ]
  },
  {
   "cell_type": "code",
   "execution_count": 9,
   "metadata": {},
   "outputs": [
    {
     "name": "stdout",
     "output_type": "stream",
     "text": [
      "X_train_enc.shape=(25000, 2), X_test_enc.shape=(25000, 2)\n"
     ]
    }
   ],
   "source": [
    "print(\"X_train_enc.shape={}, X_test_enc.shape={}\".format(X_train_enc.shape, X_test_enc.shape))"
   ]
  },
  {
   "cell_type": "code",
   "execution_count": 10,
   "metadata": {},
   "outputs": [
    {
     "name": "stdout",
     "output_type": "stream",
     "text": [
      "X_train_enc.shape=(25000, 502), X_test_enc.shape=(25000, 502)\n"
     ]
    }
   ],
   "source": [
    "print(\"X_train_enc.shape={}, X_test_enc.shape={}\".format(X_train.shape, X_test.shape))"
   ]
  },
  {
   "cell_type": "code",
   "execution_count": 11,
   "metadata": {
    "collapsed": true
   },
   "outputs": [],
   "source": [
    "def update(X_train,X_test):\n",
    "    # update Estimators\n",
    "    M = np.delete(X_train, (-1), axis=1)\n",
    "    X_train= np.delete(M, (-1), axis=1)\n",
    "    M = np.delete(X_test, (-1), axis=1)\n",
    "    X_test = np.delete(M, (-1), axis=1)\n",
    "    return X_train,X_test"
   ]
  },
  {
   "cell_type": "code",
   "execution_count": 12,
   "metadata": {
    "collapsed": true
   },
   "outputs": [],
   "source": [
    "def newdata(X_test_enc, X_train_enc):\n",
    "    # Make Data + Estimators\n",
    "    X_train_origin = X_train.reshape((X_train.shape[0], -1))\n",
    "    X_test_origin = X_test.reshape((X_test.shape[0], -1))\n",
    "    X_train_enc = np.hstack((X_train_origin, X_train_enc))\n",
    "    X_test_enc = np.hstack((X_test_origin, X_test_enc))\n",
    "    return X_test_enc, X_train_enc\n",
    "\n",
    "def affiche():\n",
    "    # predict\n",
    "    y_pred = gc.predict(X_test)\n",
    "    acc = accuracy_score(y_test, y_pred)\n",
    "    print(\"Test Accuracy of RandomForest = {:.6f} %\".format(acc * 100),i,'fois')"
   ]
  },
  {
   "cell_type": "code",
   "execution_count": 13,
   "metadata": {},
   "outputs": [
    {
     "name": "stderr",
     "output_type": "stream",
     "text": [
      "[ 2018-04-21 16:40:24,327][cascade_classifier.fit_transform] X_groups_train.shape=[(25000, 502)],y_train.shape=(25000,),X_groups_test.shape=[(25000, 502)],y_test.shape=(25000,)\n",
      "[ 2018-04-21 16:40:24,405][cascade_classifier.fit_transform] group_dims=[502]\n",
      "[ 2018-04-21 16:40:24,407][cascade_classifier.fit_transform] group_starts=[0]\n",
      "[ 2018-04-21 16:40:24,408][cascade_classifier.fit_transform] group_ends=[502]\n",
      "[ 2018-04-21 16:40:24,410][cascade_classifier.fit_transform] X_train.shape=(25000, 502),X_test.shape=(25000, 502)\n",
      "[ 2018-04-21 16:40:24,508][cascade_classifier.fit_transform] [layer=0] look_indexs=[0], X_cur_train.shape=(25000, 502), X_cur_test.shape=(25000, 502)\n",
      "[ 2018-04-21 16:40:26,033][kfold_wrapper.log_eval_metrics] Accuracy(layer_0 - estimator_0 - 10_folds.train_0.predict)=54.64%\n",
      "[ 2018-04-21 16:40:27,579][kfold_wrapper.log_eval_metrics] Accuracy(layer_0 - estimator_0 - 10_folds.train_1.predict)=52.96%\n",
      "[ 2018-04-21 16:40:29,088][kfold_wrapper.log_eval_metrics] Accuracy(layer_0 - estimator_0 - 10_folds.train_2.predict)=53.00%\n",
      "[ 2018-04-21 16:40:30,656][kfold_wrapper.log_eval_metrics] Accuracy(layer_0 - estimator_0 - 10_folds.train_3.predict)=54.64%\n",
      "[ 2018-04-21 16:40:32,179][kfold_wrapper.log_eval_metrics] Accuracy(layer_0 - estimator_0 - 10_folds.train_4.predict)=52.56%\n",
      "[ 2018-04-21 16:40:33,711][kfold_wrapper.log_eval_metrics] Accuracy(layer_0 - estimator_0 - 10_folds.train_5.predict)=53.56%\n",
      "[ 2018-04-21 16:40:35,362][kfold_wrapper.log_eval_metrics] Accuracy(layer_0 - estimator_0 - 10_folds.train_6.predict)=53.44%\n",
      "[ 2018-04-21 16:40:37,029][kfold_wrapper.log_eval_metrics] Accuracy(layer_0 - estimator_0 - 10_folds.train_7.predict)=53.56%\n",
      "[ 2018-04-21 16:40:38,682][kfold_wrapper.log_eval_metrics] Accuracy(layer_0 - estimator_0 - 10_folds.train_8.predict)=51.68%\n",
      "[ 2018-04-21 16:40:40,346][kfold_wrapper.log_eval_metrics] Accuracy(layer_0 - estimator_0 - 10_folds.train_9.predict)=54.04%\n",
      "[ 2018-04-21 16:40:40,638][kfold_wrapper.log_eval_metrics] Accuracy(layer_0 - estimator_0 - 10_folds.train_cv.predict)=53.41%\n",
      "[ 2018-04-21 16:40:40,641][kfold_wrapper.log_eval_metrics] Accuracy(layer_0 - estimator_0 - 10_folds.test.predict)=55.28%\n",
      "[ 2018-04-21 16:40:40,659][cascade_classifier.calc_accuracy] Accuracy(layer_0 - train.classifier_average)=53.41%\n",
      "[ 2018-04-21 16:40:40,661][cascade_classifier.calc_accuracy] Accuracy(layer_0 - test.classifier_average)=55.28%\n",
      "[ 2018-04-21 16:40:40,663][cascade_classifier.fit_transform] [Result][Reach Max Layer] opt_layer_num=1, accuracy_train=53.41%, accuracy_test=55.28%\n",
      "[ 2018-04-21 16:40:40,666][cascade_classifier.transform] X_groups_test.shape=[(25000, 502)]\n",
      "[ 2018-04-21 16:40:40,713][cascade_classifier.transform] group_dims=[502]\n",
      "[ 2018-04-21 16:40:40,715][cascade_classifier.transform] X_test.shape=(25000, 502)\n",
      "[ 2018-04-21 16:40:40,757][cascade_classifier.transform] [layer=0] look_indexs=[0], X_cur_test.shape=(25000, 502)\n"
     ]
    },
    {
     "name": "stdout",
     "output_type": "stream",
     "text": [
      "('Test Accuracy of RandomForest = 55.304000 %', 0, 'fois')\n"
     ]
    },
    {
     "name": "stderr",
     "output_type": "stream",
     "text": [
      "[ 2018-04-21 16:40:43,764][cascade_classifier.fit_transform] X_groups_train.shape=[(25000, 502)],y_train.shape=(25000,),X_groups_test.shape=[(25000, 502)],y_test.shape=(25000,)\n",
      "[ 2018-04-21 16:40:43,843][cascade_classifier.fit_transform] group_dims=[502]\n",
      "[ 2018-04-21 16:40:43,845][cascade_classifier.fit_transform] group_starts=[0]\n",
      "[ 2018-04-21 16:40:43,847][cascade_classifier.fit_transform] group_ends=[502]\n",
      "[ 2018-04-21 16:40:43,848][cascade_classifier.fit_transform] X_train.shape=(25000, 502),X_test.shape=(25000, 502)\n",
      "[ 2018-04-21 16:40:43,930][cascade_classifier.fit_transform] [layer=0] look_indexs=[0], X_cur_train.shape=(25000, 502), X_cur_test.shape=(25000, 502)\n",
      "[ 2018-04-21 16:40:45,484][kfold_wrapper.log_eval_metrics] Accuracy(layer_0 - estimator_0 - 10_folds.train_0.predict)=54.00%\n",
      "[ 2018-04-21 16:40:47,284][kfold_wrapper.log_eval_metrics] Accuracy(layer_0 - estimator_0 - 10_folds.train_1.predict)=53.52%\n",
      "[ 2018-04-21 16:40:48,925][kfold_wrapper.log_eval_metrics] Accuracy(layer_0 - estimator_0 - 10_folds.train_2.predict)=54.72%\n",
      "[ 2018-04-21 16:40:50,594][kfold_wrapper.log_eval_metrics] Accuracy(layer_0 - estimator_0 - 10_folds.train_3.predict)=54.40%\n",
      "[ 2018-04-21 16:40:52,392][kfold_wrapper.log_eval_metrics] Accuracy(layer_0 - estimator_0 - 10_folds.train_4.predict)=52.36%\n",
      "[ 2018-04-21 16:40:54,065][kfold_wrapper.log_eval_metrics] Accuracy(layer_0 - estimator_0 - 10_folds.train_5.predict)=52.12%\n",
      "[ 2018-04-21 16:40:56,041][kfold_wrapper.log_eval_metrics] Accuracy(layer_0 - estimator_0 - 10_folds.train_6.predict)=53.88%\n",
      "[ 2018-04-21 16:40:57,918][kfold_wrapper.log_eval_metrics] Accuracy(layer_0 - estimator_0 - 10_folds.train_7.predict)=53.48%\n",
      "[ 2018-04-21 16:40:59,586][kfold_wrapper.log_eval_metrics] Accuracy(layer_0 - estimator_0 - 10_folds.train_8.predict)=53.04%\n",
      "[ 2018-04-21 16:41:01,366][kfold_wrapper.log_eval_metrics] Accuracy(layer_0 - estimator_0 - 10_folds.train_9.predict)=54.28%\n",
      "[ 2018-04-21 16:41:01,548][kfold_wrapper.log_eval_metrics] Accuracy(layer_0 - estimator_0 - 10_folds.train_cv.predict)=53.58%\n",
      "[ 2018-04-21 16:41:01,550][kfold_wrapper.log_eval_metrics] Accuracy(layer_0 - estimator_0 - 10_folds.test.predict)=55.04%\n",
      "[ 2018-04-21 16:41:01,562][cascade_classifier.calc_accuracy] Accuracy(layer_0 - train.classifier_average)=53.58%\n",
      "[ 2018-04-21 16:41:01,564][cascade_classifier.calc_accuracy] Accuracy(layer_0 - test.classifier_average)=55.04%\n",
      "[ 2018-04-21 16:41:01,566][cascade_classifier.fit_transform] [Result][Reach Max Layer] opt_layer_num=1, accuracy_train=53.58%, accuracy_test=55.04%\n",
      "[ 2018-04-21 16:41:01,569][cascade_classifier.transform] X_groups_test.shape=[(25000, 502)]\n",
      "[ 2018-04-21 16:41:01,616][cascade_classifier.transform] group_dims=[502]\n",
      "[ 2018-04-21 16:41:01,618][cascade_classifier.transform] X_test.shape=(25000, 502)\n",
      "[ 2018-04-21 16:41:01,663][cascade_classifier.transform] [layer=0] look_indexs=[0], X_cur_test.shape=(25000, 502)\n"
     ]
    },
    {
     "name": "stdout",
     "output_type": "stream",
     "text": [
      "('Test Accuracy of RandomForest = 55.040000 %', 1, 'fois')\n"
     ]
    },
    {
     "name": "stderr",
     "output_type": "stream",
     "text": [
      "[ 2018-04-21 16:41:03,620][cascade_classifier.fit_transform] X_groups_train.shape=[(25000, 502)],y_train.shape=(25000,),X_groups_test.shape=[(25000, 502)],y_test.shape=(25000,)\n",
      "[ 2018-04-21 16:41:03,701][cascade_classifier.fit_transform] group_dims=[502]\n",
      "[ 2018-04-21 16:41:03,703][cascade_classifier.fit_transform] group_starts=[0]\n",
      "[ 2018-04-21 16:41:03,705][cascade_classifier.fit_transform] group_ends=[502]\n",
      "[ 2018-04-21 16:41:03,706][cascade_classifier.fit_transform] X_train.shape=(25000, 502),X_test.shape=(25000, 502)\n",
      "[ 2018-04-21 16:41:03,786][cascade_classifier.fit_transform] [layer=0] look_indexs=[0], X_cur_train.shape=(25000, 502), X_cur_test.shape=(25000, 502)\n",
      "[ 2018-04-21 16:41:05,135][kfold_wrapper.log_eval_metrics] Accuracy(layer_0 - estimator_0 - 10_folds.train_0.predict)=55.28%\n",
      "[ 2018-04-21 16:41:06,824][kfold_wrapper.log_eval_metrics] Accuracy(layer_0 - estimator_0 - 10_folds.train_1.predict)=53.28%\n",
      "[ 2018-04-21 16:41:08,349][kfold_wrapper.log_eval_metrics] Accuracy(layer_0 - estimator_0 - 10_folds.train_2.predict)=53.36%\n",
      "[ 2018-04-21 16:41:09,909][kfold_wrapper.log_eval_metrics] Accuracy(layer_0 - estimator_0 - 10_folds.train_3.predict)=52.60%\n",
      "[ 2018-04-21 16:41:11,444][kfold_wrapper.log_eval_metrics] Accuracy(layer_0 - estimator_0 - 10_folds.train_4.predict)=53.24%\n",
      "[ 2018-04-21 16:41:12,957][kfold_wrapper.log_eval_metrics] Accuracy(layer_0 - estimator_0 - 10_folds.train_5.predict)=53.36%\n",
      "[ 2018-04-21 16:41:14,462][kfold_wrapper.log_eval_metrics] Accuracy(layer_0 - estimator_0 - 10_folds.train_6.predict)=53.12%\n",
      "[ 2018-04-21 16:41:15,972][kfold_wrapper.log_eval_metrics] Accuracy(layer_0 - estimator_0 - 10_folds.train_7.predict)=52.28%\n",
      "[ 2018-04-21 16:41:17,470][kfold_wrapper.log_eval_metrics] Accuracy(layer_0 - estimator_0 - 10_folds.train_8.predict)=51.56%\n",
      "[ 2018-04-21 16:41:19,014][kfold_wrapper.log_eval_metrics] Accuracy(layer_0 - estimator_0 - 10_folds.train_9.predict)=54.24%\n",
      "[ 2018-04-21 16:41:19,312][kfold_wrapper.log_eval_metrics] Accuracy(layer_0 - estimator_0 - 10_folds.train_cv.predict)=53.23%\n",
      "[ 2018-04-21 16:41:19,314][kfold_wrapper.log_eval_metrics] Accuracy(layer_0 - estimator_0 - 10_folds.test.predict)=54.92%\n",
      "[ 2018-04-21 16:41:19,329][cascade_classifier.calc_accuracy] Accuracy(layer_0 - train.classifier_average)=53.23%\n",
      "[ 2018-04-21 16:41:19,331][cascade_classifier.calc_accuracy] Accuracy(layer_0 - test.classifier_average)=54.92%\n",
      "[ 2018-04-21 16:41:19,333][cascade_classifier.fit_transform] [Result][Reach Max Layer] opt_layer_num=1, accuracy_train=53.23%, accuracy_test=54.92%\n",
      "[ 2018-04-21 16:41:19,337][cascade_classifier.transform] X_groups_test.shape=[(25000, 502)]\n",
      "[ 2018-04-21 16:41:19,384][cascade_classifier.transform] group_dims=[502]\n",
      "[ 2018-04-21 16:41:19,386][cascade_classifier.transform] X_test.shape=(25000, 502)\n",
      "[ 2018-04-21 16:41:19,429][cascade_classifier.transform] [layer=0] look_indexs=[0], X_cur_test.shape=(25000, 502)\n"
     ]
    },
    {
     "name": "stdout",
     "output_type": "stream",
     "text": [
      "('Test Accuracy of RandomForest = 54.900000 %', 2, 'fois')\n"
     ]
    },
    {
     "name": "stderr",
     "output_type": "stream",
     "text": [
      "[ 2018-04-21 16:41:22,395][cascade_classifier.fit_transform] X_groups_train.shape=[(25000, 502)],y_train.shape=(25000,),X_groups_test.shape=[(25000, 502)],y_test.shape=(25000,)\n",
      "[ 2018-04-21 16:41:22,475][cascade_classifier.fit_transform] group_dims=[502]\n",
      "[ 2018-04-21 16:41:22,477][cascade_classifier.fit_transform] group_starts=[0]\n",
      "[ 2018-04-21 16:41:22,479][cascade_classifier.fit_transform] group_ends=[502]\n",
      "[ 2018-04-21 16:41:22,480][cascade_classifier.fit_transform] X_train.shape=(25000, 502),X_test.shape=(25000, 502)\n",
      "[ 2018-04-21 16:41:22,562][cascade_classifier.fit_transform] [layer=0] look_indexs=[0], X_cur_train.shape=(25000, 502), X_cur_test.shape=(25000, 502)\n",
      "[ 2018-04-21 16:41:23,909][kfold_wrapper.log_eval_metrics] Accuracy(layer_0 - estimator_0 - 10_folds.train_0.predict)=55.20%\n",
      "[ 2018-04-21 16:41:25,674][kfold_wrapper.log_eval_metrics] Accuracy(layer_0 - estimator_0 - 10_folds.train_1.predict)=54.48%\n",
      "[ 2018-04-21 16:41:27,508][kfold_wrapper.log_eval_metrics] Accuracy(layer_0 - estimator_0 - 10_folds.train_2.predict)=54.48%\n",
      "[ 2018-04-21 16:41:29,175][kfold_wrapper.log_eval_metrics] Accuracy(layer_0 - estimator_0 - 10_folds.train_3.predict)=56.84%\n",
      "[ 2018-04-21 16:41:30,729][kfold_wrapper.log_eval_metrics] Accuracy(layer_0 - estimator_0 - 10_folds.train_4.predict)=54.96%\n",
      "[ 2018-04-21 16:41:32,223][kfold_wrapper.log_eval_metrics] Accuracy(layer_0 - estimator_0 - 10_folds.train_5.predict)=53.00%\n",
      "[ 2018-04-21 16:41:33,750][kfold_wrapper.log_eval_metrics] Accuracy(layer_0 - estimator_0 - 10_folds.train_6.predict)=52.32%\n",
      "[ 2018-04-21 16:41:35,398][kfold_wrapper.log_eval_metrics] Accuracy(layer_0 - estimator_0 - 10_folds.train_7.predict)=53.16%\n",
      "[ 2018-04-21 16:41:37,054][kfold_wrapper.log_eval_metrics] Accuracy(layer_0 - estimator_0 - 10_folds.train_8.predict)=53.32%\n",
      "[ 2018-04-21 16:41:38,582][kfold_wrapper.log_eval_metrics] Accuracy(layer_0 - estimator_0 - 10_folds.train_9.predict)=53.08%\n",
      "[ 2018-04-21 16:41:38,741][kfold_wrapper.log_eval_metrics] Accuracy(layer_0 - estimator_0 - 10_folds.train_cv.predict)=54.08%\n",
      "[ 2018-04-21 16:41:38,743][kfold_wrapper.log_eval_metrics] Accuracy(layer_0 - estimator_0 - 10_folds.test.predict)=55.03%\n",
      "[ 2018-04-21 16:41:38,750][cascade_classifier.calc_accuracy] Accuracy(layer_0 - train.classifier_average)=54.08%\n",
      "[ 2018-04-21 16:41:38,752][cascade_classifier.calc_accuracy] Accuracy(layer_0 - test.classifier_average)=55.03%\n",
      "[ 2018-04-21 16:41:38,753][cascade_classifier.fit_transform] [Result][Reach Max Layer] opt_layer_num=1, accuracy_train=54.08%, accuracy_test=55.03%\n",
      "[ 2018-04-21 16:41:38,756][cascade_classifier.transform] X_groups_test.shape=[(25000, 502)]\n",
      "[ 2018-04-21 16:41:38,796][cascade_classifier.transform] group_dims=[502]\n",
      "[ 2018-04-21 16:41:38,798][cascade_classifier.transform] X_test.shape=(25000, 502)\n",
      "[ 2018-04-21 16:41:38,838][cascade_classifier.transform] [layer=0] look_indexs=[0], X_cur_test.shape=(25000, 502)\n"
     ]
    },
    {
     "name": "stdout",
     "output_type": "stream",
     "text": [
      "('Test Accuracy of RandomForest = 55.032000 %', 3, 'fois')\n"
     ]
    },
    {
     "name": "stderr",
     "output_type": "stream",
     "text": [
      "[ 2018-04-21 16:41:41,463][cascade_classifier.fit_transform] X_groups_train.shape=[(25000, 502)],y_train.shape=(25000,),X_groups_test.shape=[(25000, 502)],y_test.shape=(25000,)\n",
      "[ 2018-04-21 16:41:41,543][cascade_classifier.fit_transform] group_dims=[502]\n",
      "[ 2018-04-21 16:41:41,545][cascade_classifier.fit_transform] group_starts=[0]\n",
      "[ 2018-04-21 16:41:41,547][cascade_classifier.fit_transform] group_ends=[502]\n",
      "[ 2018-04-21 16:41:41,548][cascade_classifier.fit_transform] X_train.shape=(25000, 502),X_test.shape=(25000, 502)\n",
      "[ 2018-04-21 16:41:41,630][cascade_classifier.fit_transform] [layer=0] look_indexs=[0], X_cur_train.shape=(25000, 502), X_cur_test.shape=(25000, 502)\n",
      "[ 2018-04-21 16:41:43,005][kfold_wrapper.log_eval_metrics] Accuracy(layer_0 - estimator_0 - 10_folds.train_0.predict)=54.12%\n",
      "[ 2018-04-21 16:41:44,569][kfold_wrapper.log_eval_metrics] Accuracy(layer_0 - estimator_0 - 10_folds.train_1.predict)=54.24%\n",
      "[ 2018-04-21 16:41:46,075][kfold_wrapper.log_eval_metrics] Accuracy(layer_0 - estimator_0 - 10_folds.train_2.predict)=53.64%\n",
      "[ 2018-04-21 16:41:47,771][kfold_wrapper.log_eval_metrics] Accuracy(layer_0 - estimator_0 - 10_folds.train_3.predict)=53.96%\n",
      "[ 2018-04-21 16:41:49,302][kfold_wrapper.log_eval_metrics] Accuracy(layer_0 - estimator_0 - 10_folds.train_4.predict)=54.36%\n",
      "[ 2018-04-21 16:41:50,939][kfold_wrapper.log_eval_metrics] Accuracy(layer_0 - estimator_0 - 10_folds.train_5.predict)=51.80%\n",
      "[ 2018-04-21 16:41:52,427][kfold_wrapper.log_eval_metrics] Accuracy(layer_0 - estimator_0 - 10_folds.train_6.predict)=52.28%\n",
      "[ 2018-04-21 16:41:53,961][kfold_wrapper.log_eval_metrics] Accuracy(layer_0 - estimator_0 - 10_folds.train_7.predict)=52.68%\n",
      "[ 2018-04-21 16:41:55,505][kfold_wrapper.log_eval_metrics] Accuracy(layer_0 - estimator_0 - 10_folds.train_8.predict)=52.76%\n",
      "[ 2018-04-21 16:41:57,164][kfold_wrapper.log_eval_metrics] Accuracy(layer_0 - estimator_0 - 10_folds.train_9.predict)=53.52%\n",
      "[ 2018-04-21 16:41:57,459][kfold_wrapper.log_eval_metrics] Accuracy(layer_0 - estimator_0 - 10_folds.train_cv.predict)=53.34%\n",
      "[ 2018-04-21 16:41:57,462][kfold_wrapper.log_eval_metrics] Accuracy(layer_0 - estimator_0 - 10_folds.test.predict)=55.05%\n",
      "[ 2018-04-21 16:41:57,477][cascade_classifier.calc_accuracy] Accuracy(layer_0 - train.classifier_average)=53.34%\n",
      "[ 2018-04-21 16:41:57,479][cascade_classifier.calc_accuracy] Accuracy(layer_0 - test.classifier_average)=55.05%\n",
      "[ 2018-04-21 16:41:57,481][cascade_classifier.fit_transform] [Result][Reach Max Layer] opt_layer_num=1, accuracy_train=53.34%, accuracy_test=55.05%\n",
      "[ 2018-04-21 16:41:57,485][cascade_classifier.transform] X_groups_test.shape=[(25000, 502)]\n",
      "[ 2018-04-21 16:41:57,532][cascade_classifier.transform] group_dims=[502]\n",
      "[ 2018-04-21 16:41:57,534][cascade_classifier.transform] X_test.shape=(25000, 502)\n",
      "[ 2018-04-21 16:41:57,577][cascade_classifier.transform] [layer=0] look_indexs=[0], X_cur_test.shape=(25000, 502)\n"
     ]
    },
    {
     "name": "stdout",
     "output_type": "stream",
     "text": [
      "('Test Accuracy of RandomForest = 55.032000 %', 4, 'fois')\n"
     ]
    },
    {
     "name": "stderr",
     "output_type": "stream",
     "text": [
      "[ 2018-04-21 16:42:00,439][cascade_classifier.fit_transform] X_groups_train.shape=[(25000, 502)],y_train.shape=(25000,),X_groups_test.shape=[(25000, 502)],y_test.shape=(25000,)\n",
      "[ 2018-04-21 16:42:00,516][cascade_classifier.fit_transform] group_dims=[502]\n",
      "[ 2018-04-21 16:42:00,518][cascade_classifier.fit_transform] group_starts=[0]\n",
      "[ 2018-04-21 16:42:00,519][cascade_classifier.fit_transform] group_ends=[502]\n",
      "[ 2018-04-21 16:42:00,521][cascade_classifier.fit_transform] X_train.shape=(25000, 502),X_test.shape=(25000, 502)\n",
      "[ 2018-04-21 16:42:00,599][cascade_classifier.fit_transform] [layer=0] look_indexs=[0], X_cur_train.shape=(25000, 502), X_cur_test.shape=(25000, 502)\n",
      "[ 2018-04-21 16:42:02,076][kfold_wrapper.log_eval_metrics] Accuracy(layer_0 - estimator_0 - 10_folds.train_0.predict)=52.80%\n",
      "[ 2018-04-21 16:42:03,809][kfold_wrapper.log_eval_metrics] Accuracy(layer_0 - estimator_0 - 10_folds.train_1.predict)=53.00%\n",
      "[ 2018-04-21 16:42:05,455][kfold_wrapper.log_eval_metrics] Accuracy(layer_0 - estimator_0 - 10_folds.train_2.predict)=53.44%\n",
      "[ 2018-04-21 16:42:06,999][kfold_wrapper.log_eval_metrics] Accuracy(layer_0 - estimator_0 - 10_folds.train_3.predict)=50.40%\n",
      "[ 2018-04-21 16:42:08,677][kfold_wrapper.log_eval_metrics] Accuracy(layer_0 - estimator_0 - 10_folds.train_4.predict)=51.88%\n",
      "[ 2018-04-21 16:42:10,213][kfold_wrapper.log_eval_metrics] Accuracy(layer_0 - estimator_0 - 10_folds.train_5.predict)=54.40%\n",
      "[ 2018-04-21 16:42:11,885][kfold_wrapper.log_eval_metrics] Accuracy(layer_0 - estimator_0 - 10_folds.train_6.predict)=53.28%\n",
      "[ 2018-04-21 16:42:13,385][kfold_wrapper.log_eval_metrics] Accuracy(layer_0 - estimator_0 - 10_folds.train_7.predict)=55.04%\n",
      "[ 2018-04-21 16:42:14,924][kfold_wrapper.log_eval_metrics] Accuracy(layer_0 - estimator_0 - 10_folds.train_8.predict)=53.48%\n",
      "[ 2018-04-21 16:42:16,580][kfold_wrapper.log_eval_metrics] Accuracy(layer_0 - estimator_0 - 10_folds.train_9.predict)=54.16%\n",
      "[ 2018-04-21 16:42:16,752][kfold_wrapper.log_eval_metrics] Accuracy(layer_0 - estimator_0 - 10_folds.train_cv.predict)=53.19%\n",
      "[ 2018-04-21 16:42:16,755][kfold_wrapper.log_eval_metrics] Accuracy(layer_0 - estimator_0 - 10_folds.test.predict)=54.98%\n",
      "[ 2018-04-21 16:42:16,765][cascade_classifier.calc_accuracy] Accuracy(layer_0 - train.classifier_average)=53.19%\n",
      "[ 2018-04-21 16:42:16,767][cascade_classifier.calc_accuracy] Accuracy(layer_0 - test.classifier_average)=54.98%\n",
      "[ 2018-04-21 16:42:16,769][cascade_classifier.fit_transform] [Result][Reach Max Layer] opt_layer_num=1, accuracy_train=53.19%, accuracy_test=54.98%\n",
      "[ 2018-04-21 16:42:16,772][cascade_classifier.transform] X_groups_test.shape=[(25000, 502)]\n",
      "[ 2018-04-21 16:42:16,816][cascade_classifier.transform] group_dims=[502]\n",
      "[ 2018-04-21 16:42:16,818][cascade_classifier.transform] X_test.shape=(25000, 502)\n",
      "[ 2018-04-21 16:42:16,859][cascade_classifier.transform] [layer=0] look_indexs=[0], X_cur_test.shape=(25000, 502)\n"
     ]
    },
    {
     "name": "stdout",
     "output_type": "stream",
     "text": [
      "('Test Accuracy of RandomForest = 54.960000 %', 5, 'fois')\n"
     ]
    },
    {
     "name": "stderr",
     "output_type": "stream",
     "text": [
      "[ 2018-04-21 16:42:19,957][cascade_classifier.fit_transform] X_groups_train.shape=[(25000, 502)],y_train.shape=(25000,),X_groups_test.shape=[(25000, 502)],y_test.shape=(25000,)\n",
      "[ 2018-04-21 16:42:20,035][cascade_classifier.fit_transform] group_dims=[502]\n",
      "[ 2018-04-21 16:42:20,036][cascade_classifier.fit_transform] group_starts=[0]\n",
      "[ 2018-04-21 16:42:20,038][cascade_classifier.fit_transform] group_ends=[502]\n",
      "[ 2018-04-21 16:42:20,040][cascade_classifier.fit_transform] X_train.shape=(25000, 502),X_test.shape=(25000, 502)\n",
      "[ 2018-04-21 16:42:20,119][cascade_classifier.fit_transform] [layer=0] look_indexs=[0], X_cur_train.shape=(25000, 502), X_cur_test.shape=(25000, 502)\n",
      "[ 2018-04-21 16:42:21,624][kfold_wrapper.log_eval_metrics] Accuracy(layer_0 - estimator_0 - 10_folds.train_0.predict)=52.52%\n",
      "[ 2018-04-21 16:42:23,194][kfold_wrapper.log_eval_metrics] Accuracy(layer_0 - estimator_0 - 10_folds.train_1.predict)=52.28%\n",
      "[ 2018-04-21 16:42:25,049][kfold_wrapper.log_eval_metrics] Accuracy(layer_0 - estimator_0 - 10_folds.train_2.predict)=52.56%\n",
      "[ 2018-04-21 16:42:26,747][kfold_wrapper.log_eval_metrics] Accuracy(layer_0 - estimator_0 - 10_folds.train_3.predict)=53.80%\n",
      "[ 2018-04-21 16:42:28,265][kfold_wrapper.log_eval_metrics] Accuracy(layer_0 - estimator_0 - 10_folds.train_4.predict)=54.60%\n",
      "[ 2018-04-21 16:42:29,800][kfold_wrapper.log_eval_metrics] Accuracy(layer_0 - estimator_0 - 10_folds.train_5.predict)=52.88%\n",
      "[ 2018-04-21 16:42:31,438][kfold_wrapper.log_eval_metrics] Accuracy(layer_0 - estimator_0 - 10_folds.train_6.predict)=52.36%\n",
      "[ 2018-04-21 16:42:33,395][kfold_wrapper.log_eval_metrics] Accuracy(layer_0 - estimator_0 - 10_folds.train_7.predict)=52.60%\n",
      "[ 2018-04-21 16:42:34,926][kfold_wrapper.log_eval_metrics] Accuracy(layer_0 - estimator_0 - 10_folds.train_8.predict)=52.96%\n",
      "[ 2018-04-21 16:42:36,425][kfold_wrapper.log_eval_metrics] Accuracy(layer_0 - estimator_0 - 10_folds.train_9.predict)=53.20%\n",
      "[ 2018-04-21 16:42:36,592][kfold_wrapper.log_eval_metrics] Accuracy(layer_0 - estimator_0 - 10_folds.train_cv.predict)=52.98%\n",
      "[ 2018-04-21 16:42:36,593][kfold_wrapper.log_eval_metrics] Accuracy(layer_0 - estimator_0 - 10_folds.test.predict)=54.95%\n",
      "[ 2018-04-21 16:42:36,601][cascade_classifier.calc_accuracy] Accuracy(layer_0 - train.classifier_average)=52.98%\n",
      "[ 2018-04-21 16:42:36,602][cascade_classifier.calc_accuracy] Accuracy(layer_0 - test.classifier_average)=54.95%\n",
      "[ 2018-04-21 16:42:36,603][cascade_classifier.fit_transform] [Result][Reach Max Layer] opt_layer_num=1, accuracy_train=52.98%, accuracy_test=54.95%\n",
      "[ 2018-04-21 16:42:36,605][cascade_classifier.transform] X_groups_test.shape=[(25000, 502)]\n",
      "[ 2018-04-21 16:42:36,645][cascade_classifier.transform] group_dims=[502]\n",
      "[ 2018-04-21 16:42:36,646][cascade_classifier.transform] X_test.shape=(25000, 502)\n",
      "[ 2018-04-21 16:42:36,685][cascade_classifier.transform] [layer=0] look_indexs=[0], X_cur_test.shape=(25000, 502)\n"
     ]
    },
    {
     "name": "stdout",
     "output_type": "stream",
     "text": [
      "('Test Accuracy of RandomForest = 54.948000 %', 6, 'fois')\n"
     ]
    },
    {
     "name": "stderr",
     "output_type": "stream",
     "text": [
      "[ 2018-04-21 16:42:39,245][cascade_classifier.fit_transform] X_groups_train.shape=[(25000, 502)],y_train.shape=(25000,),X_groups_test.shape=[(25000, 502)],y_test.shape=(25000,)\n",
      "[ 2018-04-21 16:42:39,324][cascade_classifier.fit_transform] group_dims=[502]\n",
      "[ 2018-04-21 16:42:39,326][cascade_classifier.fit_transform] group_starts=[0]\n",
      "[ 2018-04-21 16:42:39,327][cascade_classifier.fit_transform] group_ends=[502]\n",
      "[ 2018-04-21 16:42:39,329][cascade_classifier.fit_transform] X_train.shape=(25000, 502),X_test.shape=(25000, 502)\n",
      "[ 2018-04-21 16:42:39,407][cascade_classifier.fit_transform] [layer=0] look_indexs=[0], X_cur_train.shape=(25000, 502), X_cur_test.shape=(25000, 502)\n",
      "[ 2018-04-21 16:42:40,889][kfold_wrapper.log_eval_metrics] Accuracy(layer_0 - estimator_0 - 10_folds.train_0.predict)=53.12%\n",
      "[ 2018-04-21 16:42:42,686][kfold_wrapper.log_eval_metrics] Accuracy(layer_0 - estimator_0 - 10_folds.train_1.predict)=54.48%\n",
      "[ 2018-04-21 16:42:44,340][kfold_wrapper.log_eval_metrics] Accuracy(layer_0 - estimator_0 - 10_folds.train_2.predict)=54.84%\n",
      "[ 2018-04-21 16:42:46,112][kfold_wrapper.log_eval_metrics] Accuracy(layer_0 - estimator_0 - 10_folds.train_3.predict)=55.20%\n",
      "[ 2018-04-21 16:42:47,961][kfold_wrapper.log_eval_metrics] Accuracy(layer_0 - estimator_0 - 10_folds.train_4.predict)=54.96%\n",
      "[ 2018-04-21 16:42:49,517][kfold_wrapper.log_eval_metrics] Accuracy(layer_0 - estimator_0 - 10_folds.train_5.predict)=53.00%\n",
      "[ 2018-04-21 16:42:51,160][kfold_wrapper.log_eval_metrics] Accuracy(layer_0 - estimator_0 - 10_folds.train_6.predict)=53.40%\n",
      "[ 2018-04-21 16:42:52,863][kfold_wrapper.log_eval_metrics] Accuracy(layer_0 - estimator_0 - 10_folds.train_7.predict)=53.40%\n",
      "[ 2018-04-21 16:42:54,613][kfold_wrapper.log_eval_metrics] Accuracy(layer_0 - estimator_0 - 10_folds.train_8.predict)=53.12%\n",
      "[ 2018-04-21 16:42:56,262][kfold_wrapper.log_eval_metrics] Accuracy(layer_0 - estimator_0 - 10_folds.train_9.predict)=54.64%\n",
      "[ 2018-04-21 16:42:56,435][kfold_wrapper.log_eval_metrics] Accuracy(layer_0 - estimator_0 - 10_folds.train_cv.predict)=54.02%\n",
      "[ 2018-04-21 16:42:56,437][kfold_wrapper.log_eval_metrics] Accuracy(layer_0 - estimator_0 - 10_folds.test.predict)=54.87%\n",
      "[ 2018-04-21 16:42:56,447][cascade_classifier.calc_accuracy] Accuracy(layer_0 - train.classifier_average)=54.02%\n",
      "[ 2018-04-21 16:42:56,449][cascade_classifier.calc_accuracy] Accuracy(layer_0 - test.classifier_average)=54.87%\n",
      "[ 2018-04-21 16:42:56,451][cascade_classifier.fit_transform] [Result][Reach Max Layer] opt_layer_num=1, accuracy_train=54.02%, accuracy_test=54.87%\n",
      "[ 2018-04-21 16:42:56,454][cascade_classifier.transform] X_groups_test.shape=[(25000, 502)]\n",
      "[ 2018-04-21 16:42:56,498][cascade_classifier.transform] group_dims=[502]\n",
      "[ 2018-04-21 16:42:56,500][cascade_classifier.transform] X_test.shape=(25000, 502)\n",
      "[ 2018-04-21 16:42:56,541][cascade_classifier.transform] [layer=0] look_indexs=[0], X_cur_test.shape=(25000, 502)\n"
     ]
    },
    {
     "name": "stdout",
     "output_type": "stream",
     "text": [
      "('Test Accuracy of RandomForest = 54.856000 %', 7, 'fois')\n"
     ]
    },
    {
     "name": "stderr",
     "output_type": "stream",
     "text": [
      "[ 2018-04-21 16:42:59,739][cascade_classifier.fit_transform] X_groups_train.shape=[(25000, 502)],y_train.shape=(25000,),X_groups_test.shape=[(25000, 502)],y_test.shape=(25000,)\n",
      "[ 2018-04-21 16:42:59,817][cascade_classifier.fit_transform] group_dims=[502]\n",
      "[ 2018-04-21 16:42:59,820][cascade_classifier.fit_transform] group_starts=[0]\n",
      "[ 2018-04-21 16:42:59,822][cascade_classifier.fit_transform] group_ends=[502]\n",
      "[ 2018-04-21 16:42:59,823][cascade_classifier.fit_transform] X_train.shape=(25000, 502),X_test.shape=(25000, 502)\n",
      "[ 2018-04-21 16:42:59,902][cascade_classifier.fit_transform] [layer=0] look_indexs=[0], X_cur_train.shape=(25000, 502), X_cur_test.shape=(25000, 502)\n",
      "[ 2018-04-21 16:43:01,409][kfold_wrapper.log_eval_metrics] Accuracy(layer_0 - estimator_0 - 10_folds.train_0.predict)=54.80%\n",
      "[ 2018-04-21 16:43:02,941][kfold_wrapper.log_eval_metrics] Accuracy(layer_0 - estimator_0 - 10_folds.train_1.predict)=53.16%\n",
      "[ 2018-04-21 16:43:04,534][kfold_wrapper.log_eval_metrics] Accuracy(layer_0 - estimator_0 - 10_folds.train_2.predict)=52.68%\n",
      "[ 2018-04-21 16:43:06,079][kfold_wrapper.log_eval_metrics] Accuracy(layer_0 - estimator_0 - 10_folds.train_3.predict)=54.44%\n",
      "[ 2018-04-21 16:43:07,875][kfold_wrapper.log_eval_metrics] Accuracy(layer_0 - estimator_0 - 10_folds.train_4.predict)=54.24%\n",
      "[ 2018-04-21 16:43:09,420][kfold_wrapper.log_eval_metrics] Accuracy(layer_0 - estimator_0 - 10_folds.train_5.predict)=52.48%\n",
      "[ 2018-04-21 16:43:10,953][kfold_wrapper.log_eval_metrics] Accuracy(layer_0 - estimator_0 - 10_folds.train_6.predict)=55.04%\n",
      "[ 2018-04-21 16:43:12,463][kfold_wrapper.log_eval_metrics] Accuracy(layer_0 - estimator_0 - 10_folds.train_7.predict)=53.44%\n",
      "[ 2018-04-21 16:43:14,000][kfold_wrapper.log_eval_metrics] Accuracy(layer_0 - estimator_0 - 10_folds.train_8.predict)=53.28%\n",
      "[ 2018-04-21 16:43:15,638][kfold_wrapper.log_eval_metrics] Accuracy(layer_0 - estimator_0 - 10_folds.train_9.predict)=55.60%\n",
      "[ 2018-04-21 16:43:15,810][kfold_wrapper.log_eval_metrics] Accuracy(layer_0 - estimator_0 - 10_folds.train_cv.predict)=53.92%\n",
      "[ 2018-04-21 16:43:15,813][kfold_wrapper.log_eval_metrics] Accuracy(layer_0 - estimator_0 - 10_folds.test.predict)=55.13%\n",
      "[ 2018-04-21 16:43:15,822][cascade_classifier.calc_accuracy] Accuracy(layer_0 - train.classifier_average)=53.92%\n",
      "[ 2018-04-21 16:43:15,824][cascade_classifier.calc_accuracy] Accuracy(layer_0 - test.classifier_average)=55.13%\n",
      "[ 2018-04-21 16:43:15,825][cascade_classifier.fit_transform] [Result][Reach Max Layer] opt_layer_num=1, accuracy_train=53.92%, accuracy_test=55.13%\n",
      "[ 2018-04-21 16:43:15,828][cascade_classifier.transform] X_groups_test.shape=[(25000, 502)]\n",
      "[ 2018-04-21 16:43:15,871][cascade_classifier.transform] group_dims=[502]\n",
      "[ 2018-04-21 16:43:15,873][cascade_classifier.transform] X_test.shape=(25000, 502)\n",
      "[ 2018-04-21 16:43:15,914][cascade_classifier.transform] [layer=0] look_indexs=[0], X_cur_test.shape=(25000, 502)\n"
     ]
    },
    {
     "name": "stdout",
     "output_type": "stream",
     "text": [
      "('Test Accuracy of RandomForest = 55.144000 %', 8, 'fois')\n"
     ]
    },
    {
     "name": "stderr",
     "output_type": "stream",
     "text": [
      "[ 2018-04-21 16:43:18,239][cascade_classifier.fit_transform] X_groups_train.shape=[(25000, 502)],y_train.shape=(25000,),X_groups_test.shape=[(25000, 502)],y_test.shape=(25000,)\n",
      "[ 2018-04-21 16:43:18,315][cascade_classifier.fit_transform] group_dims=[502]\n",
      "[ 2018-04-21 16:43:18,317][cascade_classifier.fit_transform] group_starts=[0]\n",
      "[ 2018-04-21 16:43:18,319][cascade_classifier.fit_transform] group_ends=[502]\n",
      "[ 2018-04-21 16:43:18,320][cascade_classifier.fit_transform] X_train.shape=(25000, 502),X_test.shape=(25000, 502)\n",
      "[ 2018-04-21 16:43:18,398][cascade_classifier.fit_transform] [layer=0] look_indexs=[0], X_cur_train.shape=(25000, 502), X_cur_test.shape=(25000, 502)\n",
      "[ 2018-04-21 16:43:19,756][kfold_wrapper.log_eval_metrics] Accuracy(layer_0 - estimator_0 - 10_folds.train_0.predict)=55.36%\n",
      "[ 2018-04-21 16:43:21,259][kfold_wrapper.log_eval_metrics] Accuracy(layer_0 - estimator_0 - 10_folds.train_1.predict)=52.44%\n",
      "[ 2018-04-21 16:43:22,945][kfold_wrapper.log_eval_metrics] Accuracy(layer_0 - estimator_0 - 10_folds.train_2.predict)=53.08%\n",
      "[ 2018-04-21 16:43:24,631][kfold_wrapper.log_eval_metrics] Accuracy(layer_0 - estimator_0 - 10_folds.train_3.predict)=54.68%\n",
      "[ 2018-04-21 16:43:26,184][kfold_wrapper.log_eval_metrics] Accuracy(layer_0 - estimator_0 - 10_folds.train_4.predict)=53.96%\n",
      "[ 2018-04-21 16:43:27,834][kfold_wrapper.log_eval_metrics] Accuracy(layer_0 - estimator_0 - 10_folds.train_5.predict)=53.24%\n",
      "[ 2018-04-21 16:43:29,389][kfold_wrapper.log_eval_metrics] Accuracy(layer_0 - estimator_0 - 10_folds.train_6.predict)=53.84%\n",
      "[ 2018-04-21 16:43:30,924][kfold_wrapper.log_eval_metrics] Accuracy(layer_0 - estimator_0 - 10_folds.train_7.predict)=52.36%\n",
      "[ 2018-04-21 16:43:32,581][kfold_wrapper.log_eval_metrics] Accuracy(layer_0 - estimator_0 - 10_folds.train_8.predict)=52.44%\n",
      "[ 2018-04-21 16:43:34,129][kfold_wrapper.log_eval_metrics] Accuracy(layer_0 - estimator_0 - 10_folds.train_9.predict)=54.20%\n",
      "[ 2018-04-21 16:43:34,314][kfold_wrapper.log_eval_metrics] Accuracy(layer_0 - estimator_0 - 10_folds.train_cv.predict)=53.56%\n",
      "[ 2018-04-21 16:43:34,317][kfold_wrapper.log_eval_metrics] Accuracy(layer_0 - estimator_0 - 10_folds.test.predict)=55.62%\n",
      "[ 2018-04-21 16:43:34,330][cascade_classifier.calc_accuracy] Accuracy(layer_0 - train.classifier_average)=53.56%\n",
      "[ 2018-04-21 16:43:34,332][cascade_classifier.calc_accuracy] Accuracy(layer_0 - test.classifier_average)=55.62%\n",
      "[ 2018-04-21 16:43:34,333][cascade_classifier.fit_transform] [Result][Reach Max Layer] opt_layer_num=1, accuracy_train=53.56%, accuracy_test=55.62%\n",
      "[ 2018-04-21 16:43:34,337][cascade_classifier.transform] X_groups_test.shape=[(25000, 502)]\n",
      "[ 2018-04-21 16:43:34,385][cascade_classifier.transform] group_dims=[502]\n",
      "[ 2018-04-21 16:43:34,386][cascade_classifier.transform] X_test.shape=(25000, 502)\n",
      "[ 2018-04-21 16:43:34,428][cascade_classifier.transform] [layer=0] look_indexs=[0], X_cur_test.shape=(25000, 502)\n"
     ]
    },
    {
     "name": "stdout",
     "output_type": "stream",
     "text": [
      "('Test Accuracy of RandomForest = 55.612000 %', 9, 'fois')\n"
     ]
    },
    {
     "name": "stderr",
     "output_type": "stream",
     "text": [
      "[ 2018-04-21 16:43:37,246][cascade_classifier.fit_transform] X_groups_train.shape=[(25000, 502)],y_train.shape=(25000,),X_groups_test.shape=[(25000, 502)],y_test.shape=(25000,)\n",
      "[ 2018-04-21 16:43:37,323][cascade_classifier.fit_transform] group_dims=[502]\n",
      "[ 2018-04-21 16:43:37,324][cascade_classifier.fit_transform] group_starts=[0]\n",
      "[ 2018-04-21 16:43:37,326][cascade_classifier.fit_transform] group_ends=[502]\n",
      "[ 2018-04-21 16:43:37,328][cascade_classifier.fit_transform] X_train.shape=(25000, 502),X_test.shape=(25000, 502)\n",
      "[ 2018-04-21 16:43:37,406][cascade_classifier.fit_transform] [layer=0] look_indexs=[0], X_cur_train.shape=(25000, 502), X_cur_test.shape=(25000, 502)\n",
      "[ 2018-04-21 16:43:38,887][kfold_wrapper.log_eval_metrics] Accuracy(layer_0 - estimator_0 - 10_folds.train_0.predict)=53.96%\n",
      "[ 2018-04-21 16:43:40,506][kfold_wrapper.log_eval_metrics] Accuracy(layer_0 - estimator_0 - 10_folds.train_1.predict)=53.76%\n",
      "[ 2018-04-21 16:43:42,039][kfold_wrapper.log_eval_metrics] Accuracy(layer_0 - estimator_0 - 10_folds.train_2.predict)=54.04%\n",
      "[ 2018-04-21 16:43:43,699][kfold_wrapper.log_eval_metrics] Accuracy(layer_0 - estimator_0 - 10_folds.train_3.predict)=55.60%\n",
      "[ 2018-04-21 16:43:45,219][kfold_wrapper.log_eval_metrics] Accuracy(layer_0 - estimator_0 - 10_folds.train_4.predict)=53.16%\n",
      "[ 2018-04-21 16:43:46,744][kfold_wrapper.log_eval_metrics] Accuracy(layer_0 - estimator_0 - 10_folds.train_5.predict)=53.40%\n",
      "[ 2018-04-21 16:43:48,350][kfold_wrapper.log_eval_metrics] Accuracy(layer_0 - estimator_0 - 10_folds.train_6.predict)=53.64%\n",
      "[ 2018-04-21 16:43:49,871][kfold_wrapper.log_eval_metrics] Accuracy(layer_0 - estimator_0 - 10_folds.train_7.predict)=51.76%\n",
      "[ 2018-04-21 16:43:51,552][kfold_wrapper.log_eval_metrics] Accuracy(layer_0 - estimator_0 - 10_folds.train_8.predict)=52.00%\n",
      "[ 2018-04-21 16:43:53,062][kfold_wrapper.log_eval_metrics] Accuracy(layer_0 - estimator_0 - 10_folds.train_9.predict)=55.24%\n",
      "[ 2018-04-21 16:43:53,231][kfold_wrapper.log_eval_metrics] Accuracy(layer_0 - estimator_0 - 10_folds.train_cv.predict)=53.66%\n",
      "[ 2018-04-21 16:43:53,233][kfold_wrapper.log_eval_metrics] Accuracy(layer_0 - estimator_0 - 10_folds.test.predict)=55.04%\n",
      "[ 2018-04-21 16:43:53,244][cascade_classifier.calc_accuracy] Accuracy(layer_0 - train.classifier_average)=53.66%\n",
      "[ 2018-04-21 16:43:53,246][cascade_classifier.calc_accuracy] Accuracy(layer_0 - test.classifier_average)=55.04%\n",
      "[ 2018-04-21 16:43:53,247][cascade_classifier.fit_transform] [Result][Reach Max Layer] opt_layer_num=1, accuracy_train=53.66%, accuracy_test=55.04%\n",
      "[ 2018-04-21 16:43:53,251][cascade_classifier.transform] X_groups_test.shape=[(25000, 502)]\n",
      "[ 2018-04-21 16:43:53,297][cascade_classifier.transform] group_dims=[502]\n",
      "[ 2018-04-21 16:43:53,298][cascade_classifier.transform] X_test.shape=(25000, 502)\n",
      "[ 2018-04-21 16:43:53,343][cascade_classifier.transform] [layer=0] look_indexs=[0], X_cur_test.shape=(25000, 502)\n"
     ]
    },
    {
     "name": "stdout",
     "output_type": "stream",
     "text": [
      "('Test Accuracy of RandomForest = 55.068000 %', 10, 'fois')\n"
     ]
    },
    {
     "name": "stderr",
     "output_type": "stream",
     "text": [
      "[ 2018-04-21 16:43:56,239][cascade_classifier.fit_transform] X_groups_train.shape=[(25000, 502)],y_train.shape=(25000,),X_groups_test.shape=[(25000, 502)],y_test.shape=(25000,)\n",
      "[ 2018-04-21 16:43:56,317][cascade_classifier.fit_transform] group_dims=[502]\n",
      "[ 2018-04-21 16:43:56,319][cascade_classifier.fit_transform] group_starts=[0]\n",
      "[ 2018-04-21 16:43:56,321][cascade_classifier.fit_transform] group_ends=[502]\n",
      "[ 2018-04-21 16:43:56,322][cascade_classifier.fit_transform] X_train.shape=(25000, 502),X_test.shape=(25000, 502)\n",
      "[ 2018-04-21 16:43:56,400][cascade_classifier.fit_transform] [layer=0] look_indexs=[0], X_cur_train.shape=(25000, 502), X_cur_test.shape=(25000, 502)\n",
      "[ 2018-04-21 16:43:57,900][kfold_wrapper.log_eval_metrics] Accuracy(layer_0 - estimator_0 - 10_folds.train_0.predict)=53.76%\n",
      "[ 2018-04-21 16:43:59,449][kfold_wrapper.log_eval_metrics] Accuracy(layer_0 - estimator_0 - 10_folds.train_1.predict)=53.60%\n",
      "[ 2018-04-21 16:44:00,992][kfold_wrapper.log_eval_metrics] Accuracy(layer_0 - estimator_0 - 10_folds.train_2.predict)=53.32%\n",
      "[ 2018-04-21 16:44:02,521][kfold_wrapper.log_eval_metrics] Accuracy(layer_0 - estimator_0 - 10_folds.train_3.predict)=53.64%\n",
      "[ 2018-04-21 16:44:04,059][kfold_wrapper.log_eval_metrics] Accuracy(layer_0 - estimator_0 - 10_folds.train_4.predict)=53.00%\n",
      "[ 2018-04-21 16:44:05,597][kfold_wrapper.log_eval_metrics] Accuracy(layer_0 - estimator_0 - 10_folds.train_5.predict)=53.72%\n",
      "[ 2018-04-21 16:44:07,159][kfold_wrapper.log_eval_metrics] Accuracy(layer_0 - estimator_0 - 10_folds.train_6.predict)=52.88%\n",
      "[ 2018-04-21 16:44:08,826][kfold_wrapper.log_eval_metrics] Accuracy(layer_0 - estimator_0 - 10_folds.train_7.predict)=52.88%\n",
      "[ 2018-04-21 16:44:10,488][kfold_wrapper.log_eval_metrics] Accuracy(layer_0 - estimator_0 - 10_folds.train_8.predict)=53.48%\n",
      "[ 2018-04-21 16:44:12,001][kfold_wrapper.log_eval_metrics] Accuracy(layer_0 - estimator_0 - 10_folds.train_9.predict)=55.64%\n",
      "[ 2018-04-21 16:44:12,285][kfold_wrapper.log_eval_metrics] Accuracy(layer_0 - estimator_0 - 10_folds.train_cv.predict)=53.59%\n",
      "[ 2018-04-21 16:44:12,288][kfold_wrapper.log_eval_metrics] Accuracy(layer_0 - estimator_0 - 10_folds.test.predict)=54.82%\n",
      "[ 2018-04-21 16:44:12,301][cascade_classifier.calc_accuracy] Accuracy(layer_0 - train.classifier_average)=53.59%\n",
      "[ 2018-04-21 16:44:12,304][cascade_classifier.calc_accuracy] Accuracy(layer_0 - test.classifier_average)=54.82%\n",
      "[ 2018-04-21 16:44:12,305][cascade_classifier.fit_transform] [Result][Reach Max Layer] opt_layer_num=1, accuracy_train=53.59%, accuracy_test=54.82%\n",
      "[ 2018-04-21 16:44:12,309][cascade_classifier.transform] X_groups_test.shape=[(25000, 502)]\n",
      "[ 2018-04-21 16:44:12,356][cascade_classifier.transform] group_dims=[502]\n",
      "[ 2018-04-21 16:44:12,358][cascade_classifier.transform] X_test.shape=(25000, 502)\n",
      "[ 2018-04-21 16:44:12,400][cascade_classifier.transform] [layer=0] look_indexs=[0], X_cur_test.shape=(25000, 502)\n"
     ]
    },
    {
     "name": "stdout",
     "output_type": "stream",
     "text": [
      "('Test Accuracy of RandomForest = 54.780000 %', 11, 'fois')\n"
     ]
    },
    {
     "name": "stderr",
     "output_type": "stream",
     "text": [
      "[ 2018-04-21 16:44:15,309][cascade_classifier.fit_transform] X_groups_train.shape=[(25000, 502)],y_train.shape=(25000,),X_groups_test.shape=[(25000, 502)],y_test.shape=(25000,)\n",
      "[ 2018-04-21 16:44:15,386][cascade_classifier.fit_transform] group_dims=[502]\n",
      "[ 2018-04-21 16:44:15,387][cascade_classifier.fit_transform] group_starts=[0]\n",
      "[ 2018-04-21 16:44:15,388][cascade_classifier.fit_transform] group_ends=[502]\n",
      "[ 2018-04-21 16:44:15,389][cascade_classifier.fit_transform] X_train.shape=(25000, 502),X_test.shape=(25000, 502)\n",
      "[ 2018-04-21 16:44:15,467][cascade_classifier.fit_transform] [layer=0] look_indexs=[0], X_cur_train.shape=(25000, 502), X_cur_test.shape=(25000, 502)\n",
      "[ 2018-04-21 16:44:16,828][kfold_wrapper.log_eval_metrics] Accuracy(layer_0 - estimator_0 - 10_folds.train_0.predict)=53.88%\n",
      "[ 2018-04-21 16:44:18,476][kfold_wrapper.log_eval_metrics] Accuracy(layer_0 - estimator_0 - 10_folds.train_1.predict)=53.04%\n",
      "[ 2018-04-21 16:44:20,129][kfold_wrapper.log_eval_metrics] Accuracy(layer_0 - estimator_0 - 10_folds.train_2.predict)=53.96%\n",
      "[ 2018-04-21 16:44:21,951][kfold_wrapper.log_eval_metrics] Accuracy(layer_0 - estimator_0 - 10_folds.train_3.predict)=53.32%\n",
      "[ 2018-04-21 16:44:23,622][kfold_wrapper.log_eval_metrics] Accuracy(layer_0 - estimator_0 - 10_folds.train_4.predict)=51.96%\n",
      "[ 2018-04-21 16:44:25,195][kfold_wrapper.log_eval_metrics] Accuracy(layer_0 - estimator_0 - 10_folds.train_5.predict)=53.16%\n",
      "[ 2018-04-21 16:44:26,871][kfold_wrapper.log_eval_metrics] Accuracy(layer_0 - estimator_0 - 10_folds.train_6.predict)=53.92%\n",
      "[ 2018-04-21 16:44:28,412][kfold_wrapper.log_eval_metrics] Accuracy(layer_0 - estimator_0 - 10_folds.train_7.predict)=54.16%\n",
      "[ 2018-04-21 16:44:30,076][kfold_wrapper.log_eval_metrics] Accuracy(layer_0 - estimator_0 - 10_folds.train_8.predict)=51.16%\n",
      "[ 2018-04-21 16:44:31,820][kfold_wrapper.log_eval_metrics] Accuracy(layer_0 - estimator_0 - 10_folds.train_9.predict)=54.52%\n",
      "[ 2018-04-21 16:44:31,996][kfold_wrapper.log_eval_metrics] Accuracy(layer_0 - estimator_0 - 10_folds.train_cv.predict)=53.31%\n",
      "[ 2018-04-21 16:44:31,998][kfold_wrapper.log_eval_metrics] Accuracy(layer_0 - estimator_0 - 10_folds.test.predict)=55.35%\n",
      "[ 2018-04-21 16:44:32,007][cascade_classifier.calc_accuracy] Accuracy(layer_0 - train.classifier_average)=53.31%\n",
      "[ 2018-04-21 16:44:32,008][cascade_classifier.calc_accuracy] Accuracy(layer_0 - test.classifier_average)=55.35%\n",
      "[ 2018-04-21 16:44:32,010][cascade_classifier.fit_transform] [Result][Reach Max Layer] opt_layer_num=1, accuracy_train=53.31%, accuracy_test=55.35%\n",
      "[ 2018-04-21 16:44:32,012][cascade_classifier.transform] X_groups_test.shape=[(25000, 502)]\n",
      "[ 2018-04-21 16:44:32,053][cascade_classifier.transform] group_dims=[502]\n",
      "[ 2018-04-21 16:44:32,054][cascade_classifier.transform] X_test.shape=(25000, 502)\n",
      "[ 2018-04-21 16:44:32,094][cascade_classifier.transform] [layer=0] look_indexs=[0], X_cur_test.shape=(25000, 502)\n"
     ]
    },
    {
     "name": "stdout",
     "output_type": "stream",
     "text": [
      "('Test Accuracy of RandomForest = 55.368000 %', 12, 'fois')\n"
     ]
    },
    {
     "name": "stderr",
     "output_type": "stream",
     "text": [
      "[ 2018-04-21 16:44:34,484][cascade_classifier.fit_transform] X_groups_train.shape=[(25000, 502)],y_train.shape=(25000,),X_groups_test.shape=[(25000, 502)],y_test.shape=(25000,)\n",
      "[ 2018-04-21 16:44:34,561][cascade_classifier.fit_transform] group_dims=[502]\n",
      "[ 2018-04-21 16:44:34,562][cascade_classifier.fit_transform] group_starts=[0]\n",
      "[ 2018-04-21 16:44:34,564][cascade_classifier.fit_transform] group_ends=[502]\n",
      "[ 2018-04-21 16:44:34,565][cascade_classifier.fit_transform] X_train.shape=(25000, 502),X_test.shape=(25000, 502)\n",
      "[ 2018-04-21 16:44:34,644][cascade_classifier.fit_transform] [layer=0] look_indexs=[0], X_cur_train.shape=(25000, 502), X_cur_test.shape=(25000, 502)\n",
      "[ 2018-04-21 16:44:36,057][kfold_wrapper.log_eval_metrics] Accuracy(layer_0 - estimator_0 - 10_folds.train_0.predict)=53.08%\n",
      "[ 2018-04-21 16:44:37,864][kfold_wrapper.log_eval_metrics] Accuracy(layer_0 - estimator_0 - 10_folds.train_1.predict)=54.04%\n",
      "[ 2018-04-21 16:44:39,558][kfold_wrapper.log_eval_metrics] Accuracy(layer_0 - estimator_0 - 10_folds.train_2.predict)=54.20%\n",
      "[ 2018-04-21 16:44:41,063][kfold_wrapper.log_eval_metrics] Accuracy(layer_0 - estimator_0 - 10_folds.train_3.predict)=54.16%\n",
      "[ 2018-04-21 16:44:42,565][kfold_wrapper.log_eval_metrics] Accuracy(layer_0 - estimator_0 - 10_folds.train_4.predict)=53.96%\n",
      "[ 2018-04-21 16:44:44,117][kfold_wrapper.log_eval_metrics] Accuracy(layer_0 - estimator_0 - 10_folds.train_5.predict)=52.16%\n",
      "[ 2018-04-21 16:44:45,771][kfold_wrapper.log_eval_metrics] Accuracy(layer_0 - estimator_0 - 10_folds.train_6.predict)=53.12%\n",
      "[ 2018-04-21 16:44:47,280][kfold_wrapper.log_eval_metrics] Accuracy(layer_0 - estimator_0 - 10_folds.train_7.predict)=53.24%\n",
      "[ 2018-04-21 16:44:48,801][kfold_wrapper.log_eval_metrics] Accuracy(layer_0 - estimator_0 - 10_folds.train_8.predict)=51.52%\n",
      "[ 2018-04-21 16:44:50,567][kfold_wrapper.log_eval_metrics] Accuracy(layer_0 - estimator_0 - 10_folds.train_9.predict)=53.56%\n",
      "[ 2018-04-21 16:44:50,866][kfold_wrapper.log_eval_metrics] Accuracy(layer_0 - estimator_0 - 10_folds.train_cv.predict)=53.30%\n",
      "[ 2018-04-21 16:44:50,868][kfold_wrapper.log_eval_metrics] Accuracy(layer_0 - estimator_0 - 10_folds.test.predict)=54.96%\n",
      "[ 2018-04-21 16:44:50,881][cascade_classifier.calc_accuracy] Accuracy(layer_0 - train.classifier_average)=53.30%\n",
      "[ 2018-04-21 16:44:50,884][cascade_classifier.calc_accuracy] Accuracy(layer_0 - test.classifier_average)=54.96%\n",
      "[ 2018-04-21 16:44:50,885][cascade_classifier.fit_transform] [Result][Reach Max Layer] opt_layer_num=1, accuracy_train=53.30%, accuracy_test=54.96%\n",
      "[ 2018-04-21 16:44:50,889][cascade_classifier.transform] X_groups_test.shape=[(25000, 502)]\n",
      "[ 2018-04-21 16:44:50,934][cascade_classifier.transform] group_dims=[502]\n",
      "[ 2018-04-21 16:44:50,936][cascade_classifier.transform] X_test.shape=(25000, 502)\n",
      "[ 2018-04-21 16:44:50,981][cascade_classifier.transform] [layer=0] look_indexs=[0], X_cur_test.shape=(25000, 502)\n"
     ]
    },
    {
     "name": "stdout",
     "output_type": "stream",
     "text": [
      "('Test Accuracy of RandomForest = 54.972000 %', 13, 'fois')\n"
     ]
    },
    {
     "name": "stderr",
     "output_type": "stream",
     "text": [
      "[ 2018-04-21 16:44:54,178][cascade_classifier.fit_transform] X_groups_train.shape=[(25000, 502)],y_train.shape=(25000,),X_groups_test.shape=[(25000, 502)],y_test.shape=(25000,)\n",
      "[ 2018-04-21 16:44:54,255][cascade_classifier.fit_transform] group_dims=[502]\n",
      "[ 2018-04-21 16:44:54,256][cascade_classifier.fit_transform] group_starts=[0]\n",
      "[ 2018-04-21 16:44:54,258][cascade_classifier.fit_transform] group_ends=[502]\n",
      "[ 2018-04-21 16:44:54,260][cascade_classifier.fit_transform] X_train.shape=(25000, 502),X_test.shape=(25000, 502)\n",
      "[ 2018-04-21 16:44:54,338][cascade_classifier.fit_transform] [layer=0] look_indexs=[0], X_cur_train.shape=(25000, 502), X_cur_test.shape=(25000, 502)\n",
      "[ 2018-04-21 16:44:55,712][kfold_wrapper.log_eval_metrics] Accuracy(layer_0 - estimator_0 - 10_folds.train_0.predict)=55.16%\n",
      "[ 2018-04-21 16:44:57,404][kfold_wrapper.log_eval_metrics] Accuracy(layer_0 - estimator_0 - 10_folds.train_1.predict)=53.24%\n",
      "[ 2018-04-21 16:44:58,928][kfold_wrapper.log_eval_metrics] Accuracy(layer_0 - estimator_0 - 10_folds.train_2.predict)=55.04%\n",
      "[ 2018-04-21 16:45:00,471][kfold_wrapper.log_eval_metrics] Accuracy(layer_0 - estimator_0 - 10_folds.train_3.predict)=54.08%\n",
      "[ 2018-04-21 16:45:02,062][kfold_wrapper.log_eval_metrics] Accuracy(layer_0 - estimator_0 - 10_folds.train_4.predict)=52.60%\n",
      "[ 2018-04-21 16:45:03,690][kfold_wrapper.log_eval_metrics] Accuracy(layer_0 - estimator_0 - 10_folds.train_5.predict)=53.68%\n",
      "[ 2018-04-21 16:45:05,233][kfold_wrapper.log_eval_metrics] Accuracy(layer_0 - estimator_0 - 10_folds.train_6.predict)=52.88%\n",
      "[ 2018-04-21 16:45:06,783][kfold_wrapper.log_eval_metrics] Accuracy(layer_0 - estimator_0 - 10_folds.train_7.predict)=52.84%\n",
      "[ 2018-04-21 16:45:08,266][kfold_wrapper.log_eval_metrics] Accuracy(layer_0 - estimator_0 - 10_folds.train_8.predict)=52.20%\n",
      "[ 2018-04-21 16:45:09,765][kfold_wrapper.log_eval_metrics] Accuracy(layer_0 - estimator_0 - 10_folds.train_9.predict)=53.20%\n",
      "[ 2018-04-21 16:45:09,942][kfold_wrapper.log_eval_metrics] Accuracy(layer_0 - estimator_0 - 10_folds.train_cv.predict)=53.49%\n",
      "[ 2018-04-21 16:45:09,944][kfold_wrapper.log_eval_metrics] Accuracy(layer_0 - estimator_0 - 10_folds.test.predict)=55.30%\n",
      "[ 2018-04-21 16:45:09,953][cascade_classifier.calc_accuracy] Accuracy(layer_0 - train.classifier_average)=53.49%\n",
      "[ 2018-04-21 16:45:09,954][cascade_classifier.calc_accuracy] Accuracy(layer_0 - test.classifier_average)=55.30%\n",
      "[ 2018-04-21 16:45:09,956][cascade_classifier.fit_transform] [Result][Reach Max Layer] opt_layer_num=1, accuracy_train=53.49%, accuracy_test=55.30%\n",
      "[ 2018-04-21 16:45:09,958][cascade_classifier.transform] X_groups_test.shape=[(25000, 502)]\n",
      "[ 2018-04-21 16:45:09,999][cascade_classifier.transform] group_dims=[502]\n",
      "[ 2018-04-21 16:45:10,000][cascade_classifier.transform] X_test.shape=(25000, 502)\n",
      "[ 2018-04-21 16:45:10,040][cascade_classifier.transform] [layer=0] look_indexs=[0], X_cur_test.shape=(25000, 502)\n"
     ]
    },
    {
     "name": "stdout",
     "output_type": "stream",
     "text": [
      "('Test Accuracy of RandomForest = 55.256000 %', 14, 'fois')\n"
     ]
    },
    {
     "name": "stderr",
     "output_type": "stream",
     "text": [
      "[ 2018-04-21 16:45:12,984][cascade_classifier.fit_transform] X_groups_train.shape=[(25000, 502)],y_train.shape=(25000,),X_groups_test.shape=[(25000, 502)],y_test.shape=(25000,)\n",
      "[ 2018-04-21 16:45:13,060][cascade_classifier.fit_transform] group_dims=[502]\n",
      "[ 2018-04-21 16:45:13,062][cascade_classifier.fit_transform] group_starts=[0]\n",
      "[ 2018-04-21 16:45:13,063][cascade_classifier.fit_transform] group_ends=[502]\n",
      "[ 2018-04-21 16:45:13,064][cascade_classifier.fit_transform] X_train.shape=(25000, 502),X_test.shape=(25000, 502)\n",
      "[ 2018-04-21 16:45:13,143][cascade_classifier.fit_transform] [layer=0] look_indexs=[0], X_cur_train.shape=(25000, 502), X_cur_test.shape=(25000, 502)\n",
      "[ 2018-04-21 16:45:14,649][kfold_wrapper.log_eval_metrics] Accuracy(layer_0 - estimator_0 - 10_folds.train_0.predict)=52.24%\n",
      "[ 2018-04-21 16:45:16,186][kfold_wrapper.log_eval_metrics] Accuracy(layer_0 - estimator_0 - 10_folds.train_1.predict)=53.28%\n",
      "[ 2018-04-21 16:45:17,859][kfold_wrapper.log_eval_metrics] Accuracy(layer_0 - estimator_0 - 10_folds.train_2.predict)=53.76%\n",
      "[ 2018-04-21 16:45:19,515][kfold_wrapper.log_eval_metrics] Accuracy(layer_0 - estimator_0 - 10_folds.train_3.predict)=53.96%\n",
      "[ 2018-04-21 16:45:21,059][kfold_wrapper.log_eval_metrics] Accuracy(layer_0 - estimator_0 - 10_folds.train_4.predict)=52.96%\n",
      "[ 2018-04-21 16:45:22,743][kfold_wrapper.log_eval_metrics] Accuracy(layer_0 - estimator_0 - 10_folds.train_5.predict)=53.44%\n",
      "[ 2018-04-21 16:45:24,287][kfold_wrapper.log_eval_metrics] Accuracy(layer_0 - estimator_0 - 10_folds.train_6.predict)=52.52%\n",
      "[ 2018-04-21 16:45:25,826][kfold_wrapper.log_eval_metrics] Accuracy(layer_0 - estimator_0 - 10_folds.train_7.predict)=53.92%\n",
      "[ 2018-04-21 16:45:27,365][kfold_wrapper.log_eval_metrics] Accuracy(layer_0 - estimator_0 - 10_folds.train_8.predict)=52.80%\n",
      "[ 2018-04-21 16:45:28,902][kfold_wrapper.log_eval_metrics] Accuracy(layer_0 - estimator_0 - 10_folds.train_9.predict)=54.72%\n",
      "[ 2018-04-21 16:45:29,069][kfold_wrapper.log_eval_metrics] Accuracy(layer_0 - estimator_0 - 10_folds.train_cv.predict)=53.36%\n",
      "[ 2018-04-21 16:45:29,072][kfold_wrapper.log_eval_metrics] Accuracy(layer_0 - estimator_0 - 10_folds.test.predict)=54.98%\n",
      "[ 2018-04-21 16:45:29,084][cascade_classifier.calc_accuracy] Accuracy(layer_0 - train.classifier_average)=53.36%\n",
      "[ 2018-04-21 16:45:29,086][cascade_classifier.calc_accuracy] Accuracy(layer_0 - test.classifier_average)=54.98%\n",
      "[ 2018-04-21 16:45:29,087][cascade_classifier.fit_transform] [Result][Reach Max Layer] opt_layer_num=1, accuracy_train=53.36%, accuracy_test=54.98%\n",
      "[ 2018-04-21 16:45:29,091][cascade_classifier.transform] X_groups_test.shape=[(25000, 502)]\n",
      "[ 2018-04-21 16:45:29,137][cascade_classifier.transform] group_dims=[502]\n",
      "[ 2018-04-21 16:45:29,138][cascade_classifier.transform] X_test.shape=(25000, 502)\n",
      "[ 2018-04-21 16:45:29,181][cascade_classifier.transform] [layer=0] look_indexs=[0], X_cur_test.shape=(25000, 502)\n"
     ]
    },
    {
     "name": "stdout",
     "output_type": "stream",
     "text": [
      "('Test Accuracy of RandomForest = 54.948000 %', 15, 'fois')\n"
     ]
    },
    {
     "name": "stderr",
     "output_type": "stream",
     "text": [
      "[ 2018-04-21 16:45:31,634][cascade_classifier.fit_transform] X_groups_train.shape=[(25000, 502)],y_train.shape=(25000,),X_groups_test.shape=[(25000, 502)],y_test.shape=(25000,)\n",
      "[ 2018-04-21 16:45:31,711][cascade_classifier.fit_transform] group_dims=[502]\n",
      "[ 2018-04-21 16:45:31,713][cascade_classifier.fit_transform] group_starts=[0]\n",
      "[ 2018-04-21 16:45:31,715][cascade_classifier.fit_transform] group_ends=[502]\n",
      "[ 2018-04-21 16:45:31,716][cascade_classifier.fit_transform] X_train.shape=(25000, 502),X_test.shape=(25000, 502)\n",
      "[ 2018-04-21 16:45:31,794][cascade_classifier.fit_transform] [layer=0] look_indexs=[0], X_cur_train.shape=(25000, 502), X_cur_test.shape=(25000, 502)\n",
      "[ 2018-04-21 16:45:33,290][kfold_wrapper.log_eval_metrics] Accuracy(layer_0 - estimator_0 - 10_folds.train_0.predict)=53.16%\n",
      "[ 2018-04-21 16:45:34,945][kfold_wrapper.log_eval_metrics] Accuracy(layer_0 - estimator_0 - 10_folds.train_1.predict)=54.20%\n",
      "[ 2018-04-21 16:45:36,595][kfold_wrapper.log_eval_metrics] Accuracy(layer_0 - estimator_0 - 10_folds.train_2.predict)=53.08%\n",
      "[ 2018-04-21 16:45:38,260][kfold_wrapper.log_eval_metrics] Accuracy(layer_0 - estimator_0 - 10_folds.train_3.predict)=52.48%\n",
      "[ 2018-04-21 16:45:39,784][kfold_wrapper.log_eval_metrics] Accuracy(layer_0 - estimator_0 - 10_folds.train_4.predict)=53.64%\n",
      "[ 2018-04-21 16:45:41,444][kfold_wrapper.log_eval_metrics] Accuracy(layer_0 - estimator_0 - 10_folds.train_5.predict)=53.84%\n",
      "[ 2018-04-21 16:45:42,970][kfold_wrapper.log_eval_metrics] Accuracy(layer_0 - estimator_0 - 10_folds.train_6.predict)=53.56%\n",
      "[ 2018-04-21 16:45:44,533][kfold_wrapper.log_eval_metrics] Accuracy(layer_0 - estimator_0 - 10_folds.train_7.predict)=54.72%\n",
      "[ 2018-04-21 16:45:46,198][kfold_wrapper.log_eval_metrics] Accuracy(layer_0 - estimator_0 - 10_folds.train_8.predict)=52.28%\n",
      "[ 2018-04-21 16:45:47,869][kfold_wrapper.log_eval_metrics] Accuracy(layer_0 - estimator_0 - 10_folds.train_9.predict)=54.40%\n",
      "[ 2018-04-21 16:45:48,030][kfold_wrapper.log_eval_metrics] Accuracy(layer_0 - estimator_0 - 10_folds.train_cv.predict)=53.54%\n",
      "[ 2018-04-21 16:45:48,033][kfold_wrapper.log_eval_metrics] Accuracy(layer_0 - estimator_0 - 10_folds.test.predict)=55.16%\n",
      "[ 2018-04-21 16:45:48,047][cascade_classifier.calc_accuracy] Accuracy(layer_0 - train.classifier_average)=53.54%\n",
      "[ 2018-04-21 16:45:48,050][cascade_classifier.calc_accuracy] Accuracy(layer_0 - test.classifier_average)=55.16%\n",
      "[ 2018-04-21 16:45:48,051][cascade_classifier.fit_transform] [Result][Reach Max Layer] opt_layer_num=1, accuracy_train=53.54%, accuracy_test=55.16%\n",
      "[ 2018-04-21 16:45:48,055][cascade_classifier.transform] X_groups_test.shape=[(25000, 502)]\n",
      "[ 2018-04-21 16:45:48,104][cascade_classifier.transform] group_dims=[502]\n",
      "[ 2018-04-21 16:45:48,106][cascade_classifier.transform] X_test.shape=(25000, 502)\n",
      "[ 2018-04-21 16:45:48,148][cascade_classifier.transform] [layer=0] look_indexs=[0], X_cur_test.shape=(25000, 502)\n"
     ]
    },
    {
     "name": "stdout",
     "output_type": "stream",
     "text": [
      "('Test Accuracy of RandomForest = 55.128000 %', 16, 'fois')\n"
     ]
    },
    {
     "name": "stderr",
     "output_type": "stream",
     "text": [
      "[ 2018-04-21 16:45:51,089][cascade_classifier.fit_transform] X_groups_train.shape=[(25000, 502)],y_train.shape=(25000,),X_groups_test.shape=[(25000, 502)],y_test.shape=(25000,)\n",
      "[ 2018-04-21 16:45:51,166][cascade_classifier.fit_transform] group_dims=[502]\n",
      "[ 2018-04-21 16:45:51,167][cascade_classifier.fit_transform] group_starts=[0]\n",
      "[ 2018-04-21 16:45:51,168][cascade_classifier.fit_transform] group_ends=[502]\n",
      "[ 2018-04-21 16:45:51,169][cascade_classifier.fit_transform] X_train.shape=(25000, 502),X_test.shape=(25000, 502)\n",
      "[ 2018-04-21 16:45:51,248][cascade_classifier.fit_transform] [layer=0] look_indexs=[0], X_cur_train.shape=(25000, 502), X_cur_test.shape=(25000, 502)\n",
      "[ 2018-04-21 16:45:52,729][kfold_wrapper.log_eval_metrics] Accuracy(layer_0 - estimator_0 - 10_folds.train_0.predict)=54.76%\n",
      "[ 2018-04-21 16:45:54,267][kfold_wrapper.log_eval_metrics] Accuracy(layer_0 - estimator_0 - 10_folds.train_1.predict)=53.24%\n",
      "[ 2018-04-21 16:45:56,060][kfold_wrapper.log_eval_metrics] Accuracy(layer_0 - estimator_0 - 10_folds.train_2.predict)=53.48%\n",
      "[ 2018-04-21 16:45:57,572][kfold_wrapper.log_eval_metrics] Accuracy(layer_0 - estimator_0 - 10_folds.train_3.predict)=52.40%\n",
      "[ 2018-04-21 16:45:59,069][kfold_wrapper.log_eval_metrics] Accuracy(layer_0 - estimator_0 - 10_folds.train_4.predict)=52.76%\n",
      "[ 2018-04-21 16:46:00,730][kfold_wrapper.log_eval_metrics] Accuracy(layer_0 - estimator_0 - 10_folds.train_5.predict)=52.40%\n",
      "[ 2018-04-21 16:46:02,436][kfold_wrapper.log_eval_metrics] Accuracy(layer_0 - estimator_0 - 10_folds.train_6.predict)=54.76%\n",
      "[ 2018-04-21 16:46:04,013][kfold_wrapper.log_eval_metrics] Accuracy(layer_0 - estimator_0 - 10_folds.train_7.predict)=54.00%\n",
      "[ 2018-04-21 16:46:05,817][kfold_wrapper.log_eval_metrics] Accuracy(layer_0 - estimator_0 - 10_folds.train_8.predict)=52.68%\n",
      "[ 2018-04-21 16:46:07,403][kfold_wrapper.log_eval_metrics] Accuracy(layer_0 - estimator_0 - 10_folds.train_9.predict)=54.16%\n",
      "[ 2018-04-21 16:46:07,590][kfold_wrapper.log_eval_metrics] Accuracy(layer_0 - estimator_0 - 10_folds.train_cv.predict)=53.46%\n",
      "[ 2018-04-21 16:46:07,592][kfold_wrapper.log_eval_metrics] Accuracy(layer_0 - estimator_0 - 10_folds.test.predict)=55.20%\n",
      "[ 2018-04-21 16:46:07,602][cascade_classifier.calc_accuracy] Accuracy(layer_0 - train.classifier_average)=53.46%\n",
      "[ 2018-04-21 16:46:07,604][cascade_classifier.calc_accuracy] Accuracy(layer_0 - test.classifier_average)=55.20%\n",
      "[ 2018-04-21 16:46:07,605][cascade_classifier.fit_transform] [Result][Reach Max Layer] opt_layer_num=1, accuracy_train=53.46%, accuracy_test=55.20%\n",
      "[ 2018-04-21 16:46:07,609][cascade_classifier.transform] X_groups_test.shape=[(25000, 502)]\n",
      "[ 2018-04-21 16:46:07,650][cascade_classifier.transform] group_dims=[502]\n",
      "[ 2018-04-21 16:46:07,652][cascade_classifier.transform] X_test.shape=(25000, 502)\n",
      "[ 2018-04-21 16:46:07,692][cascade_classifier.transform] [layer=0] look_indexs=[0], X_cur_test.shape=(25000, 502)\n"
     ]
    },
    {
     "name": "stdout",
     "output_type": "stream",
     "text": [
      "('Test Accuracy of RandomForest = 55.132000 %', 17, 'fois')\n"
     ]
    },
    {
     "name": "stderr",
     "output_type": "stream",
     "text": [
      "[ 2018-04-21 16:46:10,183][cascade_classifier.fit_transform] X_groups_train.shape=[(25000, 502)],y_train.shape=(25000,),X_groups_test.shape=[(25000, 502)],y_test.shape=(25000,)\n",
      "[ 2018-04-21 16:46:10,259][cascade_classifier.fit_transform] group_dims=[502]\n",
      "[ 2018-04-21 16:46:10,261][cascade_classifier.fit_transform] group_starts=[0]\n",
      "[ 2018-04-21 16:46:10,262][cascade_classifier.fit_transform] group_ends=[502]\n",
      "[ 2018-04-21 16:46:10,264][cascade_classifier.fit_transform] X_train.shape=(25000, 502),X_test.shape=(25000, 502)\n",
      "[ 2018-04-21 16:46:10,342][cascade_classifier.fit_transform] [layer=0] look_indexs=[0], X_cur_train.shape=(25000, 502), X_cur_test.shape=(25000, 502)\n",
      "[ 2018-04-21 16:46:11,822][kfold_wrapper.log_eval_metrics] Accuracy(layer_0 - estimator_0 - 10_folds.train_0.predict)=53.76%\n",
      "[ 2018-04-21 16:46:13,663][kfold_wrapper.log_eval_metrics] Accuracy(layer_0 - estimator_0 - 10_folds.train_1.predict)=53.56%\n",
      "[ 2018-04-21 16:46:15,350][kfold_wrapper.log_eval_metrics] Accuracy(layer_0 - estimator_0 - 10_folds.train_2.predict)=55.16%\n",
      "[ 2018-04-21 16:46:16,866][kfold_wrapper.log_eval_metrics] Accuracy(layer_0 - estimator_0 - 10_folds.train_3.predict)=53.60%\n",
      "[ 2018-04-21 16:46:18,402][kfold_wrapper.log_eval_metrics] Accuracy(layer_0 - estimator_0 - 10_folds.train_4.predict)=51.36%\n",
      "[ 2018-04-21 16:46:19,941][kfold_wrapper.log_eval_metrics] Accuracy(layer_0 - estimator_0 - 10_folds.train_5.predict)=52.92%\n",
      "[ 2018-04-21 16:46:21,447][kfold_wrapper.log_eval_metrics] Accuracy(layer_0 - estimator_0 - 10_folds.train_6.predict)=53.44%\n",
      "[ 2018-04-21 16:46:22,989][kfold_wrapper.log_eval_metrics] Accuracy(layer_0 - estimator_0 - 10_folds.train_7.predict)=53.32%\n",
      "[ 2018-04-21 16:46:24,799][kfold_wrapper.log_eval_metrics] Accuracy(layer_0 - estimator_0 - 10_folds.train_8.predict)=53.84%\n",
      "[ 2018-04-21 16:46:26,459][kfold_wrapper.log_eval_metrics] Accuracy(layer_0 - estimator_0 - 10_folds.train_9.predict)=55.00%\n",
      "[ 2018-04-21 16:46:26,627][kfold_wrapper.log_eval_metrics] Accuracy(layer_0 - estimator_0 - 10_folds.train_cv.predict)=53.60%\n",
      "[ 2018-04-21 16:46:26,629][kfold_wrapper.log_eval_metrics] Accuracy(layer_0 - estimator_0 - 10_folds.test.predict)=55.25%\n",
      "[ 2018-04-21 16:46:26,641][cascade_classifier.calc_accuracy] Accuracy(layer_0 - train.classifier_average)=53.60%\n",
      "[ 2018-04-21 16:46:26,642][cascade_classifier.calc_accuracy] Accuracy(layer_0 - test.classifier_average)=55.25%\n",
      "[ 2018-04-21 16:46:26,644][cascade_classifier.fit_transform] [Result][Reach Max Layer] opt_layer_num=1, accuracy_train=53.60%, accuracy_test=55.25%\n",
      "[ 2018-04-21 16:46:26,647][cascade_classifier.transform] X_groups_test.shape=[(25000, 502)]\n",
      "[ 2018-04-21 16:46:26,691][cascade_classifier.transform] group_dims=[502]\n",
      "[ 2018-04-21 16:46:26,693][cascade_classifier.transform] X_test.shape=(25000, 502)\n",
      "[ 2018-04-21 16:46:26,734][cascade_classifier.transform] [layer=0] look_indexs=[0], X_cur_test.shape=(25000, 502)\n"
     ]
    },
    {
     "name": "stdout",
     "output_type": "stream",
     "text": [
      "('Test Accuracy of RandomForest = 55.300000 %', 18, 'fois')\n"
     ]
    },
    {
     "name": "stderr",
     "output_type": "stream",
     "text": [
      "[ 2018-04-21 16:46:29,460][cascade_classifier.fit_transform] X_groups_train.shape=[(25000, 502)],y_train.shape=(25000,),X_groups_test.shape=[(25000, 502)],y_test.shape=(25000,)\n",
      "[ 2018-04-21 16:46:29,537][cascade_classifier.fit_transform] group_dims=[502]\n",
      "[ 2018-04-21 16:46:29,539][cascade_classifier.fit_transform] group_starts=[0]\n",
      "[ 2018-04-21 16:46:29,541][cascade_classifier.fit_transform] group_ends=[502]\n",
      "[ 2018-04-21 16:46:29,542][cascade_classifier.fit_transform] X_train.shape=(25000, 502),X_test.shape=(25000, 502)\n",
      "[ 2018-04-21 16:46:29,621][cascade_classifier.fit_transform] [layer=0] look_indexs=[0], X_cur_train.shape=(25000, 502), X_cur_test.shape=(25000, 502)\n",
      "[ 2018-04-21 16:46:31,095][kfold_wrapper.log_eval_metrics] Accuracy(layer_0 - estimator_0 - 10_folds.train_0.predict)=54.04%\n",
      "[ 2018-04-21 16:46:32,656][kfold_wrapper.log_eval_metrics] Accuracy(layer_0 - estimator_0 - 10_folds.train_1.predict)=53.64%\n",
      "[ 2018-04-21 16:46:34,232][kfold_wrapper.log_eval_metrics] Accuracy(layer_0 - estimator_0 - 10_folds.train_2.predict)=53.36%\n",
      "[ 2018-04-21 16:46:35,784][kfold_wrapper.log_eval_metrics] Accuracy(layer_0 - estimator_0 - 10_folds.train_3.predict)=53.12%\n",
      "[ 2018-04-21 16:46:37,289][kfold_wrapper.log_eval_metrics] Accuracy(layer_0 - estimator_0 - 10_folds.train_4.predict)=52.08%\n",
      "[ 2018-04-21 16:46:38,829][kfold_wrapper.log_eval_metrics] Accuracy(layer_0 - estimator_0 - 10_folds.train_5.predict)=52.48%\n",
      "[ 2018-04-21 16:46:40,402][kfold_wrapper.log_eval_metrics] Accuracy(layer_0 - estimator_0 - 10_folds.train_6.predict)=53.36%\n",
      "[ 2018-04-21 16:46:41,941][kfold_wrapper.log_eval_metrics] Accuracy(layer_0 - estimator_0 - 10_folds.train_7.predict)=53.24%\n",
      "[ 2018-04-21 16:46:43,782][kfold_wrapper.log_eval_metrics] Accuracy(layer_0 - estimator_0 - 10_folds.train_8.predict)=54.24%\n",
      "[ 2018-04-21 16:46:45,603][kfold_wrapper.log_eval_metrics] Accuracy(layer_0 - estimator_0 - 10_folds.train_9.predict)=55.04%\n",
      "[ 2018-04-21 16:46:45,792][kfold_wrapper.log_eval_metrics] Accuracy(layer_0 - estimator_0 - 10_folds.train_cv.predict)=53.46%\n",
      "[ 2018-04-21 16:46:45,795][kfold_wrapper.log_eval_metrics] Accuracy(layer_0 - estimator_0 - 10_folds.test.predict)=55.37%\n",
      "[ 2018-04-21 16:46:45,807][cascade_classifier.calc_accuracy] Accuracy(layer_0 - train.classifier_average)=53.46%\n",
      "[ 2018-04-21 16:46:45,809][cascade_classifier.calc_accuracy] Accuracy(layer_0 - test.classifier_average)=55.37%\n",
      "[ 2018-04-21 16:46:45,811][cascade_classifier.fit_transform] [Result][Reach Max Layer] opt_layer_num=1, accuracy_train=53.46%, accuracy_test=55.37%\n",
      "[ 2018-04-21 16:46:45,814][cascade_classifier.transform] X_groups_test.shape=[(25000, 502)]\n",
      "[ 2018-04-21 16:46:45,860][cascade_classifier.transform] group_dims=[502]\n",
      "[ 2018-04-21 16:46:45,862][cascade_classifier.transform] X_test.shape=(25000, 502)\n",
      "[ 2018-04-21 16:46:45,904][cascade_classifier.transform] [layer=0] look_indexs=[0], X_cur_test.shape=(25000, 502)\n"
     ]
    },
    {
     "name": "stdout",
     "output_type": "stream",
     "text": [
      "('Test Accuracy of RandomForest = 55.352000 %', 19, 'fois')\n"
     ]
    }
   ],
   "source": [
    "# Deep\n",
    "for i in range (20):\n",
    "    X_train,X_test=update(X_train,X_test)\n",
    "    X_test_enc, X_train_enc=newdata(X_test_enc, X_train_enc)\n",
    "\n",
    "    X_train=X_train_enc\n",
    "    X_test=X_test_enc \n",
    "    X_train_enc, X_test_enc = gc.fit_transform(X_train, y_train, X_test=X_test, y_test=y_test)\n",
    "    affiche()"
   ]
  },
  {
   "cell_type": "code",
   "execution_count": null,
   "metadata": {
    "collapsed": true
   },
   "outputs": [],
   "source": []
  },
  {
   "cell_type": "markdown",
   "metadata": {},
   "source": [
    "# ('Test Accuracy of RandomForest = 55.612000 %', 9, 'fois')"
   ]
  },
  {
   "cell_type": "code",
   "execution_count": null,
   "metadata": {
    "collapsed": true
   },
   "outputs": [],
   "source": []
  }
 ],
 "metadata": {
  "kernelspec": {
   "display_name": "Python 2",
   "language": "python",
   "name": "python2"
  },
  "language_info": {
   "codemirror_mode": {
    "name": "ipython",
    "version": 2
   },
   "file_extension": ".py",
   "mimetype": "text/x-python",
   "name": "python",
   "nbconvert_exporter": "python",
   "pygments_lexer": "ipython2",
   "version": "2.7.13"
  }
 },
 "nbformat": 4,
 "nbformat_minor": 2
}

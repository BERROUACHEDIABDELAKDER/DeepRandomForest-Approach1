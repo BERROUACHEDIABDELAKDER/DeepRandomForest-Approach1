{
 "cells": [
  {
   "cell_type": "code",
   "execution_count": 20,
   "metadata": {
    "collapsed": true
   },
   "outputs": [],
   "source": [
    "#Imports \n",
    "import numpy as np\n",
    "import pandas as pd\n",
    "from math import sqrt \n",
    "from pprint import pprint\n",
    "from numpy import array"
   ]
  },
  {
   "cell_type": "code",
   "execution_count": 21,
   "metadata": {
    "collapsed": true
   },
   "outputs": [],
   "source": [
    "# load data\n",
    "import names\n",
    "df = pd.read_csv(\"htru.csv\", names = names.names)"
   ]
  },
  {
   "cell_type": "code",
   "execution_count": 22,
   "metadata": {},
   "outputs": [
    {
     "data": {
      "text/html": [
       "<div>\n",
       "<style>\n",
       "    .dataframe thead tr:only-child th {\n",
       "        text-align: right;\n",
       "    }\n",
       "\n",
       "    .dataframe thead th {\n",
       "        text-align: left;\n",
       "    }\n",
       "\n",
       "    .dataframe tbody tr th {\n",
       "        vertical-align: top;\n",
       "    }\n",
       "</style>\n",
       "<table border=\"1\" class=\"dataframe\">\n",
       "  <thead>\n",
       "    <tr style=\"text-align: right;\">\n",
       "      <th></th>\n",
       "      <th>Profile_mean</th>\n",
       "      <th>Profile_stdev</th>\n",
       "      <th>Profile_skewness</th>\n",
       "      <th>Profile_kurtosis</th>\n",
       "      <th>DM_mean</th>\n",
       "      <th>DM_stdev</th>\n",
       "      <th>DM_skewness</th>\n",
       "      <th>DM_kurtosis</th>\n",
       "      <th>class</th>\n",
       "    </tr>\n",
       "  </thead>\n",
       "  <tbody>\n",
       "    <tr>\n",
       "      <th>0</th>\n",
       "      <td>140.562500</td>\n",
       "      <td>55.683782</td>\n",
       "      <td>-0.234571</td>\n",
       "      <td>-0.699648</td>\n",
       "      <td>3.199833</td>\n",
       "      <td>19.110426</td>\n",
       "      <td>7.975532</td>\n",
       "      <td>74.242225</td>\n",
       "      <td>0</td>\n",
       "    </tr>\n",
       "    <tr>\n",
       "      <th>1</th>\n",
       "      <td>102.507812</td>\n",
       "      <td>58.882430</td>\n",
       "      <td>0.465318</td>\n",
       "      <td>-0.515088</td>\n",
       "      <td>1.677258</td>\n",
       "      <td>14.860146</td>\n",
       "      <td>10.576487</td>\n",
       "      <td>127.393580</td>\n",
       "      <td>0</td>\n",
       "    </tr>\n",
       "    <tr>\n",
       "      <th>2</th>\n",
       "      <td>103.015625</td>\n",
       "      <td>39.341649</td>\n",
       "      <td>0.323328</td>\n",
       "      <td>1.051164</td>\n",
       "      <td>3.121237</td>\n",
       "      <td>21.744669</td>\n",
       "      <td>7.735822</td>\n",
       "      <td>63.171909</td>\n",
       "      <td>0</td>\n",
       "    </tr>\n",
       "    <tr>\n",
       "      <th>3</th>\n",
       "      <td>136.750000</td>\n",
       "      <td>57.178449</td>\n",
       "      <td>-0.068415</td>\n",
       "      <td>-0.636238</td>\n",
       "      <td>3.642977</td>\n",
       "      <td>20.959280</td>\n",
       "      <td>6.896499</td>\n",
       "      <td>53.593661</td>\n",
       "      <td>0</td>\n",
       "    </tr>\n",
       "    <tr>\n",
       "      <th>4</th>\n",
       "      <td>88.726562</td>\n",
       "      <td>40.672225</td>\n",
       "      <td>0.600866</td>\n",
       "      <td>1.123492</td>\n",
       "      <td>1.178930</td>\n",
       "      <td>11.468720</td>\n",
       "      <td>14.269573</td>\n",
       "      <td>252.567306</td>\n",
       "      <td>0</td>\n",
       "    </tr>\n",
       "  </tbody>\n",
       "</table>\n",
       "</div>"
      ],
      "text/plain": [
       "   Profile_mean  Profile_stdev  Profile_skewness  Profile_kurtosis   DM_mean  \\\n",
       "0    140.562500      55.683782         -0.234571         -0.699648  3.199833   \n",
       "1    102.507812      58.882430          0.465318         -0.515088  1.677258   \n",
       "2    103.015625      39.341649          0.323328          1.051164  3.121237   \n",
       "3    136.750000      57.178449         -0.068415         -0.636238  3.642977   \n",
       "4     88.726562      40.672225          0.600866          1.123492  1.178930   \n",
       "\n",
       "    DM_stdev  DM_skewness  DM_kurtosis  class  \n",
       "0  19.110426     7.975532    74.242225      0  \n",
       "1  14.860146    10.576487   127.393580      0  \n",
       "2  21.744669     7.735822    63.171909      0  \n",
       "3  20.959280     6.896499    53.593661      0  \n",
       "4  11.468720    14.269573   252.567306      0  "
      ]
     },
     "execution_count": 22,
     "metadata": {},
     "output_type": "execute_result"
    }
   ],
   "source": [
    "# first 5 \n",
    "df.head()"
   ]
  },
  {
   "cell_type": "code",
   "execution_count": 23,
   "metadata": {
    "collapsed": true
   },
   "outputs": [],
   "source": [
    "# df to values\n",
    "df = df.values"
   ]
  },
  {
   "cell_type": "code",
   "execution_count": 24,
   "metadata": {
    "collapsed": true
   },
   "outputs": [],
   "source": [
    "#  deep RandomForest\n",
    "import argparse\n",
    "import sys\n",
    "import pickle\n",
    "from sklearn.metrics import accuracy_score\n",
    "sys.path.insert(0, \"lib\")\n",
    "from gcforest.gcforest import GCForest\n",
    "from gcforest.utils.config_utils import load_json\n",
    "config = load_json(\"./examples/htru.json\")   \n",
    "gc = GCForest(config)"
   ]
  },
  {
   "cell_type": "code",
   "execution_count": 25,
   "metadata": {
    "collapsed": true
   },
   "outputs": [],
   "source": [
    "# train test \n",
    "from sklearn.cross_validation import train_test_split\n",
    "y = df[:,8]\n",
    "X = df[:,0:8]\n",
    "\n",
    "X_train,X_test,y_train,y_test = train_test_split(X, y, test_size=0.3, random_state=0)"
   ]
  },
  {
   "cell_type": "code",
   "execution_count": 26,
   "metadata": {},
   "outputs": [
    {
     "data": {
      "text/plain": [
       "2"
      ]
     },
     "execution_count": 26,
     "metadata": {},
     "output_type": "execute_result"
    }
   ],
   "source": [
    "# count  of class\n",
    "len(np.unique(y_train))"
   ]
  },
  {
   "cell_type": "code",
   "execution_count": 27,
   "metadata": {},
   "outputs": [
    {
     "name": "stderr",
     "output_type": "stream",
     "text": [
      "[ 2018-03-26 20:09:50,495][cascade_classifier.fit_transform] X_groups_train.shape=[(12528, 8)],y_train.shape=(12528,),X_groups_test.shape=[(5370, 8)],y_test.shape=(5370,)\n",
      "[ 2018-03-26 20:09:50,500][cascade_classifier.fit_transform] group_dims=[8]\n",
      "[ 2018-03-26 20:09:50,501][cascade_classifier.fit_transform] group_starts=[0]\n",
      "[ 2018-03-26 20:09:50,502][cascade_classifier.fit_transform] group_ends=[8]\n",
      "[ 2018-03-26 20:09:50,503][cascade_classifier.fit_transform] X_train.shape=(12528, 8),X_test.shape=(5370, 8)\n",
      "[ 2018-03-26 20:09:50,504][cascade_classifier.fit_transform] [layer=0] look_indexs=[0], X_cur_train.shape=(12528, 8), X_cur_test.shape=(5370, 8)\n",
      "[ 2018-03-26 20:09:51,975][kfold_wrapper.log_eval_metrics] Accuracy(layer_0 - estimator_0 - 10_folds.train_0.predict)=98.25%\n",
      "[ 2018-03-26 20:09:53,755][kfold_wrapper.log_eval_metrics] Accuracy(layer_0 - estimator_0 - 10_folds.train_1.predict)=97.69%\n",
      "[ 2018-03-26 20:09:55,596][kfold_wrapper.log_eval_metrics] Accuracy(layer_0 - estimator_0 - 10_folds.train_2.predict)=98.01%\n",
      "[ 2018-03-26 20:09:56,968][kfold_wrapper.log_eval_metrics] Accuracy(layer_0 - estimator_0 - 10_folds.train_3.predict)=97.61%\n",
      "[ 2018-03-26 20:09:57,905][kfold_wrapper.log_eval_metrics] Accuracy(layer_0 - estimator_0 - 10_folds.train_4.predict)=97.92%\n",
      "[ 2018-03-26 20:09:58,900][kfold_wrapper.log_eval_metrics] Accuracy(layer_0 - estimator_0 - 10_folds.train_5.predict)=98.08%\n",
      "[ 2018-03-26 20:10:00,628][kfold_wrapper.log_eval_metrics] Accuracy(layer_0 - estimator_0 - 10_folds.train_6.predict)=97.60%\n",
      "[ 2018-03-26 20:10:02,504][kfold_wrapper.log_eval_metrics] Accuracy(layer_0 - estimator_0 - 10_folds.train_7.predict)=98.08%\n",
      "[ 2018-03-26 20:10:04,365][kfold_wrapper.log_eval_metrics] Accuracy(layer_0 - estimator_0 - 10_folds.train_8.predict)=97.92%\n",
      "[ 2018-03-26 20:10:06,018][kfold_wrapper.log_eval_metrics] Accuracy(layer_0 - estimator_0 - 10_folds.train_9.predict)=98.08%\n",
      "[ 2018-03-26 20:10:06,233][kfold_wrapper.log_eval_metrics] Accuracy(layer_0 - estimator_0 - 10_folds.train_cv.predict)=97.92%\n",
      "[ 2018-03-26 20:10:06,236][kfold_wrapper.log_eval_metrics] Accuracy(layer_0 - estimator_0 - 10_folds.test.predict)=98.04%\n",
      "[ 2018-03-26 20:10:06,237][cascade_classifier.calc_accuracy] Accuracy(layer_0 - train.classifier_average)=97.92%\n",
      "[ 2018-03-26 20:10:06,240][cascade_classifier.calc_accuracy] Accuracy(layer_0 - test.classifier_average)=98.04%\n",
      "[ 2018-03-26 20:10:06,241][cascade_classifier.fit_transform] [Result][Reach Max Layer] opt_layer_num=1, accuracy_train=97.92%, accuracy_test=98.04%\n"
     ]
    }
   ],
   "source": [
    " # X_enc is the concatenated predict_proba result of RandomForest\n",
    "\n",
    "X_train_enc, X_test_enc = gc.fit_transform(X_train, y_train, X_test=X_test, y_test=y_test)\n",
    " "
   ]
  },
  {
   "cell_type": "code",
   "execution_count": 28,
   "metadata": {},
   "outputs": [
    {
     "name": "stderr",
     "output_type": "stream",
     "text": [
      "[ 2018-03-26 20:10:06,247][cascade_classifier.transform] X_groups_test.shape=[(5370, 8)]\n",
      "[ 2018-03-26 20:10:06,248][cascade_classifier.transform] group_dims=[8]\n",
      "[ 2018-03-26 20:10:06,249][cascade_classifier.transform] X_test.shape=(5370, 8)\n",
      "[ 2018-03-26 20:10:06,251][cascade_classifier.transform] [layer=0] look_indexs=[0], X_cur_test.shape=(5370, 8)\n"
     ]
    },
    {
     "name": "stdout",
     "output_type": "stream",
     "text": [
      "Test Accuracy of RandomForest = 98.044693 %\n"
     ]
    }
   ],
   "source": [
    "# predict\n",
    "y_pred = gc.predict(X_test)\n",
    "acc = accuracy_score(y_test, y_pred)\n",
    "print(\"Test Accuracy of RandomForest = {:.6f} %\".format(acc * 100))"
   ]
  },
  {
   "cell_type": "code",
   "execution_count": 29,
   "metadata": {},
   "outputs": [
    {
     "name": "stdout",
     "output_type": "stream",
     "text": [
      "X_train_enc.shape=(12528, 2), X_test_enc.shape=(5370, 2)\n"
     ]
    }
   ],
   "source": [
    "print(\"X_train_enc.shape={}, X_test_enc.shape={}\".format(X_train_enc.shape, X_test_enc.shape))"
   ]
  },
  {
   "cell_type": "code",
   "execution_count": 30,
   "metadata": {},
   "outputs": [
    {
     "name": "stdout",
     "output_type": "stream",
     "text": [
      "X_train.shape=(12528, 8), X_test.shape=(5370, 8)\n"
     ]
    }
   ],
   "source": [
    "print(\"X_train.shape={}, X_test.shape={}\".format(X_train.shape, X_test.shape))"
   ]
  },
  {
   "cell_type": "code",
   "execution_count": 31,
   "metadata": {},
   "outputs": [
    {
     "name": "stderr",
     "output_type": "stream",
     "text": [
      "[ 2018-03-26 20:10:08,391][cascade_classifier.transform] X_groups_test.shape=[(5370, 8)]\n",
      "[ 2018-03-26 20:10:08,394][cascade_classifier.transform] group_dims=[8]\n",
      "[ 2018-03-26 20:10:08,403][cascade_classifier.transform] X_test.shape=(5370, 8)\n",
      "[ 2018-03-26 20:10:08,404][cascade_classifier.transform] [layer=0] look_indexs=[0], X_cur_test.shape=(5370, 8)\n"
     ]
    }
   ],
   "source": [
    "    # predict_proba result of RandomForest + data \n",
    "\n",
    "X_test_enc = gc.transform(X_test)\n",
    "X_train_enc = X_train_enc.reshape((X_train_enc.shape[0], -1))\n",
    "X_test_enc = X_test_enc.reshape((X_test_enc.shape[0], -1))\n",
    "X_train_origin = X_train.reshape((X_train.shape[0], -1))\n",
    "X_test_origin = X_test.reshape((X_test.shape[0], -1))\n",
    "X_train_enc = np.hstack((X_train_origin, X_train_enc))\n",
    "X_test_enc = np.hstack((X_test_origin, X_test_enc))"
   ]
  },
  {
   "cell_type": "code",
   "execution_count": 32,
   "metadata": {},
   "outputs": [
    {
     "name": "stdout",
     "output_type": "stream",
     "text": [
      "X_train_enc.shape=(12528, 10), X_test_enc.shape=(5370, 10)\n"
     ]
    }
   ],
   "source": [
    "print(\"X_train_enc.shape={}, X_test_enc.shape={}\".format(X_train_enc.shape, X_test_enc.shape))"
   ]
  },
  {
   "cell_type": "code",
   "execution_count": 16,
   "metadata": {},
   "outputs": [
    {
     "name": "stderr",
     "output_type": "stream",
     "text": [
      "[ 2018-03-26 19:54:55,455][cascade_classifier.fit_transform] X_groups_train.shape=[(12528, 10)],y_train.shape=(12528,),X_groups_test.shape=[(5370, 10)],y_test.shape=(5370,)\n",
      "[ 2018-03-26 19:54:55,456][cascade_classifier.fit_transform] group_dims=[10]\n",
      "[ 2018-03-26 19:54:55,457][cascade_classifier.fit_transform] group_starts=[0]\n",
      "[ 2018-03-26 19:54:55,459][cascade_classifier.fit_transform] group_ends=[10]\n",
      "[ 2018-03-26 19:54:55,459][cascade_classifier.fit_transform] X_train.shape=(12528, 10),X_test.shape=(5370, 10)\n",
      "[ 2018-03-26 19:54:55,461][cascade_classifier.fit_transform] [layer=0] look_indexs=[0], X_cur_train.shape=(12528, 10), X_cur_test.shape=(5370, 10)\n",
      "[ 2018-03-26 19:54:56,107][kfold_wrapper.log_eval_metrics] Accuracy(layer_0 - estimator_0 - 10_folds.train_0.predict)=98.25%\n",
      "[ 2018-03-26 19:54:56,852][kfold_wrapper.log_eval_metrics] Accuracy(layer_0 - estimator_0 - 10_folds.train_1.predict)=97.69%\n",
      "[ 2018-03-26 19:54:57,548][kfold_wrapper.log_eval_metrics] Accuracy(layer_0 - estimator_0 - 10_folds.train_2.predict)=97.93%\n",
      "[ 2018-03-26 19:54:58,291][kfold_wrapper.log_eval_metrics] Accuracy(layer_0 - estimator_0 - 10_folds.train_3.predict)=97.77%\n",
      "[ 2018-03-26 19:54:59,034][kfold_wrapper.log_eval_metrics] Accuracy(layer_0 - estimator_0 - 10_folds.train_4.predict)=98.00%\n",
      "[ 2018-03-26 19:54:59,775][kfold_wrapper.log_eval_metrics] Accuracy(layer_0 - estimator_0 - 10_folds.train_5.predict)=98.32%\n",
      "[ 2018-03-26 19:55:00,518][kfold_wrapper.log_eval_metrics] Accuracy(layer_0 - estimator_0 - 10_folds.train_6.predict)=97.28%\n",
      "[ 2018-03-26 19:55:01,377][kfold_wrapper.log_eval_metrics] Accuracy(layer_0 - estimator_0 - 10_folds.train_7.predict)=98.08%\n",
      "[ 2018-03-26 19:55:02,239][kfold_wrapper.log_eval_metrics] Accuracy(layer_0 - estimator_0 - 10_folds.train_8.predict)=98.08%\n",
      "[ 2018-03-26 19:55:02,983][kfold_wrapper.log_eval_metrics] Accuracy(layer_0 - estimator_0 - 10_folds.train_9.predict)=98.00%\n",
      "[ 2018-03-26 19:55:03,090][kfold_wrapper.log_eval_metrics] Accuracy(layer_0 - estimator_0 - 10_folds.train_cv.predict)=97.94%\n",
      "[ 2018-03-26 19:55:03,091][kfold_wrapper.log_eval_metrics] Accuracy(layer_0 - estimator_0 - 10_folds.test.predict)=98.06%\n",
      "[ 2018-03-26 19:55:03,094][cascade_classifier.calc_accuracy] Accuracy(layer_0 - train.classifier_average)=97.94%\n",
      "[ 2018-03-26 19:55:03,095][cascade_classifier.calc_accuracy] Accuracy(layer_0 - test.classifier_average)=98.06%\n",
      "[ 2018-03-26 19:55:03,096][cascade_classifier.fit_transform] [Result][Reach Max Layer] opt_layer_num=1, accuracy_train=97.94%, accuracy_test=98.06%\n"
     ]
    }
   ],
   "source": [
    "# new data\n",
    "X_train=X_train_enc\n",
    "X_test=X_test_enc \n",
    "X_train_enc, X_test_enc = gc.fit_transform(X_train, y_train, X_test=X_test, y_test=y_test)"
   ]
  },
  {
   "cell_type": "code",
   "execution_count": 33,
   "metadata": {
    "collapsed": true
   },
   "outputs": [],
   "source": [
    "def update(X_train,X_test):\n",
    "    # update Estimators\n",
    "    M = np.delete(X_train, (-1), axis=1)\n",
    "    X_train= np.delete(M, (-1), axis=1)\n",
    "    M = np.delete(X_test, (-1), axis=1)\n",
    "    X_test = np.delete(M, (-1), axis=1)\n",
    "    return X_train,X_test\n",
    "\n",
    "def newdata(X_test_enc, X_train_enc):\n",
    "    # Make Data + Estimators\n",
    "    X_train_origin = X_train.reshape((X_train.shape[0], -1))\n",
    "    X_test_origin = X_test.reshape((X_test.shape[0], -1))\n",
    "    X_train_enc = np.hstack((X_train_origin, X_train_enc))\n",
    "    X_test_enc = np.hstack((X_test_origin, X_test_enc))\n",
    "    return X_test_enc, X_train_enc"
   ]
  },
  {
   "cell_type": "code",
   "execution_count": 34,
   "metadata": {
    "collapsed": true
   },
   "outputs": [],
   "source": [
    "def affiche():\n",
    "    # predict\n",
    "    y_pred = gc.predict(X_test)\n",
    "    acc = accuracy_score(y_test, y_pred)\n",
    "    print(\"Test Accuracy of RandomForest = {:.6f} %\".format(acc * 100),i,'fois')"
   ]
  },
  {
   "cell_type": "code",
   "execution_count": 36,
   "metadata": {},
   "outputs": [
    {
     "name": "stderr",
     "output_type": "stream",
     "text": [
      "[ 2018-03-26 20:23:30,249][cascade_classifier.fit_transform] X_groups_train.shape=[(12528, 16)],y_train.shape=(12528,),X_groups_test.shape=[(5370, 16)],y_test.shape=(5370,)\n",
      "[ 2018-03-26 20:23:30,251][cascade_classifier.fit_transform] group_dims=[16]\n",
      "[ 2018-03-26 20:23:30,253][cascade_classifier.fit_transform] group_starts=[0]\n",
      "[ 2018-03-26 20:23:30,254][cascade_classifier.fit_transform] group_ends=[16]\n",
      "[ 2018-03-26 20:23:30,256][cascade_classifier.fit_transform] X_train.shape=(12528, 16),X_test.shape=(5370, 16)\n",
      "[ 2018-03-26 20:23:30,258][cascade_classifier.fit_transform] [layer=0] look_indexs=[0], X_cur_train.shape=(12528, 16), X_cur_test.shape=(5370, 16)\n",
      "[ 2018-03-26 20:23:32,715][kfold_wrapper.log_eval_metrics] Accuracy(layer_0 - estimator_0 - 10_folds.train_0.predict)=98.09%\n",
      "[ 2018-03-26 20:23:35,149][kfold_wrapper.log_eval_metrics] Accuracy(layer_0 - estimator_0 - 10_folds.train_1.predict)=97.69%\n",
      "[ 2018-03-26 20:23:37,814][kfold_wrapper.log_eval_metrics] Accuracy(layer_0 - estimator_0 - 10_folds.train_2.predict)=97.93%\n",
      "[ 2018-03-26 20:23:40,455][kfold_wrapper.log_eval_metrics] Accuracy(layer_0 - estimator_0 - 10_folds.train_3.predict)=97.77%\n",
      "[ 2018-03-26 20:23:43,110][kfold_wrapper.log_eval_metrics] Accuracy(layer_0 - estimator_0 - 10_folds.train_4.predict)=98.32%\n",
      "[ 2018-03-26 20:23:45,483][kfold_wrapper.log_eval_metrics] Accuracy(layer_0 - estimator_0 - 10_folds.train_5.predict)=98.00%\n",
      "[ 2018-03-26 20:23:48,233][kfold_wrapper.log_eval_metrics] Accuracy(layer_0 - estimator_0 - 10_folds.train_6.predict)=97.44%\n",
      "[ 2018-03-26 20:23:50,794][kfold_wrapper.log_eval_metrics] Accuracy(layer_0 - estimator_0 - 10_folds.train_7.predict)=98.32%\n",
      "[ 2018-03-26 20:23:53,305][kfold_wrapper.log_eval_metrics] Accuracy(layer_0 - estimator_0 - 10_folds.train_8.predict)=98.08%\n",
      "[ 2018-03-26 20:23:55,584][kfold_wrapper.log_eval_metrics] Accuracy(layer_0 - estimator_0 - 10_folds.train_9.predict)=98.24%\n",
      "[ 2018-03-26 20:23:55,889][kfold_wrapper.log_eval_metrics] Accuracy(layer_0 - estimator_0 - 10_folds.train_cv.predict)=97.99%\n",
      "[ 2018-03-26 20:23:55,892][kfold_wrapper.log_eval_metrics] Accuracy(layer_0 - estimator_0 - 10_folds.test.predict)=98.01%\n",
      "[ 2018-03-26 20:23:55,895][cascade_classifier.calc_accuracy] Accuracy(layer_0 - train.classifier_average)=97.99%\n",
      "[ 2018-03-26 20:23:55,898][cascade_classifier.calc_accuracy] Accuracy(layer_0 - test.classifier_average)=98.01%\n",
      "[ 2018-03-26 20:23:55,899][cascade_classifier.fit_transform] [Result][Reach Max Layer] opt_layer_num=1, accuracy_train=97.99%, accuracy_test=98.01%\n",
      "[ 2018-03-26 20:23:55,899][cascade_classifier.transform] X_groups_test.shape=[(5370, 16)]\n",
      "[ 2018-03-26 20:23:55,900][cascade_classifier.transform] group_dims=[16]\n",
      "[ 2018-03-26 20:23:55,902][cascade_classifier.transform] X_test.shape=(5370, 16)\n",
      "[ 2018-03-26 20:23:55,903][cascade_classifier.transform] [layer=0] look_indexs=[0], X_cur_test.shape=(5370, 16)\n",
      "[ 2018-03-26 20:23:57,894][cascade_classifier.fit_transform] X_groups_train.shape=[(12528, 16)],y_train.shape=(12528,),X_groups_test.shape=[(5370, 16)],y_test.shape=(5370,)\n",
      "[ 2018-03-26 20:23:57,895][cascade_classifier.fit_transform] group_dims=[16]\n",
      "[ 2018-03-26 20:23:57,896][cascade_classifier.fit_transform] group_starts=[0]\n",
      "[ 2018-03-26 20:23:57,896][cascade_classifier.fit_transform] group_ends=[16]\n",
      "[ 2018-03-26 20:23:57,897][cascade_classifier.fit_transform] X_train.shape=(12528, 16),X_test.shape=(5370, 16)\n",
      "[ 2018-03-26 20:23:57,898][cascade_classifier.fit_transform] [layer=0] look_indexs=[0], X_cur_train.shape=(12528, 16), X_cur_test.shape=(5370, 16)\n"
     ]
    },
    {
     "name": "stdout",
     "output_type": "stream",
     "text": [
      "('Test Accuracy of RandomForest = 98.007449 %', 0, 'fois')\n"
     ]
    },
    {
     "name": "stderr",
     "output_type": "stream",
     "text": [
      "[ 2018-03-26 20:24:00,410][kfold_wrapper.log_eval_metrics] Accuracy(layer_0 - estimator_0 - 10_folds.train_0.predict)=98.01%\n",
      "[ 2018-03-26 20:24:03,076][kfold_wrapper.log_eval_metrics] Accuracy(layer_0 - estimator_0 - 10_folds.train_1.predict)=97.61%\n",
      "[ 2018-03-26 20:24:05,282][kfold_wrapper.log_eval_metrics] Accuracy(layer_0 - estimator_0 - 10_folds.train_2.predict)=97.93%\n",
      "[ 2018-03-26 20:24:06,879][kfold_wrapper.log_eval_metrics] Accuracy(layer_0 - estimator_0 - 10_folds.train_3.predict)=97.77%\n",
      "[ 2018-03-26 20:24:08,655][kfold_wrapper.log_eval_metrics] Accuracy(layer_0 - estimator_0 - 10_folds.train_4.predict)=98.00%\n",
      "[ 2018-03-26 20:24:11,028][kfold_wrapper.log_eval_metrics] Accuracy(layer_0 - estimator_0 - 10_folds.train_5.predict)=98.16%\n",
      "[ 2018-03-26 20:24:13,371][kfold_wrapper.log_eval_metrics] Accuracy(layer_0 - estimator_0 - 10_folds.train_6.predict)=97.28%\n",
      "[ 2018-03-26 20:24:15,964][kfold_wrapper.log_eval_metrics] Accuracy(layer_0 - estimator_0 - 10_folds.train_7.predict)=98.24%\n",
      "[ 2018-03-26 20:24:18,588][kfold_wrapper.log_eval_metrics] Accuracy(layer_0 - estimator_0 - 10_folds.train_8.predict)=98.16%\n",
      "[ 2018-03-26 20:24:20,987][kfold_wrapper.log_eval_metrics] Accuracy(layer_0 - estimator_0 - 10_folds.train_9.predict)=98.08%\n",
      "[ 2018-03-26 20:24:21,291][kfold_wrapper.log_eval_metrics] Accuracy(layer_0 - estimator_0 - 10_folds.train_cv.predict)=97.92%\n",
      "[ 2018-03-26 20:24:21,294][kfold_wrapper.log_eval_metrics] Accuracy(layer_0 - estimator_0 - 10_folds.test.predict)=98.03%\n",
      "[ 2018-03-26 20:24:21,297][cascade_classifier.calc_accuracy] Accuracy(layer_0 - train.classifier_average)=97.92%\n",
      "[ 2018-03-26 20:24:21,300][cascade_classifier.calc_accuracy] Accuracy(layer_0 - test.classifier_average)=98.03%\n",
      "[ 2018-03-26 20:24:21,301][cascade_classifier.fit_transform] [Result][Reach Max Layer] opt_layer_num=1, accuracy_train=97.92%, accuracy_test=98.03%\n",
      "[ 2018-03-26 20:24:21,301][cascade_classifier.transform] X_groups_test.shape=[(5370, 16)]\n",
      "[ 2018-03-26 20:24:21,302][cascade_classifier.transform] group_dims=[16]\n",
      "[ 2018-03-26 20:24:21,304][cascade_classifier.transform] X_test.shape=(5370, 16)\n",
      "[ 2018-03-26 20:24:21,305][cascade_classifier.transform] [layer=0] look_indexs=[0], X_cur_test.shape=(5370, 16)\n",
      "[ 2018-03-26 20:24:23,387][cascade_classifier.fit_transform] X_groups_train.shape=[(12528, 16)],y_train.shape=(12528,),X_groups_test.shape=[(5370, 16)],y_test.shape=(5370,)\n",
      "[ 2018-03-26 20:24:23,388][cascade_classifier.fit_transform] group_dims=[16]\n",
      "[ 2018-03-26 20:24:23,390][cascade_classifier.fit_transform] group_starts=[0]\n",
      "[ 2018-03-26 20:24:23,391][cascade_classifier.fit_transform] group_ends=[16]\n",
      "[ 2018-03-26 20:24:23,393][cascade_classifier.fit_transform] X_train.shape=(12528, 16),X_test.shape=(5370, 16)\n",
      "[ 2018-03-26 20:24:23,396][cascade_classifier.fit_transform] [layer=0] look_indexs=[0], X_cur_train.shape=(12528, 16), X_cur_test.shape=(5370, 16)\n"
     ]
    },
    {
     "name": "stdout",
     "output_type": "stream",
     "text": [
      "('Test Accuracy of RandomForest = 98.026071 %', 1, 'fois')\n"
     ]
    },
    {
     "name": "stderr",
     "output_type": "stream",
     "text": [
      "[ 2018-03-26 20:24:25,996][kfold_wrapper.log_eval_metrics] Accuracy(layer_0 - estimator_0 - 10_folds.train_0.predict)=98.01%\n",
      "[ 2018-03-26 20:24:28,638][kfold_wrapper.log_eval_metrics] Accuracy(layer_0 - estimator_0 - 10_folds.train_1.predict)=97.69%\n",
      "[ 2018-03-26 20:24:31,207][kfold_wrapper.log_eval_metrics] Accuracy(layer_0 - estimator_0 - 10_folds.train_2.predict)=97.93%\n",
      "[ 2018-03-26 20:24:33,537][kfold_wrapper.log_eval_metrics] Accuracy(layer_0 - estimator_0 - 10_folds.train_3.predict)=97.92%\n",
      "[ 2018-03-26 20:24:36,396][kfold_wrapper.log_eval_metrics] Accuracy(layer_0 - estimator_0 - 10_folds.train_4.predict)=97.92%\n",
      "[ 2018-03-26 20:24:38,976][kfold_wrapper.log_eval_metrics] Accuracy(layer_0 - estimator_0 - 10_folds.train_5.predict)=98.08%\n",
      "[ 2018-03-26 20:24:41,407][kfold_wrapper.log_eval_metrics] Accuracy(layer_0 - estimator_0 - 10_folds.train_6.predict)=97.20%\n",
      "[ 2018-03-26 20:24:43,776][kfold_wrapper.log_eval_metrics] Accuracy(layer_0 - estimator_0 - 10_folds.train_7.predict)=98.24%\n",
      "[ 2018-03-26 20:24:46,501][kfold_wrapper.log_eval_metrics] Accuracy(layer_0 - estimator_0 - 10_folds.train_8.predict)=98.16%\n",
      "[ 2018-03-26 20:24:49,033][kfold_wrapper.log_eval_metrics] Accuracy(layer_0 - estimator_0 - 10_folds.train_9.predict)=97.92%\n",
      "[ 2018-03-26 20:24:49,290][kfold_wrapper.log_eval_metrics] Accuracy(layer_0 - estimator_0 - 10_folds.train_cv.predict)=97.91%\n",
      "[ 2018-03-26 20:24:49,292][kfold_wrapper.log_eval_metrics] Accuracy(layer_0 - estimator_0 - 10_folds.test.predict)=97.97%\n",
      "[ 2018-03-26 20:24:49,296][cascade_classifier.calc_accuracy] Accuracy(layer_0 - train.classifier_average)=97.91%\n",
      "[ 2018-03-26 20:24:49,297][cascade_classifier.calc_accuracy] Accuracy(layer_0 - test.classifier_average)=97.97%\n",
      "[ 2018-03-26 20:24:49,299][cascade_classifier.fit_transform] [Result][Reach Max Layer] opt_layer_num=1, accuracy_train=97.91%, accuracy_test=97.97%\n",
      "[ 2018-03-26 20:24:49,301][cascade_classifier.transform] X_groups_test.shape=[(5370, 16)]\n",
      "[ 2018-03-26 20:24:49,302][cascade_classifier.transform] group_dims=[16]\n",
      "[ 2018-03-26 20:24:49,303][cascade_classifier.transform] X_test.shape=(5370, 16)\n",
      "[ 2018-03-26 20:24:49,304][cascade_classifier.transform] [layer=0] look_indexs=[0], X_cur_test.shape=(5370, 16)\n",
      "[ 2018-03-26 20:24:51,276][cascade_classifier.fit_transform] X_groups_train.shape=[(12528, 16)],y_train.shape=(12528,),X_groups_test.shape=[(5370, 16)],y_test.shape=(5370,)\n",
      "[ 2018-03-26 20:24:51,278][cascade_classifier.fit_transform] group_dims=[16]\n",
      "[ 2018-03-26 20:24:51,281][cascade_classifier.fit_transform] group_starts=[0]\n",
      "[ 2018-03-26 20:24:51,283][cascade_classifier.fit_transform] group_ends=[16]\n",
      "[ 2018-03-26 20:24:51,283][cascade_classifier.fit_transform] X_train.shape=(12528, 16),X_test.shape=(5370, 16)\n",
      "[ 2018-03-26 20:24:51,285][cascade_classifier.fit_transform] [layer=0] look_indexs=[0], X_cur_train.shape=(12528, 16), X_cur_test.shape=(5370, 16)\n"
     ]
    },
    {
     "name": "stdout",
     "output_type": "stream",
     "text": [
      "('Test Accuracy of RandomForest = 97.970205 %', 2, 'fois')\n"
     ]
    },
    {
     "name": "stderr",
     "output_type": "stream",
     "text": [
      "[ 2018-03-26 20:24:53,629][kfold_wrapper.log_eval_metrics] Accuracy(layer_0 - estimator_0 - 10_folds.train_0.predict)=98.17%\n",
      "[ 2018-03-26 20:24:55,972][kfold_wrapper.log_eval_metrics] Accuracy(layer_0 - estimator_0 - 10_folds.train_1.predict)=97.53%\n",
      "[ 2018-03-26 20:24:58,706][kfold_wrapper.log_eval_metrics] Accuracy(layer_0 - estimator_0 - 10_folds.train_2.predict)=98.01%\n",
      "[ 2018-03-26 20:25:01,659][kfold_wrapper.log_eval_metrics] Accuracy(layer_0 - estimator_0 - 10_folds.train_3.predict)=97.77%\n",
      "[ 2018-03-26 20:25:04,195][kfold_wrapper.log_eval_metrics] Accuracy(layer_0 - estimator_0 - 10_folds.train_4.predict)=97.92%\n",
      "[ 2018-03-26 20:25:06,747][kfold_wrapper.log_eval_metrics] Accuracy(layer_0 - estimator_0 - 10_folds.train_5.predict)=98.00%\n",
      "[ 2018-03-26 20:25:09,325][kfold_wrapper.log_eval_metrics] Accuracy(layer_0 - estimator_0 - 10_folds.train_6.predict)=97.36%\n",
      "[ 2018-03-26 20:25:11,984][kfold_wrapper.log_eval_metrics] Accuracy(layer_0 - estimator_0 - 10_folds.train_7.predict)=98.00%\n",
      "[ 2018-03-26 20:25:14,163][kfold_wrapper.log_eval_metrics] Accuracy(layer_0 - estimator_0 - 10_folds.train_8.predict)=98.16%\n",
      "[ 2018-03-26 20:25:15,940][kfold_wrapper.log_eval_metrics] Accuracy(layer_0 - estimator_0 - 10_folds.train_9.predict)=98.08%\n",
      "[ 2018-03-26 20:25:16,160][kfold_wrapper.log_eval_metrics] Accuracy(layer_0 - estimator_0 - 10_folds.train_cv.predict)=97.90%\n",
      "[ 2018-03-26 20:25:16,162][kfold_wrapper.log_eval_metrics] Accuracy(layer_0 - estimator_0 - 10_folds.test.predict)=98.08%\n",
      "[ 2018-03-26 20:25:16,165][cascade_classifier.calc_accuracy] Accuracy(layer_0 - train.classifier_average)=97.90%\n",
      "[ 2018-03-26 20:25:16,168][cascade_classifier.calc_accuracy] Accuracy(layer_0 - test.classifier_average)=98.08%\n",
      "[ 2018-03-26 20:25:16,169][cascade_classifier.fit_transform] [Result][Reach Max Layer] opt_layer_num=1, accuracy_train=97.90%, accuracy_test=98.08%\n",
      "[ 2018-03-26 20:25:16,170][cascade_classifier.transform] X_groups_test.shape=[(5370, 16)]\n",
      "[ 2018-03-26 20:25:16,171][cascade_classifier.transform] group_dims=[16]\n",
      "[ 2018-03-26 20:25:16,173][cascade_classifier.transform] X_test.shape=(5370, 16)\n",
      "[ 2018-03-26 20:25:16,174][cascade_classifier.transform] [layer=0] look_indexs=[0], X_cur_test.shape=(5370, 16)\n",
      "[ 2018-03-26 20:25:17,950][cascade_classifier.fit_transform] X_groups_train.shape=[(12528, 16)],y_train.shape=(12528,),X_groups_test.shape=[(5370, 16)],y_test.shape=(5370,)\n",
      "[ 2018-03-26 20:25:17,951][cascade_classifier.fit_transform] group_dims=[16]\n",
      "[ 2018-03-26 20:25:17,953][cascade_classifier.fit_transform] group_starts=[0]\n",
      "[ 2018-03-26 20:25:17,955][cascade_classifier.fit_transform] group_ends=[16]\n",
      "[ 2018-03-26 20:25:17,957][cascade_classifier.fit_transform] X_train.shape=(12528, 16),X_test.shape=(5370, 16)\n",
      "[ 2018-03-26 20:25:17,958][cascade_classifier.fit_transform] [layer=0] look_indexs=[0], X_cur_train.shape=(12528, 16), X_cur_test.shape=(5370, 16)\n"
     ]
    },
    {
     "name": "stdout",
     "output_type": "stream",
     "text": [
      "('Test Accuracy of RandomForest = 98.081937 %', 3, 'fois')\n"
     ]
    },
    {
     "name": "stderr",
     "output_type": "stream",
     "text": [
      "[ 2018-03-26 20:25:20,455][kfold_wrapper.log_eval_metrics] Accuracy(layer_0 - estimator_0 - 10_folds.train_0.predict)=98.25%\n",
      "[ 2018-03-26 20:25:22,958][kfold_wrapper.log_eval_metrics] Accuracy(layer_0 - estimator_0 - 10_folds.train_1.predict)=97.53%\n",
      "[ 2018-03-26 20:25:25,212][kfold_wrapper.log_eval_metrics] Accuracy(layer_0 - estimator_0 - 10_folds.train_2.predict)=97.85%\n",
      "[ 2018-03-26 20:25:28,053][kfold_wrapper.log_eval_metrics] Accuracy(layer_0 - estimator_0 - 10_folds.train_3.predict)=97.85%\n",
      "[ 2018-03-26 20:25:30,622][kfold_wrapper.log_eval_metrics] Accuracy(layer_0 - estimator_0 - 10_folds.train_4.predict)=97.92%\n",
      "[ 2018-03-26 20:25:33,381][kfold_wrapper.log_eval_metrics] Accuracy(layer_0 - estimator_0 - 10_folds.train_5.predict)=98.00%\n",
      "[ 2018-03-26 20:25:35,815][kfold_wrapper.log_eval_metrics] Accuracy(layer_0 - estimator_0 - 10_folds.train_6.predict)=97.28%\n",
      "[ 2018-03-26 20:25:38,505][kfold_wrapper.log_eval_metrics] Accuracy(layer_0 - estimator_0 - 10_folds.train_7.predict)=98.16%\n",
      "[ 2018-03-26 20:25:41,027][kfold_wrapper.log_eval_metrics] Accuracy(layer_0 - estimator_0 - 10_folds.train_8.predict)=98.00%\n",
      "[ 2018-03-26 20:25:43,638][kfold_wrapper.log_eval_metrics] Accuracy(layer_0 - estimator_0 - 10_folds.train_9.predict)=98.00%\n",
      "[ 2018-03-26 20:25:43,782][kfold_wrapper.log_eval_metrics] Accuracy(layer_0 - estimator_0 - 10_folds.train_cv.predict)=97.88%\n",
      "[ 2018-03-26 20:25:43,784][kfold_wrapper.log_eval_metrics] Accuracy(layer_0 - estimator_0 - 10_folds.test.predict)=98.03%\n",
      "[ 2018-03-26 20:25:43,787][cascade_classifier.calc_accuracy] Accuracy(layer_0 - train.classifier_average)=97.88%\n",
      "[ 2018-03-26 20:25:43,790][cascade_classifier.calc_accuracy] Accuracy(layer_0 - test.classifier_average)=98.03%\n",
      "[ 2018-03-26 20:25:43,791][cascade_classifier.fit_transform] [Result][Reach Max Layer] opt_layer_num=1, accuracy_train=97.88%, accuracy_test=98.03%\n",
      "[ 2018-03-26 20:25:43,792][cascade_classifier.transform] X_groups_test.shape=[(5370, 16)]\n",
      "[ 2018-03-26 20:25:43,793][cascade_classifier.transform] group_dims=[16]\n",
      "[ 2018-03-26 20:25:43,795][cascade_classifier.transform] X_test.shape=(5370, 16)\n",
      "[ 2018-03-26 20:25:43,795][cascade_classifier.transform] [layer=0] look_indexs=[0], X_cur_test.shape=(5370, 16)\n",
      "[ 2018-03-26 20:25:46,051][cascade_classifier.fit_transform] X_groups_train.shape=[(12528, 16)],y_train.shape=(12528,),X_groups_test.shape=[(5370, 16)],y_test.shape=(5370,)\n",
      "[ 2018-03-26 20:25:46,054][cascade_classifier.fit_transform] group_dims=[16]\n",
      "[ 2018-03-26 20:25:46,056][cascade_classifier.fit_transform] group_starts=[0]\n",
      "[ 2018-03-26 20:25:46,058][cascade_classifier.fit_transform] group_ends=[16]\n",
      "[ 2018-03-26 20:25:46,059][cascade_classifier.fit_transform] X_train.shape=(12528, 16),X_test.shape=(5370, 16)\n",
      "[ 2018-03-26 20:25:46,060][cascade_classifier.fit_transform] [layer=0] look_indexs=[0], X_cur_train.shape=(12528, 16), X_cur_test.shape=(5370, 16)\n"
     ]
    },
    {
     "name": "stdout",
     "output_type": "stream",
     "text": [
      "('Test Accuracy of RandomForest = 98.026071 %', 4, 'fois')\n"
     ]
    },
    {
     "name": "stderr",
     "output_type": "stream",
     "text": [
      "[ 2018-03-26 20:25:48,288][kfold_wrapper.log_eval_metrics] Accuracy(layer_0 - estimator_0 - 10_folds.train_0.predict)=98.25%\n",
      "[ 2018-03-26 20:25:50,818][kfold_wrapper.log_eval_metrics] Accuracy(layer_0 - estimator_0 - 10_folds.train_1.predict)=97.61%\n",
      "[ 2018-03-26 20:25:53,540][kfold_wrapper.log_eval_metrics] Accuracy(layer_0 - estimator_0 - 10_folds.train_2.predict)=97.85%\n",
      "[ 2018-03-26 20:25:56,047][kfold_wrapper.log_eval_metrics] Accuracy(layer_0 - estimator_0 - 10_folds.train_3.predict)=97.61%\n",
      "[ 2018-03-26 20:25:58,364][kfold_wrapper.log_eval_metrics] Accuracy(layer_0 - estimator_0 - 10_folds.train_4.predict)=97.53%\n",
      "[ 2018-03-26 20:26:00,573][kfold_wrapper.log_eval_metrics] Accuracy(layer_0 - estimator_0 - 10_folds.train_5.predict)=98.08%\n",
      "[ 2018-03-26 20:26:03,057][kfold_wrapper.log_eval_metrics] Accuracy(layer_0 - estimator_0 - 10_folds.train_6.predict)=97.36%\n",
      "[ 2018-03-26 20:26:05,294][kfold_wrapper.log_eval_metrics] Accuracy(layer_0 - estimator_0 - 10_folds.train_7.predict)=98.08%\n",
      "[ 2018-03-26 20:26:07,983][kfold_wrapper.log_eval_metrics] Accuracy(layer_0 - estimator_0 - 10_folds.train_8.predict)=98.24%\n",
      "[ 2018-03-26 20:26:10,145][kfold_wrapper.log_eval_metrics] Accuracy(layer_0 - estimator_0 - 10_folds.train_9.predict)=98.08%\n",
      "[ 2018-03-26 20:26:10,323][kfold_wrapper.log_eval_metrics] Accuracy(layer_0 - estimator_0 - 10_folds.train_cv.predict)=97.87%\n",
      "[ 2018-03-26 20:26:10,326][kfold_wrapper.log_eval_metrics] Accuracy(layer_0 - estimator_0 - 10_folds.test.predict)=98.03%\n",
      "[ 2018-03-26 20:26:10,328][cascade_classifier.calc_accuracy] Accuracy(layer_0 - train.classifier_average)=97.87%\n",
      "[ 2018-03-26 20:26:10,332][cascade_classifier.calc_accuracy] Accuracy(layer_0 - test.classifier_average)=98.03%\n",
      "[ 2018-03-26 20:26:10,333][cascade_classifier.fit_transform] [Result][Reach Max Layer] opt_layer_num=1, accuracy_train=97.87%, accuracy_test=98.03%\n",
      "[ 2018-03-26 20:26:10,333][cascade_classifier.transform] X_groups_test.shape=[(5370, 16)]\n",
      "[ 2018-03-26 20:26:10,334][cascade_classifier.transform] group_dims=[16]\n",
      "[ 2018-03-26 20:26:10,336][cascade_classifier.transform] X_test.shape=(5370, 16)\n",
      "[ 2018-03-26 20:26:10,337][cascade_classifier.transform] [layer=0] look_indexs=[0], X_cur_test.shape=(5370, 16)\n",
      "[ 2018-03-26 20:26:12,395][cascade_classifier.fit_transform] X_groups_train.shape=[(12528, 16)],y_train.shape=(12528,),X_groups_test.shape=[(5370, 16)],y_test.shape=(5370,)\n",
      "[ 2018-03-26 20:26:12,398][cascade_classifier.fit_transform] group_dims=[16]\n",
      "[ 2018-03-26 20:26:12,400][cascade_classifier.fit_transform] group_starts=[0]\n",
      "[ 2018-03-26 20:26:12,402][cascade_classifier.fit_transform] group_ends=[16]\n",
      "[ 2018-03-26 20:26:12,403][cascade_classifier.fit_transform] X_train.shape=(12528, 16),X_test.shape=(5370, 16)\n",
      "[ 2018-03-26 20:26:12,404][cascade_classifier.fit_transform] [layer=0] look_indexs=[0], X_cur_train.shape=(12528, 16), X_cur_test.shape=(5370, 16)\n"
     ]
    },
    {
     "name": "stdout",
     "output_type": "stream",
     "text": [
      "('Test Accuracy of RandomForest = 98.026071 %', 5, 'fois')\n"
     ]
    },
    {
     "name": "stderr",
     "output_type": "stream",
     "text": [
      "[ 2018-03-26 20:26:14,570][kfold_wrapper.log_eval_metrics] Accuracy(layer_0 - estimator_0 - 10_folds.train_0.predict)=98.17%\n",
      "[ 2018-03-26 20:26:17,010][kfold_wrapper.log_eval_metrics] Accuracy(layer_0 - estimator_0 - 10_folds.train_1.predict)=97.61%\n",
      "[ 2018-03-26 20:26:19,796][kfold_wrapper.log_eval_metrics] Accuracy(layer_0 - estimator_0 - 10_folds.train_2.predict)=98.25%\n",
      "[ 2018-03-26 20:26:21,756][kfold_wrapper.log_eval_metrics] Accuracy(layer_0 - estimator_0 - 10_folds.train_3.predict)=97.77%\n",
      "[ 2018-03-26 20:26:23,448][kfold_wrapper.log_eval_metrics] Accuracy(layer_0 - estimator_0 - 10_folds.train_4.predict)=97.77%\n",
      "[ 2018-03-26 20:26:25,900][kfold_wrapper.log_eval_metrics] Accuracy(layer_0 - estimator_0 - 10_folds.train_5.predict)=98.00%\n",
      "[ 2018-03-26 20:26:28,493][kfold_wrapper.log_eval_metrics] Accuracy(layer_0 - estimator_0 - 10_folds.train_6.predict)=97.36%\n",
      "[ 2018-03-26 20:26:31,068][kfold_wrapper.log_eval_metrics] Accuracy(layer_0 - estimator_0 - 10_folds.train_7.predict)=98.08%\n",
      "[ 2018-03-26 20:26:33,649][kfold_wrapper.log_eval_metrics] Accuracy(layer_0 - estimator_0 - 10_folds.train_8.predict)=98.16%\n",
      "[ 2018-03-26 20:26:35,923][kfold_wrapper.log_eval_metrics] Accuracy(layer_0 - estimator_0 - 10_folds.train_9.predict)=98.00%\n",
      "[ 2018-03-26 20:26:36,119][kfold_wrapper.log_eval_metrics] Accuracy(layer_0 - estimator_0 - 10_folds.train_cv.predict)=97.92%\n",
      "[ 2018-03-26 20:26:36,122][kfold_wrapper.log_eval_metrics] Accuracy(layer_0 - estimator_0 - 10_folds.test.predict)=98.04%\n",
      "[ 2018-03-26 20:26:36,124][cascade_classifier.calc_accuracy] Accuracy(layer_0 - train.classifier_average)=97.92%\n",
      "[ 2018-03-26 20:26:36,128][cascade_classifier.calc_accuracy] Accuracy(layer_0 - test.classifier_average)=98.04%\n",
      "[ 2018-03-26 20:26:36,129][cascade_classifier.fit_transform] [Result][Reach Max Layer] opt_layer_num=1, accuracy_train=97.92%, accuracy_test=98.04%\n",
      "[ 2018-03-26 20:26:36,129][cascade_classifier.transform] X_groups_test.shape=[(5370, 16)]\n",
      "[ 2018-03-26 20:26:36,130][cascade_classifier.transform] group_dims=[16]\n",
      "[ 2018-03-26 20:26:36,132][cascade_classifier.transform] X_test.shape=(5370, 16)\n",
      "[ 2018-03-26 20:26:36,133][cascade_classifier.transform] [layer=0] look_indexs=[0], X_cur_test.shape=(5370, 16)\n",
      "[ 2018-03-26 20:26:38,125][cascade_classifier.fit_transform] X_groups_train.shape=[(12528, 16)],y_train.shape=(12528,),X_groups_test.shape=[(5370, 16)],y_test.shape=(5370,)\n",
      "[ 2018-03-26 20:26:38,126][cascade_classifier.fit_transform] group_dims=[16]\n",
      "[ 2018-03-26 20:26:38,128][cascade_classifier.fit_transform] group_starts=[0]\n",
      "[ 2018-03-26 20:26:38,129][cascade_classifier.fit_transform] group_ends=[16]\n",
      "[ 2018-03-26 20:26:38,137][cascade_classifier.fit_transform] X_train.shape=(12528, 16),X_test.shape=(5370, 16)\n",
      "[ 2018-03-26 20:26:38,142][cascade_classifier.fit_transform] [layer=0] look_indexs=[0], X_cur_train.shape=(12528, 16), X_cur_test.shape=(5370, 16)\n"
     ]
    },
    {
     "name": "stdout",
     "output_type": "stream",
     "text": [
      "('Test Accuracy of RandomForest = 98.044693 %', 6, 'fois')\n"
     ]
    },
    {
     "name": "stderr",
     "output_type": "stream",
     "text": [
      "[ 2018-03-26 20:26:40,573][kfold_wrapper.log_eval_metrics] Accuracy(layer_0 - estimator_0 - 10_folds.train_0.predict)=98.33%\n",
      "[ 2018-03-26 20:26:43,322][kfold_wrapper.log_eval_metrics] Accuracy(layer_0 - estimator_0 - 10_folds.train_1.predict)=97.53%\n",
      "[ 2018-03-26 20:26:45,755][kfold_wrapper.log_eval_metrics] Accuracy(layer_0 - estimator_0 - 10_folds.train_2.predict)=97.93%\n",
      "[ 2018-03-26 20:26:48,498][kfold_wrapper.log_eval_metrics] Accuracy(layer_0 - estimator_0 - 10_folds.train_3.predict)=97.85%\n",
      "[ 2018-03-26 20:26:51,096][kfold_wrapper.log_eval_metrics] Accuracy(layer_0 - estimator_0 - 10_folds.train_4.predict)=97.77%\n",
      "[ 2018-03-26 20:26:53,879][kfold_wrapper.log_eval_metrics] Accuracy(layer_0 - estimator_0 - 10_folds.train_5.predict)=98.08%\n",
      "[ 2018-03-26 20:26:56,241][kfold_wrapper.log_eval_metrics] Accuracy(layer_0 - estimator_0 - 10_folds.train_6.predict)=97.44%\n",
      "[ 2018-03-26 20:26:58,855][kfold_wrapper.log_eval_metrics] Accuracy(layer_0 - estimator_0 - 10_folds.train_7.predict)=98.08%\n",
      "[ 2018-03-26 20:27:01,336][kfold_wrapper.log_eval_metrics] Accuracy(layer_0 - estimator_0 - 10_folds.train_8.predict)=98.08%\n",
      "[ 2018-03-26 20:27:03,865][kfold_wrapper.log_eval_metrics] Accuracy(layer_0 - estimator_0 - 10_folds.train_9.predict)=97.92%\n",
      "[ 2018-03-26 20:27:04,045][kfold_wrapper.log_eval_metrics] Accuracy(layer_0 - estimator_0 - 10_folds.train_cv.predict)=97.90%\n",
      "[ 2018-03-26 20:27:04,047][kfold_wrapper.log_eval_metrics] Accuracy(layer_0 - estimator_0 - 10_folds.test.predict)=98.06%\n",
      "[ 2018-03-26 20:27:04,050][cascade_classifier.calc_accuracy] Accuracy(layer_0 - train.classifier_average)=97.90%\n",
      "[ 2018-03-26 20:27:04,053][cascade_classifier.calc_accuracy] Accuracy(layer_0 - test.classifier_average)=98.06%\n",
      "[ 2018-03-26 20:27:04,054][cascade_classifier.fit_transform] [Result][Reach Max Layer] opt_layer_num=1, accuracy_train=97.90%, accuracy_test=98.06%\n",
      "[ 2018-03-26 20:27:04,054][cascade_classifier.transform] X_groups_test.shape=[(5370, 16)]\n",
      "[ 2018-03-26 20:27:04,055][cascade_classifier.transform] group_dims=[16]\n",
      "[ 2018-03-26 20:27:04,057][cascade_classifier.transform] X_test.shape=(5370, 16)\n",
      "[ 2018-03-26 20:27:04,058][cascade_classifier.transform] [layer=0] look_indexs=[0], X_cur_test.shape=(5370, 16)\n",
      "[ 2018-03-26 20:27:06,082][cascade_classifier.fit_transform] X_groups_train.shape=[(12528, 16)],y_train.shape=(12528,),X_groups_test.shape=[(5370, 16)],y_test.shape=(5370,)\n",
      "[ 2018-03-26 20:27:06,083][cascade_classifier.fit_transform] group_dims=[16]\n",
      "[ 2018-03-26 20:27:06,084][cascade_classifier.fit_transform] group_starts=[0]\n",
      "[ 2018-03-26 20:27:06,085][cascade_classifier.fit_transform] group_ends=[16]\n",
      "[ 2018-03-26 20:27:06,085][cascade_classifier.fit_transform] X_train.shape=(12528, 16),X_test.shape=(5370, 16)\n",
      "[ 2018-03-26 20:27:06,087][cascade_classifier.fit_transform] [layer=0] look_indexs=[0], X_cur_train.shape=(12528, 16), X_cur_test.shape=(5370, 16)\n"
     ]
    },
    {
     "name": "stdout",
     "output_type": "stream",
     "text": [
      "('Test Accuracy of RandomForest = 98.063315 %', 7, 'fois')\n"
     ]
    },
    {
     "name": "stderr",
     "output_type": "stream",
     "text": [
      "[ 2018-03-26 20:27:07,975][kfold_wrapper.log_eval_metrics] Accuracy(layer_0 - estimator_0 - 10_folds.train_0.predict)=98.09%\n",
      "[ 2018-03-26 20:27:10,732][kfold_wrapper.log_eval_metrics] Accuracy(layer_0 - estimator_0 - 10_folds.train_1.predict)=97.53%\n",
      "[ 2018-03-26 20:27:13,247][kfold_wrapper.log_eval_metrics] Accuracy(layer_0 - estimator_0 - 10_folds.train_2.predict)=98.09%\n",
      "[ 2018-03-26 20:27:15,737][kfold_wrapper.log_eval_metrics] Accuracy(layer_0 - estimator_0 - 10_folds.train_3.predict)=97.69%\n",
      "[ 2018-03-26 20:27:18,431][kfold_wrapper.log_eval_metrics] Accuracy(layer_0 - estimator_0 - 10_folds.train_4.predict)=97.69%\n",
      "[ 2018-03-26 20:27:21,231][kfold_wrapper.log_eval_metrics] Accuracy(layer_0 - estimator_0 - 10_folds.train_5.predict)=98.08%\n",
      "[ 2018-03-26 20:27:23,761][kfold_wrapper.log_eval_metrics] Accuracy(layer_0 - estimator_0 - 10_folds.train_6.predict)=97.36%\n",
      "[ 2018-03-26 20:27:26,396][kfold_wrapper.log_eval_metrics] Accuracy(layer_0 - estimator_0 - 10_folds.train_7.predict)=97.76%\n",
      "[ 2018-03-26 20:27:28,761][kfold_wrapper.log_eval_metrics] Accuracy(layer_0 - estimator_0 - 10_folds.train_8.predict)=98.24%\n",
      "[ 2018-03-26 20:27:30,746][kfold_wrapper.log_eval_metrics] Accuracy(layer_0 - estimator_0 - 10_folds.train_9.predict)=98.00%\n",
      "[ 2018-03-26 20:27:30,965][kfold_wrapper.log_eval_metrics] Accuracy(layer_0 - estimator_0 - 10_folds.train_cv.predict)=97.85%\n",
      "[ 2018-03-26 20:27:30,966][kfold_wrapper.log_eval_metrics] Accuracy(layer_0 - estimator_0 - 10_folds.test.predict)=98.03%\n",
      "[ 2018-03-26 20:27:30,968][cascade_classifier.calc_accuracy] Accuracy(layer_0 - train.classifier_average)=97.85%\n",
      "[ 2018-03-26 20:27:30,969][cascade_classifier.calc_accuracy] Accuracy(layer_0 - test.classifier_average)=98.03%\n",
      "[ 2018-03-26 20:27:30,969][cascade_classifier.fit_transform] [Result][Reach Max Layer] opt_layer_num=1, accuracy_train=97.85%, accuracy_test=98.03%\n",
      "[ 2018-03-26 20:27:30,970][cascade_classifier.transform] X_groups_test.shape=[(5370, 16)]\n",
      "[ 2018-03-26 20:27:30,971][cascade_classifier.transform] group_dims=[16]\n",
      "[ 2018-03-26 20:27:30,971][cascade_classifier.transform] X_test.shape=(5370, 16)\n",
      "[ 2018-03-26 20:27:30,972][cascade_classifier.transform] [layer=0] look_indexs=[0], X_cur_test.shape=(5370, 16)\n",
      "[ 2018-03-26 20:27:33,304][cascade_classifier.fit_transform] X_groups_train.shape=[(12528, 16)],y_train.shape=(12528,),X_groups_test.shape=[(5370, 16)],y_test.shape=(5370,)\n",
      "[ 2018-03-26 20:27:33,307][cascade_classifier.fit_transform] group_dims=[16]\n",
      "[ 2018-03-26 20:27:33,309][cascade_classifier.fit_transform] group_starts=[0]\n",
      "[ 2018-03-26 20:27:33,311][cascade_classifier.fit_transform] group_ends=[16]\n",
      "[ 2018-03-26 20:27:33,312][cascade_classifier.fit_transform] X_train.shape=(12528, 16),X_test.shape=(5370, 16)\n",
      "[ 2018-03-26 20:27:33,313][cascade_classifier.fit_transform] [layer=0] look_indexs=[0], X_cur_train.shape=(12528, 16), X_cur_test.shape=(5370, 16)\n"
     ]
    },
    {
     "name": "stdout",
     "output_type": "stream",
     "text": [
      "('Test Accuracy of RandomForest = 98.026071 %', 8, 'fois')\n"
     ]
    },
    {
     "name": "stderr",
     "output_type": "stream",
     "text": [
      "[ 2018-03-26 20:27:35,702][kfold_wrapper.log_eval_metrics] Accuracy(layer_0 - estimator_0 - 10_folds.train_0.predict)=98.17%\n",
      "[ 2018-03-26 20:27:37,950][kfold_wrapper.log_eval_metrics] Accuracy(layer_0 - estimator_0 - 10_folds.train_1.predict)=97.61%\n",
      "[ 2018-03-26 20:27:40,616][kfold_wrapper.log_eval_metrics] Accuracy(layer_0 - estimator_0 - 10_folds.train_2.predict)=97.93%\n",
      "[ 2018-03-26 20:27:43,270][kfold_wrapper.log_eval_metrics] Accuracy(layer_0 - estimator_0 - 10_folds.train_3.predict)=97.69%\n",
      "[ 2018-03-26 20:27:45,813][kfold_wrapper.log_eval_metrics] Accuracy(layer_0 - estimator_0 - 10_folds.train_4.predict)=97.77%\n",
      "[ 2018-03-26 20:27:48,289][kfold_wrapper.log_eval_metrics] Accuracy(layer_0 - estimator_0 - 10_folds.train_5.predict)=98.00%\n",
      "[ 2018-03-26 20:27:50,705][kfold_wrapper.log_eval_metrics] Accuracy(layer_0 - estimator_0 - 10_folds.train_6.predict)=97.04%\n",
      "[ 2018-03-26 20:27:53,092][kfold_wrapper.log_eval_metrics] Accuracy(layer_0 - estimator_0 - 10_folds.train_7.predict)=97.92%\n",
      "[ 2018-03-26 20:27:55,348][kfold_wrapper.log_eval_metrics] Accuracy(layer_0 - estimator_0 - 10_folds.train_8.predict)=98.32%\n",
      "[ 2018-03-26 20:27:57,955][kfold_wrapper.log_eval_metrics] Accuracy(layer_0 - estimator_0 - 10_folds.train_9.predict)=97.92%\n",
      "[ 2018-03-26 20:27:58,119][kfold_wrapper.log_eval_metrics] Accuracy(layer_0 - estimator_0 - 10_folds.train_cv.predict)=97.84%\n",
      "[ 2018-03-26 20:27:58,121][kfold_wrapper.log_eval_metrics] Accuracy(layer_0 - estimator_0 - 10_folds.test.predict)=98.06%\n",
      "[ 2018-03-26 20:27:58,124][cascade_classifier.calc_accuracy] Accuracy(layer_0 - train.classifier_average)=97.84%\n",
      "[ 2018-03-26 20:27:58,127][cascade_classifier.calc_accuracy] Accuracy(layer_0 - test.classifier_average)=98.06%\n",
      "[ 2018-03-26 20:27:58,128][cascade_classifier.fit_transform] [Result][Reach Max Layer] opt_layer_num=1, accuracy_train=97.84%, accuracy_test=98.06%\n",
      "[ 2018-03-26 20:27:58,129][cascade_classifier.transform] X_groups_test.shape=[(5370, 16)]\n",
      "[ 2018-03-26 20:27:58,130][cascade_classifier.transform] group_dims=[16]\n",
      "[ 2018-03-26 20:27:58,132][cascade_classifier.transform] X_test.shape=(5370, 16)\n",
      "[ 2018-03-26 20:27:58,133][cascade_classifier.transform] [layer=0] look_indexs=[0], X_cur_test.shape=(5370, 16)\n",
      "[ 2018-03-26 20:28:00,149][cascade_classifier.fit_transform] X_groups_train.shape=[(12528, 16)],y_train.shape=(12528,),X_groups_test.shape=[(5370, 16)],y_test.shape=(5370,)\n",
      "[ 2018-03-26 20:28:00,150][cascade_classifier.fit_transform] group_dims=[16]\n",
      "[ 2018-03-26 20:28:00,151][cascade_classifier.fit_transform] group_starts=[0]\n",
      "[ 2018-03-26 20:28:00,151][cascade_classifier.fit_transform] group_ends=[16]\n",
      "[ 2018-03-26 20:28:00,152][cascade_classifier.fit_transform] X_train.shape=(12528, 16),X_test.shape=(5370, 16)\n",
      "[ 2018-03-26 20:28:00,153][cascade_classifier.fit_transform] [layer=0] look_indexs=[0], X_cur_train.shape=(12528, 16), X_cur_test.shape=(5370, 16)\n"
     ]
    },
    {
     "name": "stdout",
     "output_type": "stream",
     "text": [
      "('Test Accuracy of RandomForest = 98.063315 %', 9, 'fois')\n"
     ]
    },
    {
     "name": "stderr",
     "output_type": "stream",
     "text": [
      "[ 2018-03-26 20:28:02,688][kfold_wrapper.log_eval_metrics] Accuracy(layer_0 - estimator_0 - 10_folds.train_0.predict)=98.01%\n",
      "[ 2018-03-26 20:28:05,215][kfold_wrapper.log_eval_metrics] Accuracy(layer_0 - estimator_0 - 10_folds.train_1.predict)=97.77%\n",
      "[ 2018-03-26 20:28:07,762][kfold_wrapper.log_eval_metrics] Accuracy(layer_0 - estimator_0 - 10_folds.train_2.predict)=98.01%\n",
      "[ 2018-03-26 20:28:10,437][kfold_wrapper.log_eval_metrics] Accuracy(layer_0 - estimator_0 - 10_folds.train_3.predict)=97.69%\n",
      "[ 2018-03-26 20:28:13,137][kfold_wrapper.log_eval_metrics] Accuracy(layer_0 - estimator_0 - 10_folds.train_4.predict)=97.53%\n",
      "[ 2018-03-26 20:28:15,665][kfold_wrapper.log_eval_metrics] Accuracy(layer_0 - estimator_0 - 10_folds.train_5.predict)=98.00%\n",
      "[ 2018-03-26 20:28:17,812][kfold_wrapper.log_eval_metrics] Accuracy(layer_0 - estimator_0 - 10_folds.train_6.predict)=97.28%\n",
      "[ 2018-03-26 20:28:20,647][kfold_wrapper.log_eval_metrics] Accuracy(layer_0 - estimator_0 - 10_folds.train_7.predict)=98.08%\n",
      "[ 2018-03-26 20:28:23,120][kfold_wrapper.log_eval_metrics] Accuracy(layer_0 - estimator_0 - 10_folds.train_8.predict)=98.16%\n",
      "[ 2018-03-26 20:28:25,604][kfold_wrapper.log_eval_metrics] Accuracy(layer_0 - estimator_0 - 10_folds.train_9.predict)=98.00%\n",
      "[ 2018-03-26 20:28:25,809][kfold_wrapper.log_eval_metrics] Accuracy(layer_0 - estimator_0 - 10_folds.train_cv.predict)=97.85%\n",
      "[ 2018-03-26 20:28:25,811][kfold_wrapper.log_eval_metrics] Accuracy(layer_0 - estimator_0 - 10_folds.test.predict)=98.03%\n",
      "[ 2018-03-26 20:28:25,814][cascade_classifier.calc_accuracy] Accuracy(layer_0 - train.classifier_average)=97.85%\n",
      "[ 2018-03-26 20:28:25,817][cascade_classifier.calc_accuracy] Accuracy(layer_0 - test.classifier_average)=98.03%\n",
      "[ 2018-03-26 20:28:25,817][cascade_classifier.fit_transform] [Result][Reach Max Layer] opt_layer_num=1, accuracy_train=97.85%, accuracy_test=98.03%\n",
      "[ 2018-03-26 20:28:25,821][cascade_classifier.transform] X_groups_test.shape=[(5370, 16)]\n",
      "[ 2018-03-26 20:28:25,822][cascade_classifier.transform] group_dims=[16]\n",
      "[ 2018-03-26 20:28:25,822][cascade_classifier.transform] X_test.shape=(5370, 16)\n",
      "[ 2018-03-26 20:28:25,823][cascade_classifier.transform] [layer=0] look_indexs=[0], X_cur_test.shape=(5370, 16)\n",
      "[ 2018-03-26 20:28:28,078][cascade_classifier.fit_transform] X_groups_train.shape=[(12528, 16)],y_train.shape=(12528,),X_groups_test.shape=[(5370, 16)],y_test.shape=(5370,)\n",
      "[ 2018-03-26 20:28:28,080][cascade_classifier.fit_transform] group_dims=[16]\n",
      "[ 2018-03-26 20:28:28,082][cascade_classifier.fit_transform] group_starts=[0]\n",
      "[ 2018-03-26 20:28:28,082][cascade_classifier.fit_transform] group_ends=[16]\n",
      "[ 2018-03-26 20:28:28,084][cascade_classifier.fit_transform] X_train.shape=(12528, 16),X_test.shape=(5370, 16)\n",
      "[ 2018-03-26 20:28:28,087][cascade_classifier.fit_transform] [layer=0] look_indexs=[0], X_cur_train.shape=(12528, 16), X_cur_test.shape=(5370, 16)\n"
     ]
    },
    {
     "name": "stdout",
     "output_type": "stream",
     "text": [
      "('Test Accuracy of RandomForest = 98.026071 %', 10, 'fois')\n"
     ]
    },
    {
     "name": "stderr",
     "output_type": "stream",
     "text": [
      "[ 2018-03-26 20:28:30,332][kfold_wrapper.log_eval_metrics] Accuracy(layer_0 - estimator_0 - 10_folds.train_0.predict)=98.01%\n",
      "[ 2018-03-26 20:28:32,901][kfold_wrapper.log_eval_metrics] Accuracy(layer_0 - estimator_0 - 10_folds.train_1.predict)=97.53%\n",
      "[ 2018-03-26 20:28:35,191][kfold_wrapper.log_eval_metrics] Accuracy(layer_0 - estimator_0 - 10_folds.train_2.predict)=97.69%\n",
      "[ 2018-03-26 20:28:36,433][kfold_wrapper.log_eval_metrics] Accuracy(layer_0 - estimator_0 - 10_folds.train_3.predict)=97.61%\n",
      "[ 2018-03-26 20:28:38,195][kfold_wrapper.log_eval_metrics] Accuracy(layer_0 - estimator_0 - 10_folds.train_4.predict)=97.92%\n",
      "[ 2018-03-26 20:28:40,627][kfold_wrapper.log_eval_metrics] Accuracy(layer_0 - estimator_0 - 10_folds.train_5.predict)=98.16%\n",
      "[ 2018-03-26 20:28:42,996][kfold_wrapper.log_eval_metrics] Accuracy(layer_0 - estimator_0 - 10_folds.train_6.predict)=97.28%\n",
      "[ 2018-03-26 20:28:45,098][kfold_wrapper.log_eval_metrics] Accuracy(layer_0 - estimator_0 - 10_folds.train_7.predict)=98.32%\n",
      "[ 2018-03-26 20:28:47,537][kfold_wrapper.log_eval_metrics] Accuracy(layer_0 - estimator_0 - 10_folds.train_8.predict)=98.24%\n",
      "[ 2018-03-26 20:28:49,888][kfold_wrapper.log_eval_metrics] Accuracy(layer_0 - estimator_0 - 10_folds.train_9.predict)=97.76%\n",
      "[ 2018-03-26 20:28:50,115][kfold_wrapper.log_eval_metrics] Accuracy(layer_0 - estimator_0 - 10_folds.train_cv.predict)=97.85%\n",
      "[ 2018-03-26 20:28:50,117][kfold_wrapper.log_eval_metrics] Accuracy(layer_0 - estimator_0 - 10_folds.test.predict)=98.04%\n",
      "[ 2018-03-26 20:28:50,119][cascade_classifier.calc_accuracy] Accuracy(layer_0 - train.classifier_average)=97.85%\n",
      "[ 2018-03-26 20:28:50,120][cascade_classifier.calc_accuracy] Accuracy(layer_0 - test.classifier_average)=98.04%\n",
      "[ 2018-03-26 20:28:50,121][cascade_classifier.fit_transform] [Result][Reach Max Layer] opt_layer_num=1, accuracy_train=97.85%, accuracy_test=98.04%\n",
      "[ 2018-03-26 20:28:50,122][cascade_classifier.transform] X_groups_test.shape=[(5370, 16)]\n",
      "[ 2018-03-26 20:28:50,122][cascade_classifier.transform] group_dims=[16]\n",
      "[ 2018-03-26 20:28:50,123][cascade_classifier.transform] X_test.shape=(5370, 16)\n",
      "[ 2018-03-26 20:28:50,124][cascade_classifier.transform] [layer=0] look_indexs=[0], X_cur_test.shape=(5370, 16)\n",
      "[ 2018-03-26 20:28:51,999][cascade_classifier.fit_transform] X_groups_train.shape=[(12528, 16)],y_train.shape=(12528,),X_groups_test.shape=[(5370, 16)],y_test.shape=(5370,)\n",
      "[ 2018-03-26 20:28:52,001][cascade_classifier.fit_transform] group_dims=[16]\n",
      "[ 2018-03-26 20:28:52,001][cascade_classifier.fit_transform] group_starts=[0]\n",
      "[ 2018-03-26 20:28:52,002][cascade_classifier.fit_transform] group_ends=[16]\n",
      "[ 2018-03-26 20:28:52,003][cascade_classifier.fit_transform] X_train.shape=(12528, 16),X_test.shape=(5370, 16)\n",
      "[ 2018-03-26 20:28:52,005][cascade_classifier.fit_transform] [layer=0] look_indexs=[0], X_cur_train.shape=(12528, 16), X_cur_test.shape=(5370, 16)\n"
     ]
    },
    {
     "name": "stdout",
     "output_type": "stream",
     "text": [
      "('Test Accuracy of RandomForest = 98.044693 %', 11, 'fois')\n"
     ]
    },
    {
     "name": "stderr",
     "output_type": "stream",
     "text": [
      "[ 2018-03-26 20:28:54,039][kfold_wrapper.log_eval_metrics] Accuracy(layer_0 - estimator_0 - 10_folds.train_0.predict)=98.01%\n",
      "[ 2018-03-26 20:28:56,286][kfold_wrapper.log_eval_metrics] Accuracy(layer_0 - estimator_0 - 10_folds.train_1.predict)=97.45%\n",
      "[ 2018-03-26 20:28:58,542][kfold_wrapper.log_eval_metrics] Accuracy(layer_0 - estimator_0 - 10_folds.train_2.predict)=97.77%\n",
      "[ 2018-03-26 20:29:01,052][kfold_wrapper.log_eval_metrics] Accuracy(layer_0 - estimator_0 - 10_folds.train_3.predict)=97.61%\n",
      "[ 2018-03-26 20:29:03,195][kfold_wrapper.log_eval_metrics] Accuracy(layer_0 - estimator_0 - 10_folds.train_4.predict)=98.00%\n",
      "[ 2018-03-26 20:29:05,568][kfold_wrapper.log_eval_metrics] Accuracy(layer_0 - estimator_0 - 10_folds.train_5.predict)=97.92%\n",
      "[ 2018-03-26 20:29:08,047][kfold_wrapper.log_eval_metrics] Accuracy(layer_0 - estimator_0 - 10_folds.train_6.predict)=97.20%\n",
      "[ 2018-03-26 20:29:10,496][kfold_wrapper.log_eval_metrics] Accuracy(layer_0 - estimator_0 - 10_folds.train_7.predict)=97.92%\n",
      "[ 2018-03-26 20:29:12,659][kfold_wrapper.log_eval_metrics] Accuracy(layer_0 - estimator_0 - 10_folds.train_8.predict)=98.08%\n",
      "[ 2018-03-26 20:29:14,925][kfold_wrapper.log_eval_metrics] Accuracy(layer_0 - estimator_0 - 10_folds.train_9.predict)=97.76%\n",
      "[ 2018-03-26 20:29:15,159][kfold_wrapper.log_eval_metrics] Accuracy(layer_0 - estimator_0 - 10_folds.train_cv.predict)=97.77%\n",
      "[ 2018-03-26 20:29:15,161][kfold_wrapper.log_eval_metrics] Accuracy(layer_0 - estimator_0 - 10_folds.test.predict)=98.06%\n",
      "[ 2018-03-26 20:29:15,164][cascade_classifier.calc_accuracy] Accuracy(layer_0 - train.classifier_average)=97.77%\n",
      "[ 2018-03-26 20:29:15,167][cascade_classifier.calc_accuracy] Accuracy(layer_0 - test.classifier_average)=98.06%\n",
      "[ 2018-03-26 20:29:15,168][cascade_classifier.fit_transform] [Result][Reach Max Layer] opt_layer_num=1, accuracy_train=97.77%, accuracy_test=98.06%\n",
      "[ 2018-03-26 20:29:15,169][cascade_classifier.transform] X_groups_test.shape=[(5370, 16)]\n",
      "[ 2018-03-26 20:29:15,170][cascade_classifier.transform] group_dims=[16]\n",
      "[ 2018-03-26 20:29:15,171][cascade_classifier.transform] X_test.shape=(5370, 16)\n",
      "[ 2018-03-26 20:29:15,172][cascade_classifier.transform] [layer=0] look_indexs=[0], X_cur_test.shape=(5370, 16)\n",
      "[ 2018-03-26 20:29:17,557][cascade_classifier.fit_transform] X_groups_train.shape=[(12528, 16)],y_train.shape=(12528,),X_groups_test.shape=[(5370, 16)],y_test.shape=(5370,)\n",
      "[ 2018-03-26 20:29:17,560][cascade_classifier.fit_transform] group_dims=[16]\n",
      "[ 2018-03-26 20:29:17,562][cascade_classifier.fit_transform] group_starts=[0]\n",
      "[ 2018-03-26 20:29:17,564][cascade_classifier.fit_transform] group_ends=[16]\n",
      "[ 2018-03-26 20:29:17,565][cascade_classifier.fit_transform] X_train.shape=(12528, 16),X_test.shape=(5370, 16)\n",
      "[ 2018-03-26 20:29:17,566][cascade_classifier.fit_transform] [layer=0] look_indexs=[0], X_cur_train.shape=(12528, 16), X_cur_test.shape=(5370, 16)\n"
     ]
    },
    {
     "name": "stdout",
     "output_type": "stream",
     "text": [
      "('Test Accuracy of RandomForest = 98.063315 %', 12, 'fois')\n"
     ]
    },
    {
     "name": "stderr",
     "output_type": "stream",
     "text": [
      "[ 2018-03-26 20:29:19,799][kfold_wrapper.log_eval_metrics] Accuracy(layer_0 - estimator_0 - 10_folds.train_0.predict)=98.01%\n",
      "[ 2018-03-26 20:29:21,923][kfold_wrapper.log_eval_metrics] Accuracy(layer_0 - estimator_0 - 10_folds.train_1.predict)=97.77%\n",
      "[ 2018-03-26 20:29:24,182][kfold_wrapper.log_eval_metrics] Accuracy(layer_0 - estimator_0 - 10_folds.train_2.predict)=98.33%\n",
      "[ 2018-03-26 20:29:26,453][kfold_wrapper.log_eval_metrics] Accuracy(layer_0 - estimator_0 - 10_folds.train_3.predict)=97.77%\n",
      "[ 2018-03-26 20:29:28,842][kfold_wrapper.log_eval_metrics] Accuracy(layer_0 - estimator_0 - 10_folds.train_4.predict)=97.85%\n",
      "[ 2018-03-26 20:29:31,165][kfold_wrapper.log_eval_metrics] Accuracy(layer_0 - estimator_0 - 10_folds.train_5.predict)=98.00%\n",
      "[ 2018-03-26 20:29:33,267][kfold_wrapper.log_eval_metrics] Accuracy(layer_0 - estimator_0 - 10_folds.train_6.predict)=97.28%\n",
      "[ 2018-03-26 20:29:35,191][kfold_wrapper.log_eval_metrics] Accuracy(layer_0 - estimator_0 - 10_folds.train_7.predict)=98.24%\n",
      "[ 2018-03-26 20:29:36,346][kfold_wrapper.log_eval_metrics] Accuracy(layer_0 - estimator_0 - 10_folds.train_8.predict)=98.08%\n",
      "[ 2018-03-26 20:29:37,478][kfold_wrapper.log_eval_metrics] Accuracy(layer_0 - estimator_0 - 10_folds.train_9.predict)=97.84%\n",
      "[ 2018-03-26 20:29:37,790][kfold_wrapper.log_eval_metrics] Accuracy(layer_0 - estimator_0 - 10_folds.train_cv.predict)=97.92%\n",
      "[ 2018-03-26 20:29:37,792][kfold_wrapper.log_eval_metrics] Accuracy(layer_0 - estimator_0 - 10_folds.test.predict)=98.06%\n",
      "[ 2018-03-26 20:29:37,795][cascade_classifier.calc_accuracy] Accuracy(layer_0 - train.classifier_average)=97.92%\n",
      "[ 2018-03-26 20:29:37,798][cascade_classifier.calc_accuracy] Accuracy(layer_0 - test.classifier_average)=98.06%\n",
      "[ 2018-03-26 20:29:37,799][cascade_classifier.fit_transform] [Result][Reach Max Layer] opt_layer_num=1, accuracy_train=97.92%, accuracy_test=98.06%\n",
      "[ 2018-03-26 20:29:37,800][cascade_classifier.transform] X_groups_test.shape=[(5370, 16)]\n",
      "[ 2018-03-26 20:29:37,801][cascade_classifier.transform] group_dims=[16]\n",
      "[ 2018-03-26 20:29:37,803][cascade_classifier.transform] X_test.shape=(5370, 16)\n",
      "[ 2018-03-26 20:29:37,804][cascade_classifier.transform] [layer=0] look_indexs=[0], X_cur_test.shape=(5370, 16)\n",
      "[ 2018-03-26 20:29:39,971][cascade_classifier.fit_transform] X_groups_train.shape=[(12528, 16)],y_train.shape=(12528,),X_groups_test.shape=[(5370, 16)],y_test.shape=(5370,)\n",
      "[ 2018-03-26 20:29:39,972][cascade_classifier.fit_transform] group_dims=[16]\n",
      "[ 2018-03-26 20:29:39,974][cascade_classifier.fit_transform] group_starts=[0]\n",
      "[ 2018-03-26 20:29:39,976][cascade_classifier.fit_transform] group_ends=[16]\n",
      "[ 2018-03-26 20:29:39,977][cascade_classifier.fit_transform] X_train.shape=(12528, 16),X_test.shape=(5370, 16)\n",
      "[ 2018-03-26 20:29:39,979][cascade_classifier.fit_transform] [layer=0] look_indexs=[0], X_cur_train.shape=(12528, 16), X_cur_test.shape=(5370, 16)\n"
     ]
    },
    {
     "name": "stdout",
     "output_type": "stream",
     "text": [
      "('Test Accuracy of RandomForest = 98.063315 %', 13, 'fois')\n"
     ]
    },
    {
     "name": "stderr",
     "output_type": "stream",
     "text": [
      "[ 2018-03-26 20:29:42,051][kfold_wrapper.log_eval_metrics] Accuracy(layer_0 - estimator_0 - 10_folds.train_0.predict)=97.93%\n",
      "[ 2018-03-26 20:29:44,500][kfold_wrapper.log_eval_metrics] Accuracy(layer_0 - estimator_0 - 10_folds.train_1.predict)=97.53%\n",
      "[ 2018-03-26 20:29:46,558][kfold_wrapper.log_eval_metrics] Accuracy(layer_0 - estimator_0 - 10_folds.train_2.predict)=97.85%\n",
      "[ 2018-03-26 20:29:49,031][kfold_wrapper.log_eval_metrics] Accuracy(layer_0 - estimator_0 - 10_folds.train_3.predict)=97.61%\n",
      "[ 2018-03-26 20:29:51,386][kfold_wrapper.log_eval_metrics] Accuracy(layer_0 - estimator_0 - 10_folds.train_4.predict)=97.85%\n",
      "[ 2018-03-26 20:29:53,716][kfold_wrapper.log_eval_metrics] Accuracy(layer_0 - estimator_0 - 10_folds.train_5.predict)=97.92%\n",
      "[ 2018-03-26 20:29:55,853][kfold_wrapper.log_eval_metrics] Accuracy(layer_0 - estimator_0 - 10_folds.train_6.predict)=97.04%\n",
      "[ 2018-03-26 20:29:58,182][kfold_wrapper.log_eval_metrics] Accuracy(layer_0 - estimator_0 - 10_folds.train_7.predict)=98.24%\n",
      "[ 2018-03-26 20:30:00,537][kfold_wrapper.log_eval_metrics] Accuracy(layer_0 - estimator_0 - 10_folds.train_8.predict)=98.08%\n",
      "[ 2018-03-26 20:30:02,837][kfold_wrapper.log_eval_metrics] Accuracy(layer_0 - estimator_0 - 10_folds.train_9.predict)=97.92%\n",
      "[ 2018-03-26 20:30:03,037][kfold_wrapper.log_eval_metrics] Accuracy(layer_0 - estimator_0 - 10_folds.train_cv.predict)=97.80%\n",
      "[ 2018-03-26 20:30:03,039][kfold_wrapper.log_eval_metrics] Accuracy(layer_0 - estimator_0 - 10_folds.test.predict)=98.01%\n",
      "[ 2018-03-26 20:30:03,042][cascade_classifier.calc_accuracy] Accuracy(layer_0 - train.classifier_average)=97.80%\n",
      "[ 2018-03-26 20:30:03,045][cascade_classifier.calc_accuracy] Accuracy(layer_0 - test.classifier_average)=98.01%\n",
      "[ 2018-03-26 20:30:03,046][cascade_classifier.fit_transform] [Result][Reach Max Layer] opt_layer_num=1, accuracy_train=97.80%, accuracy_test=98.01%\n",
      "[ 2018-03-26 20:30:03,047][cascade_classifier.transform] X_groups_test.shape=[(5370, 16)]\n",
      "[ 2018-03-26 20:30:03,048][cascade_classifier.transform] group_dims=[16]\n",
      "[ 2018-03-26 20:30:03,049][cascade_classifier.transform] X_test.shape=(5370, 16)\n",
      "[ 2018-03-26 20:30:03,050][cascade_classifier.transform] [layer=0] look_indexs=[0], X_cur_test.shape=(5370, 16)\n",
      "[ 2018-03-26 20:30:05,316][cascade_classifier.fit_transform] X_groups_train.shape=[(12528, 16)],y_train.shape=(12528,),X_groups_test.shape=[(5370, 16)],y_test.shape=(5370,)\n",
      "[ 2018-03-26 20:30:05,317][cascade_classifier.fit_transform] group_dims=[16]\n",
      "[ 2018-03-26 20:30:05,319][cascade_classifier.fit_transform] group_starts=[0]\n",
      "[ 2018-03-26 20:30:05,320][cascade_classifier.fit_transform] group_ends=[16]\n",
      "[ 2018-03-26 20:30:05,322][cascade_classifier.fit_transform] X_train.shape=(12528, 16),X_test.shape=(5370, 16)\n",
      "[ 2018-03-26 20:30:05,325][cascade_classifier.fit_transform] [layer=0] look_indexs=[0], X_cur_train.shape=(12528, 16), X_cur_test.shape=(5370, 16)\n"
     ]
    },
    {
     "name": "stdout",
     "output_type": "stream",
     "text": [
      "('Test Accuracy of RandomForest = 98.007449 %', 14, 'fois')\n"
     ]
    },
    {
     "name": "stderr",
     "output_type": "stream",
     "text": [
      "[ 2018-03-26 20:30:07,630][kfold_wrapper.log_eval_metrics] Accuracy(layer_0 - estimator_0 - 10_folds.train_0.predict)=98.09%\n",
      "[ 2018-03-26 20:30:09,938][kfold_wrapper.log_eval_metrics] Accuracy(layer_0 - estimator_0 - 10_folds.train_1.predict)=97.45%\n",
      "[ 2018-03-26 20:30:12,250][kfold_wrapper.log_eval_metrics] Accuracy(layer_0 - estimator_0 - 10_folds.train_2.predict)=98.01%\n",
      "[ 2018-03-26 20:30:14,374][kfold_wrapper.log_eval_metrics] Accuracy(layer_0 - estimator_0 - 10_folds.train_3.predict)=97.69%\n",
      "[ 2018-03-26 20:30:16,724][kfold_wrapper.log_eval_metrics] Accuracy(layer_0 - estimator_0 - 10_folds.train_4.predict)=97.77%\n",
      "[ 2018-03-26 20:30:19,068][kfold_wrapper.log_eval_metrics] Accuracy(layer_0 - estimator_0 - 10_folds.train_5.predict)=98.00%\n",
      "[ 2018-03-26 20:30:21,576][kfold_wrapper.log_eval_metrics] Accuracy(layer_0 - estimator_0 - 10_folds.train_6.predict)=97.36%\n",
      "[ 2018-03-26 20:30:23,816][kfold_wrapper.log_eval_metrics] Accuracy(layer_0 - estimator_0 - 10_folds.train_7.predict)=98.16%\n",
      "[ 2018-03-26 20:30:25,767][kfold_wrapper.log_eval_metrics] Accuracy(layer_0 - estimator_0 - 10_folds.train_8.predict)=98.32%\n",
      "[ 2018-03-26 20:30:28,595][kfold_wrapper.log_eval_metrics] Accuracy(layer_0 - estimator_0 - 10_folds.train_9.predict)=98.00%\n",
      "[ 2018-03-26 20:30:28,907][kfold_wrapper.log_eval_metrics] Accuracy(layer_0 - estimator_0 - 10_folds.train_cv.predict)=97.88%\n",
      "[ 2018-03-26 20:30:28,910][kfold_wrapper.log_eval_metrics] Accuracy(layer_0 - estimator_0 - 10_folds.test.predict)=98.12%\n",
      "[ 2018-03-26 20:30:28,912][cascade_classifier.calc_accuracy] Accuracy(layer_0 - train.classifier_average)=97.88%\n",
      "[ 2018-03-26 20:30:28,916][cascade_classifier.calc_accuracy] Accuracy(layer_0 - test.classifier_average)=98.12%\n",
      "[ 2018-03-26 20:30:28,916][cascade_classifier.fit_transform] [Result][Reach Max Layer] opt_layer_num=1, accuracy_train=97.88%, accuracy_test=98.12%\n",
      "[ 2018-03-26 20:30:28,917][cascade_classifier.transform] X_groups_test.shape=[(5370, 16)]\n",
      "[ 2018-03-26 20:30:28,918][cascade_classifier.transform] group_dims=[16]\n",
      "[ 2018-03-26 20:30:28,919][cascade_classifier.transform] X_test.shape=(5370, 16)\n",
      "[ 2018-03-26 20:30:28,920][cascade_classifier.transform] [layer=0] look_indexs=[0], X_cur_test.shape=(5370, 16)\n",
      "[ 2018-03-26 20:30:32,129][cascade_classifier.fit_transform] X_groups_train.shape=[(12528, 16)],y_train.shape=(12528,),X_groups_test.shape=[(5370, 16)],y_test.shape=(5370,)\n",
      "[ 2018-03-26 20:30:32,131][cascade_classifier.fit_transform] group_dims=[16]\n",
      "[ 2018-03-26 20:30:32,132][cascade_classifier.fit_transform] group_starts=[0]\n",
      "[ 2018-03-26 20:30:32,133][cascade_classifier.fit_transform] group_ends=[16]\n",
      "[ 2018-03-26 20:30:32,133][cascade_classifier.fit_transform] X_train.shape=(12528, 16),X_test.shape=(5370, 16)\n",
      "[ 2018-03-26 20:30:32,164][cascade_classifier.fit_transform] [layer=0] look_indexs=[0], X_cur_train.shape=(12528, 16), X_cur_test.shape=(5370, 16)\n"
     ]
    },
    {
     "name": "stdout",
     "output_type": "stream",
     "text": [
      "('Test Accuracy of RandomForest = 98.119181 %', 15, 'fois')\n"
     ]
    },
    {
     "name": "stderr",
     "output_type": "stream",
     "text": [
      "[ 2018-03-26 20:30:36,894][kfold_wrapper.log_eval_metrics] Accuracy(layer_0 - estimator_0 - 10_folds.train_0.predict)=97.85%\n",
      "[ 2018-03-26 20:30:46,646][kfold_wrapper.log_eval_metrics] Accuracy(layer_0 - estimator_0 - 10_folds.train_1.predict)=97.61%\n",
      "[ 2018-03-26 20:30:56,557][kfold_wrapper.log_eval_metrics] Accuracy(layer_0 - estimator_0 - 10_folds.train_2.predict)=97.77%\n",
      "[ 2018-03-26 20:31:05,163][kfold_wrapper.log_eval_metrics] Accuracy(layer_0 - estimator_0 - 10_folds.train_3.predict)=97.69%\n",
      "[ 2018-03-26 20:31:13,467][kfold_wrapper.log_eval_metrics] Accuracy(layer_0 - estimator_0 - 10_folds.train_4.predict)=97.69%\n",
      "[ 2018-03-26 20:31:23,058][kfold_wrapper.log_eval_metrics] Accuracy(layer_0 - estimator_0 - 10_folds.train_5.predict)=98.00%\n",
      "[ 2018-03-26 20:31:33,075][kfold_wrapper.log_eval_metrics] Accuracy(layer_0 - estimator_0 - 10_folds.train_6.predict)=97.36%\n",
      "[ 2018-03-26 20:31:43,722][kfold_wrapper.log_eval_metrics] Accuracy(layer_0 - estimator_0 - 10_folds.train_7.predict)=98.24%\n",
      "[ 2018-03-26 20:31:54,417][kfold_wrapper.log_eval_metrics] Accuracy(layer_0 - estimator_0 - 10_folds.train_8.predict)=98.16%\n",
      "[ 2018-03-26 20:32:04,794][kfold_wrapper.log_eval_metrics] Accuracy(layer_0 - estimator_0 - 10_folds.train_9.predict)=98.00%\n",
      "[ 2018-03-26 20:32:05,319][kfold_wrapper.log_eval_metrics] Accuracy(layer_0 - estimator_0 - 10_folds.train_cv.predict)=97.84%\n",
      "[ 2018-03-26 20:32:05,336][kfold_wrapper.log_eval_metrics] Accuracy(layer_0 - estimator_0 - 10_folds.test.predict)=98.08%\n",
      "[ 2018-03-26 20:32:05,362][cascade_classifier.calc_accuracy] Accuracy(layer_0 - train.classifier_average)=97.84%\n",
      "[ 2018-03-26 20:32:05,384][cascade_classifier.calc_accuracy] Accuracy(layer_0 - test.classifier_average)=98.08%\n",
      "[ 2018-03-26 20:32:05,385][cascade_classifier.fit_transform] [Result][Reach Max Layer] opt_layer_num=1, accuracy_train=97.84%, accuracy_test=98.08%\n",
      "[ 2018-03-26 20:32:05,386][cascade_classifier.transform] X_groups_test.shape=[(5370, 16)]\n",
      "[ 2018-03-26 20:32:05,387][cascade_classifier.transform] group_dims=[16]\n",
      "[ 2018-03-26 20:32:05,387][cascade_classifier.transform] X_test.shape=(5370, 16)\n",
      "[ 2018-03-26 20:32:05,436][cascade_classifier.transform] [layer=0] look_indexs=[0], X_cur_test.shape=(5370, 16)\n",
      "[ 2018-03-26 20:32:11,564][cascade_classifier.fit_transform] X_groups_train.shape=[(12528, 16)],y_train.shape=(12528,),X_groups_test.shape=[(5370, 16)],y_test.shape=(5370,)\n",
      "[ 2018-03-26 20:32:11,580][cascade_classifier.fit_transform] group_dims=[16]\n",
      "[ 2018-03-26 20:32:11,602][cascade_classifier.fit_transform] group_starts=[0]\n",
      "[ 2018-03-26 20:32:11,603][cascade_classifier.fit_transform] group_ends=[16]\n",
      "[ 2018-03-26 20:32:11,603][cascade_classifier.fit_transform] X_train.shape=(12528, 16),X_test.shape=(5370, 16)\n",
      "[ 2018-03-26 20:32:11,605][cascade_classifier.fit_transform] [layer=0] look_indexs=[0], X_cur_train.shape=(12528, 16), X_cur_test.shape=(5370, 16)\n"
     ]
    },
    {
     "name": "stdout",
     "output_type": "stream",
     "text": [
      "('Test Accuracy of RandomForest = 98.063315 %', 16, 'fois')\n"
     ]
    },
    {
     "name": "stderr",
     "output_type": "stream",
     "text": [
      "[ 2018-03-26 20:32:20,933][kfold_wrapper.log_eval_metrics] Accuracy(layer_0 - estimator_0 - 10_folds.train_0.predict)=98.09%\n",
      "[ 2018-03-26 20:32:31,503][kfold_wrapper.log_eval_metrics] Accuracy(layer_0 - estimator_0 - 10_folds.train_1.predict)=97.53%\n",
      "[ 2018-03-26 20:32:42,269][kfold_wrapper.log_eval_metrics] Accuracy(layer_0 - estimator_0 - 10_folds.train_2.predict)=97.77%\n",
      "[ 2018-03-26 20:32:53,191][kfold_wrapper.log_eval_metrics] Accuracy(layer_0 - estimator_0 - 10_folds.train_3.predict)=97.77%\n",
      "[ 2018-03-26 20:33:04,001][kfold_wrapper.log_eval_metrics] Accuracy(layer_0 - estimator_0 - 10_folds.train_4.predict)=97.69%\n",
      "[ 2018-03-26 20:33:14,351][kfold_wrapper.log_eval_metrics] Accuracy(layer_0 - estimator_0 - 10_folds.train_5.predict)=98.16%\n",
      "[ 2018-03-26 20:33:25,685][kfold_wrapper.log_eval_metrics] Accuracy(layer_0 - estimator_0 - 10_folds.train_6.predict)=97.44%\n",
      "[ 2018-03-26 20:33:37,020][kfold_wrapper.log_eval_metrics] Accuracy(layer_0 - estimator_0 - 10_folds.train_7.predict)=98.08%\n",
      "[ 2018-03-26 20:33:48,096][kfold_wrapper.log_eval_metrics] Accuracy(layer_0 - estimator_0 - 10_folds.train_8.predict)=98.08%\n",
      "[ 2018-03-26 20:33:58,886][kfold_wrapper.log_eval_metrics] Accuracy(layer_0 - estimator_0 - 10_folds.train_9.predict)=98.16%\n",
      "[ 2018-03-26 20:33:59,334][kfold_wrapper.log_eval_metrics] Accuracy(layer_0 - estimator_0 - 10_folds.train_cv.predict)=97.88%\n",
      "[ 2018-03-26 20:33:59,337][kfold_wrapper.log_eval_metrics] Accuracy(layer_0 - estimator_0 - 10_folds.test.predict)=98.04%\n",
      "[ 2018-03-26 20:33:59,380][cascade_classifier.calc_accuracy] Accuracy(layer_0 - train.classifier_average)=97.88%\n",
      "[ 2018-03-26 20:33:59,428][cascade_classifier.calc_accuracy] Accuracy(layer_0 - test.classifier_average)=98.04%\n",
      "[ 2018-03-26 20:33:59,431][cascade_classifier.fit_transform] [Result][Reach Max Layer] opt_layer_num=1, accuracy_train=97.88%, accuracy_test=98.04%\n",
      "[ 2018-03-26 20:33:59,452][cascade_classifier.transform] X_groups_test.shape=[(5370, 16)]\n",
      "[ 2018-03-26 20:33:59,453][cascade_classifier.transform] group_dims=[16]\n",
      "[ 2018-03-26 20:33:59,454][cascade_classifier.transform] X_test.shape=(5370, 16)\n",
      "[ 2018-03-26 20:33:59,455][cascade_classifier.transform] [layer=0] look_indexs=[0], X_cur_test.shape=(5370, 16)\n",
      "[ 2018-03-26 20:34:05,479][cascade_classifier.fit_transform] X_groups_train.shape=[(12528, 16)],y_train.shape=(12528,),X_groups_test.shape=[(5370, 16)],y_test.shape=(5370,)\n",
      "[ 2018-03-26 20:34:05,501][cascade_classifier.fit_transform] group_dims=[16]\n",
      "[ 2018-03-26 20:34:05,502][cascade_classifier.fit_transform] group_starts=[0]\n",
      "[ 2018-03-26 20:34:05,502][cascade_classifier.fit_transform] group_ends=[16]\n",
      "[ 2018-03-26 20:34:05,503][cascade_classifier.fit_transform] X_train.shape=(12528, 16),X_test.shape=(5370, 16)\n",
      "[ 2018-03-26 20:34:05,504][cascade_classifier.fit_transform] [layer=0] look_indexs=[0], X_cur_train.shape=(12528, 16), X_cur_test.shape=(5370, 16)\n"
     ]
    },
    {
     "name": "stdout",
     "output_type": "stream",
     "text": [
      "('Test Accuracy of RandomForest = 98.044693 %', 17, 'fois')\n"
     ]
    },
    {
     "name": "stderr",
     "output_type": "stream",
     "text": [
      "[ 2018-03-26 20:34:15,218][kfold_wrapper.log_eval_metrics] Accuracy(layer_0 - estimator_0 - 10_folds.train_0.predict)=98.01%\n",
      "[ 2018-03-26 20:34:24,371][kfold_wrapper.log_eval_metrics] Accuracy(layer_0 - estimator_0 - 10_folds.train_1.predict)=97.45%\n",
      "[ 2018-03-26 20:34:34,468][kfold_wrapper.log_eval_metrics] Accuracy(layer_0 - estimator_0 - 10_folds.train_2.predict)=97.77%\n",
      "[ 2018-03-26 20:34:44,309][kfold_wrapper.log_eval_metrics] Accuracy(layer_0 - estimator_0 - 10_folds.train_3.predict)=97.61%\n",
      "[ 2018-03-26 20:34:55,921][kfold_wrapper.log_eval_metrics] Accuracy(layer_0 - estimator_0 - 10_folds.train_4.predict)=97.61%\n",
      "[ 2018-03-26 20:35:06,823][kfold_wrapper.log_eval_metrics] Accuracy(layer_0 - estimator_0 - 10_folds.train_5.predict)=97.92%\n",
      "[ 2018-03-26 20:35:17,915][kfold_wrapper.log_eval_metrics] Accuracy(layer_0 - estimator_0 - 10_folds.train_6.predict)=97.12%\n",
      "[ 2018-03-26 20:35:28,345][kfold_wrapper.log_eval_metrics] Accuracy(layer_0 - estimator_0 - 10_folds.train_7.predict)=98.08%\n",
      "[ 2018-03-26 20:35:38,586][kfold_wrapper.log_eval_metrics] Accuracy(layer_0 - estimator_0 - 10_folds.train_8.predict)=98.16%\n",
      "[ 2018-03-26 20:35:49,738][kfold_wrapper.log_eval_metrics] Accuracy(layer_0 - estimator_0 - 10_folds.train_9.predict)=98.08%\n",
      "[ 2018-03-26 20:35:50,264][kfold_wrapper.log_eval_metrics] Accuracy(layer_0 - estimator_0 - 10_folds.train_cv.predict)=97.78%\n",
      "[ 2018-03-26 20:35:50,265][kfold_wrapper.log_eval_metrics] Accuracy(layer_0 - estimator_0 - 10_folds.test.predict)=98.08%\n",
      "[ 2018-03-26 20:35:50,267][cascade_classifier.calc_accuracy] Accuracy(layer_0 - train.classifier_average)=97.78%\n",
      "[ 2018-03-26 20:35:50,313][cascade_classifier.calc_accuracy] Accuracy(layer_0 - test.classifier_average)=98.08%\n",
      "[ 2018-03-26 20:35:50,314][cascade_classifier.fit_transform] [Result][Reach Max Layer] opt_layer_num=1, accuracy_train=97.78%, accuracy_test=98.08%\n",
      "[ 2018-03-26 20:35:50,314][cascade_classifier.transform] X_groups_test.shape=[(5370, 16)]\n",
      "[ 2018-03-26 20:35:50,337][cascade_classifier.transform] group_dims=[16]\n",
      "[ 2018-03-26 20:35:50,338][cascade_classifier.transform] X_test.shape=(5370, 16)\n",
      "[ 2018-03-26 20:35:50,339][cascade_classifier.transform] [layer=0] look_indexs=[0], X_cur_test.shape=(5370, 16)\n",
      "[ 2018-03-26 20:35:56,250][cascade_classifier.fit_transform] X_groups_train.shape=[(12528, 16)],y_train.shape=(12528,),X_groups_test.shape=[(5370, 16)],y_test.shape=(5370,)\n",
      "[ 2018-03-26 20:35:56,273][cascade_classifier.fit_transform] group_dims=[16]\n",
      "[ 2018-03-26 20:35:56,297][cascade_classifier.fit_transform] group_starts=[0]\n",
      "[ 2018-03-26 20:35:56,298][cascade_classifier.fit_transform] group_ends=[16]\n",
      "[ 2018-03-26 20:35:56,299][cascade_classifier.fit_transform] X_train.shape=(12528, 16),X_test.shape=(5370, 16)\n",
      "[ 2018-03-26 20:35:56,300][cascade_classifier.fit_transform] [layer=0] look_indexs=[0], X_cur_train.shape=(12528, 16), X_cur_test.shape=(5370, 16)\n"
     ]
    },
    {
     "name": "stdout",
     "output_type": "stream",
     "text": [
      "('Test Accuracy of RandomForest = 98.081937 %', 18, 'fois')\n"
     ]
    },
    {
     "name": "stderr",
     "output_type": "stream",
     "text": [
      "[ 2018-03-26 20:36:06,543][kfold_wrapper.log_eval_metrics] Accuracy(layer_0 - estimator_0 - 10_folds.train_0.predict)=98.01%\n",
      "[ 2018-03-26 20:36:17,200][kfold_wrapper.log_eval_metrics] Accuracy(layer_0 - estimator_0 - 10_folds.train_1.predict)=97.61%\n",
      "[ 2018-03-26 20:36:26,751][kfold_wrapper.log_eval_metrics] Accuracy(layer_0 - estimator_0 - 10_folds.train_2.predict)=98.09%\n",
      "[ 2018-03-26 20:36:37,143][kfold_wrapper.log_eval_metrics] Accuracy(layer_0 - estimator_0 - 10_folds.train_3.predict)=97.92%\n",
      "[ 2018-03-26 20:36:48,310][kfold_wrapper.log_eval_metrics] Accuracy(layer_0 - estimator_0 - 10_folds.train_4.predict)=97.45%\n",
      "[ 2018-03-26 20:36:59,556][kfold_wrapper.log_eval_metrics] Accuracy(layer_0 - estimator_0 - 10_folds.train_5.predict)=98.16%\n",
      "[ 2018-03-26 20:37:10,894][kfold_wrapper.log_eval_metrics] Accuracy(layer_0 - estimator_0 - 10_folds.train_6.predict)=97.44%\n",
      "[ 2018-03-26 20:37:20,495][kfold_wrapper.log_eval_metrics] Accuracy(layer_0 - estimator_0 - 10_folds.train_7.predict)=98.08%\n",
      "[ 2018-03-26 20:37:29,968][kfold_wrapper.log_eval_metrics] Accuracy(layer_0 - estimator_0 - 10_folds.train_8.predict)=98.40%\n",
      "[ 2018-03-26 20:37:41,393][kfold_wrapper.log_eval_metrics] Accuracy(layer_0 - estimator_0 - 10_folds.train_9.predict)=98.00%\n",
      "[ 2018-03-26 20:37:42,053][kfold_wrapper.log_eval_metrics] Accuracy(layer_0 - estimator_0 - 10_folds.train_cv.predict)=97.92%\n",
      "[ 2018-03-26 20:37:42,056][kfold_wrapper.log_eval_metrics] Accuracy(layer_0 - estimator_0 - 10_folds.test.predict)=98.18%\n",
      "[ 2018-03-26 20:37:42,099][cascade_classifier.calc_accuracy] Accuracy(layer_0 - train.classifier_average)=97.92%\n",
      "[ 2018-03-26 20:37:42,146][cascade_classifier.calc_accuracy] Accuracy(layer_0 - test.classifier_average)=98.18%\n",
      "[ 2018-03-26 20:37:42,148][cascade_classifier.fit_transform] [Result][Reach Max Layer] opt_layer_num=1, accuracy_train=97.92%, accuracy_test=98.18%\n",
      "[ 2018-03-26 20:37:42,167][cascade_classifier.transform] X_groups_test.shape=[(5370, 16)]\n",
      "[ 2018-03-26 20:37:42,168][cascade_classifier.transform] group_dims=[16]\n",
      "[ 2018-03-26 20:37:42,168][cascade_classifier.transform] X_test.shape=(5370, 16)\n",
      "[ 2018-03-26 20:37:42,169][cascade_classifier.transform] [layer=0] look_indexs=[0], X_cur_test.shape=(5370, 16)\n"
     ]
    },
    {
     "name": "stdout",
     "output_type": "stream",
     "text": [
      "('Test Accuracy of RandomForest = 98.156425 %', 19, 'fois')\n"
     ]
    }
   ],
   "source": [
    "# Deep\n",
    "for i in range (20):\n",
    "    X_train,X_test=update(X_train,X_test)\n",
    "    X_test_enc, X_train_enc=newdata(X_test_enc, X_train_enc)\n",
    "\n",
    "    X_train=X_train_enc\n",
    "    X_test=X_test_enc \n",
    "    X_train_enc, X_test_enc = gc.fit_transform(X_train, y_train, X_test=X_test, y_test=y_test)\n",
    "    affiche()"
   ]
  },
  {
   "cell_type": "code",
   "execution_count": null,
   "metadata": {
    "collapsed": true
   },
   "outputs": [],
   "source": []
  },
  {
   "cell_type": "markdown",
   "metadata": {
    "collapsed": true
   },
   "source": [
    "# ('Test Accuracy of RandomForest = 98.156425 %', 19, 'fois')"
   ]
  },
  {
   "cell_type": "code",
   "execution_count": null,
   "metadata": {
    "collapsed": true
   },
   "outputs": [],
   "source": []
  }
 ],
 "metadata": {
  "kernelspec": {
   "display_name": "Python 2",
   "language": "python",
   "name": "python2"
  },
  "language_info": {
   "codemirror_mode": {
    "name": "ipython",
    "version": 2
   },
   "file_extension": ".py",
   "mimetype": "text/x-python",
   "name": "python",
   "nbconvert_exporter": "python",
   "pygments_lexer": "ipython2",
   "version": "2.7.13"
  }
 },
 "nbformat": 4,
 "nbformat_minor": 2
}

{
 "cells": [
  {
   "cell_type": "code",
   "execution_count": 1,
   "metadata": {
    "collapsed": true
   },
   "outputs": [],
   "source": [
    "# imports \n",
    "import numpy as np\n",
    "import pandas as pd\n",
    "from math import sqrt \n",
    "from pprint import pprint\n",
    "from numpy import array"
   ]
  },
  {
   "cell_type": "code",
   "execution_count": 2,
   "metadata": {
    "collapsed": true
   },
   "outputs": [],
   "source": [
    "# load data\n",
    "import constants\n",
    "df = pd.read_csv(\"kddcup.data_10_percent.gz\", names = constants.names)"
   ]
  },
  {
   "cell_type": "code",
   "execution_count": 3,
   "metadata": {},
   "outputs": [
    {
     "data": {
      "text/plain": [
       "(494021, 42)"
      ]
     },
     "execution_count": 3,
     "metadata": {},
     "output_type": "execute_result"
    }
   ],
   "source": [
    "# Categorical features to numeric labels\n",
    "\n",
    "from sklearn import preprocessing\n",
    "le_dicts = {}\n",
    "\n",
    "for categorical_name in constants.categorical_names:\n",
    "    le = preprocessing.LabelEncoder()\n",
    "    le.fit(df[categorical_name])\n",
    "    le_dicts[categorical_name] = dict(zip(le.transform(le.classes_), le.classes_))\n",
    "    df[categorical_name + '_num'] = le.fit_transform(df[categorical_name])\n",
    "\n",
    "df['cible'] = df.label.apply(lambda label: 1 if label == 'normal.' else 0)\n",
    "df['label_four'] = df.label.apply(lambda label: constants.label_to_four_attack_class[label])\n",
    "df['label_four_num'] = df.label_four.apply(lambda label: constants.five_classes_to_num[label])\n",
    "df.drop(constants.categorical_names + ['label','label_four_num','label_four'], axis=1, inplace=True)\n",
    "df.shape"
   ]
  },
  {
   "cell_type": "code",
   "execution_count": 4,
   "metadata": {},
   "outputs": [
    {
     "data": {
      "text/html": [
       "<div>\n",
       "<style>\n",
       "    .dataframe thead tr:only-child th {\n",
       "        text-align: right;\n",
       "    }\n",
       "\n",
       "    .dataframe thead th {\n",
       "        text-align: left;\n",
       "    }\n",
       "\n",
       "    .dataframe tbody tr th {\n",
       "        vertical-align: top;\n",
       "    }\n",
       "</style>\n",
       "<table border=\"1\" class=\"dataframe\">\n",
       "  <thead>\n",
       "    <tr style=\"text-align: right;\">\n",
       "      <th></th>\n",
       "      <th>duration</th>\n",
       "      <th>src_bytes</th>\n",
       "      <th>dst_bytes</th>\n",
       "      <th>land</th>\n",
       "      <th>wrong_fragment</th>\n",
       "      <th>urgent</th>\n",
       "      <th>hot</th>\n",
       "      <th>num_failed_logins</th>\n",
       "      <th>logged_in</th>\n",
       "      <th>num_compromised</th>\n",
       "      <th>...</th>\n",
       "      <th>dst_host_same_src_port_rate</th>\n",
       "      <th>dst_host_srv_diff_host_rate</th>\n",
       "      <th>dst_host_serror_rate</th>\n",
       "      <th>dst_host_srv_serror_rate</th>\n",
       "      <th>dst_host_rerror_rate</th>\n",
       "      <th>dst_host_srv_rerror_rate</th>\n",
       "      <th>protocol_type_num</th>\n",
       "      <th>service_num</th>\n",
       "      <th>flag_num</th>\n",
       "      <th>cible</th>\n",
       "    </tr>\n",
       "  </thead>\n",
       "  <tbody>\n",
       "    <tr>\n",
       "      <th>0</th>\n",
       "      <td>0</td>\n",
       "      <td>181</td>\n",
       "      <td>5450</td>\n",
       "      <td>0</td>\n",
       "      <td>0</td>\n",
       "      <td>0</td>\n",
       "      <td>0</td>\n",
       "      <td>0</td>\n",
       "      <td>1</td>\n",
       "      <td>0</td>\n",
       "      <td>...</td>\n",
       "      <td>0.11</td>\n",
       "      <td>0.0</td>\n",
       "      <td>0.0</td>\n",
       "      <td>0.0</td>\n",
       "      <td>0.0</td>\n",
       "      <td>0.0</td>\n",
       "      <td>1</td>\n",
       "      <td>22</td>\n",
       "      <td>9</td>\n",
       "      <td>1</td>\n",
       "    </tr>\n",
       "    <tr>\n",
       "      <th>1</th>\n",
       "      <td>0</td>\n",
       "      <td>239</td>\n",
       "      <td>486</td>\n",
       "      <td>0</td>\n",
       "      <td>0</td>\n",
       "      <td>0</td>\n",
       "      <td>0</td>\n",
       "      <td>0</td>\n",
       "      <td>1</td>\n",
       "      <td>0</td>\n",
       "      <td>...</td>\n",
       "      <td>0.05</td>\n",
       "      <td>0.0</td>\n",
       "      <td>0.0</td>\n",
       "      <td>0.0</td>\n",
       "      <td>0.0</td>\n",
       "      <td>0.0</td>\n",
       "      <td>1</td>\n",
       "      <td>22</td>\n",
       "      <td>9</td>\n",
       "      <td>1</td>\n",
       "    </tr>\n",
       "    <tr>\n",
       "      <th>2</th>\n",
       "      <td>0</td>\n",
       "      <td>235</td>\n",
       "      <td>1337</td>\n",
       "      <td>0</td>\n",
       "      <td>0</td>\n",
       "      <td>0</td>\n",
       "      <td>0</td>\n",
       "      <td>0</td>\n",
       "      <td>1</td>\n",
       "      <td>0</td>\n",
       "      <td>...</td>\n",
       "      <td>0.03</td>\n",
       "      <td>0.0</td>\n",
       "      <td>0.0</td>\n",
       "      <td>0.0</td>\n",
       "      <td>0.0</td>\n",
       "      <td>0.0</td>\n",
       "      <td>1</td>\n",
       "      <td>22</td>\n",
       "      <td>9</td>\n",
       "      <td>1</td>\n",
       "    </tr>\n",
       "    <tr>\n",
       "      <th>3</th>\n",
       "      <td>0</td>\n",
       "      <td>219</td>\n",
       "      <td>1337</td>\n",
       "      <td>0</td>\n",
       "      <td>0</td>\n",
       "      <td>0</td>\n",
       "      <td>0</td>\n",
       "      <td>0</td>\n",
       "      <td>1</td>\n",
       "      <td>0</td>\n",
       "      <td>...</td>\n",
       "      <td>0.03</td>\n",
       "      <td>0.0</td>\n",
       "      <td>0.0</td>\n",
       "      <td>0.0</td>\n",
       "      <td>0.0</td>\n",
       "      <td>0.0</td>\n",
       "      <td>1</td>\n",
       "      <td>22</td>\n",
       "      <td>9</td>\n",
       "      <td>1</td>\n",
       "    </tr>\n",
       "    <tr>\n",
       "      <th>4</th>\n",
       "      <td>0</td>\n",
       "      <td>217</td>\n",
       "      <td>2032</td>\n",
       "      <td>0</td>\n",
       "      <td>0</td>\n",
       "      <td>0</td>\n",
       "      <td>0</td>\n",
       "      <td>0</td>\n",
       "      <td>1</td>\n",
       "      <td>0</td>\n",
       "      <td>...</td>\n",
       "      <td>0.02</td>\n",
       "      <td>0.0</td>\n",
       "      <td>0.0</td>\n",
       "      <td>0.0</td>\n",
       "      <td>0.0</td>\n",
       "      <td>0.0</td>\n",
       "      <td>1</td>\n",
       "      <td>22</td>\n",
       "      <td>9</td>\n",
       "      <td>1</td>\n",
       "    </tr>\n",
       "  </tbody>\n",
       "</table>\n",
       "<p>5 rows × 42 columns</p>\n",
       "</div>"
      ],
      "text/plain": [
       "   duration  src_bytes  dst_bytes  land  wrong_fragment  urgent  hot  \\\n",
       "0         0        181       5450     0               0       0    0   \n",
       "1         0        239        486     0               0       0    0   \n",
       "2         0        235       1337     0               0       0    0   \n",
       "3         0        219       1337     0               0       0    0   \n",
       "4         0        217       2032     0               0       0    0   \n",
       "\n",
       "   num_failed_logins  logged_in  num_compromised  ...    \\\n",
       "0                  0          1                0  ...     \n",
       "1                  0          1                0  ...     \n",
       "2                  0          1                0  ...     \n",
       "3                  0          1                0  ...     \n",
       "4                  0          1                0  ...     \n",
       "\n",
       "   dst_host_same_src_port_rate  dst_host_srv_diff_host_rate  \\\n",
       "0                         0.11                          0.0   \n",
       "1                         0.05                          0.0   \n",
       "2                         0.03                          0.0   \n",
       "3                         0.03                          0.0   \n",
       "4                         0.02                          0.0   \n",
       "\n",
       "   dst_host_serror_rate  dst_host_srv_serror_rate  dst_host_rerror_rate  \\\n",
       "0                   0.0                       0.0                   0.0   \n",
       "1                   0.0                       0.0                   0.0   \n",
       "2                   0.0                       0.0                   0.0   \n",
       "3                   0.0                       0.0                   0.0   \n",
       "4                   0.0                       0.0                   0.0   \n",
       "\n",
       "   dst_host_srv_rerror_rate  protocol_type_num  service_num  flag_num  cible  \n",
       "0                       0.0                  1           22         9      1  \n",
       "1                       0.0                  1           22         9      1  \n",
       "2                       0.0                  1           22         9      1  \n",
       "3                       0.0                  1           22         9      1  \n",
       "4                       0.0                  1           22         9      1  \n",
       "\n",
       "[5 rows x 42 columns]"
      ]
     },
     "execution_count": 4,
     "metadata": {},
     "output_type": "execute_result"
    }
   ],
   "source": [
    "# first 5\n",
    "df.head()"
   ]
  },
  {
   "cell_type": "code",
   "execution_count": 5,
   "metadata": {
    "collapsed": true
   },
   "outputs": [],
   "source": [
    "# data to values\n",
    "df = df.values"
   ]
  },
  {
   "cell_type": "code",
   "execution_count": 6,
   "metadata": {
    "collapsed": true
   },
   "outputs": [],
   "source": [
    "#  Deep RandomForest\n",
    "import argparse\n",
    "import sys\n",
    "import pickle\n",
    "from sklearn.metrics import accuracy_score\n",
    "sys.path.insert(0, \"lib\")\n",
    "from gcforest.gcforest import GCForest\n",
    "from gcforest.utils.config_utils import load_json\n",
    "config = load_json(\"./examples/kdd.json\")\n",
    "gc = GCForest(config)"
   ]
  },
  {
   "cell_type": "code",
   "execution_count": 18,
   "metadata": {
    "collapsed": true
   },
   "outputs": [],
   "source": [
    "# train test \n",
    "from sklearn.cross_validation import train_test_split\n",
    "y = df[:,41]\n",
    "X = df[:,0:41]\n",
    "\n",
    "X_train,X_test,y_train,y_test = train_test_split(X, y, test_size=0.33, random_state=42)"
   ]
  },
  {
   "cell_type": "code",
   "execution_count": 8,
   "metadata": {},
   "outputs": [
    {
     "data": {
      "text/plain": [
       "2"
      ]
     },
     "execution_count": 8,
     "metadata": {},
     "output_type": "execute_result"
    }
   ],
   "source": [
    "# count of class\n",
    "len(np.unique(y_train))"
   ]
  },
  {
   "cell_type": "code",
   "execution_count": 9,
   "metadata": {},
   "outputs": [
    {
     "name": "stderr",
     "output_type": "stream",
     "text": [
      "[ 2018-04-21 16:51:30,207][cascade_classifier.fit_transform] X_groups_train.shape=[(330994, 41)],y_train.shape=(330994,),X_groups_test.shape=[(163027, 41)],y_test.shape=(163027,)\n",
      "[ 2018-04-21 16:51:30,271][cascade_classifier.fit_transform] group_dims=[41]\n",
      "[ 2018-04-21 16:51:30,273][cascade_classifier.fit_transform] group_starts=[0]\n",
      "[ 2018-04-21 16:51:30,276][cascade_classifier.fit_transform] group_ends=[41]\n",
      "[ 2018-04-21 16:51:30,278][cascade_classifier.fit_transform] X_train.shape=(330994, 41),X_test.shape=(163027, 41)\n",
      "[ 2018-04-21 16:51:30,349][cascade_classifier.fit_transform] [layer=0] look_indexs=[0], X_cur_train.shape=(330994, 41), X_cur_test.shape=(163027, 41)\n",
      "[ 2018-04-21 16:51:32,742][kfold_wrapper.log_eval_metrics] Accuracy(layer_0 - estimator_0 - 10_folds.train_0.predict)=99.98%\n",
      "[ 2018-04-21 16:51:35,614][kfold_wrapper.log_eval_metrics] Accuracy(layer_0 - estimator_0 - 10_folds.train_1.predict)=99.97%\n",
      "[ 2018-04-21 16:51:40,126][kfold_wrapper.log_eval_metrics] Accuracy(layer_0 - estimator_0 - 10_folds.train_2.predict)=99.99%\n",
      "[ 2018-04-21 16:51:42,842][kfold_wrapper.log_eval_metrics] Accuracy(layer_0 - estimator_0 - 10_folds.train_3.predict)=99.98%\n",
      "[ 2018-04-21 16:51:45,321][kfold_wrapper.log_eval_metrics] Accuracy(layer_0 - estimator_0 - 10_folds.train_4.predict)=99.96%\n",
      "[ 2018-04-21 16:51:48,118][kfold_wrapper.log_eval_metrics] Accuracy(layer_0 - estimator_0 - 10_folds.train_5.predict)=99.98%\n",
      "[ 2018-04-21 16:51:50,696][kfold_wrapper.log_eval_metrics] Accuracy(layer_0 - estimator_0 - 10_folds.train_6.predict)=99.98%\n",
      "[ 2018-04-21 16:51:53,184][kfold_wrapper.log_eval_metrics] Accuracy(layer_0 - estimator_0 - 10_folds.train_7.predict)=99.97%\n",
      "[ 2018-04-21 16:51:55,592][kfold_wrapper.log_eval_metrics] Accuracy(layer_0 - estimator_0 - 10_folds.train_8.predict)=99.98%\n",
      "[ 2018-04-21 16:51:57,961][kfold_wrapper.log_eval_metrics] Accuracy(layer_0 - estimator_0 - 10_folds.train_9.predict)=99.99%\n",
      "[ 2018-04-21 16:51:58,249][kfold_wrapper.log_eval_metrics] Accuracy(layer_0 - estimator_0 - 10_folds.train_cv.predict)=99.98%\n",
      "[ 2018-04-21 16:51:58,254][kfold_wrapper.log_eval_metrics] Accuracy(layer_0 - estimator_0 - 10_folds.test.predict)=99.98%\n",
      "[ 2018-04-21 16:51:58,267][cascade_classifier.calc_accuracy] Accuracy(layer_0 - train.classifier_average)=99.98%\n",
      "[ 2018-04-21 16:51:58,271][cascade_classifier.calc_accuracy] Accuracy(layer_0 - test.classifier_average)=99.98%\n",
      "[ 2018-04-21 16:51:58,272][cascade_classifier.fit_transform] [Result][Reach Max Layer] opt_layer_num=1, accuracy_train=99.98%, accuracy_test=99.98%\n"
     ]
    }
   ],
   "source": [
    "      # X_enc is the concatenated predict_proba result of RandomForest\n",
    "\n",
    "X_train_enc, X_test_enc = gc.fit_transform(X_train, y_train, X_test=X_test, y_test=y_test)\n",
    "   "
   ]
  },
  {
   "cell_type": "code",
   "execution_count": 10,
   "metadata": {},
   "outputs": [
    {
     "name": "stderr",
     "output_type": "stream",
     "text": [
      "[ 2018-04-21 16:51:58,284][cascade_classifier.transform] X_groups_test.shape=[(163027, 41)]\n",
      "[ 2018-04-21 16:51:58,308][cascade_classifier.transform] group_dims=[41]\n",
      "[ 2018-04-21 16:51:58,310][cascade_classifier.transform] X_test.shape=(163027, 41)\n",
      "[ 2018-04-21 16:51:58,334][cascade_classifier.transform] [layer=0] look_indexs=[0], X_cur_test.shape=(163027, 41)\n"
     ]
    },
    {
     "name": "stdout",
     "output_type": "stream",
     "text": [
      "Test Accuracy of RandomForest = 99.977918 %\n"
     ]
    }
   ],
   "source": [
    "# predict\n",
    "y_pred = gc.predict(X_test)\n",
    "acc = accuracy_score(y_test, y_pred)\n",
    "print(\"Test Accuracy of RandomForest = {:.6f} %\".format(acc * 100))"
   ]
  },
  {
   "cell_type": "code",
   "execution_count": 11,
   "metadata": {},
   "outputs": [
    {
     "name": "stderr",
     "output_type": "stream",
     "text": [
      "[ 2018-04-21 16:52:01,163][cascade_classifier.transform] X_groups_test.shape=[(163027, 41)]\n",
      "[ 2018-04-21 16:52:01,186][cascade_classifier.transform] group_dims=[41]\n",
      "[ 2018-04-21 16:52:01,187][cascade_classifier.transform] X_test.shape=(163027, 41)\n",
      "[ 2018-04-21 16:52:01,210][cascade_classifier.transform] [layer=0] look_indexs=[0], X_cur_test.shape=(163027, 41)\n"
     ]
    }
   ],
   "source": [
    "    #  predict_proba result of RandomForest + data\n",
    "X_test_enc = gc.transform(X_test)\n",
    "X_train_enc = X_train_enc.reshape((X_train_enc.shape[0], -1))\n",
    "X_test_enc = X_test_enc.reshape((X_test_enc.shape[0], -1))\n",
    "X_train_origin = X_train.reshape((X_train.shape[0], -1))\n",
    "X_test_origin = X_test.reshape((X_test.shape[0], -1))\n",
    "X_train_enc = np.hstack((X_train_origin, X_train_enc))\n",
    "X_test_enc = np.hstack((X_test_origin, X_test_enc))"
   ]
  },
  {
   "cell_type": "code",
   "execution_count": 12,
   "metadata": {},
   "outputs": [
    {
     "name": "stderr",
     "output_type": "stream",
     "text": [
      "[ 2018-04-21 16:52:04,087][cascade_classifier.fit_transform] X_groups_train.shape=[(330994, 43)],y_train.shape=(330994,),X_groups_test.shape=[(163027, 43)],y_test.shape=(163027,)\n",
      "[ 2018-04-21 16:52:04,158][cascade_classifier.fit_transform] group_dims=[43]\n",
      "[ 2018-04-21 16:52:04,161][cascade_classifier.fit_transform] group_starts=[0]\n",
      "[ 2018-04-21 16:52:04,163][cascade_classifier.fit_transform] group_ends=[43]\n",
      "[ 2018-04-21 16:52:04,165][cascade_classifier.fit_transform] X_train.shape=(330994, 43),X_test.shape=(163027, 43)\n",
      "[ 2018-04-21 16:52:04,243][cascade_classifier.fit_transform] [layer=0] look_indexs=[0], X_cur_train.shape=(330994, 43), X_cur_test.shape=(163027, 43)\n",
      "[ 2018-04-21 16:52:06,583][kfold_wrapper.log_eval_metrics] Accuracy(layer_0 - estimator_0 - 10_folds.train_0.predict)=99.98%\n",
      "[ 2018-04-21 16:52:08,873][kfold_wrapper.log_eval_metrics] Accuracy(layer_0 - estimator_0 - 10_folds.train_1.predict)=99.98%\n",
      "[ 2018-04-21 16:52:11,218][kfold_wrapper.log_eval_metrics] Accuracy(layer_0 - estimator_0 - 10_folds.train_2.predict)=100.00%\n",
      "[ 2018-04-21 16:52:13,451][kfold_wrapper.log_eval_metrics] Accuracy(layer_0 - estimator_0 - 10_folds.train_3.predict)=99.98%\n",
      "[ 2018-04-21 16:52:15,738][kfold_wrapper.log_eval_metrics] Accuracy(layer_0 - estimator_0 - 10_folds.train_4.predict)=99.97%\n",
      "[ 2018-04-21 16:52:17,863][kfold_wrapper.log_eval_metrics] Accuracy(layer_0 - estimator_0 - 10_folds.train_5.predict)=99.97%\n",
      "[ 2018-04-21 16:52:20,146][kfold_wrapper.log_eval_metrics] Accuracy(layer_0 - estimator_0 - 10_folds.train_6.predict)=99.98%\n",
      "[ 2018-04-21 16:52:22,325][kfold_wrapper.log_eval_metrics] Accuracy(layer_0 - estimator_0 - 10_folds.train_7.predict)=99.99%\n",
      "[ 2018-04-21 16:52:24,796][kfold_wrapper.log_eval_metrics] Accuracy(layer_0 - estimator_0 - 10_folds.train_8.predict)=99.98%\n",
      "[ 2018-04-21 16:52:27,120][kfold_wrapper.log_eval_metrics] Accuracy(layer_0 - estimator_0 - 10_folds.train_9.predict)=99.99%\n",
      "[ 2018-04-21 16:52:27,396][kfold_wrapper.log_eval_metrics] Accuracy(layer_0 - estimator_0 - 10_folds.train_cv.predict)=99.98%\n",
      "[ 2018-04-21 16:52:27,402][kfold_wrapper.log_eval_metrics] Accuracy(layer_0 - estimator_0 - 10_folds.test.predict)=99.98%\n",
      "[ 2018-04-21 16:52:27,427][cascade_classifier.calc_accuracy] Accuracy(layer_0 - train.classifier_average)=99.98%\n",
      "[ 2018-04-21 16:52:27,432][cascade_classifier.calc_accuracy] Accuracy(layer_0 - test.classifier_average)=99.98%\n",
      "[ 2018-04-21 16:52:27,433][cascade_classifier.fit_transform] [Result][Reach Max Layer] opt_layer_num=1, accuracy_train=99.98%, accuracy_test=99.98%\n"
     ]
    }
   ],
   "source": [
    "# New data\n",
    "X_train=X_train_enc\n",
    "X_test=X_test_enc \n",
    "X_train_enc, X_test_enc = gc.fit_transform(X_train, y_train, X_test=X_test, y_test=y_test)"
   ]
  },
  {
   "cell_type": "code",
   "execution_count": 13,
   "metadata": {},
   "outputs": [
    {
     "name": "stdout",
     "output_type": "stream",
     "text": [
      "X_train_enc.shape=(330994, 2), X_test_enc.shape=(163027, 2)\n"
     ]
    }
   ],
   "source": [
    "print(\"X_train_enc.shape={}, X_test_enc.shape={}\".format(X_train_enc.shape, X_test_enc.shape))"
   ]
  },
  {
   "cell_type": "code",
   "execution_count": 14,
   "metadata": {},
   "outputs": [
    {
     "name": "stdout",
     "output_type": "stream",
     "text": [
      "X_train_enc.shape=(330994, 43), X_test_enc.shape=(163027, 43)\n"
     ]
    }
   ],
   "source": [
    "print(\"X_train_enc.shape={}, X_test_enc.shape={}\".format(X_train.shape, X_test.shape))"
   ]
  },
  {
   "cell_type": "code",
   "execution_count": 15,
   "metadata": {
    "collapsed": true
   },
   "outputs": [],
   "source": [
    "def update(X_train,X_test):\n",
    "    # update Estimators\n",
    "    M = np.delete(X_train, (-1), axis=1)\n",
    "    X_train= np.delete(M, (-1), axis=1)\n",
    "    M = np.delete(X_test, (-1), axis=1)\n",
    "    X_test = np.delete(M, (-1), axis=1)\n",
    "    return X_train,X_test\n",
    "\n",
    "def newdata(X_test_enc, X_train_enc):\n",
    "    # Make Data + Estimators\n",
    "    X_train_origin = X_train.reshape((X_train.shape[0], -1))\n",
    "    X_test_origin = X_test.reshape((X_test.shape[0], -1))\n",
    "    X_train_enc = np.hstack((X_train_origin, X_train_enc))\n",
    "    X_test_enc = np.hstack((X_test_origin, X_test_enc))\n",
    "    return X_test_enc, X_train_enc"
   ]
  },
  {
   "cell_type": "code",
   "execution_count": 16,
   "metadata": {
    "collapsed": true
   },
   "outputs": [],
   "source": [
    "def affiche():\n",
    "    # predict\n",
    "    y_pred = gc.predict(X_test)\n",
    "    acc = accuracy_score(y_test, y_pred)\n",
    "    print(\"Test Accuracy of RandomForest = {:.6f} %\".format(acc * 100),i,'fois')"
   ]
  },
  {
   "cell_type": "code",
   "execution_count": 17,
   "metadata": {},
   "outputs": [
    {
     "name": "stderr",
     "output_type": "stream",
     "text": [
      "[ 2018-04-21 16:52:27,730][cascade_classifier.fit_transform] X_groups_train.shape=[(330994, 43)],y_train.shape=(330994,),X_groups_test.shape=[(163027, 43)],y_test.shape=(163027,)\n",
      "[ 2018-04-21 16:52:27,797][cascade_classifier.fit_transform] group_dims=[43]\n",
      "[ 2018-04-21 16:52:27,798][cascade_classifier.fit_transform] group_starts=[0]\n",
      "[ 2018-04-21 16:52:27,800][cascade_classifier.fit_transform] group_ends=[43]\n",
      "[ 2018-04-21 16:52:27,801][cascade_classifier.fit_transform] X_train.shape=(330994, 43),X_test.shape=(163027, 43)\n",
      "[ 2018-04-21 16:52:27,876][cascade_classifier.fit_transform] [layer=0] look_indexs=[0], X_cur_train.shape=(330994, 43), X_cur_test.shape=(163027, 43)\n",
      "[ 2018-04-21 16:52:30,074][kfold_wrapper.log_eval_metrics] Accuracy(layer_0 - estimator_0 - 10_folds.train_0.predict)=99.98%\n",
      "[ 2018-04-21 16:52:32,272][kfold_wrapper.log_eval_metrics] Accuracy(layer_0 - estimator_0 - 10_folds.train_1.predict)=99.98%\n",
      "[ 2018-04-21 16:52:34,584][kfold_wrapper.log_eval_metrics] Accuracy(layer_0 - estimator_0 - 10_folds.train_2.predict)=100.00%\n",
      "[ 2018-04-21 16:52:36,935][kfold_wrapper.log_eval_metrics] Accuracy(layer_0 - estimator_0 - 10_folds.train_3.predict)=99.99%\n",
      "[ 2018-04-21 16:52:39,147][kfold_wrapper.log_eval_metrics] Accuracy(layer_0 - estimator_0 - 10_folds.train_4.predict)=99.97%\n",
      "[ 2018-04-21 16:52:41,542][kfold_wrapper.log_eval_metrics] Accuracy(layer_0 - estimator_0 - 10_folds.train_5.predict)=99.97%\n",
      "[ 2018-04-21 16:52:43,868][kfold_wrapper.log_eval_metrics] Accuracy(layer_0 - estimator_0 - 10_folds.train_6.predict)=99.98%\n",
      "[ 2018-04-21 16:52:46,155][kfold_wrapper.log_eval_metrics] Accuracy(layer_0 - estimator_0 - 10_folds.train_7.predict)=99.98%\n",
      "[ 2018-04-21 16:52:48,434][kfold_wrapper.log_eval_metrics] Accuracy(layer_0 - estimator_0 - 10_folds.train_8.predict)=99.98%\n",
      "[ 2018-04-21 16:52:50,604][kfold_wrapper.log_eval_metrics] Accuracy(layer_0 - estimator_0 - 10_folds.train_9.predict)=99.99%\n",
      "[ 2018-04-21 16:52:50,875][kfold_wrapper.log_eval_metrics] Accuracy(layer_0 - estimator_0 - 10_folds.train_cv.predict)=99.98%\n",
      "[ 2018-04-21 16:52:50,880][kfold_wrapper.log_eval_metrics] Accuracy(layer_0 - estimator_0 - 10_folds.test.predict)=99.98%\n",
      "[ 2018-04-21 16:52:50,897][cascade_classifier.calc_accuracy] Accuracy(layer_0 - train.classifier_average)=99.98%\n",
      "[ 2018-04-21 16:52:50,900][cascade_classifier.calc_accuracy] Accuracy(layer_0 - test.classifier_average)=99.98%\n",
      "[ 2018-04-21 16:52:50,902][cascade_classifier.fit_transform] [Result][Reach Max Layer] opt_layer_num=1, accuracy_train=99.98%, accuracy_test=99.98%\n",
      "[ 2018-04-21 16:52:50,904][cascade_classifier.transform] X_groups_test.shape=[(163027, 43)]\n",
      "[ 2018-04-21 16:52:50,928][cascade_classifier.transform] group_dims=[43]\n",
      "[ 2018-04-21 16:52:50,930][cascade_classifier.transform] X_test.shape=(163027, 43)\n",
      "[ 2018-04-21 16:52:50,952][cascade_classifier.transform] [layer=0] look_indexs=[0], X_cur_test.shape=(163027, 43)\n"
     ]
    },
    {
     "name": "stdout",
     "output_type": "stream",
     "text": [
      "('Test Accuracy of RandomForest = 99.984665 %', 0, 'fois')\n"
     ]
    },
    {
     "name": "stderr",
     "output_type": "stream",
     "text": [
      "[ 2018-04-21 16:52:54,014][cascade_classifier.fit_transform] X_groups_train.shape=[(330994, 43)],y_train.shape=(330994,),X_groups_test.shape=[(163027, 43)],y_test.shape=(163027,)\n",
      "[ 2018-04-21 16:52:54,086][cascade_classifier.fit_transform] group_dims=[43]\n",
      "[ 2018-04-21 16:52:54,088][cascade_classifier.fit_transform] group_starts=[0]\n",
      "[ 2018-04-21 16:52:54,090][cascade_classifier.fit_transform] group_ends=[43]\n",
      "[ 2018-04-21 16:52:54,091][cascade_classifier.fit_transform] X_train.shape=(330994, 43),X_test.shape=(163027, 43)\n",
      "[ 2018-04-21 16:52:54,171][cascade_classifier.fit_transform] [layer=0] look_indexs=[0], X_cur_train.shape=(330994, 43), X_cur_test.shape=(163027, 43)\n",
      "[ 2018-04-21 16:52:56,685][kfold_wrapper.log_eval_metrics] Accuracy(layer_0 - estimator_0 - 10_folds.train_0.predict)=99.98%\n",
      "[ 2018-04-21 16:52:59,229][kfold_wrapper.log_eval_metrics] Accuracy(layer_0 - estimator_0 - 10_folds.train_1.predict)=99.98%\n",
      "[ 2018-04-21 16:53:01,622][kfold_wrapper.log_eval_metrics] Accuracy(layer_0 - estimator_0 - 10_folds.train_2.predict)=100.00%\n",
      "[ 2018-04-21 16:53:04,025][kfold_wrapper.log_eval_metrics] Accuracy(layer_0 - estimator_0 - 10_folds.train_3.predict)=99.99%\n",
      "[ 2018-04-21 16:53:06,221][kfold_wrapper.log_eval_metrics] Accuracy(layer_0 - estimator_0 - 10_folds.train_4.predict)=99.97%\n",
      "[ 2018-04-21 16:53:08,344][kfold_wrapper.log_eval_metrics] Accuracy(layer_0 - estimator_0 - 10_folds.train_5.predict)=99.97%\n",
      "[ 2018-04-21 16:53:10,652][kfold_wrapper.log_eval_metrics] Accuracy(layer_0 - estimator_0 - 10_folds.train_6.predict)=99.98%\n",
      "[ 2018-04-21 16:53:13,019][kfold_wrapper.log_eval_metrics] Accuracy(layer_0 - estimator_0 - 10_folds.train_7.predict)=99.98%\n",
      "[ 2018-04-21 16:53:15,197][kfold_wrapper.log_eval_metrics] Accuracy(layer_0 - estimator_0 - 10_folds.train_8.predict)=99.97%\n",
      "[ 2018-04-21 16:53:17,511][kfold_wrapper.log_eval_metrics] Accuracy(layer_0 - estimator_0 - 10_folds.train_9.predict)=99.99%\n",
      "[ 2018-04-21 16:53:17,821][kfold_wrapper.log_eval_metrics] Accuracy(layer_0 - estimator_0 - 10_folds.train_cv.predict)=99.98%\n",
      "[ 2018-04-21 16:53:17,826][kfold_wrapper.log_eval_metrics] Accuracy(layer_0 - estimator_0 - 10_folds.test.predict)=99.98%\n",
      "[ 2018-04-21 16:53:17,848][cascade_classifier.calc_accuracy] Accuracy(layer_0 - train.classifier_average)=99.98%\n",
      "[ 2018-04-21 16:53:17,852][cascade_classifier.calc_accuracy] Accuracy(layer_0 - test.classifier_average)=99.98%\n",
      "[ 2018-04-21 16:53:17,853][cascade_classifier.fit_transform] [Result][Reach Max Layer] opt_layer_num=1, accuracy_train=99.98%, accuracy_test=99.98%\n",
      "[ 2018-04-21 16:53:17,856][cascade_classifier.transform] X_groups_test.shape=[(163027, 43)]\n",
      "[ 2018-04-21 16:53:17,883][cascade_classifier.transform] group_dims=[43]\n",
      "[ 2018-04-21 16:53:17,885][cascade_classifier.transform] X_test.shape=(163027, 43)\n",
      "[ 2018-04-21 16:53:17,913][cascade_classifier.transform] [layer=0] look_indexs=[0], X_cur_test.shape=(163027, 43)\n"
     ]
    },
    {
     "name": "stdout",
     "output_type": "stream",
     "text": [
      "('Test Accuracy of RandomForest = 99.983438 %', 1, 'fois')\n"
     ]
    },
    {
     "name": "stderr",
     "output_type": "stream",
     "text": [
      "[ 2018-04-21 16:53:20,928][cascade_classifier.fit_transform] X_groups_train.shape=[(330994, 43)],y_train.shape=(330994,),X_groups_test.shape=[(163027, 43)],y_test.shape=(163027,)\n",
      "[ 2018-04-21 16:53:20,997][cascade_classifier.fit_transform] group_dims=[43]\n",
      "[ 2018-04-21 16:53:20,999][cascade_classifier.fit_transform] group_starts=[0]\n",
      "[ 2018-04-21 16:53:21,000][cascade_classifier.fit_transform] group_ends=[43]\n",
      "[ 2018-04-21 16:53:21,001][cascade_classifier.fit_transform] X_train.shape=(330994, 43),X_test.shape=(163027, 43)\n",
      "[ 2018-04-21 16:53:21,076][cascade_classifier.fit_transform] [layer=0] look_indexs=[0], X_cur_train.shape=(330994, 43), X_cur_test.shape=(163027, 43)\n",
      "[ 2018-04-21 16:53:23,335][kfold_wrapper.log_eval_metrics] Accuracy(layer_0 - estimator_0 - 10_folds.train_0.predict)=99.98%\n",
      "[ 2018-04-21 16:53:25,768][kfold_wrapper.log_eval_metrics] Accuracy(layer_0 - estimator_0 - 10_folds.train_1.predict)=99.98%\n",
      "[ 2018-04-21 16:53:27,925][kfold_wrapper.log_eval_metrics] Accuracy(layer_0 - estimator_0 - 10_folds.train_2.predict)=100.00%\n",
      "[ 2018-04-21 16:53:30,310][kfold_wrapper.log_eval_metrics] Accuracy(layer_0 - estimator_0 - 10_folds.train_3.predict)=99.98%\n",
      "[ 2018-04-21 16:53:32,545][kfold_wrapper.log_eval_metrics] Accuracy(layer_0 - estimator_0 - 10_folds.train_4.predict)=99.97%\n",
      "[ 2018-04-21 16:53:35,184][kfold_wrapper.log_eval_metrics] Accuracy(layer_0 - estimator_0 - 10_folds.train_5.predict)=99.97%\n",
      "[ 2018-04-21 16:53:37,528][kfold_wrapper.log_eval_metrics] Accuracy(layer_0 - estimator_0 - 10_folds.train_6.predict)=99.97%\n",
      "[ 2018-04-21 16:53:39,714][kfold_wrapper.log_eval_metrics] Accuracy(layer_0 - estimator_0 - 10_folds.train_7.predict)=99.98%\n",
      "[ 2018-04-21 16:53:42,310][kfold_wrapper.log_eval_metrics] Accuracy(layer_0 - estimator_0 - 10_folds.train_8.predict)=99.97%\n",
      "[ 2018-04-21 16:53:44,683][kfold_wrapper.log_eval_metrics] Accuracy(layer_0 - estimator_0 - 10_folds.train_9.predict)=99.99%\n",
      "[ 2018-04-21 16:53:44,986][kfold_wrapper.log_eval_metrics] Accuracy(layer_0 - estimator_0 - 10_folds.train_cv.predict)=99.98%\n",
      "[ 2018-04-21 16:53:44,991][kfold_wrapper.log_eval_metrics] Accuracy(layer_0 - estimator_0 - 10_folds.test.predict)=99.98%\n",
      "[ 2018-04-21 16:53:45,013][cascade_classifier.calc_accuracy] Accuracy(layer_0 - train.classifier_average)=99.98%\n",
      "[ 2018-04-21 16:53:45,017][cascade_classifier.calc_accuracy] Accuracy(layer_0 - test.classifier_average)=99.98%\n",
      "[ 2018-04-21 16:53:45,019][cascade_classifier.fit_transform] [Result][Reach Max Layer] opt_layer_num=1, accuracy_train=99.98%, accuracy_test=99.98%\n",
      "[ 2018-04-21 16:53:45,022][cascade_classifier.transform] X_groups_test.shape=[(163027, 43)]\n",
      "[ 2018-04-21 16:53:45,048][cascade_classifier.transform] group_dims=[43]\n",
      "[ 2018-04-21 16:53:45,050][cascade_classifier.transform] X_test.shape=(163027, 43)\n",
      "[ 2018-04-21 16:53:45,077][cascade_classifier.transform] [layer=0] look_indexs=[0], X_cur_test.shape=(163027, 43)\n"
     ]
    },
    {
     "name": "stdout",
     "output_type": "stream",
     "text": [
      "('Test Accuracy of RandomForest = 99.983438 %', 2, 'fois')\n"
     ]
    },
    {
     "name": "stderr",
     "output_type": "stream",
     "text": [
      "[ 2018-04-21 16:53:48,133][cascade_classifier.fit_transform] X_groups_train.shape=[(330994, 43)],y_train.shape=(330994,),X_groups_test.shape=[(163027, 43)],y_test.shape=(163027,)\n",
      "[ 2018-04-21 16:53:48,203][cascade_classifier.fit_transform] group_dims=[43]\n",
      "[ 2018-04-21 16:53:48,206][cascade_classifier.fit_transform] group_starts=[0]\n",
      "[ 2018-04-21 16:53:48,208][cascade_classifier.fit_transform] group_ends=[43]\n",
      "[ 2018-04-21 16:53:48,209][cascade_classifier.fit_transform] X_train.shape=(330994, 43),X_test.shape=(163027, 43)\n",
      "[ 2018-04-21 16:53:48,284][cascade_classifier.fit_transform] [layer=0] look_indexs=[0], X_cur_train.shape=(330994, 43), X_cur_test.shape=(163027, 43)\n",
      "[ 2018-04-21 16:53:50,581][kfold_wrapper.log_eval_metrics] Accuracy(layer_0 - estimator_0 - 10_folds.train_0.predict)=99.98%\n",
      "[ 2018-04-21 16:53:52,853][kfold_wrapper.log_eval_metrics] Accuracy(layer_0 - estimator_0 - 10_folds.train_1.predict)=99.98%\n",
      "[ 2018-04-21 16:53:55,017][kfold_wrapper.log_eval_metrics] Accuracy(layer_0 - estimator_0 - 10_folds.train_2.predict)=100.00%\n",
      "[ 2018-04-21 16:53:57,679][kfold_wrapper.log_eval_metrics] Accuracy(layer_0 - estimator_0 - 10_folds.train_3.predict)=99.99%\n",
      "[ 2018-04-21 16:53:59,930][kfold_wrapper.log_eval_metrics] Accuracy(layer_0 - estimator_0 - 10_folds.train_4.predict)=99.96%\n",
      "[ 2018-04-21 16:54:02,264][kfold_wrapper.log_eval_metrics] Accuracy(layer_0 - estimator_0 - 10_folds.train_5.predict)=99.97%\n",
      "[ 2018-04-21 16:54:04,620][kfold_wrapper.log_eval_metrics] Accuracy(layer_0 - estimator_0 - 10_folds.train_6.predict)=99.97%\n",
      "[ 2018-04-21 16:54:07,045][kfold_wrapper.log_eval_metrics] Accuracy(layer_0 - estimator_0 - 10_folds.train_7.predict)=99.98%\n",
      "[ 2018-04-21 16:54:09,390][kfold_wrapper.log_eval_metrics] Accuracy(layer_0 - estimator_0 - 10_folds.train_8.predict)=99.97%\n",
      "[ 2018-04-21 16:54:11,671][kfold_wrapper.log_eval_metrics] Accuracy(layer_0 - estimator_0 - 10_folds.train_9.predict)=99.99%\n",
      "[ 2018-04-21 16:54:11,967][kfold_wrapper.log_eval_metrics] Accuracy(layer_0 - estimator_0 - 10_folds.train_cv.predict)=99.98%\n",
      "[ 2018-04-21 16:54:11,973][kfold_wrapper.log_eval_metrics] Accuracy(layer_0 - estimator_0 - 10_folds.test.predict)=99.98%\n",
      "[ 2018-04-21 16:54:11,994][cascade_classifier.calc_accuracy] Accuracy(layer_0 - train.classifier_average)=99.98%\n",
      "[ 2018-04-21 16:54:11,999][cascade_classifier.calc_accuracy] Accuracy(layer_0 - test.classifier_average)=99.98%\n",
      "[ 2018-04-21 16:54:12,000][cascade_classifier.fit_transform] [Result][Reach Max Layer] opt_layer_num=1, accuracy_train=99.98%, accuracy_test=99.98%\n",
      "[ 2018-04-21 16:54:12,004][cascade_classifier.transform] X_groups_test.shape=[(163027, 43)]\n",
      "[ 2018-04-21 16:54:12,030][cascade_classifier.transform] group_dims=[43]\n",
      "[ 2018-04-21 16:54:12,032][cascade_classifier.transform] X_test.shape=(163027, 43)\n",
      "[ 2018-04-21 16:54:12,060][cascade_classifier.transform] [layer=0] look_indexs=[0], X_cur_test.shape=(163027, 43)\n"
     ]
    },
    {
     "name": "stdout",
     "output_type": "stream",
     "text": [
      "('Test Accuracy of RandomForest = 99.984052 %', 3, 'fois')\n"
     ]
    },
    {
     "name": "stderr",
     "output_type": "stream",
     "text": [
      "[ 2018-04-21 16:54:15,160][cascade_classifier.fit_transform] X_groups_train.shape=[(330994, 43)],y_train.shape=(330994,),X_groups_test.shape=[(163027, 43)],y_test.shape=(163027,)\n",
      "[ 2018-04-21 16:54:15,227][cascade_classifier.fit_transform] group_dims=[43]\n",
      "[ 2018-04-21 16:54:15,229][cascade_classifier.fit_transform] group_starts=[0]\n",
      "[ 2018-04-21 16:54:15,230][cascade_classifier.fit_transform] group_ends=[43]\n",
      "[ 2018-04-21 16:54:15,232][cascade_classifier.fit_transform] X_train.shape=(330994, 43),X_test.shape=(163027, 43)\n",
      "[ 2018-04-21 16:54:15,307][cascade_classifier.fit_transform] [layer=0] look_indexs=[0], X_cur_train.shape=(330994, 43), X_cur_test.shape=(163027, 43)\n",
      "[ 2018-04-21 16:54:17,596][kfold_wrapper.log_eval_metrics] Accuracy(layer_0 - estimator_0 - 10_folds.train_0.predict)=99.98%\n",
      "[ 2018-04-21 16:54:20,297][kfold_wrapper.log_eval_metrics] Accuracy(layer_0 - estimator_0 - 10_folds.train_1.predict)=99.98%\n",
      "[ 2018-04-21 16:54:22,395][kfold_wrapper.log_eval_metrics] Accuracy(layer_0 - estimator_0 - 10_folds.train_2.predict)=100.00%\n",
      "[ 2018-04-21 16:54:24,684][kfold_wrapper.log_eval_metrics] Accuracy(layer_0 - estimator_0 - 10_folds.train_3.predict)=99.98%\n",
      "[ 2018-04-21 16:54:27,415][kfold_wrapper.log_eval_metrics] Accuracy(layer_0 - estimator_0 - 10_folds.train_4.predict)=99.96%\n",
      "[ 2018-04-21 16:54:29,604][kfold_wrapper.log_eval_metrics] Accuracy(layer_0 - estimator_0 - 10_folds.train_5.predict)=99.97%\n",
      "[ 2018-04-21 16:54:31,967][kfold_wrapper.log_eval_metrics] Accuracy(layer_0 - estimator_0 - 10_folds.train_6.predict)=99.97%\n",
      "[ 2018-04-21 16:54:34,078][kfold_wrapper.log_eval_metrics] Accuracy(layer_0 - estimator_0 - 10_folds.train_7.predict)=99.98%\n",
      "[ 2018-04-21 16:54:36,469][kfold_wrapper.log_eval_metrics] Accuracy(layer_0 - estimator_0 - 10_folds.train_8.predict)=99.98%\n",
      "[ 2018-04-21 16:54:38,812][kfold_wrapper.log_eval_metrics] Accuracy(layer_0 - estimator_0 - 10_folds.train_9.predict)=99.99%\n",
      "[ 2018-04-21 16:54:39,116][kfold_wrapper.log_eval_metrics] Accuracy(layer_0 - estimator_0 - 10_folds.train_cv.predict)=99.98%\n",
      "[ 2018-04-21 16:54:39,122][kfold_wrapper.log_eval_metrics] Accuracy(layer_0 - estimator_0 - 10_folds.test.predict)=99.99%\n",
      "[ 2018-04-21 16:54:39,147][cascade_classifier.calc_accuracy] Accuracy(layer_0 - train.classifier_average)=99.98%\n",
      "[ 2018-04-21 16:54:39,152][cascade_classifier.calc_accuracy] Accuracy(layer_0 - test.classifier_average)=99.99%\n",
      "[ 2018-04-21 16:54:39,154][cascade_classifier.fit_transform] [Result][Reach Max Layer] opt_layer_num=1, accuracy_train=99.98%, accuracy_test=99.99%\n",
      "[ 2018-04-21 16:54:39,157][cascade_classifier.transform] X_groups_test.shape=[(163027, 43)]\n",
      "[ 2018-04-21 16:54:39,184][cascade_classifier.transform] group_dims=[43]\n",
      "[ 2018-04-21 16:54:39,186][cascade_classifier.transform] X_test.shape=(163027, 43)\n",
      "[ 2018-04-21 16:54:39,211][cascade_classifier.transform] [layer=0] look_indexs=[0], X_cur_test.shape=(163027, 43)\n"
     ]
    },
    {
     "name": "stdout",
     "output_type": "stream",
     "text": [
      "('Test Accuracy of RandomForest = 99.985892 %', 4, 'fois')\n"
     ]
    },
    {
     "name": "stderr",
     "output_type": "stream",
     "text": [
      "[ 2018-04-21 16:54:42,388][cascade_classifier.fit_transform] X_groups_train.shape=[(330994, 43)],y_train.shape=(330994,),X_groups_test.shape=[(163027, 43)],y_test.shape=(163027,)\n",
      "[ 2018-04-21 16:54:42,454][cascade_classifier.fit_transform] group_dims=[43]\n",
      "[ 2018-04-21 16:54:42,456][cascade_classifier.fit_transform] group_starts=[0]\n",
      "[ 2018-04-21 16:54:42,458][cascade_classifier.fit_transform] group_ends=[43]\n",
      "[ 2018-04-21 16:54:42,459][cascade_classifier.fit_transform] X_train.shape=(330994, 43),X_test.shape=(163027, 43)\n",
      "[ 2018-04-21 16:54:42,536][cascade_classifier.fit_transform] [layer=0] look_indexs=[0], X_cur_train.shape=(330994, 43), X_cur_test.shape=(163027, 43)\n",
      "[ 2018-04-21 16:54:45,408][kfold_wrapper.log_eval_metrics] Accuracy(layer_0 - estimator_0 - 10_folds.train_0.predict)=99.98%\n",
      "[ 2018-04-21 16:54:47,790][kfold_wrapper.log_eval_metrics] Accuracy(layer_0 - estimator_0 - 10_folds.train_1.predict)=99.98%\n",
      "[ 2018-04-21 16:54:50,098][kfold_wrapper.log_eval_metrics] Accuracy(layer_0 - estimator_0 - 10_folds.train_2.predict)=100.00%\n",
      "[ 2018-04-21 16:54:52,286][kfold_wrapper.log_eval_metrics] Accuracy(layer_0 - estimator_0 - 10_folds.train_3.predict)=99.98%\n",
      "[ 2018-04-21 16:54:54,404][kfold_wrapper.log_eval_metrics] Accuracy(layer_0 - estimator_0 - 10_folds.train_4.predict)=99.96%\n",
      "[ 2018-04-21 16:54:56,706][kfold_wrapper.log_eval_metrics] Accuracy(layer_0 - estimator_0 - 10_folds.train_5.predict)=99.97%\n",
      "[ 2018-04-21 16:54:59,113][kfold_wrapper.log_eval_metrics] Accuracy(layer_0 - estimator_0 - 10_folds.train_6.predict)=99.98%\n",
      "[ 2018-04-21 16:55:01,448][kfold_wrapper.log_eval_metrics] Accuracy(layer_0 - estimator_0 - 10_folds.train_7.predict)=99.98%\n",
      "[ 2018-04-21 16:55:03,837][kfold_wrapper.log_eval_metrics] Accuracy(layer_0 - estimator_0 - 10_folds.train_8.predict)=99.98%\n",
      "[ 2018-04-21 16:55:05,968][kfold_wrapper.log_eval_metrics] Accuracy(layer_0 - estimator_0 - 10_folds.train_9.predict)=99.99%\n",
      "[ 2018-04-21 16:55:06,250][kfold_wrapper.log_eval_metrics] Accuracy(layer_0 - estimator_0 - 10_folds.train_cv.predict)=99.98%\n",
      "[ 2018-04-21 16:55:06,255][kfold_wrapper.log_eval_metrics] Accuracy(layer_0 - estimator_0 - 10_folds.test.predict)=99.99%\n",
      "[ 2018-04-21 16:55:06,285][cascade_classifier.calc_accuracy] Accuracy(layer_0 - train.classifier_average)=99.98%\n",
      "[ 2018-04-21 16:55:06,290][cascade_classifier.calc_accuracy] Accuracy(layer_0 - test.classifier_average)=99.99%\n",
      "[ 2018-04-21 16:55:06,292][cascade_classifier.fit_transform] [Result][Reach Max Layer] opt_layer_num=1, accuracy_train=99.98%, accuracy_test=99.99%\n",
      "[ 2018-04-21 16:55:06,296][cascade_classifier.transform] X_groups_test.shape=[(163027, 43)]\n",
      "[ 2018-04-21 16:55:06,323][cascade_classifier.transform] group_dims=[43]\n",
      "[ 2018-04-21 16:55:06,325][cascade_classifier.transform] X_test.shape=(163027, 43)\n",
      "[ 2018-04-21 16:55:06,350][cascade_classifier.transform] [layer=0] look_indexs=[0], X_cur_test.shape=(163027, 43)\n"
     ]
    },
    {
     "name": "stdout",
     "output_type": "stream",
     "text": [
      "('Test Accuracy of RandomForest = 99.985892 %', 5, 'fois')\n"
     ]
    },
    {
     "name": "stderr",
     "output_type": "stream",
     "text": [
      "[ 2018-04-21 16:55:09,512][cascade_classifier.fit_transform] X_groups_train.shape=[(330994, 43)],y_train.shape=(330994,),X_groups_test.shape=[(163027, 43)],y_test.shape=(163027,)\n",
      "[ 2018-04-21 16:55:09,580][cascade_classifier.fit_transform] group_dims=[43]\n",
      "[ 2018-04-21 16:55:09,583][cascade_classifier.fit_transform] group_starts=[0]\n",
      "[ 2018-04-21 16:55:09,585][cascade_classifier.fit_transform] group_ends=[43]\n",
      "[ 2018-04-21 16:55:09,586][cascade_classifier.fit_transform] X_train.shape=(330994, 43),X_test.shape=(163027, 43)\n",
      "[ 2018-04-21 16:55:09,661][cascade_classifier.fit_transform] [layer=0] look_indexs=[0], X_cur_train.shape=(330994, 43), X_cur_test.shape=(163027, 43)\n",
      "[ 2018-04-21 16:55:12,441][kfold_wrapper.log_eval_metrics] Accuracy(layer_0 - estimator_0 - 10_folds.train_0.predict)=99.98%\n",
      "[ 2018-04-21 16:55:14,893][kfold_wrapper.log_eval_metrics] Accuracy(layer_0 - estimator_0 - 10_folds.train_1.predict)=99.98%\n",
      "[ 2018-04-21 16:55:17,259][kfold_wrapper.log_eval_metrics] Accuracy(layer_0 - estimator_0 - 10_folds.train_2.predict)=100.00%\n",
      "[ 2018-04-21 16:55:19,553][kfold_wrapper.log_eval_metrics] Accuracy(layer_0 - estimator_0 - 10_folds.train_3.predict)=99.98%\n",
      "[ 2018-04-21 16:55:21,780][kfold_wrapper.log_eval_metrics] Accuracy(layer_0 - estimator_0 - 10_folds.train_4.predict)=99.96%\n",
      "[ 2018-04-21 16:55:24,012][kfold_wrapper.log_eval_metrics] Accuracy(layer_0 - estimator_0 - 10_folds.train_5.predict)=99.97%\n",
      "[ 2018-04-21 16:55:26,303][kfold_wrapper.log_eval_metrics] Accuracy(layer_0 - estimator_0 - 10_folds.train_6.predict)=99.98%\n",
      "[ 2018-04-21 16:55:28,517][kfold_wrapper.log_eval_metrics] Accuracy(layer_0 - estimator_0 - 10_folds.train_7.predict)=99.98%\n",
      "[ 2018-04-21 16:55:30,709][kfold_wrapper.log_eval_metrics] Accuracy(layer_0 - estimator_0 - 10_folds.train_8.predict)=99.98%\n",
      "[ 2018-04-21 16:55:32,946][kfold_wrapper.log_eval_metrics] Accuracy(layer_0 - estimator_0 - 10_folds.train_9.predict)=99.99%\n",
      "[ 2018-04-21 16:55:33,238][kfold_wrapper.log_eval_metrics] Accuracy(layer_0 - estimator_0 - 10_folds.train_cv.predict)=99.98%\n",
      "[ 2018-04-21 16:55:33,244][kfold_wrapper.log_eval_metrics] Accuracy(layer_0 - estimator_0 - 10_folds.test.predict)=99.99%\n",
      "[ 2018-04-21 16:55:33,270][cascade_classifier.calc_accuracy] Accuracy(layer_0 - train.classifier_average)=99.98%\n",
      "[ 2018-04-21 16:55:33,275][cascade_classifier.calc_accuracy] Accuracy(layer_0 - test.classifier_average)=99.99%\n",
      "[ 2018-04-21 16:55:33,277][cascade_classifier.fit_transform] [Result][Reach Max Layer] opt_layer_num=1, accuracy_train=99.98%, accuracy_test=99.99%\n",
      "[ 2018-04-21 16:55:33,280][cascade_classifier.transform] X_groups_test.shape=[(163027, 43)]\n",
      "[ 2018-04-21 16:55:33,309][cascade_classifier.transform] group_dims=[43]\n",
      "[ 2018-04-21 16:55:33,311][cascade_classifier.transform] X_test.shape=(163027, 43)\n",
      "[ 2018-04-21 16:55:33,337][cascade_classifier.transform] [layer=0] look_indexs=[0], X_cur_test.shape=(163027, 43)\n"
     ]
    },
    {
     "name": "stdout",
     "output_type": "stream",
     "text": [
      "('Test Accuracy of RandomForest = 99.985892 %', 6, 'fois')\n"
     ]
    },
    {
     "name": "stderr",
     "output_type": "stream",
     "text": [
      "[ 2018-04-21 16:55:36,420][cascade_classifier.fit_transform] X_groups_train.shape=[(330994, 43)],y_train.shape=(330994,),X_groups_test.shape=[(163027, 43)],y_test.shape=(163027,)\n",
      "[ 2018-04-21 16:55:36,490][cascade_classifier.fit_transform] group_dims=[43]\n",
      "[ 2018-04-21 16:55:36,492][cascade_classifier.fit_transform] group_starts=[0]\n",
      "[ 2018-04-21 16:55:36,493][cascade_classifier.fit_transform] group_ends=[43]\n",
      "[ 2018-04-21 16:55:36,495][cascade_classifier.fit_transform] X_train.shape=(330994, 43),X_test.shape=(163027, 43)\n",
      "[ 2018-04-21 16:55:36,573][cascade_classifier.fit_transform] [layer=0] look_indexs=[0], X_cur_train.shape=(330994, 43), X_cur_test.shape=(163027, 43)\n",
      "[ 2018-04-21 16:55:39,153][kfold_wrapper.log_eval_metrics] Accuracy(layer_0 - estimator_0 - 10_folds.train_0.predict)=99.98%\n",
      "[ 2018-04-21 16:55:41,567][kfold_wrapper.log_eval_metrics] Accuracy(layer_0 - estimator_0 - 10_folds.train_1.predict)=99.98%\n",
      "[ 2018-04-21 16:55:43,772][kfold_wrapper.log_eval_metrics] Accuracy(layer_0 - estimator_0 - 10_folds.train_2.predict)=99.99%\n",
      "[ 2018-04-21 16:55:46,052][kfold_wrapper.log_eval_metrics] Accuracy(layer_0 - estimator_0 - 10_folds.train_3.predict)=99.98%\n",
      "[ 2018-04-21 16:55:48,176][kfold_wrapper.log_eval_metrics] Accuracy(layer_0 - estimator_0 - 10_folds.train_4.predict)=99.96%\n",
      "[ 2018-04-21 16:55:50,541][kfold_wrapper.log_eval_metrics] Accuracy(layer_0 - estimator_0 - 10_folds.train_5.predict)=99.97%\n",
      "[ 2018-04-21 16:55:52,718][kfold_wrapper.log_eval_metrics] Accuracy(layer_0 - estimator_0 - 10_folds.train_6.predict)=99.98%\n",
      "[ 2018-04-21 16:55:55,167][kfold_wrapper.log_eval_metrics] Accuracy(layer_0 - estimator_0 - 10_folds.train_7.predict)=99.98%\n",
      "[ 2018-04-21 16:55:57,349][kfold_wrapper.log_eval_metrics] Accuracy(layer_0 - estimator_0 - 10_folds.train_8.predict)=99.97%\n",
      "[ 2018-04-21 16:55:59,655][kfold_wrapper.log_eval_metrics] Accuracy(layer_0 - estimator_0 - 10_folds.train_9.predict)=99.99%\n",
      "[ 2018-04-21 16:55:59,943][kfold_wrapper.log_eval_metrics] Accuracy(layer_0 - estimator_0 - 10_folds.train_cv.predict)=99.98%\n",
      "[ 2018-04-21 16:55:59,949][kfold_wrapper.log_eval_metrics] Accuracy(layer_0 - estimator_0 - 10_folds.test.predict)=99.99%\n",
      "[ 2018-04-21 16:55:59,975][cascade_classifier.calc_accuracy] Accuracy(layer_0 - train.classifier_average)=99.98%\n",
      "[ 2018-04-21 16:55:59,979][cascade_classifier.calc_accuracy] Accuracy(layer_0 - test.classifier_average)=99.99%\n",
      "[ 2018-04-21 16:55:59,980][cascade_classifier.fit_transform] [Result][Reach Max Layer] opt_layer_num=1, accuracy_train=99.98%, accuracy_test=99.99%\n",
      "[ 2018-04-21 16:55:59,983][cascade_classifier.transform] X_groups_test.shape=[(163027, 43)]\n",
      "[ 2018-04-21 16:56:00,014][cascade_classifier.transform] group_dims=[43]\n",
      "[ 2018-04-21 16:56:00,016][cascade_classifier.transform] X_test.shape=(163027, 43)\n",
      "[ 2018-04-21 16:56:00,041][cascade_classifier.transform] [layer=0] look_indexs=[0], X_cur_test.shape=(163027, 43)\n"
     ]
    },
    {
     "name": "stdout",
     "output_type": "stream",
     "text": [
      "('Test Accuracy of RandomForest = 99.985892 %', 7, 'fois')\n"
     ]
    },
    {
     "name": "stderr",
     "output_type": "stream",
     "text": [
      "[ 2018-04-21 16:56:03,082][cascade_classifier.fit_transform] X_groups_train.shape=[(330994, 43)],y_train.shape=(330994,),X_groups_test.shape=[(163027, 43)],y_test.shape=(163027,)\n",
      "[ 2018-04-21 16:56:03,151][cascade_classifier.fit_transform] group_dims=[43]\n",
      "[ 2018-04-21 16:56:03,152][cascade_classifier.fit_transform] group_starts=[0]\n",
      "[ 2018-04-21 16:56:03,154][cascade_classifier.fit_transform] group_ends=[43]\n",
      "[ 2018-04-21 16:56:03,156][cascade_classifier.fit_transform] X_train.shape=(330994, 43),X_test.shape=(163027, 43)\n",
      "[ 2018-04-21 16:56:03,230][cascade_classifier.fit_transform] [layer=0] look_indexs=[0], X_cur_train.shape=(330994, 43), X_cur_test.shape=(163027, 43)\n",
      "[ 2018-04-21 16:56:05,790][kfold_wrapper.log_eval_metrics] Accuracy(layer_0 - estimator_0 - 10_folds.train_0.predict)=99.98%\n",
      "[ 2018-04-21 16:56:08,247][kfold_wrapper.log_eval_metrics] Accuracy(layer_0 - estimator_0 - 10_folds.train_1.predict)=99.98%\n",
      "[ 2018-04-21 16:56:10,545][kfold_wrapper.log_eval_metrics] Accuracy(layer_0 - estimator_0 - 10_folds.train_2.predict)=99.99%\n",
      "[ 2018-04-21 16:56:13,203][kfold_wrapper.log_eval_metrics] Accuracy(layer_0 - estimator_0 - 10_folds.train_3.predict)=99.98%\n",
      "[ 2018-04-21 16:56:15,653][kfold_wrapper.log_eval_metrics] Accuracy(layer_0 - estimator_0 - 10_folds.train_4.predict)=99.96%\n",
      "[ 2018-04-21 16:56:17,989][kfold_wrapper.log_eval_metrics] Accuracy(layer_0 - estimator_0 - 10_folds.train_5.predict)=99.97%\n",
      "[ 2018-04-21 16:56:20,389][kfold_wrapper.log_eval_metrics] Accuracy(layer_0 - estimator_0 - 10_folds.train_6.predict)=99.98%\n",
      "[ 2018-04-21 16:56:22,727][kfold_wrapper.log_eval_metrics] Accuracy(layer_0 - estimator_0 - 10_folds.train_7.predict)=99.98%\n",
      "[ 2018-04-21 16:56:25,082][kfold_wrapper.log_eval_metrics] Accuracy(layer_0 - estimator_0 - 10_folds.train_8.predict)=99.97%\n",
      "[ 2018-04-21 16:56:27,398][kfold_wrapper.log_eval_metrics] Accuracy(layer_0 - estimator_0 - 10_folds.train_9.predict)=99.99%\n",
      "[ 2018-04-21 16:56:27,694][kfold_wrapper.log_eval_metrics] Accuracy(layer_0 - estimator_0 - 10_folds.train_cv.predict)=99.98%\n",
      "[ 2018-04-21 16:56:27,701][kfold_wrapper.log_eval_metrics] Accuracy(layer_0 - estimator_0 - 10_folds.test.predict)=99.99%\n",
      "[ 2018-04-21 16:56:27,726][cascade_classifier.calc_accuracy] Accuracy(layer_0 - train.classifier_average)=99.98%\n",
      "[ 2018-04-21 16:56:27,731][cascade_classifier.calc_accuracy] Accuracy(layer_0 - test.classifier_average)=99.99%\n",
      "[ 2018-04-21 16:56:27,732][cascade_classifier.fit_transform] [Result][Reach Max Layer] opt_layer_num=1, accuracy_train=99.98%, accuracy_test=99.99%\n",
      "[ 2018-04-21 16:56:27,740][cascade_classifier.transform] X_groups_test.shape=[(163027, 43)]\n",
      "[ 2018-04-21 16:56:27,767][cascade_classifier.transform] group_dims=[43]\n",
      "[ 2018-04-21 16:56:27,769][cascade_classifier.transform] X_test.shape=(163027, 43)\n",
      "[ 2018-04-21 16:56:27,794][cascade_classifier.transform] [layer=0] look_indexs=[0], X_cur_test.shape=(163027, 43)\n"
     ]
    },
    {
     "name": "stdout",
     "output_type": "stream",
     "text": [
      "('Test Accuracy of RandomForest = 99.985892 %', 8, 'fois')\n"
     ]
    },
    {
     "name": "stderr",
     "output_type": "stream",
     "text": [
      "[ 2018-04-21 16:56:30,823][cascade_classifier.fit_transform] X_groups_train.shape=[(330994, 43)],y_train.shape=(330994,),X_groups_test.shape=[(163027, 43)],y_test.shape=(163027,)\n",
      "[ 2018-04-21 16:56:30,890][cascade_classifier.fit_transform] group_dims=[43]\n",
      "[ 2018-04-21 16:56:30,892][cascade_classifier.fit_transform] group_starts=[0]\n",
      "[ 2018-04-21 16:56:30,894][cascade_classifier.fit_transform] group_ends=[43]\n",
      "[ 2018-04-21 16:56:30,895][cascade_classifier.fit_transform] X_train.shape=(330994, 43),X_test.shape=(163027, 43)\n",
      "[ 2018-04-21 16:56:30,970][cascade_classifier.fit_transform] [layer=0] look_indexs=[0], X_cur_train.shape=(330994, 43), X_cur_test.shape=(163027, 43)\n",
      "[ 2018-04-21 16:56:33,401][kfold_wrapper.log_eval_metrics] Accuracy(layer_0 - estimator_0 - 10_folds.train_0.predict)=99.98%\n",
      "[ 2018-04-21 16:56:35,718][kfold_wrapper.log_eval_metrics] Accuracy(layer_0 - estimator_0 - 10_folds.train_1.predict)=99.98%\n",
      "[ 2018-04-21 16:56:38,141][kfold_wrapper.log_eval_metrics] Accuracy(layer_0 - estimator_0 - 10_folds.train_2.predict)=99.99%\n",
      "[ 2018-04-21 16:56:40,372][kfold_wrapper.log_eval_metrics] Accuracy(layer_0 - estimator_0 - 10_folds.train_3.predict)=99.98%\n",
      "[ 2018-04-21 16:56:42,665][kfold_wrapper.log_eval_metrics] Accuracy(layer_0 - estimator_0 - 10_folds.train_4.predict)=99.96%\n",
      "[ 2018-04-21 16:56:45,124][kfold_wrapper.log_eval_metrics] Accuracy(layer_0 - estimator_0 - 10_folds.train_5.predict)=99.97%\n",
      "[ 2018-04-21 16:56:47,512][kfold_wrapper.log_eval_metrics] Accuracy(layer_0 - estimator_0 - 10_folds.train_6.predict)=99.98%\n",
      "[ 2018-04-21 16:56:49,894][kfold_wrapper.log_eval_metrics] Accuracy(layer_0 - estimator_0 - 10_folds.train_7.predict)=99.98%\n",
      "[ 2018-04-21 16:56:52,142][kfold_wrapper.log_eval_metrics] Accuracy(layer_0 - estimator_0 - 10_folds.train_8.predict)=99.98%\n",
      "[ 2018-04-21 16:56:54,397][kfold_wrapper.log_eval_metrics] Accuracy(layer_0 - estimator_0 - 10_folds.train_9.predict)=99.99%\n",
      "[ 2018-04-21 16:56:54,692][kfold_wrapper.log_eval_metrics] Accuracy(layer_0 - estimator_0 - 10_folds.train_cv.predict)=99.98%\n",
      "[ 2018-04-21 16:56:54,697][kfold_wrapper.log_eval_metrics] Accuracy(layer_0 - estimator_0 - 10_folds.test.predict)=99.99%\n",
      "[ 2018-04-21 16:56:54,717][cascade_classifier.calc_accuracy] Accuracy(layer_0 - train.classifier_average)=99.98%\n",
      "[ 2018-04-21 16:56:54,720][cascade_classifier.calc_accuracy] Accuracy(layer_0 - test.classifier_average)=99.99%\n",
      "[ 2018-04-21 16:56:54,721][cascade_classifier.fit_transform] [Result][Reach Max Layer] opt_layer_num=1, accuracy_train=99.98%, accuracy_test=99.99%\n",
      "[ 2018-04-21 16:56:54,724][cascade_classifier.transform] X_groups_test.shape=[(163027, 43)]\n",
      "[ 2018-04-21 16:56:54,749][cascade_classifier.transform] group_dims=[43]\n",
      "[ 2018-04-21 16:56:54,750][cascade_classifier.transform] X_test.shape=(163027, 43)\n",
      "[ 2018-04-21 16:56:54,773][cascade_classifier.transform] [layer=0] look_indexs=[0], X_cur_test.shape=(163027, 43)\n"
     ]
    },
    {
     "name": "stdout",
     "output_type": "stream",
     "text": [
      "('Test Accuracy of RandomForest = 99.985892 %', 9, 'fois')\n"
     ]
    },
    {
     "name": "stderr",
     "output_type": "stream",
     "text": [
      "[ 2018-04-21 16:56:57,943][cascade_classifier.fit_transform] X_groups_train.shape=[(330994, 43)],y_train.shape=(330994,),X_groups_test.shape=[(163027, 43)],y_test.shape=(163027,)\n",
      "[ 2018-04-21 16:56:58,013][cascade_classifier.fit_transform] group_dims=[43]\n",
      "[ 2018-04-21 16:56:58,015][cascade_classifier.fit_transform] group_starts=[0]\n",
      "[ 2018-04-21 16:56:58,017][cascade_classifier.fit_transform] group_ends=[43]\n",
      "[ 2018-04-21 16:56:58,018][cascade_classifier.fit_transform] X_train.shape=(330994, 43),X_test.shape=(163027, 43)\n",
      "[ 2018-04-21 16:56:58,097][cascade_classifier.fit_transform] [layer=0] look_indexs=[0], X_cur_train.shape=(330994, 43), X_cur_test.shape=(163027, 43)\n",
      "[ 2018-04-21 16:57:00,668][kfold_wrapper.log_eval_metrics] Accuracy(layer_0 - estimator_0 - 10_folds.train_0.predict)=99.98%\n",
      "[ 2018-04-21 16:57:03,373][kfold_wrapper.log_eval_metrics] Accuracy(layer_0 - estimator_0 - 10_folds.train_1.predict)=99.98%\n",
      "[ 2018-04-21 16:57:05,730][kfold_wrapper.log_eval_metrics] Accuracy(layer_0 - estimator_0 - 10_folds.train_2.predict)=99.99%\n",
      "[ 2018-04-21 16:57:07,873][kfold_wrapper.log_eval_metrics] Accuracy(layer_0 - estimator_0 - 10_folds.train_3.predict)=99.98%\n",
      "[ 2018-04-21 16:57:10,138][kfold_wrapper.log_eval_metrics] Accuracy(layer_0 - estimator_0 - 10_folds.train_4.predict)=99.96%\n",
      "[ 2018-04-21 16:57:12,376][kfold_wrapper.log_eval_metrics] Accuracy(layer_0 - estimator_0 - 10_folds.train_5.predict)=99.97%\n",
      "[ 2018-04-21 16:57:14,795][kfold_wrapper.log_eval_metrics] Accuracy(layer_0 - estimator_0 - 10_folds.train_6.predict)=99.98%\n",
      "[ 2018-04-21 16:57:16,923][kfold_wrapper.log_eval_metrics] Accuracy(layer_0 - estimator_0 - 10_folds.train_7.predict)=99.98%\n",
      "[ 2018-04-21 16:57:19,488][kfold_wrapper.log_eval_metrics] Accuracy(layer_0 - estimator_0 - 10_folds.train_8.predict)=99.98%\n",
      "[ 2018-04-21 16:57:21,751][kfold_wrapper.log_eval_metrics] Accuracy(layer_0 - estimator_0 - 10_folds.train_9.predict)=99.99%\n",
      "[ 2018-04-21 16:57:22,032][kfold_wrapper.log_eval_metrics] Accuracy(layer_0 - estimator_0 - 10_folds.train_cv.predict)=99.98%\n",
      "[ 2018-04-21 16:57:22,037][kfold_wrapper.log_eval_metrics] Accuracy(layer_0 - estimator_0 - 10_folds.test.predict)=99.99%\n",
      "[ 2018-04-21 16:57:22,057][cascade_classifier.calc_accuracy] Accuracy(layer_0 - train.classifier_average)=99.98%\n",
      "[ 2018-04-21 16:57:22,061][cascade_classifier.calc_accuracy] Accuracy(layer_0 - test.classifier_average)=99.99%\n",
      "[ 2018-04-21 16:57:22,062][cascade_classifier.fit_transform] [Result][Reach Max Layer] opt_layer_num=1, accuracy_train=99.98%, accuracy_test=99.99%\n",
      "[ 2018-04-21 16:57:22,065][cascade_classifier.transform] X_groups_test.shape=[(163027, 43)]\n",
      "[ 2018-04-21 16:57:22,091][cascade_classifier.transform] group_dims=[43]\n",
      "[ 2018-04-21 16:57:22,093][cascade_classifier.transform] X_test.shape=(163027, 43)\n",
      "[ 2018-04-21 16:57:22,121][cascade_classifier.transform] [layer=0] look_indexs=[0], X_cur_test.shape=(163027, 43)\n"
     ]
    },
    {
     "name": "stdout",
     "output_type": "stream",
     "text": [
      "('Test Accuracy of RandomForest = 99.985892 %', 10, 'fois')\n"
     ]
    },
    {
     "name": "stderr",
     "output_type": "stream",
     "text": [
      "[ 2018-04-21 16:57:25,245][cascade_classifier.fit_transform] X_groups_train.shape=[(330994, 43)],y_train.shape=(330994,),X_groups_test.shape=[(163027, 43)],y_test.shape=(163027,)\n",
      "[ 2018-04-21 16:57:25,313][cascade_classifier.fit_transform] group_dims=[43]\n",
      "[ 2018-04-21 16:57:25,314][cascade_classifier.fit_transform] group_starts=[0]\n",
      "[ 2018-04-21 16:57:25,316][cascade_classifier.fit_transform] group_ends=[43]\n",
      "[ 2018-04-21 16:57:25,318][cascade_classifier.fit_transform] X_train.shape=(330994, 43),X_test.shape=(163027, 43)\n",
      "[ 2018-04-21 16:57:25,394][cascade_classifier.fit_transform] [layer=0] look_indexs=[0], X_cur_train.shape=(330994, 43), X_cur_test.shape=(163027, 43)\n",
      "[ 2018-04-21 16:57:27,593][kfold_wrapper.log_eval_metrics] Accuracy(layer_0 - estimator_0 - 10_folds.train_0.predict)=99.98%\n",
      "[ 2018-04-21 16:57:29,927][kfold_wrapper.log_eval_metrics] Accuracy(layer_0 - estimator_0 - 10_folds.train_1.predict)=99.98%\n",
      "[ 2018-04-21 16:57:32,085][kfold_wrapper.log_eval_metrics] Accuracy(layer_0 - estimator_0 - 10_folds.train_2.predict)=99.99%\n",
      "[ 2018-04-21 16:57:34,687][kfold_wrapper.log_eval_metrics] Accuracy(layer_0 - estimator_0 - 10_folds.train_3.predict)=99.98%\n",
      "[ 2018-04-21 16:57:37,428][kfold_wrapper.log_eval_metrics] Accuracy(layer_0 - estimator_0 - 10_folds.train_4.predict)=99.96%\n",
      "[ 2018-04-21 16:57:39,722][kfold_wrapper.log_eval_metrics] Accuracy(layer_0 - estimator_0 - 10_folds.train_5.predict)=99.97%\n",
      "[ 2018-04-21 16:57:42,149][kfold_wrapper.log_eval_metrics] Accuracy(layer_0 - estimator_0 - 10_folds.train_6.predict)=99.98%\n",
      "[ 2018-04-21 16:57:44,419][kfold_wrapper.log_eval_metrics] Accuracy(layer_0 - estimator_0 - 10_folds.train_7.predict)=99.97%\n",
      "[ 2018-04-21 16:57:46,934][kfold_wrapper.log_eval_metrics] Accuracy(layer_0 - estimator_0 - 10_folds.train_8.predict)=99.98%\n",
      "[ 2018-04-21 16:57:49,206][kfold_wrapper.log_eval_metrics] Accuracy(layer_0 - estimator_0 - 10_folds.train_9.predict)=99.99%\n",
      "[ 2018-04-21 16:57:49,487][kfold_wrapper.log_eval_metrics] Accuracy(layer_0 - estimator_0 - 10_folds.train_cv.predict)=99.98%\n",
      "[ 2018-04-21 16:57:49,493][kfold_wrapper.log_eval_metrics] Accuracy(layer_0 - estimator_0 - 10_folds.test.predict)=99.99%\n",
      "[ 2018-04-21 16:57:49,521][cascade_classifier.calc_accuracy] Accuracy(layer_0 - train.classifier_average)=99.98%\n",
      "[ 2018-04-21 16:57:49,525][cascade_classifier.calc_accuracy] Accuracy(layer_0 - test.classifier_average)=99.99%\n",
      "[ 2018-04-21 16:57:49,527][cascade_classifier.fit_transform] [Result][Reach Max Layer] opt_layer_num=1, accuracy_train=99.98%, accuracy_test=99.99%\n",
      "[ 2018-04-21 16:57:49,531][cascade_classifier.transform] X_groups_test.shape=[(163027, 43)]\n",
      "[ 2018-04-21 16:57:49,558][cascade_classifier.transform] group_dims=[43]\n",
      "[ 2018-04-21 16:57:49,560][cascade_classifier.transform] X_test.shape=(163027, 43)\n",
      "[ 2018-04-21 16:57:49,585][cascade_classifier.transform] [layer=0] look_indexs=[0], X_cur_test.shape=(163027, 43)\n"
     ]
    },
    {
     "name": "stdout",
     "output_type": "stream",
     "text": [
      "('Test Accuracy of RandomForest = 99.985892 %', 11, 'fois')\n"
     ]
    },
    {
     "name": "stderr",
     "output_type": "stream",
     "text": [
      "[ 2018-04-21 16:57:52,660][cascade_classifier.fit_transform] X_groups_train.shape=[(330994, 43)],y_train.shape=(330994,),X_groups_test.shape=[(163027, 43)],y_test.shape=(163027,)\n",
      "[ 2018-04-21 16:57:52,730][cascade_classifier.fit_transform] group_dims=[43]\n",
      "[ 2018-04-21 16:57:52,731][cascade_classifier.fit_transform] group_starts=[0]\n",
      "[ 2018-04-21 16:57:52,733][cascade_classifier.fit_transform] group_ends=[43]\n",
      "[ 2018-04-21 16:57:52,734][cascade_classifier.fit_transform] X_train.shape=(330994, 43),X_test.shape=(163027, 43)\n",
      "[ 2018-04-21 16:57:52,810][cascade_classifier.fit_transform] [layer=0] look_indexs=[0], X_cur_train.shape=(330994, 43), X_cur_test.shape=(163027, 43)\n",
      "[ 2018-04-21 16:57:55,054][kfold_wrapper.log_eval_metrics] Accuracy(layer_0 - estimator_0 - 10_folds.train_0.predict)=99.98%\n",
      "[ 2018-04-21 16:57:57,572][kfold_wrapper.log_eval_metrics] Accuracy(layer_0 - estimator_0 - 10_folds.train_1.predict)=99.98%\n",
      "[ 2018-04-21 16:57:59,819][kfold_wrapper.log_eval_metrics] Accuracy(layer_0 - estimator_0 - 10_folds.train_2.predict)=99.99%\n",
      "[ 2018-04-21 16:58:02,077][kfold_wrapper.log_eval_metrics] Accuracy(layer_0 - estimator_0 - 10_folds.train_3.predict)=99.98%\n",
      "[ 2018-04-21 16:58:04,978][kfold_wrapper.log_eval_metrics] Accuracy(layer_0 - estimator_0 - 10_folds.train_4.predict)=99.96%\n",
      "[ 2018-04-21 16:58:07,322][kfold_wrapper.log_eval_metrics] Accuracy(layer_0 - estimator_0 - 10_folds.train_5.predict)=99.97%\n",
      "[ 2018-04-21 16:58:09,549][kfold_wrapper.log_eval_metrics] Accuracy(layer_0 - estimator_0 - 10_folds.train_6.predict)=99.97%\n",
      "[ 2018-04-21 16:58:11,964][kfold_wrapper.log_eval_metrics] Accuracy(layer_0 - estimator_0 - 10_folds.train_7.predict)=99.97%\n",
      "[ 2018-04-21 16:58:14,129][kfold_wrapper.log_eval_metrics] Accuracy(layer_0 - estimator_0 - 10_folds.train_8.predict)=99.98%\n",
      "[ 2018-04-21 16:58:16,675][kfold_wrapper.log_eval_metrics] Accuracy(layer_0 - estimator_0 - 10_folds.train_9.predict)=99.99%\n",
      "[ 2018-04-21 16:58:16,967][kfold_wrapper.log_eval_metrics] Accuracy(layer_0 - estimator_0 - 10_folds.train_cv.predict)=99.97%\n",
      "[ 2018-04-21 16:58:16,977][kfold_wrapper.log_eval_metrics] Accuracy(layer_0 - estimator_0 - 10_folds.test.predict)=99.99%\n",
      "[ 2018-04-21 16:58:17,004][cascade_classifier.calc_accuracy] Accuracy(layer_0 - train.classifier_average)=99.97%\n",
      "[ 2018-04-21 16:58:17,009][cascade_classifier.calc_accuracy] Accuracy(layer_0 - test.classifier_average)=99.99%\n",
      "[ 2018-04-21 16:58:17,011][cascade_classifier.fit_transform] [Result][Reach Max Layer] opt_layer_num=1, accuracy_train=99.97%, accuracy_test=99.99%\n",
      "[ 2018-04-21 16:58:17,014][cascade_classifier.transform] X_groups_test.shape=[(163027, 43)]\n",
      "[ 2018-04-21 16:58:17,043][cascade_classifier.transform] group_dims=[43]\n",
      "[ 2018-04-21 16:58:17,045][cascade_classifier.transform] X_test.shape=(163027, 43)\n",
      "[ 2018-04-21 16:58:17,071][cascade_classifier.transform] [layer=0] look_indexs=[0], X_cur_test.shape=(163027, 43)\n"
     ]
    },
    {
     "name": "stdout",
     "output_type": "stream",
     "text": [
      "('Test Accuracy of RandomForest = 99.985892 %', 12, 'fois')\n"
     ]
    },
    {
     "name": "stderr",
     "output_type": "stream",
     "text": [
      "[ 2018-04-21 16:58:20,104][cascade_classifier.fit_transform] X_groups_train.shape=[(330994, 43)],y_train.shape=(330994,),X_groups_test.shape=[(163027, 43)],y_test.shape=(163027,)\n",
      "[ 2018-04-21 16:58:20,174][cascade_classifier.fit_transform] group_dims=[43]\n",
      "[ 2018-04-21 16:58:20,177][cascade_classifier.fit_transform] group_starts=[0]\n",
      "[ 2018-04-21 16:58:20,179][cascade_classifier.fit_transform] group_ends=[43]\n",
      "[ 2018-04-21 16:58:20,181][cascade_classifier.fit_transform] X_train.shape=(330994, 43),X_test.shape=(163027, 43)\n",
      "[ 2018-04-21 16:58:20,257][cascade_classifier.fit_transform] [layer=0] look_indexs=[0], X_cur_train.shape=(330994, 43), X_cur_test.shape=(163027, 43)\n",
      "[ 2018-04-21 16:58:22,794][kfold_wrapper.log_eval_metrics] Accuracy(layer_0 - estimator_0 - 10_folds.train_0.predict)=99.98%\n",
      "[ 2018-04-21 16:58:25,127][kfold_wrapper.log_eval_metrics] Accuracy(layer_0 - estimator_0 - 10_folds.train_1.predict)=99.98%\n",
      "[ 2018-04-21 16:58:27,445][kfold_wrapper.log_eval_metrics] Accuracy(layer_0 - estimator_0 - 10_folds.train_2.predict)=99.99%\n",
      "[ 2018-04-21 16:58:29,909][kfold_wrapper.log_eval_metrics] Accuracy(layer_0 - estimator_0 - 10_folds.train_3.predict)=99.98%\n",
      "[ 2018-04-21 16:58:32,198][kfold_wrapper.log_eval_metrics] Accuracy(layer_0 - estimator_0 - 10_folds.train_4.predict)=99.96%\n",
      "[ 2018-04-21 16:58:34,422][kfold_wrapper.log_eval_metrics] Accuracy(layer_0 - estimator_0 - 10_folds.train_5.predict)=99.97%\n",
      "[ 2018-04-21 16:58:36,711][kfold_wrapper.log_eval_metrics] Accuracy(layer_0 - estimator_0 - 10_folds.train_6.predict)=99.97%\n",
      "[ 2018-04-21 16:58:39,191][kfold_wrapper.log_eval_metrics] Accuracy(layer_0 - estimator_0 - 10_folds.train_7.predict)=99.97%\n",
      "[ 2018-04-21 16:58:41,463][kfold_wrapper.log_eval_metrics] Accuracy(layer_0 - estimator_0 - 10_folds.train_8.predict)=99.97%\n",
      "[ 2018-04-21 16:58:43,670][kfold_wrapper.log_eval_metrics] Accuracy(layer_0 - estimator_0 - 10_folds.train_9.predict)=99.99%\n",
      "[ 2018-04-21 16:58:43,954][kfold_wrapper.log_eval_metrics] Accuracy(layer_0 - estimator_0 - 10_folds.train_cv.predict)=99.98%\n",
      "[ 2018-04-21 16:58:43,960][kfold_wrapper.log_eval_metrics] Accuracy(layer_0 - estimator_0 - 10_folds.test.predict)=99.99%\n",
      "[ 2018-04-21 16:58:43,984][cascade_classifier.calc_accuracy] Accuracy(layer_0 - train.classifier_average)=99.98%\n",
      "[ 2018-04-21 16:58:43,989][cascade_classifier.calc_accuracy] Accuracy(layer_0 - test.classifier_average)=99.99%\n",
      "[ 2018-04-21 16:58:43,991][cascade_classifier.fit_transform] [Result][Reach Max Layer] opt_layer_num=1, accuracy_train=99.98%, accuracy_test=99.99%\n",
      "[ 2018-04-21 16:58:43,994][cascade_classifier.transform] X_groups_test.shape=[(163027, 43)]\n",
      "[ 2018-04-21 16:58:44,021][cascade_classifier.transform] group_dims=[43]\n",
      "[ 2018-04-21 16:58:44,023][cascade_classifier.transform] X_test.shape=(163027, 43)\n",
      "[ 2018-04-21 16:58:44,048][cascade_classifier.transform] [layer=0] look_indexs=[0], X_cur_test.shape=(163027, 43)\n"
     ]
    },
    {
     "name": "stdout",
     "output_type": "stream",
     "text": [
      "('Test Accuracy of RandomForest = 99.985892 %', 13, 'fois')\n"
     ]
    },
    {
     "name": "stderr",
     "output_type": "stream",
     "text": [
      "[ 2018-04-21 16:58:47,177][cascade_classifier.fit_transform] X_groups_train.shape=[(330994, 43)],y_train.shape=(330994,),X_groups_test.shape=[(163027, 43)],y_test.shape=(163027,)\n",
      "[ 2018-04-21 16:58:47,246][cascade_classifier.fit_transform] group_dims=[43]\n",
      "[ 2018-04-21 16:58:47,249][cascade_classifier.fit_transform] group_starts=[0]\n",
      "[ 2018-04-21 16:58:47,251][cascade_classifier.fit_transform] group_ends=[43]\n",
      "[ 2018-04-21 16:58:47,252][cascade_classifier.fit_transform] X_train.shape=(330994, 43),X_test.shape=(163027, 43)\n",
      "[ 2018-04-21 16:58:47,325][cascade_classifier.fit_transform] [layer=0] look_indexs=[0], X_cur_train.shape=(330994, 43), X_cur_test.shape=(163027, 43)\n",
      "[ 2018-04-21 16:58:49,762][kfold_wrapper.log_eval_metrics] Accuracy(layer_0 - estimator_0 - 10_folds.train_0.predict)=99.98%\n",
      "[ 2018-04-21 16:58:52,249][kfold_wrapper.log_eval_metrics] Accuracy(layer_0 - estimator_0 - 10_folds.train_1.predict)=99.98%\n",
      "[ 2018-04-21 16:58:54,537][kfold_wrapper.log_eval_metrics] Accuracy(layer_0 - estimator_0 - 10_folds.train_2.predict)=99.99%\n",
      "[ 2018-04-21 16:58:56,818][kfold_wrapper.log_eval_metrics] Accuracy(layer_0 - estimator_0 - 10_folds.train_3.predict)=99.98%\n",
      "[ 2018-04-21 16:58:59,434][kfold_wrapper.log_eval_metrics] Accuracy(layer_0 - estimator_0 - 10_folds.train_4.predict)=99.96%\n",
      "[ 2018-04-21 16:59:02,034][kfold_wrapper.log_eval_metrics] Accuracy(layer_0 - estimator_0 - 10_folds.train_5.predict)=99.97%\n",
      "[ 2018-04-21 16:59:04,230][kfold_wrapper.log_eval_metrics] Accuracy(layer_0 - estimator_0 - 10_folds.train_6.predict)=99.98%\n",
      "[ 2018-04-21 16:59:06,446][kfold_wrapper.log_eval_metrics] Accuracy(layer_0 - estimator_0 - 10_folds.train_7.predict)=99.97%\n",
      "[ 2018-04-21 16:59:08,639][kfold_wrapper.log_eval_metrics] Accuracy(layer_0 - estimator_0 - 10_folds.train_8.predict)=99.97%\n",
      "[ 2018-04-21 16:59:11,110][kfold_wrapper.log_eval_metrics] Accuracy(layer_0 - estimator_0 - 10_folds.train_9.predict)=99.99%\n",
      "[ 2018-04-21 16:59:11,406][kfold_wrapper.log_eval_metrics] Accuracy(layer_0 - estimator_0 - 10_folds.train_cv.predict)=99.98%\n",
      "[ 2018-04-21 16:59:11,410][kfold_wrapper.log_eval_metrics] Accuracy(layer_0 - estimator_0 - 10_folds.test.predict)=99.99%\n",
      "[ 2018-04-21 16:59:11,428][cascade_classifier.calc_accuracy] Accuracy(layer_0 - train.classifier_average)=99.98%\n",
      "[ 2018-04-21 16:59:11,431][cascade_classifier.calc_accuracy] Accuracy(layer_0 - test.classifier_average)=99.99%\n",
      "[ 2018-04-21 16:59:11,433][cascade_classifier.fit_transform] [Result][Reach Max Layer] opt_layer_num=1, accuracy_train=99.98%, accuracy_test=99.99%\n",
      "[ 2018-04-21 16:59:11,435][cascade_classifier.transform] X_groups_test.shape=[(163027, 43)]\n",
      "[ 2018-04-21 16:59:11,459][cascade_classifier.transform] group_dims=[43]\n",
      "[ 2018-04-21 16:59:11,461][cascade_classifier.transform] X_test.shape=(163027, 43)\n",
      "[ 2018-04-21 16:59:11,485][cascade_classifier.transform] [layer=0] look_indexs=[0], X_cur_test.shape=(163027, 43)\n"
     ]
    },
    {
     "name": "stdout",
     "output_type": "stream",
     "text": [
      "('Test Accuracy of RandomForest = 99.985892 %', 14, 'fois')\n"
     ]
    },
    {
     "name": "stderr",
     "output_type": "stream",
     "text": [
      "[ 2018-04-21 16:59:14,484][cascade_classifier.fit_transform] X_groups_train.shape=[(330994, 43)],y_train.shape=(330994,),X_groups_test.shape=[(163027, 43)],y_test.shape=(163027,)\n",
      "[ 2018-04-21 16:59:14,551][cascade_classifier.fit_transform] group_dims=[43]\n",
      "[ 2018-04-21 16:59:14,552][cascade_classifier.fit_transform] group_starts=[0]\n",
      "[ 2018-04-21 16:59:14,554][cascade_classifier.fit_transform] group_ends=[43]\n",
      "[ 2018-04-21 16:59:14,556][cascade_classifier.fit_transform] X_train.shape=(330994, 43),X_test.shape=(163027, 43)\n",
      "[ 2018-04-21 16:59:14,630][cascade_classifier.fit_transform] [layer=0] look_indexs=[0], X_cur_train.shape=(330994, 43), X_cur_test.shape=(163027, 43)\n",
      "[ 2018-04-21 16:59:16,954][kfold_wrapper.log_eval_metrics] Accuracy(layer_0 - estimator_0 - 10_folds.train_0.predict)=99.98%\n",
      "[ 2018-04-21 16:59:19,427][kfold_wrapper.log_eval_metrics] Accuracy(layer_0 - estimator_0 - 10_folds.train_1.predict)=99.98%\n",
      "[ 2018-04-21 16:59:21,717][kfold_wrapper.log_eval_metrics] Accuracy(layer_0 - estimator_0 - 10_folds.train_2.predict)=99.99%\n",
      "[ 2018-04-21 16:59:24,157][kfold_wrapper.log_eval_metrics] Accuracy(layer_0 - estimator_0 - 10_folds.train_3.predict)=99.98%\n",
      "[ 2018-04-21 16:59:26,330][kfold_wrapper.log_eval_metrics] Accuracy(layer_0 - estimator_0 - 10_folds.train_4.predict)=99.96%\n",
      "[ 2018-04-21 16:59:28,655][kfold_wrapper.log_eval_metrics] Accuracy(layer_0 - estimator_0 - 10_folds.train_5.predict)=99.97%\n",
      "[ 2018-04-21 16:59:30,929][kfold_wrapper.log_eval_metrics] Accuracy(layer_0 - estimator_0 - 10_folds.train_6.predict)=99.97%\n",
      "[ 2018-04-21 16:59:33,328][kfold_wrapper.log_eval_metrics] Accuracy(layer_0 - estimator_0 - 10_folds.train_7.predict)=99.98%\n",
      "[ 2018-04-21 16:59:35,518][kfold_wrapper.log_eval_metrics] Accuracy(layer_0 - estimator_0 - 10_folds.train_8.predict)=99.97%\n",
      "[ 2018-04-21 16:59:37,841][kfold_wrapper.log_eval_metrics] Accuracy(layer_0 - estimator_0 - 10_folds.train_9.predict)=99.99%\n",
      "[ 2018-04-21 16:59:38,110][kfold_wrapper.log_eval_metrics] Accuracy(layer_0 - estimator_0 - 10_folds.train_cv.predict)=99.98%\n",
      "[ 2018-04-21 16:59:38,114][kfold_wrapper.log_eval_metrics] Accuracy(layer_0 - estimator_0 - 10_folds.test.predict)=99.99%\n",
      "[ 2018-04-21 16:59:38,135][cascade_classifier.calc_accuracy] Accuracy(layer_0 - train.classifier_average)=99.98%\n",
      "[ 2018-04-21 16:59:38,139][cascade_classifier.calc_accuracy] Accuracy(layer_0 - test.classifier_average)=99.99%\n",
      "[ 2018-04-21 16:59:38,140][cascade_classifier.fit_transform] [Result][Reach Max Layer] opt_layer_num=1, accuracy_train=99.98%, accuracy_test=99.99%\n",
      "[ 2018-04-21 16:59:38,143][cascade_classifier.transform] X_groups_test.shape=[(163027, 43)]\n",
      "[ 2018-04-21 16:59:38,171][cascade_classifier.transform] group_dims=[43]\n",
      "[ 2018-04-21 16:59:38,173][cascade_classifier.transform] X_test.shape=(163027, 43)\n",
      "[ 2018-04-21 16:59:38,197][cascade_classifier.transform] [layer=0] look_indexs=[0], X_cur_test.shape=(163027, 43)\n"
     ]
    },
    {
     "name": "stdout",
     "output_type": "stream",
     "text": [
      "('Test Accuracy of RandomForest = 99.985892 %', 15, 'fois')\n"
     ]
    },
    {
     "name": "stderr",
     "output_type": "stream",
     "text": [
      "[ 2018-04-21 16:59:41,228][cascade_classifier.fit_transform] X_groups_train.shape=[(330994, 43)],y_train.shape=(330994,),X_groups_test.shape=[(163027, 43)],y_test.shape=(163027,)\n",
      "[ 2018-04-21 16:59:41,296][cascade_classifier.fit_transform] group_dims=[43]\n",
      "[ 2018-04-21 16:59:41,298][cascade_classifier.fit_transform] group_starts=[0]\n",
      "[ 2018-04-21 16:59:41,300][cascade_classifier.fit_transform] group_ends=[43]\n",
      "[ 2018-04-21 16:59:41,301][cascade_classifier.fit_transform] X_train.shape=(330994, 43),X_test.shape=(163027, 43)\n",
      "[ 2018-04-21 16:59:41,399][cascade_classifier.fit_transform] [layer=0] look_indexs=[0], X_cur_train.shape=(330994, 43), X_cur_test.shape=(163027, 43)\n",
      "[ 2018-04-21 16:59:44,773][kfold_wrapper.log_eval_metrics] Accuracy(layer_0 - estimator_0 - 10_folds.train_0.predict)=99.98%\n",
      "[ 2018-04-21 16:59:47,260][kfold_wrapper.log_eval_metrics] Accuracy(layer_0 - estimator_0 - 10_folds.train_1.predict)=99.98%\n",
      "[ 2018-04-21 16:59:49,721][kfold_wrapper.log_eval_metrics] Accuracy(layer_0 - estimator_0 - 10_folds.train_2.predict)=99.99%\n",
      "[ 2018-04-21 16:59:52,116][kfold_wrapper.log_eval_metrics] Accuracy(layer_0 - estimator_0 - 10_folds.train_3.predict)=99.98%\n",
      "[ 2018-04-21 16:59:54,812][kfold_wrapper.log_eval_metrics] Accuracy(layer_0 - estimator_0 - 10_folds.train_4.predict)=99.96%\n",
      "[ 2018-04-21 16:59:57,159][kfold_wrapper.log_eval_metrics] Accuracy(layer_0 - estimator_0 - 10_folds.train_5.predict)=99.97%\n",
      "[ 2018-04-21 16:59:59,541][kfold_wrapper.log_eval_metrics] Accuracy(layer_0 - estimator_0 - 10_folds.train_6.predict)=99.97%\n",
      "[ 2018-04-21 17:00:02,023][kfold_wrapper.log_eval_metrics] Accuracy(layer_0 - estimator_0 - 10_folds.train_7.predict)=99.98%\n",
      "[ 2018-04-21 17:00:04,251][kfold_wrapper.log_eval_metrics] Accuracy(layer_0 - estimator_0 - 10_folds.train_8.predict)=99.97%\n",
      "[ 2018-04-21 17:00:06,572][kfold_wrapper.log_eval_metrics] Accuracy(layer_0 - estimator_0 - 10_folds.train_9.predict)=99.98%\n",
      "[ 2018-04-21 17:00:06,861][kfold_wrapper.log_eval_metrics] Accuracy(layer_0 - estimator_0 - 10_folds.train_cv.predict)=99.98%\n",
      "[ 2018-04-21 17:00:06,866][kfold_wrapper.log_eval_metrics] Accuracy(layer_0 - estimator_0 - 10_folds.test.predict)=99.99%\n",
      "[ 2018-04-21 17:00:06,892][cascade_classifier.calc_accuracy] Accuracy(layer_0 - train.classifier_average)=99.98%\n",
      "[ 2018-04-21 17:00:06,896][cascade_classifier.calc_accuracy] Accuracy(layer_0 - test.classifier_average)=99.99%\n",
      "[ 2018-04-21 17:00:06,897][cascade_classifier.fit_transform] [Result][Reach Max Layer] opt_layer_num=1, accuracy_train=99.98%, accuracy_test=99.99%\n",
      "[ 2018-04-21 17:00:06,900][cascade_classifier.transform] X_groups_test.shape=[(163027, 43)]\n",
      "[ 2018-04-21 17:00:06,926][cascade_classifier.transform] group_dims=[43]\n",
      "[ 2018-04-21 17:00:06,928][cascade_classifier.transform] X_test.shape=(163027, 43)\n",
      "[ 2018-04-21 17:00:06,953][cascade_classifier.transform] [layer=0] look_indexs=[0], X_cur_test.shape=(163027, 43)\n"
     ]
    },
    {
     "name": "stdout",
     "output_type": "stream",
     "text": [
      "('Test Accuracy of RandomForest = 99.985279 %', 16, 'fois')\n"
     ]
    },
    {
     "name": "stderr",
     "output_type": "stream",
     "text": [
      "[ 2018-04-21 17:00:10,048][cascade_classifier.fit_transform] X_groups_train.shape=[(330994, 43)],y_train.shape=(330994,),X_groups_test.shape=[(163027, 43)],y_test.shape=(163027,)\n",
      "[ 2018-04-21 17:00:10,119][cascade_classifier.fit_transform] group_dims=[43]\n",
      "[ 2018-04-21 17:00:10,121][cascade_classifier.fit_transform] group_starts=[0]\n",
      "[ 2018-04-21 17:00:10,123][cascade_classifier.fit_transform] group_ends=[43]\n",
      "[ 2018-04-21 17:00:10,124][cascade_classifier.fit_transform] X_train.shape=(330994, 43),X_test.shape=(163027, 43)\n",
      "[ 2018-04-21 17:00:10,200][cascade_classifier.fit_transform] [layer=0] look_indexs=[0], X_cur_train.shape=(330994, 43), X_cur_test.shape=(163027, 43)\n",
      "[ 2018-04-21 17:00:12,600][kfold_wrapper.log_eval_metrics] Accuracy(layer_0 - estimator_0 - 10_folds.train_0.predict)=99.98%\n",
      "[ 2018-04-21 17:00:15,042][kfold_wrapper.log_eval_metrics] Accuracy(layer_0 - estimator_0 - 10_folds.train_1.predict)=99.98%\n",
      "[ 2018-04-21 17:00:17,290][kfold_wrapper.log_eval_metrics] Accuracy(layer_0 - estimator_0 - 10_folds.train_2.predict)=99.99%\n",
      "[ 2018-04-21 17:00:19,820][kfold_wrapper.log_eval_metrics] Accuracy(layer_0 - estimator_0 - 10_folds.train_3.predict)=99.98%\n",
      "[ 2018-04-21 17:00:21,993][kfold_wrapper.log_eval_metrics] Accuracy(layer_0 - estimator_0 - 10_folds.train_4.predict)=99.96%\n",
      "[ 2018-04-21 17:00:24,549][kfold_wrapper.log_eval_metrics] Accuracy(layer_0 - estimator_0 - 10_folds.train_5.predict)=99.97%\n",
      "[ 2018-04-21 17:00:26,831][kfold_wrapper.log_eval_metrics] Accuracy(layer_0 - estimator_0 - 10_folds.train_6.predict)=99.97%\n",
      "[ 2018-04-21 17:00:29,243][kfold_wrapper.log_eval_metrics] Accuracy(layer_0 - estimator_0 - 10_folds.train_7.predict)=99.97%\n",
      "[ 2018-04-21 17:00:31,409][kfold_wrapper.log_eval_metrics] Accuracy(layer_0 - estimator_0 - 10_folds.train_8.predict)=99.97%\n",
      "[ 2018-04-21 17:00:33,789][kfold_wrapper.log_eval_metrics] Accuracy(layer_0 - estimator_0 - 10_folds.train_9.predict)=99.98%\n",
      "[ 2018-04-21 17:00:34,063][kfold_wrapper.log_eval_metrics] Accuracy(layer_0 - estimator_0 - 10_folds.train_cv.predict)=99.97%\n",
      "[ 2018-04-21 17:00:34,069][kfold_wrapper.log_eval_metrics] Accuracy(layer_0 - estimator_0 - 10_folds.test.predict)=99.99%\n",
      "[ 2018-04-21 17:00:34,093][cascade_classifier.calc_accuracy] Accuracy(layer_0 - train.classifier_average)=99.97%\n",
      "[ 2018-04-21 17:00:34,097][cascade_classifier.calc_accuracy] Accuracy(layer_0 - test.classifier_average)=99.99%\n",
      "[ 2018-04-21 17:00:34,099][cascade_classifier.fit_transform] [Result][Reach Max Layer] opt_layer_num=1, accuracy_train=99.97%, accuracy_test=99.99%\n",
      "[ 2018-04-21 17:00:34,102][cascade_classifier.transform] X_groups_test.shape=[(163027, 43)]\n",
      "[ 2018-04-21 17:00:34,128][cascade_classifier.transform] group_dims=[43]\n",
      "[ 2018-04-21 17:00:34,130][cascade_classifier.transform] X_test.shape=(163027, 43)\n",
      "[ 2018-04-21 17:00:34,158][cascade_classifier.transform] [layer=0] look_indexs=[0], X_cur_test.shape=(163027, 43)\n"
     ]
    },
    {
     "name": "stdout",
     "output_type": "stream",
     "text": [
      "('Test Accuracy of RandomForest = 99.985279 %', 17, 'fois')\n"
     ]
    },
    {
     "name": "stderr",
     "output_type": "stream",
     "text": [
      "[ 2018-04-21 17:00:37,275][cascade_classifier.fit_transform] X_groups_train.shape=[(330994, 43)],y_train.shape=(330994,),X_groups_test.shape=[(163027, 43)],y_test.shape=(163027,)\n",
      "[ 2018-04-21 17:00:37,343][cascade_classifier.fit_transform] group_dims=[43]\n",
      "[ 2018-04-21 17:00:37,344][cascade_classifier.fit_transform] group_starts=[0]\n",
      "[ 2018-04-21 17:00:37,346][cascade_classifier.fit_transform] group_ends=[43]\n",
      "[ 2018-04-21 17:00:37,347][cascade_classifier.fit_transform] X_train.shape=(330994, 43),X_test.shape=(163027, 43)\n",
      "[ 2018-04-21 17:00:37,425][cascade_classifier.fit_transform] [layer=0] look_indexs=[0], X_cur_train.shape=(330994, 43), X_cur_test.shape=(163027, 43)\n",
      "[ 2018-04-21 17:00:39,842][kfold_wrapper.log_eval_metrics] Accuracy(layer_0 - estimator_0 - 10_folds.train_0.predict)=99.98%\n",
      "[ 2018-04-21 17:00:42,113][kfold_wrapper.log_eval_metrics] Accuracy(layer_0 - estimator_0 - 10_folds.train_1.predict)=99.98%\n",
      "[ 2018-04-21 17:00:44,578][kfold_wrapper.log_eval_metrics] Accuracy(layer_0 - estimator_0 - 10_folds.train_2.predict)=99.99%\n",
      "[ 2018-04-21 17:00:46,813][kfold_wrapper.log_eval_metrics] Accuracy(layer_0 - estimator_0 - 10_folds.train_3.predict)=99.98%\n",
      "[ 2018-04-21 17:00:49,300][kfold_wrapper.log_eval_metrics] Accuracy(layer_0 - estimator_0 - 10_folds.train_4.predict)=99.96%\n",
      "[ 2018-04-21 17:00:51,593][kfold_wrapper.log_eval_metrics] Accuracy(layer_0 - estimator_0 - 10_folds.train_5.predict)=99.97%\n",
      "[ 2018-04-21 17:00:53,967][kfold_wrapper.log_eval_metrics] Accuracy(layer_0 - estimator_0 - 10_folds.train_6.predict)=99.97%\n",
      "[ 2018-04-21 17:00:56,479][kfold_wrapper.log_eval_metrics] Accuracy(layer_0 - estimator_0 - 10_folds.train_7.predict)=99.97%\n",
      "[ 2018-04-21 17:00:58,885][kfold_wrapper.log_eval_metrics] Accuracy(layer_0 - estimator_0 - 10_folds.train_8.predict)=99.96%\n",
      "[ 2018-04-21 17:01:01,265][kfold_wrapper.log_eval_metrics] Accuracy(layer_0 - estimator_0 - 10_folds.train_9.predict)=99.98%\n",
      "[ 2018-04-21 17:01:01,668][kfold_wrapper.log_eval_metrics] Accuracy(layer_0 - estimator_0 - 10_folds.train_cv.predict)=99.97%\n",
      "[ 2018-04-21 17:01:01,673][kfold_wrapper.log_eval_metrics] Accuracy(layer_0 - estimator_0 - 10_folds.test.predict)=99.99%\n",
      "[ 2018-04-21 17:01:01,698][cascade_classifier.calc_accuracy] Accuracy(layer_0 - train.classifier_average)=99.97%\n",
      "[ 2018-04-21 17:01:01,702][cascade_classifier.calc_accuracy] Accuracy(layer_0 - test.classifier_average)=99.99%\n",
      "[ 2018-04-21 17:01:01,704][cascade_classifier.fit_transform] [Result][Reach Max Layer] opt_layer_num=1, accuracy_train=99.97%, accuracy_test=99.99%\n",
      "[ 2018-04-21 17:01:01,707][cascade_classifier.transform] X_groups_test.shape=[(163027, 43)]\n",
      "[ 2018-04-21 17:01:01,735][cascade_classifier.transform] group_dims=[43]\n",
      "[ 2018-04-21 17:01:01,737][cascade_classifier.transform] X_test.shape=(163027, 43)\n",
      "[ 2018-04-21 17:01:01,765][cascade_classifier.transform] [layer=0] look_indexs=[0], X_cur_test.shape=(163027, 43)\n"
     ]
    },
    {
     "name": "stdout",
     "output_type": "stream",
     "text": [
      "('Test Accuracy of RandomForest = 99.985279 %', 18, 'fois')\n"
     ]
    },
    {
     "name": "stderr",
     "output_type": "stream",
     "text": [
      "[ 2018-04-21 17:01:04,968][cascade_classifier.fit_transform] X_groups_train.shape=[(330994, 43)],y_train.shape=(330994,),X_groups_test.shape=[(163027, 43)],y_test.shape=(163027,)\n",
      "[ 2018-04-21 17:01:05,035][cascade_classifier.fit_transform] group_dims=[43]\n",
      "[ 2018-04-21 17:01:05,037][cascade_classifier.fit_transform] group_starts=[0]\n",
      "[ 2018-04-21 17:01:05,039][cascade_classifier.fit_transform] group_ends=[43]\n",
      "[ 2018-04-21 17:01:05,040][cascade_classifier.fit_transform] X_train.shape=(330994, 43),X_test.shape=(163027, 43)\n",
      "[ 2018-04-21 17:01:05,117][cascade_classifier.fit_transform] [layer=0] look_indexs=[0], X_cur_train.shape=(330994, 43), X_cur_test.shape=(163027, 43)\n",
      "[ 2018-04-21 17:01:07,932][kfold_wrapper.log_eval_metrics] Accuracy(layer_0 - estimator_0 - 10_folds.train_0.predict)=99.98%\n",
      "[ 2018-04-21 17:01:10,463][kfold_wrapper.log_eval_metrics] Accuracy(layer_0 - estimator_0 - 10_folds.train_1.predict)=99.98%\n",
      "[ 2018-04-21 17:01:12,903][kfold_wrapper.log_eval_metrics] Accuracy(layer_0 - estimator_0 - 10_folds.train_2.predict)=99.99%\n",
      "[ 2018-04-21 17:01:15,267][kfold_wrapper.log_eval_metrics] Accuracy(layer_0 - estimator_0 - 10_folds.train_3.predict)=99.98%\n",
      "[ 2018-04-21 17:01:17,631][kfold_wrapper.log_eval_metrics] Accuracy(layer_0 - estimator_0 - 10_folds.train_4.predict)=99.96%\n",
      "[ 2018-04-21 17:01:20,038][kfold_wrapper.log_eval_metrics] Accuracy(layer_0 - estimator_0 - 10_folds.train_5.predict)=99.97%\n",
      "[ 2018-04-21 17:01:22,353][kfold_wrapper.log_eval_metrics] Accuracy(layer_0 - estimator_0 - 10_folds.train_6.predict)=99.97%\n",
      "[ 2018-04-21 17:01:24,660][kfold_wrapper.log_eval_metrics] Accuracy(layer_0 - estimator_0 - 10_folds.train_7.predict)=99.97%\n",
      "[ 2018-04-21 17:01:27,063][kfold_wrapper.log_eval_metrics] Accuracy(layer_0 - estimator_0 - 10_folds.train_8.predict)=99.96%\n",
      "[ 2018-04-21 17:01:29,635][kfold_wrapper.log_eval_metrics] Accuracy(layer_0 - estimator_0 - 10_folds.train_9.predict)=99.98%\n",
      "[ 2018-04-21 17:01:29,927][kfold_wrapper.log_eval_metrics] Accuracy(layer_0 - estimator_0 - 10_folds.train_cv.predict)=99.97%\n",
      "[ 2018-04-21 17:01:29,932][kfold_wrapper.log_eval_metrics] Accuracy(layer_0 - estimator_0 - 10_folds.test.predict)=99.99%\n",
      "[ 2018-04-21 17:01:29,955][cascade_classifier.calc_accuracy] Accuracy(layer_0 - train.classifier_average)=99.97%\n",
      "[ 2018-04-21 17:01:29,959][cascade_classifier.calc_accuracy] Accuracy(layer_0 - test.classifier_average)=99.99%\n",
      "[ 2018-04-21 17:01:29,960][cascade_classifier.fit_transform] [Result][Reach Max Layer] opt_layer_num=1, accuracy_train=99.97%, accuracy_test=99.99%\n",
      "[ 2018-04-21 17:01:29,963][cascade_classifier.transform] X_groups_test.shape=[(163027, 43)]\n",
      "[ 2018-04-21 17:01:29,989][cascade_classifier.transform] group_dims=[43]\n",
      "[ 2018-04-21 17:01:29,991][cascade_classifier.transform] X_test.shape=(163027, 43)\n",
      "[ 2018-04-21 17:01:30,015][cascade_classifier.transform] [layer=0] look_indexs=[0], X_cur_test.shape=(163027, 43)\n"
     ]
    },
    {
     "name": "stdout",
     "output_type": "stream",
     "text": [
      "('Test Accuracy of RandomForest = 99.985279 %', 19, 'fois')\n"
     ]
    }
   ],
   "source": [
    "# deep\n",
    "for i in range (20):\n",
    "    X_train,X_test=update(X_train,X_test)\n",
    "    X_test_enc, X_train_enc=newdata(X_test_enc, X_train_enc)\n",
    "\n",
    "    X_train=X_train_enc\n",
    "    X_test=X_test_enc \n",
    "    X_train_enc, X_test_enc = gc.fit_transform(X_train, y_train, X_test=X_test, y_test=y_test)\n",
    "    affiche()"
   ]
  },
  {
   "cell_type": "code",
   "execution_count": null,
   "metadata": {
    "collapsed": true
   },
   "outputs": [],
   "source": []
  },
  {
   "cell_type": "markdown",
   "metadata": {
    "collapsed": true
   },
   "source": [
    "# ('Test Accuracy of RandomForest = 99.985892 %', 4, 'fois')"
   ]
  },
  {
   "cell_type": "code",
   "execution_count": null,
   "metadata": {
    "collapsed": true
   },
   "outputs": [],
   "source": []
  },
  {
   "cell_type": "code",
   "execution_count": null,
   "metadata": {
    "collapsed": true
   },
   "outputs": [],
   "source": []
  }
 ],
 "metadata": {
  "kernelspec": {
   "display_name": "Python 2",
   "language": "python",
   "name": "python2"
  },
  "language_info": {
   "codemirror_mode": {
    "name": "ipython",
    "version": 2
   },
   "file_extension": ".py",
   "mimetype": "text/x-python",
   "name": "python",
   "nbconvert_exporter": "python",
   "pygments_lexer": "ipython2",
   "version": "2.7.13"
  }
 },
 "nbformat": 4,
 "nbformat_minor": 2
}
